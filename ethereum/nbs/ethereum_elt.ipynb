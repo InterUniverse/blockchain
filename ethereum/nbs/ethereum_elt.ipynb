{
 "cells": [
  {
   "cell_type": "markdown",
   "id": "4bb412ff-7bc0-4339-a7f8-b7c3b7b741c5",
   "metadata": {},
   "source": [
    "# Extract and save Ethereum raw transactions"
   ]
  },
  {
   "cell_type": "code",
   "execution_count": 1,
   "id": "b73b44e4-9a62-4c25-871b-5d15ce36d8c7",
   "metadata": {
    "tags": []
   },
   "outputs": [],
   "source": [
    "import os\n",
    "import json\n",
    "import requests\n",
    "import datetime as dt\n",
    "\n",
    "from web3 import Web3\n",
    "import pandas as pd"
   ]
  },
  {
   "cell_type": "code",
   "execution_count": 2,
   "id": "bc27a832-a992-445f-aa5c-fe7bed3ab352",
   "metadata": {},
   "outputs": [],
   "source": [
    "PATH = '../data/raw/'"
   ]
  },
  {
   "cell_type": "markdown",
   "id": "9ce1ac17-0fa0-41e7-be0b-de73c3691709",
   "metadata": {},
   "source": [
    "### Alchemy as the remote node provider"
   ]
  },
  {
   "cell_type": "code",
   "execution_count": 3,
   "id": "bbe0eeda-b34a-446b-8973-ca2084575641",
   "metadata": {},
   "outputs": [],
   "source": [
    "ALCHEMY_KEY = os.environ.get('KEY')\n",
    "w3 = Web3(Web3.HTTPProvider('https://eth-mainnet.alchemyapi.io/v2/'+ALCHEMY_KEY))\n",
    "\n",
    "url = 'https://eth-mainnet.alchemyapi.io/v2/'+ALCHEMY_KEY"
   ]
  },
  {
   "cell_type": "code",
   "execution_count": 4,
   "id": "b337c9bf-2d5e-41dc-b370-ab5ea7d3a14c",
   "metadata": {},
   "outputs": [],
   "source": [
    "# latest_block_int = w3.eth.blockNumber\n",
    "# up_to_block_int = latest_block_int - 5"
   ]
  },
  {
   "cell_type": "code",
   "execution_count": 5,
   "id": "c94e0249-e9aa-4593-9508-83b7667bd6c0",
   "metadata": {},
   "outputs": [],
   "source": [
    "def extract_first_hist_txns(no_of_blocks, up_to_block_int):\n",
    "    block_num_request_data = {\"jsonrpc\": \"2.0\",\"id\": 0,\"method\": \"eth_getBlockByNumber\",\"params\":[hex(up_to_block_int - 1),True]}\n",
    "    block_json = requests.post(url, json=block_num_request_data).json()\n",
    "    block_details_list = block_json['result']['transactions']\n",
    "\n",
    "    # Create lists with the values from the first block\n",
    "    block_numbers_list = [int(block_json['result']['number'],16)]\n",
    "    block_transactions_list = [len(block_json['result']['transactions'])]\n",
    "    block_datetime = dt.datetime.fromtimestamp(int(block_json['result']['timestamp'],16))\n",
    "    block_datetime_list = [block_datetime.strftime('%Y-%m-%d %H:%M:%S')]\n",
    "\n",
    "        # While loop\n",
    "    block_int = up_to_block_int - 1\n",
    "    while block_int > up_to_block_int - no_of_blocks:\n",
    "        block_int -= 1\n",
    "        block_num_request_data = {\"jsonrpc\": \"2.0\",\"id\": 0,\"method\": \"eth_getBlockByNumber\",\"params\":[hex(block_int),True]}\n",
    "        block_json = requests.post(url, json=block_num_request_data).json()\n",
    "\n",
    "        # Get the block number from the first transaction in the block and add to a list\n",
    "        block_numbers_list.append(int(block_json['result']['number'],16))\n",
    "\n",
    "        # Get the number of transactions each block and add to a list\n",
    "        block_transactions_list.append(len(block_json['result']['transactions']))\n",
    "\n",
    "        # Get the timestamp of each block and add to a list\n",
    "        block_timestamp = dt.datetime.fromtimestamp(int(block_json['result']['timestamp'],16))\n",
    "        block_datetime = block_timestamp.strftime('%Y-%m-%d %H:%M:%S')\n",
    "        block_datetime_list.append(block_datetime)\n",
    "\n",
    "        # Get transaction details of each block and add to a list\n",
    "        block_details_list.extend(block_json['result']['transactions'])\n",
    "\n",
    "\n",
    "    # Create a dictionary with block info\n",
    "    block_info = {}\n",
    "    block_info['block_number'] = block_numbers_list\n",
    "    block_info['block_transactions'] = block_transactions_list\n",
    "    block_info['block_timestamp'] = block_datetime_list\n",
    "    \n",
    "    return block_info, block_details_list"
   ]
  },
  {
   "cell_type": "code",
   "execution_count": 6,
   "id": "5f5d8c06-cdd1-4199-845f-b6dec33a28b6",
   "metadata": {},
   "outputs": [],
   "source": [
    "def extract_backward_hist_txns(no_of_blocks):\n",
    "    \n",
    "    # Identify the oldest block that was last extracted from block_info_log.json\n",
    "    up_to_block_int = block_info['block_number'][-1]\n",
    "    \n",
    "    \n",
    "    block_num_request_data = {\"jsonrpc\": \"2.0\",\"id\": 0,\"method\": \"eth_getBlockByNumber\",\"params\":[hex(up_to_block_int - 1),True]}\n",
    "    block_json = requests.post(url, json=block_num_request_data).json()\n",
    "    block_details_list = block_json['result']['transactions']\n",
    "\n",
    "    \n",
    "    # Create lists with the values from the first block\n",
    "    block_numbers_list = [int(block_json['result']['number'],16)]\n",
    "    block_transactions_list = [len(block_json['result']['transactions'])]\n",
    "    block_datetime = dt.datetime.fromtimestamp(int(block_json['result']['timestamp'],16))\n",
    "    block_datetime_list = [block_datetime.strftime('%Y-%m-%d %H:%M:%S')]\n",
    "\n",
    "    \n",
    "    # While loop to get n number of blocks but excluding the last extracted block\n",
    "    block_int = up_to_block_int - 1\n",
    "    while block_int > up_to_block_int - no_of_blocks:\n",
    "        block_int -= 1\n",
    "        block_num_request_data = {\"jsonrpc\": \"2.0\",\"id\": 0,\"method\": \"eth_getBlockByNumber\",\"params\":[hex(block_int),True]}\n",
    "        block_json = requests.post(url, json=block_num_request_data).json()\n",
    "\n",
    "        # Get the block number from the first transaction in the block and add to a list\n",
    "        block_numbers_list.append(int(block_json['result']['number'],16))\n",
    "\n",
    "        # Get the number of transactions each block and add to a list\n",
    "        block_transactions_list.append(len(block_json['result']['transactions']))\n",
    "\n",
    "        # Get the timestamp of each block and add to a list\n",
    "        block_timestamp = dt.datetime.fromtimestamp(int(block_json['result']['timestamp'],16))\n",
    "        block_datetime = block_timestamp.strftime('%Y-%m-%d %H:%M:%S')\n",
    "        block_datetime_list.append(block_datetime)\n",
    "\n",
    "        # Get transaction details of each block and add to a list\n",
    "        block_details_list.extend(block_json['result']['transactions'])\n",
    "        \n",
    "    \n",
    "    # Save the block transactions\n",
    "    start_block = block_numbers_list[0]\n",
    "    end_block = block_numbers_list[-1]\n",
    "\n",
    "    block_details_str = json.dumps(block_details_list)\n",
    "    with open(f'{PATH}{start_block}_{end_block}_eth_transactions.json', 'w') as f:\n",
    "        f.write(block_details_str)\n",
    "        \n",
    "\n",
    "    # Update block info \n",
    "    block_info['block_number'].extend(block_numbers_list)\n",
    "    block_info['block_transactions'].extend(block_transactions_list)\n",
    "    block_info['block_timestamp'].extend(block_datetime_list)\n",
    "    \n",
    "    \n",
    "    # Save the block info log as json file\n",
    "    block_info_str = json.dumps(block_info)\n",
    "    with open(f'{PATH}block_info_log.json', 'w') as f:\n",
    "        f.write(block_info_str)"
   ]
  },
  {
   "cell_type": "code",
   "execution_count": 7,
   "id": "7f04523b-5fac-4a3f-9a49-552241691a2d",
   "metadata": {},
   "outputs": [],
   "source": [
    "def extract_forward_hist_txns(no_of_blocks):\n",
    "    \n",
    "    # Identify the newest block that was last extracted from block_info_log.json\n",
    "    from_block_int = block_info['block_number'][0]\n",
    "    \n",
    "    \n",
    "    block_num_request_data = {\"jsonrpc\": \"2.0\",\"id\": 0,\"method\": \"eth_getBlockByNumber\",\"params\":[hex(from_block_int + 1),True]}\n",
    "    block_json = requests.post(url, json=block_num_request_data).json()\n",
    "    block_details_list = block_json['result']['transactions']\n",
    "\n",
    "    \n",
    "    # Create lists with the values from the first block\n",
    "    block_numbers_list = [int(block_json['result']['number'],16)]\n",
    "    block_transactions_list = [len(block_json['result']['transactions'])]\n",
    "    block_datetime = dt.datetime.fromtimestamp(int(block_json['result']['timestamp'],16))\n",
    "    block_datetime_list = [block_datetime.strftime('%Y-%m-%d %H:%M:%S')]\n",
    "\n",
    "    \n",
    "    # While loop to get n number of blocks forward but exclude the newest extracted block in block info\n",
    "    block_int = from_block_int + 1\n",
    "    while block_int < from_block_int + no_of_blocks:\n",
    "        block_int += 1\n",
    "        block_num_request_data = {\"jsonrpc\": \"2.0\",\"id\": 0,\"method\": \"eth_getBlockByNumber\",\"params\":[hex(block_int),True]}\n",
    "        block_json = requests.post(url, json=block_num_request_data).json()\n",
    "\n",
    "        # Get the block number from the first transaction in the block and add to a list\n",
    "        block_numbers_list.append(int(block_json['result']['number'],16))\n",
    "\n",
    "        # Get the number of transactions each block and add to a list\n",
    "        block_transactions_list.append(len(block_json['result']['transactions']))\n",
    "\n",
    "        # Get the timestamp of each block and add to a list\n",
    "        block_timestamp = dt.datetime.fromtimestamp(int(block_json['result']['timestamp'],16))\n",
    "        block_datetime = block_timestamp.strftime('%Y-%m-%d %H:%M:%S')\n",
    "        block_datetime_list.append(block_datetime)\n",
    "\n",
    "        # Get transaction details of each block and add to a list\n",
    "        block_details_list.extend(block_json['result']['transactions'])\n",
    "        \n",
    "    \n",
    "    # Save the block transactions\n",
    "    start_block = block_numbers_list[-1]\n",
    "    end_block = block_numbers_list[0]\n",
    "\n",
    "    block_details_str = json.dumps(block_details_list)\n",
    "    with open(f'{PATH}{start_block}_{end_block}_eth_transactions.json', 'w') as f:\n",
    "        f.write(block_details_str)\n",
    "        \n",
    "    \n",
    "    # Create a new block info dictionary\n",
    "    new_block_info = {}\n",
    "    new_block_info['block_number'] = sorted(block_numbers_list, reverse=True)\n",
    "    new_block_info['block_transactions'] = sorted(block_transactions_list, reverse=True)\n",
    "    new_block_info['block_timestamp'] = sorted(block_datetime_list, reverse=True)\n",
    "    \n",
    "    # Add existing block info to the new block info so that newest block info is always at the beginning of the list.\n",
    "    new_block_info['block_number'].extend(block_info['block_number'])\n",
    "    new_block_info['block_transactions'].extend(block_info['block_transactions'])\n",
    "    new_block_info['block_timestamp'].extend(block_info['block_timestamp'])\n",
    "    \n",
    "    \n",
    "    # Save the block info log as json file\n",
    "    block_info_str = json.dumps(new_block_info)\n",
    "    with open(f'{PATH}block_info_log.json', 'w') as f:\n",
    "        f.write(block_info_str)"
   ]
  },
  {
   "cell_type": "markdown",
   "id": "54de84b1-1398-4576-9b63-0b5ceb3ca392",
   "metadata": {},
   "source": [
    "### Read the block_extracted_log"
   ]
  },
  {
   "cell_type": "code",
   "execution_count": 8,
   "id": "21992e38-e82f-4b7a-9e03-b619553fd88e",
   "metadata": {},
   "outputs": [],
   "source": [
    "block_info = json.load(open(f'{PATH}block_info_log.json'))"
   ]
  },
  {
   "cell_type": "code",
   "execution_count": 9,
   "id": "2619452c-4557-4e6e-817e-18b03d56950c",
   "metadata": {},
   "outputs": [],
   "source": [
    "tmp_df = pd.DataFrame(block_info)\n",
    "tmp_df['block_timestamp'] = tmp_df['block_timestamp'].astype('datetime64[s]')"
   ]
  },
  {
   "cell_type": "code",
   "execution_count": 10,
   "id": "2a2565f4-86cb-4c42-a683-ca47eb6f1151",
   "metadata": {},
   "outputs": [
    {
     "data": {
      "text/html": [
       "<div>\n",
       "<style scoped>\n",
       "    .dataframe tbody tr th:only-of-type {\n",
       "        vertical-align: middle;\n",
       "    }\n",
       "\n",
       "    .dataframe tbody tr th {\n",
       "        vertical-align: top;\n",
       "    }\n",
       "\n",
       "    .dataframe thead th {\n",
       "        text-align: right;\n",
       "    }\n",
       "</style>\n",
       "<table border=\"1\" class=\"dataframe\">\n",
       "  <thead>\n",
       "    <tr style=\"text-align: right;\">\n",
       "      <th></th>\n",
       "      <th>block_transactions</th>\n",
       "    </tr>\n",
       "    <tr>\n",
       "      <th>block_timestamp</th>\n",
       "      <th></th>\n",
       "    </tr>\n",
       "  </thead>\n",
       "  <tbody>\n",
       "    <tr>\n",
       "      <th>2022-06-29</th>\n",
       "      <td>698486</td>\n",
       "    </tr>\n",
       "    <tr>\n",
       "      <th>2022-06-30</th>\n",
       "      <td>1054433</td>\n",
       "    </tr>\n",
       "    <tr>\n",
       "      <th>2022-07-01</th>\n",
       "      <td>1178620</td>\n",
       "    </tr>\n",
       "    <tr>\n",
       "      <th>2022-07-02</th>\n",
       "      <td>1189382</td>\n",
       "    </tr>\n",
       "    <tr>\n",
       "      <th>2022-07-03</th>\n",
       "      <td>1157052</td>\n",
       "    </tr>\n",
       "    <tr>\n",
       "      <th>2022-07-04</th>\n",
       "      <td>1123019</td>\n",
       "    </tr>\n",
       "    <tr>\n",
       "      <th>2022-07-05</th>\n",
       "      <td>1157774</td>\n",
       "    </tr>\n",
       "    <tr>\n",
       "      <th>2022-07-06</th>\n",
       "      <td>1192050</td>\n",
       "    </tr>\n",
       "    <tr>\n",
       "      <th>2022-07-07</th>\n",
       "      <td>1160880</td>\n",
       "    </tr>\n",
       "    <tr>\n",
       "      <th>2022-07-08</th>\n",
       "      <td>129959</td>\n",
       "    </tr>\n",
       "  </tbody>\n",
       "</table>\n",
       "</div>"
      ],
      "text/plain": [
       "                 block_transactions\n",
       "block_timestamp                    \n",
       "2022-06-29                   698486\n",
       "2022-06-30                  1054433\n",
       "2022-07-01                  1178620\n",
       "2022-07-02                  1189382\n",
       "2022-07-03                  1157052\n",
       "2022-07-04                  1123019\n",
       "2022-07-05                  1157774\n",
       "2022-07-06                  1192050\n",
       "2022-07-07                  1160880\n",
       "2022-07-08                   129959"
      ]
     },
     "execution_count": 10,
     "metadata": {},
     "output_type": "execute_result"
    }
   ],
   "source": [
    "tmp_df.resample('D', on='block_timestamp').agg({'block_transactions':'sum'})"
   ]
  },
  {
   "cell_type": "code",
   "execution_count": 11,
   "id": "5d3be7f3-ac23-41a3-9fb6-8c3977420f58",
   "metadata": {},
   "outputs": [
    {
     "data": {
      "text/html": [
       "<div>\n",
       "<style scoped>\n",
       "    .dataframe tbody tr th:only-of-type {\n",
       "        vertical-align: middle;\n",
       "    }\n",
       "\n",
       "    .dataframe tbody tr th {\n",
       "        vertical-align: top;\n",
       "    }\n",
       "\n",
       "    .dataframe thead th {\n",
       "        text-align: right;\n",
       "    }\n",
       "</style>\n",
       "<table border=\"1\" class=\"dataframe\">\n",
       "  <thead>\n",
       "    <tr style=\"text-align: right;\">\n",
       "      <th></th>\n",
       "      <th>block_number</th>\n",
       "    </tr>\n",
       "    <tr>\n",
       "      <th>block_timestamp</th>\n",
       "      <th></th>\n",
       "    </tr>\n",
       "  </thead>\n",
       "  <tbody>\n",
       "    <tr>\n",
       "      <th>2022-06-29</th>\n",
       "      <td>3648</td>\n",
       "    </tr>\n",
       "    <tr>\n",
       "      <th>2022-06-30</th>\n",
       "      <td>5628</td>\n",
       "    </tr>\n",
       "    <tr>\n",
       "      <th>2022-07-01</th>\n",
       "      <td>6455</td>\n",
       "    </tr>\n",
       "    <tr>\n",
       "      <th>2022-07-02</th>\n",
       "      <td>6488</td>\n",
       "    </tr>\n",
       "    <tr>\n",
       "      <th>2022-07-03</th>\n",
       "      <td>6540</td>\n",
       "    </tr>\n",
       "    <tr>\n",
       "      <th>2022-07-04</th>\n",
       "      <td>6429</td>\n",
       "    </tr>\n",
       "    <tr>\n",
       "      <th>2022-07-05</th>\n",
       "      <td>6471</td>\n",
       "    </tr>\n",
       "    <tr>\n",
       "      <th>2022-07-06</th>\n",
       "      <td>6480</td>\n",
       "    </tr>\n",
       "    <tr>\n",
       "      <th>2022-07-07</th>\n",
       "      <td>6419</td>\n",
       "    </tr>\n",
       "    <tr>\n",
       "      <th>2022-07-08</th>\n",
       "      <td>442</td>\n",
       "    </tr>\n",
       "  </tbody>\n",
       "</table>\n",
       "</div>"
      ],
      "text/plain": [
       "                 block_number\n",
       "block_timestamp              \n",
       "2022-06-29               3648\n",
       "2022-06-30               5628\n",
       "2022-07-01               6455\n",
       "2022-07-02               6488\n",
       "2022-07-03               6540\n",
       "2022-07-04               6429\n",
       "2022-07-05               6471\n",
       "2022-07-06               6480\n",
       "2022-07-07               6419\n",
       "2022-07-08                442"
      ]
     },
     "execution_count": 11,
     "metadata": {},
     "output_type": "execute_result"
    }
   ],
   "source": [
    "tmp_df.resample('D', on='block_timestamp').agg({'block_number':'nunique'})"
   ]
  },
  {
   "cell_type": "markdown",
   "id": "2ec44306-d999-4ec7-be33-9dbce2d12754",
   "metadata": {},
   "source": [
    "### While loop to batch extract the BACKWARD historical raw transactions using the Alchemy API"
   ]
  },
  {
   "cell_type": "code",
   "execution_count": null,
   "id": "796b388a-d499-450c-b24a-129fa2e7d182",
   "metadata": {},
   "outputs": [
    {
     "name": "stdout",
     "output_type": "stream",
     "text": [
      "Data extracted and saved, batch = 0\n"
     ]
    }
   ],
   "source": [
    "# n = 0\n",
    "# while n < 10:\n",
    "#     extract_backward_hist_txns(no_of_blocks=1000)\n",
    "#     print('Data extracted and saved, batch =', n)\n",
    "#     n += 1"
   ]
  },
  {
   "cell_type": "markdown",
   "id": "4b77009d-a6d7-412b-ac42-9f57815c0bf6",
   "metadata": {},
   "source": [
    "### While loop to batch extract the FORWARD historical raw transactions using the Alchemy API"
   ]
  },
  {
   "cell_type": "code",
   "execution_count": null,
   "id": "ce644fa7-6324-4d58-be88-14f0af7c11f6",
   "metadata": {},
   "outputs": [
    {
     "name": "stdout",
     "output_type": "stream",
     "text": [
      "Data extracted and saved, batch = 0\n",
      "Data extracted and saved, batch = 1\n",
      "Data extracted and saved, batch = 2\n",
      "Data extracted and saved, batch = 3\n",
      "Data extracted and saved, batch = 4\n",
      "Data extracted and saved, batch = 5\n",
      "Data extracted and saved, batch = 6\n"
     ]
    }
   ],
   "source": [
    "n = 0\n",
    "while n < 10:\n",
    "    block_info = json.load(open(f'{PATH}block_info_log.json'))\n",
    "    extract_forward_hist_txns(no_of_blocks=1000)\n",
    "    print('Data extracted and saved, batch =', n)\n",
    "    n += 1"
   ]
  },
  {
   "cell_type": "markdown",
   "id": "7bff51e2-3beb-425a-922b-0d924d4593ad",
   "metadata": {},
   "source": [
    "### Read the raw extracts into a dataframe"
   ]
  },
  {
   "cell_type": "code",
   "execution_count": 4,
   "id": "7b1b34bc-78fe-4d93-aef6-936250b777a8",
   "metadata": {},
   "outputs": [],
   "source": [
    "file_dir = os.listdir(PATH)\n",
    "file_path_list = [os.path.join(PATH, file) for file in file_dir if file.endswith('transactions.json')]"
   ]
  },
  {
   "cell_type": "code",
   "execution_count": 5,
   "id": "6fa8dc5a-f26e-4dd7-a381-73d852186414",
   "metadata": {},
   "outputs": [],
   "source": [
    "file_list_sorted = sorted(file_path_list, key=os.path.getmtime)"
   ]
  },
  {
   "cell_type": "code",
   "execution_count": 6,
   "id": "d4c0ff53-d5f5-445c-a093-1a6a1fc59d78",
   "metadata": {},
   "outputs": [],
   "source": [
    "file_path_list.sort()"
   ]
  },
  {
   "cell_type": "code",
   "execution_count": 7,
   "id": "a3dcb372-3ae2-4d75-89a4-3cb9bb90f419",
   "metadata": {},
   "outputs": [],
   "source": [
    "idx = file_path_list.index('../data/raw/15053949_15052950_eth_transactions.json')"
   ]
  },
  {
   "cell_type": "code",
   "execution_count": 8,
   "id": "76cac585-4e83-4fcb-b8bf-743c52f4e236",
   "metadata": {},
   "outputs": [
    {
     "data": {
      "text/plain": [
       "46"
      ]
     },
     "execution_count": 8,
     "metadata": {},
     "output_type": "execute_result"
    }
   ],
   "source": [
    "len(file_path_list[9:])"
   ]
  },
  {
   "cell_type": "markdown",
   "id": "4ecdb904-8795-4513-8f61-f43e0f30c3af",
   "metadata": {},
   "source": [
    "#### Manually read multiple json files in batches to save them as separate parquet files"
   ]
  },
  {
   "cell_type": "code",
   "execution_count": null,
   "id": "d379db0b-cbed-4d48-a92a-2cecf9742a3f",
   "metadata": {},
   "outputs": [],
   "source": [
    "# raw_json_list = [json.load(open(file)) for file in file_path_list[9:24]]\n",
    "raw_json_list = [json.load(open(file)) for file in file_path_list[24:39]]\n",
    "# raw_json_list = [json.load(open(file)) for file in file_path_list[39:]]"
   ]
  },
  {
   "cell_type": "code",
   "execution_count": null,
   "id": "4ce906ec-a315-487c-b012-35b08ca8e3db",
   "metadata": {},
   "outputs": [],
   "source": [
    "df_raw = pd.concat([pd.DataFrame(file) for file in raw_json_list])"
   ]
  },
  {
   "cell_type": "code",
   "execution_count": null,
   "id": "44758972-b572-4b95-aeb2-d2ef82db91e5",
   "metadata": {},
   "outputs": [],
   "source": [
    "df_raw.shape"
   ]
  },
  {
   "cell_type": "code",
   "execution_count": null,
   "id": "573bb8e8-6e25-4473-bca2-ec61d24c6e04",
   "metadata": {},
   "outputs": [],
   "source": [
    "df = df_raw.copy()"
   ]
  },
  {
   "cell_type": "markdown",
   "id": "b55537a8-4f27-4b7f-bfbc-c04d361e0864",
   "metadata": {},
   "source": [
    "### Convert all hexadecimal columns to decimal"
   ]
  },
  {
   "cell_type": "code",
   "execution_count": null,
   "id": "4178edb4-2cc1-4851-b1a1-81b453fc136e",
   "metadata": {},
   "outputs": [],
   "source": [
    "%%time\n",
    "col_list = ['blockNumber','chainId','gas','gasPrice','nonce','nonce','transactionIndex','type','v','value','maxFeePerGas','maxPriorityFeePerGas']\n",
    "\n",
    "for col in col_list:\n",
    "    df[col] = df[col].apply(lambda x: int(x, base=16) if type(x) is str else x)"
   ]
  },
  {
   "cell_type": "markdown",
   "id": "f80c2c85-e247-4b5c-94b1-6b5e238fb3b7",
   "metadata": {},
   "source": [
    "### Convert `type` into category data type"
   ]
  },
  {
   "cell_type": "code",
   "execution_count": null,
   "id": "99bc9b2c-adfe-40b6-9238-e8d9dd2d01c3",
   "metadata": {},
   "outputs": [],
   "source": [
    "df['type'] = df['type'].astype('category')"
   ]
  },
  {
   "cell_type": "markdown",
   "id": "39db7b3b-ee98-40ab-b6ea-63e3bcc7d747",
   "metadata": {},
   "source": [
    "### Convert `value` into float64 data type\n",
    "This allows the dataframe to be saved as parquet otherwise we get the following error:  \n",
    "\"Python int too large to convert to C long\""
   ]
  },
  {
   "cell_type": "code",
   "execution_count": null,
   "id": "ef95c3e1-be1d-45ce-80e5-29e4e6c11980",
   "metadata": {},
   "outputs": [],
   "source": [
    "df['value'] = df['value'].astype('float64')"
   ]
  },
  {
   "cell_type": "markdown",
   "id": "ea43ebc9-8ef4-4125-93e7-d7de8489af8a",
   "metadata": {},
   "source": [
    "### Add block timestamp to dataframe"
   ]
  },
  {
   "cell_type": "code",
   "execution_count": null,
   "id": "f8e37821-f751-4f46-ae2c-0be1794fcf1b",
   "metadata": {},
   "outputs": [],
   "source": [
    "block_info = json.load(open(f'{PATH}block_info_log.json'))\n",
    "df_block_info = pd.DataFrame(block_info)\n",
    "\n",
    "# Convert data type to datetime64[s]\n",
    "df_block_info['block_timestamp'] = df_block_info['block_timestamp'].astype('datetime64[s]')"
   ]
  },
  {
   "cell_type": "code",
   "execution_count": null,
   "id": "683fa531-8c62-48d8-b359-7e62328447e3",
   "metadata": {},
   "outputs": [],
   "source": [
    "df = df.merge(df_block_info[['block_number','block_timestamp']], left_on='blockNumber', right_on='block_number')\n",
    "df.drop(columns='block_number', inplace=True)"
   ]
  },
  {
   "cell_type": "markdown",
   "id": "b77b7bbe-bd47-41d8-bd3e-e0c3775e9329",
   "metadata": {},
   "source": [
    "### Save the pandas dataframe as parquet file"
   ]
  },
  {
   "cell_type": "code",
   "execution_count": null,
   "id": "3968790a-84b1-4c9b-a76b-e351d3c6c777",
   "metadata": {},
   "outputs": [],
   "source": [
    "start_block = df['blockNumber'].min()\n",
    "end_block = df['blockNumber'].max()"
   ]
  },
  {
   "cell_type": "code",
   "execution_count": null,
   "id": "c0192a93-41ec-4193-977f-e2d0776a0e8d",
   "metadata": {},
   "outputs": [],
   "source": [
    "OUT_PATH = '../data/'"
   ]
  },
  {
   "cell_type": "code",
   "execution_count": null,
   "id": "cb0f17c0-78f4-41b6-917e-a31f883b8fdf",
   "metadata": {},
   "outputs": [],
   "source": [
    "df.to_parquet(f'{OUT_PATH}eth_transactions_{start_block}_{end_block}.parquet')"
   ]
  }
 ],
 "metadata": {
  "kernelspec": {
   "display_name": "blockchain:Python",
   "language": "python",
   "name": "conda-env-blockchain-py"
  },
  "language_info": {
   "codemirror_mode": {
    "name": "ipython",
    "version": 3
   },
   "file_extension": ".py",
   "mimetype": "text/x-python",
   "name": "python",
   "nbconvert_exporter": "python",
   "pygments_lexer": "ipython3",
   "version": "3.10.4"
  }
 },
 "nbformat": 4,
 "nbformat_minor": 5
}
