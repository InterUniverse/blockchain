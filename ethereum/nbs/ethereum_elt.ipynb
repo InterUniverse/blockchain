{
 "cells": [
  {
   "cell_type": "markdown",
   "id": "4bb412ff-7bc0-4339-a7f8-b7c3b7b741c5",
   "metadata": {},
   "source": [
    "# Ethereum ELT"
   ]
  },
  {
   "cell_type": "code",
   "execution_count": 1,
   "id": "b73b44e4-9a62-4c25-871b-5d15ce36d8c7",
   "metadata": {},
   "outputs": [],
   "source": [
    "import os\n",
    "import json\n",
    "import requests\n",
    "import datetime\n",
    "\n",
    "from web3 import Web3\n",
    "import pandas as pd\n",
    "import numpy as np"
   ]
  },
  {
   "cell_type": "markdown",
   "id": "9ce1ac17-0fa0-41e7-be0b-de73c3691709",
   "metadata": {},
   "source": [
    "#### Alchemy as the remote node provider"
   ]
  },
  {
   "cell_type": "code",
   "execution_count": 2,
   "id": "601f1bc2-d1d6-4301-a265-cc5e80d5e666",
   "metadata": {},
   "outputs": [],
   "source": [
    "ALCHEMY_KEY = os.environ.get('KEY')\n",
    "w3 = Web3(Web3.HTTPProvider('https://eth-mainnet.alchemyapi.io/v2/'+ALCHEMY_KEY))"
   ]
  },
  {
   "cell_type": "code",
   "execution_count": 3,
   "id": "803f9e41-db8c-4ad1-be5f-2166ecfee49e",
   "metadata": {},
   "outputs": [],
   "source": [
    "url = 'https://eth-mainnet.alchemyapi.io/v2/'+ALCHEMY_KEY"
   ]
  },
  {
   "cell_type": "code",
   "execution_count": 86,
   "id": "b337c9bf-2d5e-41dc-b370-ab5ea7d3a14c",
   "metadata": {},
   "outputs": [],
   "source": [
    "latest_block_int = w3.eth.blockNumber\n",
    "previous_block_int = latest_block_int - 1"
   ]
  },
  {
   "cell_type": "code",
   "execution_count": 87,
   "id": "54f4a822-4971-4fd8-aaaa-c221324489f4",
   "metadata": {},
   "outputs": [
    {
     "name": "stdout",
     "output_type": "stream",
     "text": [
      "15055507: 34\n",
      "15055506: 217\n",
      "15055505: 131\n",
      "15055504: 233\n",
      "15055503: 366\n",
      "15055502: 326\n",
      "15055501: 61\n",
      "15055500: 52\n",
      "15055499: 322\n",
      "15055498: 301\n",
      "15055497: 354\n",
      "15055496: 308\n",
      "15055495: 77\n",
      "15055494: 257\n",
      "15055493: 313\n",
      "15055492: 84\n",
      "15055491: 23\n",
      "15055490: 159\n",
      "15055489: 83\n",
      "15055488: 123\n",
      "15055487: 151\n",
      "15055486: 94\n",
      "15055485: 99\n",
      "15055484: 283\n",
      "15055483: 110\n",
      "15055482: 39\n",
      "15055481: 193\n",
      "15055480: 83\n",
      "15055479: 24\n",
      "15055478: 221\n",
      "15055477: 24\n",
      "15055476: 380\n",
      "15055475: 65\n",
      "15055474: 249\n",
      "15055473: 437\n",
      "15055472: 175\n",
      "15055471: 138\n",
      "15055470: 312\n",
      "15055469: 40\n",
      "15055468: 234\n",
      "15055467: 132\n",
      "15055466: 262\n",
      "15055465: 263\n",
      "15055464: 0\n",
      "15055463: 92\n",
      "15055462: 99\n",
      "15055461: 21\n",
      "15055460: 170\n",
      "15055459: 116\n",
      "15055458: 80\n",
      "15055457: 458\n",
      "total rows: 8868\n"
     ]
    }
   ],
   "source": [
    "block_num_request_data = {\"jsonrpc\": \"2.0\",\"id\": 0,\"method\": \"eth_getBlockByNumber\",\"params\":[hex(previous_block_int),True]}\n",
    "block_json = requests.post(url, json=block_num_request_data).json()\n",
    "block_list = block_json['result']['transactions']\n",
    "\n",
    "first_rows = len(block_list)\n",
    "print(f'{previous_block_int}: {first_rows}')\n",
    "\n",
    "block_int = previous_block_int\n",
    "while block_int > previous_block_int - 50:\n",
    "    block_int -= 1\n",
    "    block_num_request_data = {\"jsonrpc\": \"2.0\",\"id\": 0,\"method\": \"eth_getBlockByNumber\",\"params\":[hex(block_int),True]}\n",
    "    block_json = requests.post(url, json=block_num_request_data).json()\n",
    "    rows = len(block_json['result']['transactions'])\n",
    "    print(f'{block_int}: {rows}')\n",
    "    block_list.extend(block_json['result']['transactions'])\n",
    "    \n",
    "total_rows = len(block_list)\n",
    "print(f'total rows: {total_rows}')"
   ]
  },
  {
   "cell_type": "code",
   "execution_count": 124,
   "id": "281bef33-12a7-4734-a049-b3a79c0eab8e",
   "metadata": {},
   "outputs": [],
   "source": [
    "block_num_request_data = {\"jsonrpc\": \"2.0\",\"id\": 0,\"method\": \"eth_getBlockByNumber\",\"params\":[hex(previous_block_int),False]}\n",
    "block_json = requests.post(url, json=block_num_request_data).json()"
   ]
  },
  {
   "cell_type": "code",
   "execution_count": 125,
   "id": "07c33bf7-18a2-492f-b2d8-797b8f085d74",
   "metadata": {},
   "outputs": [
    {
     "data": {
      "text/plain": [
       "'2022-07-01 08:18:15'"
      ]
     },
     "execution_count": 125,
     "metadata": {},
     "output_type": "execute_result"
    }
   ],
   "source": [
    "date_time = dt.datetime.fromtimestamp(int(block_json['result']['timestamp'],16))\n",
    "prev_block_dt_str = date_time.strftime('%Y-%m-%d %H:%M:%S')\n",
    "prev_block_dt_str"
   ]
  },
  {
   "cell_type": "code",
   "execution_count": 126,
   "id": "1e16c184-8c47-4574-9141-7f569142096b",
   "metadata": {},
   "outputs": [],
   "source": [
    "block_num_request_data = {\"jsonrpc\": \"2.0\",\"id\": 0,\"method\": \"eth_getBlockByNumber\",\"params\":[hex(block_int),False]}\n",
    "block_json = requests.post(url, json=block_num_request_data).json()"
   ]
  },
  {
   "cell_type": "code",
   "execution_count": 127,
   "id": "7373f59b-0b66-4a05-bead-0d2a1e2c4ec0",
   "metadata": {},
   "outputs": [
    {
     "data": {
      "text/plain": [
       "'2022-07-01 08:07:09'"
      ]
     },
     "execution_count": 127,
     "metadata": {},
     "output_type": "execute_result"
    }
   ],
   "source": [
    "date_time = dt.datetime.fromtimestamp(int(block_json['result']['timestamp'],16))\n",
    "earliest_block_dt_str = date_time.strftime('%Y-%m-%d %H:%M:%S')\n",
    "earliest_block_dt_str"
   ]
  },
  {
   "cell_type": "markdown",
   "id": "bc7dcb81-d0e1-4f79-8ae3-47650284d044",
   "metadata": {},
   "source": [
    "#### Export and save as files ..."
   ]
  }
 ],
 "metadata": {
  "kernelspec": {
   "display_name": "blockchain:Python",
   "language": "python",
   "name": "conda-env-blockchain-py"
  },
  "language_info": {
   "codemirror_mode": {
    "name": "ipython",
    "version": 3
   },
   "file_extension": ".py",
   "mimetype": "text/x-python",
   "name": "python",
   "nbconvert_exporter": "python",
   "pygments_lexer": "ipython3",
   "version": "3.10.4"
  }
 },
 "nbformat": 4,
 "nbformat_minor": 5
}
