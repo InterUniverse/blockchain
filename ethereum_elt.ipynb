{
 "cells": [
  {
   "cell_type": "markdown",
   "id": "4bb412ff-7bc0-4339-a7f8-b7c3b7b741c5",
   "metadata": {},
   "source": [
    "# Ethereum ELT"
   ]
  },
  {
   "cell_type": "code",
   "execution_count": 1,
   "id": "b73b44e4-9a62-4c25-871b-5d15ce36d8c7",
   "metadata": {},
   "outputs": [],
   "source": [
    "import os\n",
    "import json\n",
    "import requests\n",
    "\n",
    "from web3 import Web3\n",
    "import pandas as pd\n",
    "import numpy as np"
   ]
  },
  {
   "cell_type": "markdown",
   "id": "9ce1ac17-0fa0-41e7-be0b-de73c3691709",
   "metadata": {},
   "source": [
    "#### Alchemy as the remote node provider"
   ]
  },
  {
   "cell_type": "code",
   "execution_count": 2,
   "id": "601f1bc2-d1d6-4301-a265-cc5e80d5e666",
   "metadata": {},
   "outputs": [],
   "source": [
    "ALCHEMY_KEY = os.environ.get('KEY')\n",
    "w3 = Web3(Web3.HTTPProvider('https://eth-mainnet.alchemyapi.io/v2/'+ALCHEMY_KEY))"
   ]
  },
  {
   "cell_type": "code",
   "execution_count": 3,
   "id": "803f9e41-db8c-4ad1-be5f-2166ecfee49e",
   "metadata": {},
   "outputs": [],
   "source": [
    "url = 'https://eth-mainnet.alchemyapi.io/v2/'+ALCHEMY_KEY"
   ]
  },
  {
   "cell_type": "code",
   "execution_count": 4,
   "id": "b337c9bf-2d5e-41dc-b370-ab5ea7d3a14c",
   "metadata": {},
   "outputs": [],
   "source": [
    "latest_block_int = w3.eth.blockNumber\n",
    "previous_block_int = latest_block_int - 1"
   ]
  },
  {
   "cell_type": "code",
   "execution_count": 5,
   "id": "54f4a822-4971-4fd8-aaaa-c221324489f4",
   "metadata": {},
   "outputs": [
    {
     "name": "stdout",
     "output_type": "stream",
     "text": [
      "14860277: 102\n",
      "14860276: 0\n",
      "14860275: 95\n",
      "14860274: 54\n",
      "14860273: 58\n",
      "14860272: 156\n",
      "14860271: 148\n",
      "14860270: 48\n",
      "14860269: 229\n",
      "14860268: 294\n",
      "14860267: 504\n",
      "14860266: 433\n",
      "14860265: 418\n",
      "14860264: 31\n",
      "14860263: 117\n",
      "14860262: 306\n",
      "14860261: 150\n",
      "14860260: 274\n",
      "14860259: 166\n",
      "14860258: 124\n",
      "14860257: 137\n",
      "14860256: 339\n",
      "14860255: 188\n",
      "14860254: 161\n",
      "14860253: 55\n",
      "14860252: 31\n",
      "14860251: 208\n",
      "14860250: 252\n",
      "14860249: 395\n",
      "14860248: 44\n",
      "14860247: 43\n",
      "14860246: 122\n",
      "14860245: 205\n",
      "14860244: 20\n",
      "14860243: 248\n",
      "14860242: 134\n",
      "14860241: 62\n",
      "14860240: 106\n",
      "14860239: 221\n",
      "14860238: 285\n",
      "14860237: 355\n",
      "14860236: 22\n",
      "14860235: 33\n",
      "14860234: 35\n",
      "14860233: 178\n",
      "14860232: 18\n",
      "14860231: 137\n",
      "14860230: 223\n",
      "14860229: 60\n",
      "14860228: 63\n",
      "14860227: 101\n",
      "8188\n"
     ]
    }
   ],
   "source": [
    "block_num_request_data = {\"jsonrpc\": \"2.0\",\"id\": 0,\"method\": \"eth_getBlockByNumber\",\"params\":[hex(previous_block_int),True]}\n",
    "block_json = requests.post(url, json=block_num_request_data).json()\n",
    "block_list = block_json['result']['transactions']\n",
    "\n",
    "first_rows = len(block_list)\n",
    "print(f'{previous_block_int}: {first_rows}')\n",
    "\n",
    "block_int = previous_block_int\n",
    "while block_int > previous_block_int - 50:\n",
    "    block_int -= 1\n",
    "    block_num_request_data = {\"jsonrpc\": \"2.0\",\"id\": 0,\"method\": \"eth_getBlockByNumber\",\"params\":[hex(block_int),True]}\n",
    "    block_json = requests.post(url, json=block_num_request_data).json()\n",
    "    rows = len(block_json['result']['transactions'])\n",
    "    print(f'{block_int}: {rows}')\n",
    "    block_list.extend(block_json['result']['transactions'])\n",
    "    \n",
    "total_rows = len(block_list)\n",
    "print(f'total rows: {total_rows}')"
   ]
  },
  {
   "cell_type": "markdown",
   "id": "bc7dcb81-d0e1-4f79-8ae3-47650284d044",
   "metadata": {},
   "source": [
    "#### Export and save as files ..."
   ]
  }
 ],
 "metadata": {
  "kernelspec": {
   "display_name": "Python 3 (ipykernel)",
   "language": "python",
   "name": "python3"
  },
  "language_info": {
   "codemirror_mode": {
    "name": "ipython",
    "version": 3
   },
   "file_extension": ".py",
   "mimetype": "text/x-python",
   "name": "python",
   "nbconvert_exporter": "python",
   "pygments_lexer": "ipython3",
   "version": "3.10.2"
  }
 },
 "nbformat": 4,
 "nbformat_minor": 5
}
