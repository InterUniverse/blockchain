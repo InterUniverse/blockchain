{
 "cells": [
  {
   "cell_type": "markdown",
   "id": "eb786557-6670-4e36-98c4-fb8c458c847e",
   "metadata": {},
   "source": [
    "# Ethereum transactions analysis"
   ]
  },
  {
   "cell_type": "markdown",
   "id": "52df1e03-3552-43b9-913b-d817a2f0458c",
   "metadata": {},
   "source": [
    "### Read the eth_transactions.json files"
   ]
  },
  {
   "cell_type": "code",
   "execution_count": 1,
   "id": "c677d6be-40c6-4c13-99f9-8ab8ff1f76ab",
   "metadata": {
    "tags": []
   },
   "outputs": [],
   "source": [
    "import os\n",
    "import json\n",
    "\n",
    "import pandas as pd\n",
    "import numpy as np\n",
    "import matplotlib.pyplot as plt\n",
    "import seaborn as sns"
   ]
  },
  {
   "cell_type": "code",
   "execution_count": 2,
   "id": "38bb3c2f-81c3-48ae-8e6a-06e495c651c9",
   "metadata": {},
   "outputs": [],
   "source": [
    "PATH = '../data/'"
   ]
  },
  {
   "cell_type": "code",
   "execution_count": 3,
   "id": "ddeb2349-48ef-4cd1-8b50-6aa72d235ce4",
   "metadata": {},
   "outputs": [],
   "source": [
    "pd.set_option('display.max_columns', 100, 'display.max_rows', 100, 'display.max_colwidth', 100, 'display.float_format', lambda x: '%.f' % x)"
   ]
  },
  {
   "cell_type": "code",
   "execution_count": 4,
   "id": "913ecc8f-b27e-481d-b692-eb11d23b166b",
   "metadata": {},
   "outputs": [],
   "source": [
    "file_dir = os.listdir(PATH)\n",
    "file_list = [os.path.join(PATH, file) for file in file_dir if file.endswith('parquet')]"
   ]
  },
  {
   "cell_type": "code",
   "execution_count": 5,
   "id": "6fdec642-5f61-43be-a8bf-42ddc9e4524c",
   "metadata": {},
   "outputs": [],
   "source": [
    "df_raw = pd.concat([pd.read_parquet(file) for file in file_list])"
   ]
  },
  {
   "cell_type": "code",
   "execution_count": 6,
   "id": "72a733ae-ded2-4588-a053-660a12ef0147",
   "metadata": {},
   "outputs": [
    {
     "data": {
      "text/plain": [
       "(5493838, 20)"
      ]
     },
     "execution_count": 6,
     "metadata": {},
     "output_type": "execute_result"
    }
   ],
   "source": [
    "df_raw.shape"
   ]
  },
  {
   "cell_type": "code",
   "execution_count": 7,
   "id": "344f5da1-fa46-406b-a19e-d5b04441b08d",
   "metadata": {},
   "outputs": [
    {
     "name": "stdout",
     "output_type": "stream",
     "text": [
      "<class 'pandas.core.frame.DataFrame'>\n",
      "Int64Index: 5493838 entries, 0 to 2791715\n",
      "Data columns (total 20 columns):\n",
      " #   Column                Dtype         \n",
      "---  ------                -----         \n",
      " 0   hash                  object        \n",
      " 1   blockHash             object        \n",
      " 2   blockNumber           int64         \n",
      " 3   from                  object        \n",
      " 4   gas                   int64         \n",
      " 5   gasPrice              int64         \n",
      " 6   input                 object        \n",
      " 7   nonce                 int64         \n",
      " 8   r                     object        \n",
      " 9   s                     object        \n",
      " 10  to                    object        \n",
      " 11  transactionIndex      int64         \n",
      " 12  type                  int64         \n",
      " 13  v                     int64         \n",
      " 14  value                 float64       \n",
      " 15  accessList            object        \n",
      " 16  chainId               float64       \n",
      " 17  maxFeePerGas          float64       \n",
      " 18  maxPriorityFeePerGas  float64       \n",
      " 19  block_timestamp       datetime64[ns]\n",
      "dtypes: datetime64[ns](1), float64(4), int64(7), object(8)\n",
      "memory usage: 880.2+ MB\n"
     ]
    }
   ],
   "source": [
    "df_raw.info()"
   ]
  },
  {
   "cell_type": "markdown",
   "id": "1430edbf-b025-4d2b-ae63-1e7f95c0be80",
   "metadata": {},
   "source": [
    "### Data fields\n",
    "- `hash` - Hash of the transaction\n",
    "- `blockHash` - Hash of the block.\n",
    "- `blockNumber` - Block number.\n",
    "- `from` - Address of the sender\n",
    "- `gas` - Gas provided by the sender\n",
    "- `gasPrice` - Gas price provided by the sender in Wei\n",
    "- `input` - The data sent along with the transaction\n",
    "- `nonce` - The number of transactions made by the sender prior to this one\n",
    "- `r` - ECDSA signature r\n",
    "- `s` - ECDSA signature s\n",
    "- `to` - Address of the receiver,\n",
    "- `transactionIndex` - Integer of the transactions index position in the block.\n",
    "- `type` - Might be transaction type (unable to find this in Alchemy doc but the value looks the same as `transaction_type` in bigquery public dataset)\n",
    "- `v` - ECDSA recovery id\n",
    "- `value` - Value transferred in Wei\n",
    "- `accessList` - Not sure\n",
    "- `chainId` - Value used in replay-protected transaction signing as introduced by EIP-155.\n",
    "- `maxFeePerGas` - Refer to https://docs.alchemy.com/alchemy/guides/eip-1559/maxpriorityfeepergas-vs-maxfeepergas\n",
    "- `maxPriorityFeePerGas` - Refer to https://docs.alchemy.com/alchemy/guides/eip-1559/maxpriorityfeepergas-vs-maxfeepergas\n",
    "- `block_timestamp` - Timestamp of the block\n",
    "\n",
    "References:  \n",
    "The \"bigquery-public-data.crypto_ethereum.transactions\" column description  \n",
    "https://ethereum.org/en/developers/docs/apis/json-rpc/  \n",
    "https://docs.alchemy.com/alchemy/apis/ethereum/eth-gettransactionbyhash  \n"
   ]
  },
  {
   "cell_type": "code",
   "execution_count": 9,
   "id": "ced2ef51-ecbd-4570-a33f-a747859367b6",
   "metadata": {},
   "outputs": [
    {
     "data": {
      "text/html": [
       "<div>\n",
       "<style scoped>\n",
       "    .dataframe tbody tr th:only-of-type {\n",
       "        vertical-align: middle;\n",
       "    }\n",
       "\n",
       "    .dataframe tbody tr th {\n",
       "        vertical-align: top;\n",
       "    }\n",
       "\n",
       "    .dataframe thead th {\n",
       "        text-align: right;\n",
       "    }\n",
       "</style>\n",
       "<table border=\"1\" class=\"dataframe\">\n",
       "  <thead>\n",
       "    <tr style=\"text-align: right;\">\n",
       "      <th></th>\n",
       "      <th>0</th>\n",
       "    </tr>\n",
       "  </thead>\n",
       "  <tbody>\n",
       "    <tr>\n",
       "      <th>hash</th>\n",
       "      <td>0xfedacdb532ec5525686557a9bca04daa357ba754ccd70bea7cf0459572c189cf</td>\n",
       "    </tr>\n",
       "    <tr>\n",
       "      <th>blockHash</th>\n",
       "      <td>0x5502093582eef8f1c9088f8db764ab59f403787954dee81eeaf681bf8ba681a7</td>\n",
       "    </tr>\n",
       "    <tr>\n",
       "      <th>blockNumber</th>\n",
       "      <td>15064948</td>\n",
       "    </tr>\n",
       "    <tr>\n",
       "      <th>from</th>\n",
       "      <td>0xf71e4a144cda4498277f9ad89b6501ec6c83c27c</td>\n",
       "    </tr>\n",
       "    <tr>\n",
       "      <th>gas</th>\n",
       "      <td>21000</td>\n",
       "    </tr>\n",
       "    <tr>\n",
       "      <th>gasPrice</th>\n",
       "      <td>33084805662</td>\n",
       "    </tr>\n",
       "    <tr>\n",
       "      <th>input</th>\n",
       "      <td>0x</td>\n",
       "    </tr>\n",
       "    <tr>\n",
       "      <th>nonce</th>\n",
       "      <td>535</td>\n",
       "    </tr>\n",
       "    <tr>\n",
       "      <th>r</th>\n",
       "      <td>0xdc2fccbf51c8dde791b9ec027d4d53aab9bf6d5c10f963135a1bff925203dba7</td>\n",
       "    </tr>\n",
       "    <tr>\n",
       "      <th>s</th>\n",
       "      <td>0x1c0b133e837b36281fd6bdb9abb907c2060db9f6ab1824205037f3069458cafe</td>\n",
       "    </tr>\n",
       "    <tr>\n",
       "      <th>to</th>\n",
       "      <td>0xf0fb796c4ea2f2b24939ddb20d4b66144b3ed4bc</td>\n",
       "    </tr>\n",
       "    <tr>\n",
       "      <th>transactionIndex</th>\n",
       "      <td>0</td>\n",
       "    </tr>\n",
       "    <tr>\n",
       "      <th>type</th>\n",
       "      <td>0</td>\n",
       "    </tr>\n",
       "    <tr>\n",
       "      <th>v</th>\n",
       "      <td>27</td>\n",
       "    </tr>\n",
       "    <tr>\n",
       "      <th>value</th>\n",
       "      <td>1614273837860304</td>\n",
       "    </tr>\n",
       "    <tr>\n",
       "      <th>accessList</th>\n",
       "      <td>None</td>\n",
       "    </tr>\n",
       "    <tr>\n",
       "      <th>chainId</th>\n",
       "      <td>NaN</td>\n",
       "    </tr>\n",
       "    <tr>\n",
       "      <th>maxFeePerGas</th>\n",
       "      <td>NaN</td>\n",
       "    </tr>\n",
       "    <tr>\n",
       "      <th>maxPriorityFeePerGas</th>\n",
       "      <td>NaN</td>\n",
       "    </tr>\n",
       "    <tr>\n",
       "      <th>block_timestamp</th>\n",
       "      <td>2022-07-02 19:17:48</td>\n",
       "    </tr>\n",
       "  </tbody>\n",
       "</table>\n",
       "</div>"
      ],
      "text/plain": [
       "                                                                                       0\n",
       "hash                  0xfedacdb532ec5525686557a9bca04daa357ba754ccd70bea7cf0459572c189cf\n",
       "blockHash             0x5502093582eef8f1c9088f8db764ab59f403787954dee81eeaf681bf8ba681a7\n",
       "blockNumber                                                                     15064948\n",
       "from                                          0xf71e4a144cda4498277f9ad89b6501ec6c83c27c\n",
       "gas                                                                                21000\n",
       "gasPrice                                                                     33084805662\n",
       "input                                                                                 0x\n",
       "nonce                                                                                535\n",
       "r                     0xdc2fccbf51c8dde791b9ec027d4d53aab9bf6d5c10f963135a1bff925203dba7\n",
       "s                     0x1c0b133e837b36281fd6bdb9abb907c2060db9f6ab1824205037f3069458cafe\n",
       "to                                            0xf0fb796c4ea2f2b24939ddb20d4b66144b3ed4bc\n",
       "transactionIndex                                                                       0\n",
       "type                                                                                   0\n",
       "v                                                                                     27\n",
       "value                                                                   1614273837860304\n",
       "accessList                                                                          None\n",
       "chainId                                                                              NaN\n",
       "maxFeePerGas                                                                         NaN\n",
       "maxPriorityFeePerGas                                                                 NaN\n",
       "block_timestamp                                                      2022-07-02 19:17:48"
      ]
     },
     "execution_count": 9,
     "metadata": {},
     "output_type": "execute_result"
    }
   ],
   "source": [
    "df_raw.query('hash == \"0xfedacdb532ec5525686557a9bca04daa357ba754ccd70bea7cf0459572c189cf\"').T"
   ]
  }
 ],
 "metadata": {
  "kernelspec": {
   "display_name": "blockchain:Python",
   "language": "python",
   "name": "conda-env-blockchain-py"
  },
  "language_info": {
   "codemirror_mode": {
    "name": "ipython",
    "version": 3
   },
   "file_extension": ".py",
   "mimetype": "text/x-python",
   "name": "python",
   "nbconvert_exporter": "python",
   "pygments_lexer": "ipython3",
   "version": "3.10.4"
  }
 },
 "nbformat": 4,
 "nbformat_minor": 5
}
