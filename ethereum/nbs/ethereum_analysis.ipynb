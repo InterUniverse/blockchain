{
 "cells": [
  {
   "cell_type": "markdown",
   "id": "eb786557-6670-4e36-98c4-fb8c458c847e",
   "metadata": {},
   "source": [
    "# Ethereum transactions analysis"
   ]
  },
  {
   "cell_type": "markdown",
   "id": "52df1e03-3552-43b9-913b-d817a2f0458c",
   "metadata": {},
   "source": [
    "## Read the pandas dataframe parquet files"
   ]
  },
  {
   "cell_type": "code",
   "execution_count": 1,
   "id": "c677d6be-40c6-4c13-99f9-8ab8ff1f76ab",
   "metadata": {
    "tags": []
   },
   "outputs": [],
   "source": [
    "import os\n",
    "import json\n",
    "\n",
    "import pandas as pd\n",
    "import numpy as np\n",
    "import matplotlib.pyplot as plt\n",
    "import seaborn as sns"
   ]
  },
  {
   "cell_type": "code",
   "execution_count": 2,
   "id": "38bb3c2f-81c3-48ae-8e6a-06e495c651c9",
   "metadata": {},
   "outputs": [],
   "source": [
    "PATH = '../data/'"
   ]
  },
  {
   "cell_type": "code",
   "execution_count": 3,
   "id": "ddeb2349-48ef-4cd1-8b50-6aa72d235ce4",
   "metadata": {},
   "outputs": [],
   "source": [
    "pd.set_option('display.max_columns', 100, 'display.max_rows', 100, 'display.max_colwidth', 100)\n",
    "# pd.set_option('display.float_format', lambda x: '%.f' % x)"
   ]
  },
  {
   "cell_type": "code",
   "execution_count": 4,
   "id": "913ecc8f-b27e-481d-b692-eb11d23b166b",
   "metadata": {},
   "outputs": [],
   "source": [
    "file_dir = os.listdir(PATH)\n",
    "file_list = [os.path.join(PATH, file) for file in file_dir if file.startswith('df_')]"
   ]
  },
  {
   "cell_type": "code",
   "execution_count": 5,
   "id": "6fdec642-5f61-43be-a8bf-42ddc9e4524c",
   "metadata": {},
   "outputs": [],
   "source": [
    "df_raw = pd.concat([pd.read_parquet(file) for file in file_list])"
   ]
  },
  {
   "cell_type": "markdown",
   "id": "cb73d077-971f-438e-80fc-843b72c81202",
   "metadata": {},
   "source": [
    "### Convert `type` to categorical data type\n",
    "Seems to have reverted to 'int64' after reading from parquet into dataframe."
   ]
  },
  {
   "cell_type": "code",
   "execution_count": 9,
   "id": "0e0ce977-eb36-407e-8c40-ae11c231603c",
   "metadata": {},
   "outputs": [],
   "source": [
    "df_raw['type'] = df_raw['type'].astype('category')"
   ]
  },
  {
   "cell_type": "markdown",
   "id": "766b1d55-744f-4d8c-bfad-3ff5f9b6b8db",
   "metadata": {},
   "source": [
    "### Keeping the dataset to 1 to 7 July 2022"
   ]
  },
  {
   "cell_type": "code",
   "execution_count": 10,
   "id": "ca03eecd-15e1-4d5c-a61a-abeead9f033e",
   "metadata": {},
   "outputs": [],
   "source": [
    "df = df_raw.query('block_timestamp.between(\"2022-07-01\", \"2022-07-08\", inclusive=\"both\")')"
   ]
  },
  {
   "cell_type": "markdown",
   "id": "1430edbf-b025-4d2b-ae63-1e7f95c0be80",
   "metadata": {},
   "source": [
    "#### Data fields\n",
    "- `hash` - Hash of the transaction\n",
    "- `blockHash` - Hash of the block\n",
    "- `blockNumber` - Block number\n",
    "- `from` - Address of the sender\n",
    "- `gas` - Gas provided by the sender\n",
    "- `gasPrice` - Gas price provided by the sender in Wei\n",
    "- `input` - The data sent along with the transaction. Commonly used as part of contract interaction or as a message sent to the recipient. See \n",
    "- `nonce` - The number of transactions made by the sender prior to this one\n",
    "- `r` - The Elliptic Curve Digital Signature Algorithm (ECDSA) signature r. The standardised R field of the signature. See: https://openethereum.github.io/JSONRPC\n",
    "- `s` - The Elliptic Curve Digital Signature Algorithm (ECDSA) signature s\n",
    "- `to` - Address of the receiver\n",
    "- `transactionIndex` - Integer of the transactions index position in the block\n",
    "- `type` - Overtime, Ethereum Improvement Proposals (EIPs) have changed what a valid transaction looks like, whilst maintaining a high level of backwards compatibility with other transaction types. Today, the main types of transactions are legacy transactions and typed transactions (i.e. Type 1, Type 2).  \n",
    "See https://mycelium.xyz/research/the-journey-of-an-ethereum-transaction/.  \n",
    "Also see https://docs.dune.com/data-tables/data-tables/raw-data/ethereum-data#ethereum.transactions. \n",
    "   - 0: 'legacy' \n",
    "   - 1: 'accessList/Type 1' \n",
    "   - 2: 'DynamicFee/Type 2'    \n",
    "- `v` - The Elliptic Curve Digital Signature Algorithm (ECDSA) recovery id. The standardised V field of the signature. See: https://openethereum.github.io/JSONRPC\n",
    "- `value` - The amount of ether transferred in Wei.\n",
    "- `accessList` - Contains addresses and storage keys that will be accessed. These are fields from legacy transactions, EIP-2930. See: https://openethereum.github.io/JSONRPC\n",
    "- `chainId` - Value used in replay-protected transaction signing as introduced by EIP-155\n",
    "- `maxFeePerGas` - The maximum fee per gas the transaction sender is willing to pay total (introduced by EIP1559). For detailed explanation, refer to https://docs.alchemy.com/alchemy/guides/eip-1559/maxpriorityfeepergas-vs-maxfeepergas\n",
    "- `maxPriorityFeePerGas` - The maximum fee per gas the transaction sender is willing to pay total (introduced by EIP1559) Refer to https://docs.alchemy.com/alchemy/guides/eip-1559/maxpriorityfeepergas-vs-maxfeepergas\n",
    "- `block_timestamp` - Timestamp of the block\n",
    "\n",
    "References:  \n",
    "https://docs.dune.com/data-tables/data-tables/raw-data/ethereum-data#ethereum.transactions  \n",
    "The \"bigquery-public-data.crypto_ethereum.transactions\" column description  \n",
    "https://ethereum.org/en/developers/docs/apis/json-rpc/  \n",
    "https://docs.alchemy.com/alchemy/apis/ethereum/eth-gettransactionbyhash  "
   ]
  },
  {
   "cell_type": "markdown",
   "id": "02c9f4c8-b9e7-478b-bfe6-36c6d89766ea",
   "metadata": {
    "tags": []
   },
   "source": [
    "### We have the following entities in our domain:\n",
    "- Blocks\n",
    "- Transaction\n",
    "- Value and Fees\n",
    "- Account\n",
    "\n",
    "The process/relationship:\n",
    "- A block contains multiple transactions\n",
    "- A transaction is a request for computation on the Ethereum Virtual Machine (EVM) and it is a fulfilled transaction request and the associated change in the EVM.  \n",
    "When a request is broadcast, other participants on the network verify, validate and carry out the computation.  \n",
    "A transaction refers to an action initiated by an externally owned account, in other words, managed by a human not a contract (smart contract, ie. controlled by code).\n",
    "A transaction requires a fee and must be mined to be valid.\n",
    "- An account can be externally-owned or a contract (smart contract)\n",
    "\n",
    "References:\n",
    "https://ethereum.org/en/developers/docs/intro-to-ethereum/"
   ]
  },
  {
   "cell_type": "markdown",
   "id": "9ccc44a7-6f0c-4408-bbb0-d18aa2277e34",
   "metadata": {},
   "source": [
    "### We have the following information about our entities:\n",
    "- Blocks: `blockHash`, `blockNumber`, `block_timestamp`\n",
    "- Transaction: `hash`, `from`, `to`, `transactionIndex`, `type`, `input`, `chainId`\n",
    "- Value and Fees: `value`, `gas`, `gasPrice`, `maxFeePerGas`, `maxPriorityFeePerGas`\n",
    "- Account: `nonce`"
   ]
  },
  {
   "cell_type": "markdown",
   "id": "ec2963ef-2da1-477c-93c3-37ca4cf355be",
   "metadata": {},
   "source": [
    "## Univariate analysis"
   ]
  },
  {
   "cell_type": "code",
   "execution_count": 11,
   "id": "079282dd-7619-47cc-9d4c-732f2ec8ea5b",
   "metadata": {},
   "outputs": [
    {
     "name": "stdout",
     "output_type": "stream",
     "text": [
      "<class 'pandas.core.frame.DataFrame'>\n",
      "Int64Index: 8212460 entries, 0 to 3011962\n",
      "Data columns (total 16 columns):\n",
      " #   Column                Dtype         \n",
      "---  ------                -----         \n",
      " 0   hash                  object        \n",
      " 1   blockHash             object        \n",
      " 2   blockNumber           int64         \n",
      " 3   chainId               float64       \n",
      " 4   from                  object        \n",
      " 5   gas                   int64         \n",
      " 6   gasPrice              int64         \n",
      " 7   input                 object        \n",
      " 8   maxFeePerGas          float64       \n",
      " 9   maxPriorityFeePerGas  float64       \n",
      " 10  nonce                 int64         \n",
      " 11  to                    object        \n",
      " 12  transactionIndex      int64         \n",
      " 13  type                  category      \n",
      " 14  value                 float64       \n",
      " 15  block_timestamp       datetime64[ns]\n",
      "dtypes: category(1), datetime64[ns](1), float64(4), int64(5), object(5)\n",
      "memory usage: 1010.3+ MB\n"
     ]
    }
   ],
   "source": [
    "df.info()"
   ]
  },
  {
   "cell_type": "code",
   "execution_count": 17,
   "id": "bdc85166-0d3d-454b-8a6d-10c7ae8c0057",
   "metadata": {},
   "outputs": [
    {
     "data": {
      "text/html": [
       "<div>\n",
       "<style scoped>\n",
       "    .dataframe tbody tr th:only-of-type {\n",
       "        vertical-align: middle;\n",
       "    }\n",
       "\n",
       "    .dataframe tbody tr th {\n",
       "        vertical-align: top;\n",
       "    }\n",
       "\n",
       "    .dataframe thead th {\n",
       "        text-align: right;\n",
       "    }\n",
       "</style>\n",
       "<table border=\"1\" class=\"dataframe\">\n",
       "  <thead>\n",
       "    <tr style=\"text-align: right;\">\n",
       "      <th></th>\n",
       "      <th>hash</th>\n",
       "      <th>blockHash</th>\n",
       "      <th>blockNumber</th>\n",
       "      <th>chainId</th>\n",
       "      <th>from</th>\n",
       "      <th>gas</th>\n",
       "      <th>gasPrice</th>\n",
       "      <th>input</th>\n",
       "      <th>maxFeePerGas</th>\n",
       "      <th>maxPriorityFeePerGas</th>\n",
       "      <th>nonce</th>\n",
       "      <th>to</th>\n",
       "      <th>transactionIndex</th>\n",
       "      <th>type</th>\n",
       "      <th>value</th>\n",
       "      <th>block_timestamp</th>\n",
       "    </tr>\n",
       "  </thead>\n",
       "  <tbody>\n",
       "    <tr>\n",
       "      <th>0</th>\n",
       "      <td>0x4ba4952586cd471bf7be6f5bce210a52fb1139e279994bbfe05353884b77f325</td>\n",
       "      <td>0xc21f383b86f543e0038ada2a3554bf2b7ced841fad4363871f1fd8400721aff9</td>\n",
       "      <td>15053949</td>\n",
       "      <td>1.0</td>\n",
       "      <td>0xea674fdde714fd979de3edf0f56aa9716b898ec8</td>\n",
       "      <td>250000</td>\n",
       "      <td>17082324542</td>\n",
       "      <td>0x</td>\n",
       "      <td>3.805209e+10</td>\n",
       "      <td>1.000000e+09</td>\n",
       "      <td>43640737</td>\n",
       "      <td>0x40329687913cf9d84e3132cb4d8d61130704599d</td>\n",
       "      <td>0</td>\n",
       "      <td>2</td>\n",
       "      <td>9.971602e+16</td>\n",
       "      <td>2022-07-01 02:36:35</td>\n",
       "    </tr>\n",
       "    <tr>\n",
       "      <th>1</th>\n",
       "      <td>0xd04e6bed821f4c616a400d5bb43a525dbad01fff53b2fb42c9a40d448df371c4</td>\n",
       "      <td>0xc21f383b86f543e0038ada2a3554bf2b7ced841fad4363871f1fd8400721aff9</td>\n",
       "      <td>15053949</td>\n",
       "      <td>1.0</td>\n",
       "      <td>0xea674fdde714fd979de3edf0f56aa9716b898ec8</td>\n",
       "      <td>250000</td>\n",
       "      <td>17082324542</td>\n",
       "      <td>0x</td>\n",
       "      <td>3.805209e+10</td>\n",
       "      <td>1.000000e+09</td>\n",
       "      <td>43640738</td>\n",
       "      <td>0xb55ec04cbda8d2d602f3108ddb66496a3cb1ee9b</td>\n",
       "      <td>1</td>\n",
       "      <td>2</td>\n",
       "      <td>9.962975e+16</td>\n",
       "      <td>2022-07-01 02:36:35</td>\n",
       "    </tr>\n",
       "    <tr>\n",
       "      <th>2</th>\n",
       "      <td>0xc1f95ac0a6f41e9a53713193e83af95694052181a2ec9b788ab00ab389412cb6</td>\n",
       "      <td>0xc21f383b86f543e0038ada2a3554bf2b7ced841fad4363871f1fd8400721aff9</td>\n",
       "      <td>15053949</td>\n",
       "      <td>1.0</td>\n",
       "      <td>0xea674fdde714fd979de3edf0f56aa9716b898ec8</td>\n",
       "      <td>250000</td>\n",
       "      <td>17082324542</td>\n",
       "      <td>0x</td>\n",
       "      <td>3.805209e+10</td>\n",
       "      <td>1.000000e+09</td>\n",
       "      <td>43640739</td>\n",
       "      <td>0xdd27415aa937d75f13bf5877f7cbf092e42612b3</td>\n",
       "      <td>2</td>\n",
       "      <td>2</td>\n",
       "      <td>1.734777e+16</td>\n",
       "      <td>2022-07-01 02:36:35</td>\n",
       "    </tr>\n",
       "  </tbody>\n",
       "</table>\n",
       "</div>"
      ],
      "text/plain": [
       "                                                                 hash  \\\n",
       "0  0x4ba4952586cd471bf7be6f5bce210a52fb1139e279994bbfe05353884b77f325   \n",
       "1  0xd04e6bed821f4c616a400d5bb43a525dbad01fff53b2fb42c9a40d448df371c4   \n",
       "2  0xc1f95ac0a6f41e9a53713193e83af95694052181a2ec9b788ab00ab389412cb6   \n",
       "\n",
       "                                                            blockHash  \\\n",
       "0  0xc21f383b86f543e0038ada2a3554bf2b7ced841fad4363871f1fd8400721aff9   \n",
       "1  0xc21f383b86f543e0038ada2a3554bf2b7ced841fad4363871f1fd8400721aff9   \n",
       "2  0xc21f383b86f543e0038ada2a3554bf2b7ced841fad4363871f1fd8400721aff9   \n",
       "\n",
       "   blockNumber  chainId                                        from     gas  \\\n",
       "0     15053949      1.0  0xea674fdde714fd979de3edf0f56aa9716b898ec8  250000   \n",
       "1     15053949      1.0  0xea674fdde714fd979de3edf0f56aa9716b898ec8  250000   \n",
       "2     15053949      1.0  0xea674fdde714fd979de3edf0f56aa9716b898ec8  250000   \n",
       "\n",
       "      gasPrice input  maxFeePerGas  maxPriorityFeePerGas     nonce  \\\n",
       "0  17082324542    0x  3.805209e+10          1.000000e+09  43640737   \n",
       "1  17082324542    0x  3.805209e+10          1.000000e+09  43640738   \n",
       "2  17082324542    0x  3.805209e+10          1.000000e+09  43640739   \n",
       "\n",
       "                                           to  transactionIndex type  \\\n",
       "0  0x40329687913cf9d84e3132cb4d8d61130704599d                 0    2   \n",
       "1  0xb55ec04cbda8d2d602f3108ddb66496a3cb1ee9b                 1    2   \n",
       "2  0xdd27415aa937d75f13bf5877f7cbf092e42612b3                 2    2   \n",
       "\n",
       "          value     block_timestamp  \n",
       "0  9.971602e+16 2022-07-01 02:36:35  \n",
       "1  9.962975e+16 2022-07-01 02:36:35  \n",
       "2  1.734777e+16 2022-07-01 02:36:35  "
      ]
     },
     "execution_count": 17,
     "metadata": {},
     "output_type": "execute_result"
    }
   ],
   "source": [
    "df.head(3)"
   ]
  },
  {
   "cell_type": "markdown",
   "id": "b32ee5b7-1215-4d72-a612-8cc074c0c5d2",
   "metadata": {},
   "source": [
    "How many blocks are there in our dataset?"
   ]
  },
  {
   "cell_type": "code",
   "execution_count": 23,
   "id": "20e197c6-d8eb-42c8-b8fa-0b89abf462f9",
   "metadata": {},
   "outputs": [
    {
     "data": {
      "text/plain": [
       "43706"
      ]
     },
     "execution_count": 23,
     "metadata": {},
     "output_type": "execute_result"
    }
   ],
   "source": [
    "df['blockNumber'].nunique()"
   ]
  },
  {
   "cell_type": "markdown",
   "id": "bce5ee0d-e63e-4f70-9d8a-31dc9b8a7b2d",
   "metadata": {},
   "source": [
    "How many transactions?"
   ]
  },
  {
   "cell_type": "code",
   "execution_count": 21,
   "id": "c43017a6-1665-481a-af9e-40397689cb10",
   "metadata": {},
   "outputs": [
    {
     "data": {
      "text/plain": [
       "8212460"
      ]
     },
     "execution_count": 21,
     "metadata": {},
     "output_type": "execute_result"
    }
   ],
   "source": [
    "df.shape[0]"
   ]
  },
  {
   "cell_type": "markdown",
   "id": "3a706f35-a2e8-45c7-933a-031b425722c3",
   "metadata": {},
   "source": [
    "How many senders?"
   ]
  },
  {
   "cell_type": "code",
   "execution_count": 22,
   "id": "22b4887e-fdab-4758-8c45-88aed60e120a",
   "metadata": {},
   "outputs": [
    {
     "data": {
      "text/plain": [
       "1782142"
      ]
     },
     "execution_count": 22,
     "metadata": {},
     "output_type": "execute_result"
    }
   ],
   "source": [
    "df['from'].nunique()"
   ]
  },
  {
   "cell_type": "markdown",
   "id": "b48416ba-0b1b-4a84-a849-9c2233086a70",
   "metadata": {},
   "source": [
    "How many recipients?"
   ]
  },
  {
   "cell_type": "code",
   "execution_count": 24,
   "id": "3c05555f-00f5-4f21-bdab-05670233c6a7",
   "metadata": {},
   "outputs": [
    {
     "data": {
      "text/plain": [
       "1311994"
      ]
     },
     "execution_count": 24,
     "metadata": {},
     "output_type": "execute_result"
    }
   ],
   "source": [
    "df['to'].nunique()"
   ]
  },
  {
   "cell_type": "code",
   "execution_count": 37,
   "id": "078161c4-95d9-4971-bbbd-6cf0a9374109",
   "metadata": {},
   "outputs": [],
   "source": [
    "pd.set_option('display.float_format', lambda x: '%.f' % x)"
   ]
  },
  {
   "cell_type": "markdown",
   "id": "7422d135-b980-461a-890d-1f2c5add46d9",
   "metadata": {},
   "source": [
    "What is the minimum and maximum `gas`?"
   ]
  },
  {
   "cell_type": "code",
   "execution_count": 38,
   "id": "a388ffc4-ecb6-4502-b39a-2b455a5827a0",
   "metadata": {},
   "outputs": [
    {
     "data": {
      "text/plain": [
       "count    8212460\n",
       "mean      163931\n",
       "std       385066\n",
       "min        21000\n",
       "25%        31500\n",
       "50%        90000\n",
       "75%       207128\n",
       "max     30029295\n",
       "Name: gas, dtype: float64"
      ]
     },
     "execution_count": 38,
     "metadata": {},
     "output_type": "execute_result"
    }
   ],
   "source": [
    "df['gas'].describe()"
   ]
  },
  {
   "cell_type": "code",
   "execution_count": null,
   "id": "56a6c195-66a3-4843-bcef-860b0577cd39",
   "metadata": {},
   "outputs": [
    {
     "data": {
      "text/html": [
       "<div>\n",
       "<style scoped>\n",
       "    .dataframe tbody tr th:only-of-type {\n",
       "        vertical-align: middle;\n",
       "    }\n",
       "\n",
       "    .dataframe tbody tr th {\n",
       "        vertical-align: top;\n",
       "    }\n",
       "\n",
       "    .dataframe thead th {\n",
       "        text-align: right;\n",
       "    }\n",
       "</style>\n",
       "<table border=\"1\" class=\"dataframe\">\n",
       "  <thead>\n",
       "    <tr style=\"text-align: right;\">\n",
       "      <th></th>\n",
       "      <th>hash</th>\n",
       "      <th>blockHash</th>\n",
       "      <th>blockNumber</th>\n",
       "      <th>chainId</th>\n",
       "      <th>from</th>\n",
       "      <th>gas</th>\n",
       "      <th>gasPrice</th>\n",
       "      <th>input</th>\n",
       "      <th>maxFeePerGas</th>\n",
       "      <th>maxPriorityFeePerGas</th>\n",
       "      <th>nonce</th>\n",
       "      <th>to</th>\n",
       "      <th>transactionIndex</th>\n",
       "      <th>type</th>\n",
       "      <th>value</th>\n",
       "      <th>block_timestamp</th>\n",
       "    </tr>\n",
       "  </thead>\n",
       "  <tbody>\n",
       "    <tr>\n",
       "      <th>642917</th>\n",
       "      <td>0xdd6d61a22ede7b658487fd45bb645f1dfecab607d48e2e1e50cf0915e3d18abf</td>\n",
       "      <td>0x35ffb57b42bb69b018f95c39b7b0e84bac7e91d8c854149d7192eb20912b854d</td>\n",
       "      <td>15078507</td>\n",
       "      <td>1</td>\n",
       "      <td>0x6d72dc1b254fb818a1382a05212466b83424e469</td>\n",
       "      <td>30029295</td>\n",
       "      <td>25375730731</td>\n",
       "      <td>0x8fe5d2e90000000000000000000000000000000000000000000000000000000000e611910000000000000000000000...</td>\n",
       "      <td>37015077777</td>\n",
       "      <td>7000000000</td>\n",
       "      <td>37</td>\n",
       "      <td>0x30f7bf69d92828441f5a6bfcf818df25deb2c4b4</td>\n",
       "      <td>0</td>\n",
       "      <td>2</td>\n",
       "      <td>0</td>\n",
       "      <td>2022-07-04 21:33:21</td>\n",
       "    </tr>\n",
       "  </tbody>\n",
       "</table>\n",
       "</div>"
      ],
      "text/plain": [
       "                                                                      hash  \\\n",
       "642917  0xdd6d61a22ede7b658487fd45bb645f1dfecab607d48e2e1e50cf0915e3d18abf   \n",
       "\n",
       "                                                                 blockHash  \\\n",
       "642917  0x35ffb57b42bb69b018f95c39b7b0e84bac7e91d8c854149d7192eb20912b854d   \n",
       "\n",
       "        blockNumber  chainId                                        from  \\\n",
       "642917     15078507        1  0x6d72dc1b254fb818a1382a05212466b83424e469   \n",
       "\n",
       "             gas     gasPrice  \\\n",
       "642917  30029295  25375730731   \n",
       "\n",
       "                                                                                                      input  \\\n",
       "642917  0x8fe5d2e90000000000000000000000000000000000000000000000000000000000e611910000000000000000000000...   \n",
       "\n",
       "        maxFeePerGas  maxPriorityFeePerGas  nonce  \\\n",
       "642917   37015077777            7000000000     37   \n",
       "\n",
       "                                                to  transactionIndex type  \\\n",
       "642917  0x30f7bf69d92828441f5a6bfcf818df25deb2c4b4                 0    2   \n",
       "\n",
       "        value     block_timestamp  \n",
       "642917      0 2022-07-04 21:33:21  "
      ]
     },
     "execution_count": 46,
     "metadata": {},
     "output_type": "execute_result"
    }
   ],
   "source": [
    "df.query('gas == 30029295')"
   ]
  },
  {
   "cell_type": "markdown",
   "id": "a30dbe86-5c50-4137-ba4a-130a90b4d3f4",
   "metadata": {},
   "source": [
    "What is the minimum and maximum `gasPrice`?"
   ]
  },
  {
   "cell_type": "code",
   "execution_count": 27,
   "id": "aad9509e-cae1-4411-9bed-603fed049daa",
   "metadata": {},
   "outputs": [
    {
     "data": {
      "text/plain": [
       "count    8.212460e+06\n",
       "mean     3.015800e+10\n",
       "std      1.227708e+11\n",
       "min      3.717514e+09\n",
       "25%      1.455000e+10\n",
       "50%      2.138334e+10\n",
       "75%      3.489424e+10\n",
       "max      2.294510e+14\n",
       "Name: gasPrice, dtype: float64"
      ]
     },
     "execution_count": 27,
     "metadata": {},
     "output_type": "execute_result"
    }
   ],
   "source": [
    "df['gasPrice'].describe()"
   ]
  },
  {
   "cell_type": "code",
   "execution_count": 28,
   "id": "c3992d70-a45b-4fae-9a72-aad8014deac8",
   "metadata": {},
   "outputs": [
    {
     "data": {
      "text/plain": [
       "count    8.212460e+06\n",
       "mean     1.317989e+06\n",
       "std      5.830671e+06\n",
       "min      0.000000e+00\n",
       "25%      1.500000e+01\n",
       "50%      1.830000e+02\n",
       "75%      1.693500e+04\n",
       "max      4.377498e+07\n",
       "Name: nonce, dtype: float64"
      ]
     },
     "execution_count": 28,
     "metadata": {},
     "output_type": "execute_result"
    }
   ],
   "source": [
    "df['nonce'].describe()"
   ]
  },
  {
   "cell_type": "code",
   "execution_count": 29,
   "id": "ad0e86c6-fcbf-4d51-a973-335100b17996",
   "metadata": {},
   "outputs": [
    {
     "data": {
      "text/plain": [
       "count    8.212460e+06\n",
       "mean     1.383877e+02\n",
       "std      1.141302e+02\n",
       "min      0.000000e+00\n",
       "25%      5.000000e+01\n",
       "50%      1.120000e+02\n",
       "75%      2.020000e+02\n",
       "max      1.307000e+03\n",
       "Name: transactionIndex, dtype: float64"
      ]
     },
     "execution_count": 29,
     "metadata": {},
     "output_type": "execute_result"
    }
   ],
   "source": [
    "df['transactionIndex'].describe()"
   ]
  },
  {
   "cell_type": "code",
   "execution_count": 30,
   "id": "b663fba2-cf56-49f8-81cb-fa1ad660453e",
   "metadata": {},
   "outputs": [
    {
     "data": {
      "text/plain": [
       "2    6881664\n",
       "0    1315335\n",
       "1      15461\n",
       "Name: type, dtype: int64"
      ]
     },
     "execution_count": 30,
     "metadata": {},
     "output_type": "execute_result"
    }
   ],
   "source": [
    "df['type'].value_counts(dropna=False)"
   ]
  },
  {
   "cell_type": "code",
   "execution_count": 31,
   "id": "6a8d1f3b-f1ba-41f3-83ca-cc2499048410",
   "metadata": {},
   "outputs": [
    {
     "data": {
      "text/plain": [
       "2    0.837954\n",
       "0    0.160163\n",
       "1    0.001883\n",
       "Name: type, dtype: float64"
      ]
     },
     "execution_count": 31,
     "metadata": {},
     "output_type": "execute_result"
    }
   ],
   "source": [
    "df['type'].value_counts(dropna=False, normalize=True)"
   ]
  },
  {
   "cell_type": "code",
   "execution_count": 32,
   "id": "efa421ec-44e7-49f7-9579-b40d55b452bf",
   "metadata": {},
   "outputs": [],
   "source": [
    "# pd.set_option('display.float_format', lambda x: '%.f' % x)"
   ]
  },
  {
   "cell_type": "code",
   "execution_count": 33,
   "id": "4abe0bb1-5f51-4345-8ab6-c8de54990308",
   "metadata": {},
   "outputs": [
    {
     "data": {
      "text/plain": [
       "count    8.212460e+06\n",
       "mean     1.697553e+18\n",
       "std      1.871322e+20\n",
       "min      0.000000e+00\n",
       "25%      0.000000e+00\n",
       "50%      0.000000e+00\n",
       "75%      4.800000e+16\n",
       "max      1.500000e+23\n",
       "Name: value, dtype: float64"
      ]
     },
     "execution_count": 33,
     "metadata": {},
     "output_type": "execute_result"
    }
   ],
   "source": [
    "df['value'].describe()"
   ]
  },
  {
   "cell_type": "code",
   "execution_count": 34,
   "id": "42aad4e2-5e51-4e2e-a1c0-075e308345ae",
   "metadata": {},
   "outputs": [
    {
     "data": {
      "text/plain": [
       "1.0    0.839837\n",
       "NaN    0.160163\n",
       "Name: chainId, dtype: float64"
      ]
     },
     "execution_count": 34,
     "metadata": {},
     "output_type": "execute_result"
    }
   ],
   "source": [
    "df['chainId'].value_counts(dropna=False, normalize=True)"
   ]
  },
  {
   "cell_type": "code",
   "execution_count": 44,
   "id": "04d33dfa-7091-4d66-83e8-f5de4236177e",
   "metadata": {},
   "outputs": [],
   "source": [
    "# pd.set_option('display.float_format', lambda x: '%.f' % x)"
   ]
  },
  {
   "cell_type": "code",
   "execution_count": 35,
   "id": "0fecad50-bf04-41d8-b97f-3177124bf284",
   "metadata": {},
   "outputs": [
    {
     "data": {
      "text/plain": [
       "count    6.881664e+06\n",
       "mean     6.971994e+10\n",
       "std      1.914036e+11\n",
       "min      3.717514e+09\n",
       "25%      2.200000e+10\n",
       "50%      3.469551e+10\n",
       "75%      6.196162e+10\n",
       "max      2.294510e+14\n",
       "Name: maxFeePerGas, dtype: float64"
      ]
     },
     "execution_count": 35,
     "metadata": {},
     "output_type": "execute_result"
    }
   ],
   "source": [
    "df['maxFeePerGas'].describe()"
   ]
  },
  {
   "cell_type": "code",
   "execution_count": 36,
   "id": "5bc3c75e-508e-4f1f-a3eb-998e8ef3b363",
   "metadata": {},
   "outputs": [
    {
     "data": {
      "text/plain": [
       "count    6.881664e+06\n",
       "mean     5.248661e+09\n",
       "std      1.149491e+11\n",
       "min      0.000000e+00\n",
       "25%      1.500000e+09\n",
       "50%      2.000000e+09\n",
       "75%      2.500000e+09\n",
       "max      2.294510e+14\n",
       "Name: maxPriorityFeePerGas, dtype: float64"
      ]
     },
     "execution_count": 36,
     "metadata": {},
     "output_type": "execute_result"
    }
   ],
   "source": [
    "df['maxPriorityFeePerGas'].describe()"
   ]
  },
  {
   "cell_type": "markdown",
   "id": "b459396b-6f0f-46cf-9e18-6f10d1657b2a",
   "metadata": {},
   "source": [
    "## Overall figures\n",
    "In this analysis, we will not look into:  \n",
    "The `r`, `s` and `v` which are the ECDSA signatures.  \n",
    "`accessList` which contains addresses and storage keys from legacy transactions. The field also needs to be flattened.  \n",
    "All transactions are included regardless of status, ie. success or failed (no field to determine this in the dataset).\n",
    "- How many blocks are there in our dataset?  \n",
    "43,706\n",
    "- How many transactions?  \n",
    "8,212,460\n",
    "- How many senders:  \n",
    "1,782,142\n",
    "- How many recipients:  \n",
    "1,311,992\n",
    "- What are the categories in `type`?  \n",
    "84% of transactions are 2, 16% are 0 and 0.002% are 1\n",
    "- What are the categories in `chainId`\n",
    "84% are 1 and 16% are missing the `chainId`\n",
    "- Which dates were these transactions executed?\n",
    "2022-07-01 to 2022-07-07"
   ]
  },
  {
   "cell_type": "markdown",
   "id": "d7120603-18d0-4aa4-8cc2-f06ac7c98f58",
   "metadata": {},
   "source": [
    "## Key Findings on Overall Figures\n",
    "- There are more senders than recipients. Why?\n",
    "- The 84% of transactions has a `type` of 2 and 16% are 0. The 84% vs 16% split is the same as `chainId` split. What is the relationship? \n",
    "- An example of an outlier with `gas` = 30,029,295 was a failed transaction, see `hash` = '0xdd6d61a22ede7b658487fd45bb645f1dfecab607d48e2e1e50cf0915e3d18abf'. Note that the `value` is 0. Also confirmed in https://etherscan.io/tx/0xdd6d61a22ede7b658487fd45bb645f1dfecab607d48e2e1e50cf0915e3d18abf. Comments in etherscan says \"WRONG_BLOCK_NUMBER\" but another checking the Alchemy API with eth_getTransactionByHash confirmed it is correct block number. This transaction did not appear in Dune."
   ]
  },
  {
   "cell_type": "markdown",
   "id": "f01360fe-3811-4d90-841e-ada2d5cf0c8b",
   "metadata": {},
   "source": [
    "How many blocks per day?"
   ]
  },
  {
   "cell_type": "code",
   "execution_count": 12,
   "id": "4a3d04bd-28d4-4036-8f12-ed1eb87d8e11",
   "metadata": {},
   "outputs": [
    {
     "data": {
      "text/html": [
       "<div>\n",
       "<style scoped>\n",
       "    .dataframe tbody tr th:only-of-type {\n",
       "        vertical-align: middle;\n",
       "    }\n",
       "\n",
       "    .dataframe tbody tr th {\n",
       "        vertical-align: top;\n",
       "    }\n",
       "\n",
       "    .dataframe thead th {\n",
       "        text-align: right;\n",
       "    }\n",
       "</style>\n",
       "<table border=\"1\" class=\"dataframe\">\n",
       "  <thead>\n",
       "    <tr style=\"text-align: right;\">\n",
       "      <th></th>\n",
       "      <th>blocks</th>\n",
       "    </tr>\n",
       "    <tr>\n",
       "      <th>block_timestamp</th>\n",
       "      <th></th>\n",
       "    </tr>\n",
       "  </thead>\n",
       "  <tbody>\n",
       "    <tr>\n",
       "      <th>2022-07-01</th>\n",
       "      <td>6253</td>\n",
       "    </tr>\n",
       "    <tr>\n",
       "      <th>2022-07-02</th>\n",
       "      <td>6227</td>\n",
       "    </tr>\n",
       "    <tr>\n",
       "      <th>2022-07-03</th>\n",
       "      <td>6315</td>\n",
       "    </tr>\n",
       "    <tr>\n",
       "      <th>2022-07-04</th>\n",
       "      <td>6200</td>\n",
       "    </tr>\n",
       "    <tr>\n",
       "      <th>2022-07-05</th>\n",
       "      <td>6242</td>\n",
       "    </tr>\n",
       "    <tr>\n",
       "      <th>2022-07-06</th>\n",
       "      <td>6280</td>\n",
       "    </tr>\n",
       "    <tr>\n",
       "      <th>2022-07-07</th>\n",
       "      <td>6189</td>\n",
       "    </tr>\n",
       "  </tbody>\n",
       "</table>\n",
       "</div>"
      ],
      "text/plain": [
       "                 blocks\n",
       "block_timestamp        \n",
       "2022-07-01         6253\n",
       "2022-07-02         6227\n",
       "2022-07-03         6315\n",
       "2022-07-04         6200\n",
       "2022-07-05         6242\n",
       "2022-07-06         6280\n",
       "2022-07-07         6189"
      ]
     },
     "execution_count": 12,
     "metadata": {},
     "output_type": "execute_result"
    }
   ],
   "source": [
    "df.resample('D', on='block_timestamp').agg(blocks=('blockNumber','nunique'))"
   ]
  },
  {
   "cell_type": "markdown",
   "id": "db460cbd-1eeb-4555-b29a-dbcc5e8a6bd0",
   "metadata": {},
   "source": [
    "How many transactions per day?"
   ]
  },
  {
   "cell_type": "code",
   "execution_count": 48,
   "id": "bd9836a8-d821-465d-8916-5c6630944181",
   "metadata": {},
   "outputs": [
    {
     "data": {
      "text/plain": [
       "block_timestamp\n",
       "2022-07-01    1178620\n",
       "2022-07-02    1189382\n",
       "2022-07-03    1157052\n",
       "2022-07-04    1150609\n",
       "2022-07-05    1181035\n",
       "2022-07-06    1161432\n",
       "2022-07-07    1194330\n",
       "Freq: D, dtype: int64"
      ]
     },
     "execution_count": 48,
     "metadata": {},
     "output_type": "execute_result"
    }
   ],
   "source": [
    "df.resample('D', on='block_timestamp').size()"
   ]
  },
  {
   "cell_type": "markdown",
   "id": "dca71a69-7a0e-4674-8699-e729f2985ac6",
   "metadata": {},
   "source": [
    "Total value per day?"
   ]
  },
  {
   "cell_type": "code",
   "execution_count": 49,
   "id": "6ce997b5-95f8-4800-8db9-1d8dcfd64b1a",
   "metadata": {},
   "outputs": [
    {
     "data": {
      "text/html": [
       "<div>\n",
       "<style scoped>\n",
       "    .dataframe tbody tr th:only-of-type {\n",
       "        vertical-align: middle;\n",
       "    }\n",
       "\n",
       "    .dataframe tbody tr th {\n",
       "        vertical-align: top;\n",
       "    }\n",
       "\n",
       "    .dataframe thead th {\n",
       "        text-align: right;\n",
       "    }\n",
       "</style>\n",
       "<table border=\"1\" class=\"dataframe\">\n",
       "  <thead>\n",
       "    <tr style=\"text-align: right;\">\n",
       "      <th></th>\n",
       "      <th>total_value</th>\n",
       "    </tr>\n",
       "    <tr>\n",
       "      <th>block_timestamp</th>\n",
       "      <th></th>\n",
       "    </tr>\n",
       "  </thead>\n",
       "  <tbody>\n",
       "    <tr>\n",
       "      <th>2022-07-01</th>\n",
       "      <td>2529957095970754663546880</td>\n",
       "    </tr>\n",
       "    <tr>\n",
       "      <th>2022-07-02</th>\n",
       "      <td>1242727481254419196018688</td>\n",
       "    </tr>\n",
       "    <tr>\n",
       "      <th>2022-07-03</th>\n",
       "      <td>802698618545780836794368</td>\n",
       "    </tr>\n",
       "    <tr>\n",
       "      <th>2022-07-04</th>\n",
       "      <td>1979039773764470716760064</td>\n",
       "    </tr>\n",
       "    <tr>\n",
       "      <th>2022-07-05</th>\n",
       "      <td>1838238726207302323404800</td>\n",
       "    </tr>\n",
       "    <tr>\n",
       "      <th>2022-07-06</th>\n",
       "      <td>1882904639433685247983616</td>\n",
       "    </tr>\n",
       "    <tr>\n",
       "      <th>2022-07-07</th>\n",
       "      <td>3665519196793809473110016</td>\n",
       "    </tr>\n",
       "  </tbody>\n",
       "</table>\n",
       "</div>"
      ],
      "text/plain": [
       "                              total_value\n",
       "block_timestamp                          \n",
       "2022-07-01      2529957095970754663546880\n",
       "2022-07-02      1242727481254419196018688\n",
       "2022-07-03       802698618545780836794368\n",
       "2022-07-04      1979039773764470716760064\n",
       "2022-07-05      1838238726207302323404800\n",
       "2022-07-06      1882904639433685247983616\n",
       "2022-07-07      3665519196793809473110016"
      ]
     },
     "execution_count": 49,
     "metadata": {},
     "output_type": "execute_result"
    }
   ],
   "source": [
    "df.resample('D', on='block_timestamp').agg(total_value=('value','sum'))"
   ]
  },
  {
   "cell_type": "markdown",
   "id": "634348c4-6fbf-4c41-8ceb-9d4898f0393c",
   "metadata": {},
   "source": [
    "Year over year difference July 2021 vs July 2022"
   ]
  },
  {
   "cell_type": "code",
   "execution_count": 78,
   "id": "578d9171-8419-44a2-8fba-66e885587014",
   "metadata": {},
   "outputs": [],
   "source": [
    "data = {'2021-07-01':1211710, '2021-07-02':1181574, '2021-07-03':1122543, '2021-07-04':1105343, '2021-07-05':1147895, '2021-07-06':1355421, '2021-07-07':1290979}\n",
    "s_2021 = pd.Series(data)\n",
    "s_2021.index = pd.to_datetime(s_2021.index)"
   ]
  },
  {
   "cell_type": "code",
   "execution_count": 75,
   "id": "510b3f4c-d833-4acc-bd6d-27e12406db6f",
   "metadata": {},
   "outputs": [],
   "source": [
    "s_2022 = df.resample('D', on='block_timestamp').size()"
   ]
  },
  {
   "cell_type": "code",
   "execution_count": 79,
   "id": "bb56fc9f-53c1-4c93-ae9c-8394f4c20ce9",
   "metadata": {},
   "outputs": [],
   "source": [
    "s_daily = pd.concat([s_2021,s_2022])"
   ]
  },
  {
   "cell_type": "code",
   "execution_count": 80,
   "id": "b7d9c589-29ae-48bb-9e3a-199ef08e0650",
   "metadata": {},
   "outputs": [
    {
     "data": {
      "text/plain": [
       "2021-07-01    1211710\n",
       "2021-07-02    1181574\n",
       "2021-07-03    1122543\n",
       "2021-07-04    1105343\n",
       "2021-07-05    1147895\n",
       "2021-07-06    1355421\n",
       "2021-07-07    1290979\n",
       "2022-07-01    1178620\n",
       "2022-07-02    1189382\n",
       "2022-07-03    1157052\n",
       "2022-07-04    1150609\n",
       "2022-07-05    1181035\n",
       "2022-07-06    1161432\n",
       "2022-07-07    1194330\n",
       "dtype: int64"
      ]
     },
     "execution_count": 80,
     "metadata": {},
     "output_type": "execute_result"
    }
   ],
   "source": [
    "s_daily"
   ]
  },
  {
   "cell_type": "code",
   "execution_count": 89,
   "id": "bcbd3857-b36e-4512-8c23-0c3d63a90e15",
   "metadata": {},
   "outputs": [
    {
     "data": {
      "text/plain": [
       "2022-07-01    -33090.0\n",
       "2022-07-02      7808.0\n",
       "2022-07-03     34509.0\n",
       "2022-07-04     45266.0\n",
       "2022-07-05     33140.0\n",
       "2022-07-06   -193989.0\n",
       "2022-07-07    -96649.0\n",
       "dtype: float64"
      ]
     },
     "execution_count": 89,
     "metadata": {},
     "output_type": "execute_result"
    }
   ],
   "source": [
    "s_daily.diff(periods=7).iloc[7:]"
   ]
  },
  {
   "cell_type": "code",
   "execution_count": 90,
   "id": "a1d2ab3a-e913-466a-8318-983b7d9399d9",
   "metadata": {},
   "outputs": [
    {
     "data": {
      "text/plain": [
       "<AxesSubplot:>"
      ]
     },
     "execution_count": 90,
     "metadata": {},
     "output_type": "execute_result"
    },
    {
     "data": {
      "image/png": "[encoded data removed]",
      "text/plain": [
       "<Figure size 432x288 with 1 Axes>"
      ]
     },
     "metadata": {
      "needs_background": "light"
     },
     "output_type": "display_data"
    }
   ],
   "source": [
    "s_daily.diff(periods=7).iloc[7:].plot(kind='bar')"
   ]
  },
  {
   "cell_type": "code",
   "execution_count": 103,
   "id": "7aa1026a-2f14-4530-8484-878e731f91d9",
   "metadata": {},
   "outputs": [],
   "source": [
    "s_daily_pct = s_daily.pct_change(periods=7).iloc[7:]*100"
   ]
  },
  {
   "cell_type": "code",
   "execution_count": 104,
   "id": "6704e966-a2cf-4ae5-8cae-a7e489329c50",
   "metadata": {},
   "outputs": [
    {
     "data": {
      "text/plain": [
       "<AxesSubplot:>"
      ]
     },
     "execution_count": 104,
     "metadata": {},
     "output_type": "execute_result"
    },
    {
     "data": {
      "image/png": "[encoded data removed]",
      "text/plain": [
       "<Figure size 432x288 with 1 Axes>"
      ]
     },
     "metadata": {
      "needs_background": "light"
     },
     "output_type": "display_data"
    }
   ],
   "source": [
    "s_daily_pct.plot(kind='bar')"
   ]
  },
  {
   "cell_type": "code",
   "execution_count": 105,
   "id": "ac094b84-8171-46cf-b5bd-e21a30d99f16",
   "metadata": {},
   "outputs": [
    {
     "data": {
      "text/plain": [
       "2022-07-01    -2.730851\n",
       "2022-07-02     0.660813\n",
       "2022-07-03     3.074181\n",
       "2022-07-04     4.095199\n",
       "2022-07-05     2.887024\n",
       "2022-07-06   -14.312085\n",
       "2022-07-07    -7.486489\n",
       "dtype: float64"
      ]
     },
     "execution_count": 105,
     "metadata": {},
     "output_type": "execute_result"
    }
   ],
   "source": [
    "s_daily_pct"
   ]
  },
  {
   "cell_type": "code",
   "execution_count": 120,
   "id": "2fee09e5-84af-4311-ae0b-5531415f253f",
   "metadata": {},
   "outputs": [
    {
     "data": {
      "text/plain": [
       "(15053226, 15098519)"
      ]
     },
     "execution_count": 120,
     "metadata": {},
     "output_type": "execute_result"
    }
   ],
   "source": [
    "df['blockNumber'].min(), df['blockNumber'].max()"
   ]
  },
  {
   "cell_type": "code",
   "execution_count": 154,
   "id": "9a81a55f-ddae-470b-926b-4a1ee43cd17a",
   "metadata": {},
   "outputs": [],
   "source": [
    "block_txn = json.load(open('../data/raw/block_txn_counts.json'))"
   ]
  },
  {
   "cell_type": "code",
   "execution_count": 155,
   "id": "f4619fdf-bcfa-487e-9644-9c235b066bfc",
   "metadata": {},
   "outputs": [],
   "source": [
    "tmp_df = pd.DataFrame(block_txn)"
   ]
  },
  {
   "cell_type": "code",
   "execution_count": 156,
   "id": "01e0a5a0-ab45-4b3c-b50f-daf6895387fa",
   "metadata": {},
   "outputs": [],
   "source": [
    "tmp_df['block_timestamp'] = tmp_df['block_timestamp'].astype('datetime64[s]')"
   ]
  },
  {
   "cell_type": "code",
   "execution_count": 112,
   "id": "29545888-83cb-40bd-bb08-1e35ec15a4b5",
   "metadata": {},
   "outputs": [
    {
     "data": {
      "text/plain": [
       "(Timestamp('2021-06-30 23:59:04'), Timestamp('2021-07-08 00:45:19'))"
      ]
     },
     "execution_count": 112,
     "metadata": {},
     "output_type": "execute_result"
    }
   ],
   "source": [
    "tmp_df['block_timestamp'].min(), tmp_df['block_timestamp'].max()"
   ]
  },
  {
   "cell_type": "code",
   "execution_count": 132,
   "id": "254d18f6-fccf-4174-8fd1-142a9ef11d58",
   "metadata": {},
   "outputs": [
    {
     "data": {
      "text/plain": [
       "(Timestamp('2021-06-30 23:59:04'), Timestamp('2022-06-30 23:59:28'))"
      ]
     },
     "execution_count": 132,
     "metadata": {},
     "output_type": "execute_result"
    }
   ],
   "source": [
    "tmp_df['block_timestamp'].min(), tmp_df['block_timestamp'].max()"
   ]
  },
  {
   "cell_type": "code",
   "execution_count": 158,
   "id": "82dcff78-22b0-408f-a9ab-2af439d1229a",
   "metadata": {},
   "outputs": [
    {
     "data": {
      "text/plain": [
       "(Timestamp('2021-06-30 23:59:04'), Timestamp('2022-07-03 14:49:46'))"
      ]
     },
     "execution_count": 158,
     "metadata": {},
     "output_type": "execute_result"
    }
   ],
   "source": [
    "tmp_df['block_timestamp'].min(), tmp_df['block_timestamp'].max()"
   ]
  },
  {
   "cell_type": "code",
   "execution_count": 159,
   "id": "511eb266-58a3-458a-a53d-f75f6548456e",
   "metadata": {},
   "outputs": [
    {
     "data": {
      "text/html": [
       "<div>\n",
       "<style scoped>\n",
       "    .dataframe tbody tr th:only-of-type {\n",
       "        vertical-align: middle;\n",
       "    }\n",
       "\n",
       "    .dataframe tbody tr th {\n",
       "        vertical-align: top;\n",
       "    }\n",
       "\n",
       "    .dataframe thead th {\n",
       "        text-align: right;\n",
       "    }\n",
       "</style>\n",
       "<table border=\"1\" class=\"dataframe\">\n",
       "  <thead>\n",
       "    <tr style=\"text-align: right;\">\n",
       "      <th></th>\n",
       "      <th>block_number</th>\n",
       "      <th>block_transactions</th>\n",
       "      <th>block_timestamp</th>\n",
       "    </tr>\n",
       "  </thead>\n",
       "  <tbody>\n",
       "    <tr>\n",
       "      <th>0</th>\n",
       "      <td>12738503</td>\n",
       "      <td>160</td>\n",
       "      <td>2021-06-30 23:59:04</td>\n",
       "    </tr>\n",
       "    <tr>\n",
       "      <th>1</th>\n",
       "      <td>12738504</td>\n",
       "      <td>164</td>\n",
       "      <td>2021-06-30 23:59:15</td>\n",
       "    </tr>\n",
       "    <tr>\n",
       "      <th>2</th>\n",
       "      <td>12738505</td>\n",
       "      <td>142</td>\n",
       "      <td>2021-06-30 23:59:22</td>\n",
       "    </tr>\n",
       "    <tr>\n",
       "      <th>3</th>\n",
       "      <td>12738506</td>\n",
       "      <td>126</td>\n",
       "      <td>2021-06-30 23:59:37</td>\n",
       "    </tr>\n",
       "    <tr>\n",
       "      <th>4</th>\n",
       "      <td>12738507</td>\n",
       "      <td>160</td>\n",
       "      <td>2021-06-30 23:59:44</td>\n",
       "    </tr>\n",
       "    <tr>\n",
       "      <th>...</th>\n",
       "      <td>...</td>\n",
       "      <td>...</td>\n",
       "      <td>...</td>\n",
       "    </tr>\n",
       "    <tr>\n",
       "      <th>62120</th>\n",
       "      <td>15070221</td>\n",
       "      <td>35</td>\n",
       "      <td>2022-07-03 14:49:26</td>\n",
       "    </tr>\n",
       "    <tr>\n",
       "      <th>62121</th>\n",
       "      <td>15070222</td>\n",
       "      <td>141</td>\n",
       "      <td>2022-07-03 14:49:31</td>\n",
       "    </tr>\n",
       "    <tr>\n",
       "      <th>62122</th>\n",
       "      <td>15070223</td>\n",
       "      <td>40</td>\n",
       "      <td>2022-07-03 14:49:38</td>\n",
       "    </tr>\n",
       "    <tr>\n",
       "      <th>62123</th>\n",
       "      <td>15070224</td>\n",
       "      <td>83</td>\n",
       "      <td>2022-07-03 14:49:43</td>\n",
       "    </tr>\n",
       "    <tr>\n",
       "      <th>62124</th>\n",
       "      <td>15070225</td>\n",
       "      <td>6</td>\n",
       "      <td>2022-07-03 14:49:46</td>\n",
       "    </tr>\n",
       "  </tbody>\n",
       "</table>\n",
       "<p>62125 rows × 3 columns</p>\n",
       "</div>"
      ],
      "text/plain": [
       "       block_number  block_transactions     block_timestamp\n",
       "0          12738503                 160 2021-06-30 23:59:04\n",
       "1          12738504                 164 2021-06-30 23:59:15\n",
       "2          12738505                 142 2021-06-30 23:59:22\n",
       "3          12738506                 126 2021-06-30 23:59:37\n",
       "4          12738507                 160 2021-06-30 23:59:44\n",
       "...             ...                 ...                 ...\n",
       "62120      15070221                  35 2022-07-03 14:49:26\n",
       "62121      15070222                 141 2022-07-03 14:49:31\n",
       "62122      15070223                  40 2022-07-03 14:49:38\n",
       "62123      15070224                  83 2022-07-03 14:49:43\n",
       "62124      15070225                   6 2022-07-03 14:49:46\n",
       "\n",
       "[62125 rows x 3 columns]"
      ]
     },
     "execution_count": 159,
     "metadata": {},
     "output_type": "execute_result"
    }
   ],
   "source": [
    "tmp_df"
   ]
  }
 ],
 "metadata": {
  "kernelspec": {
   "display_name": "blockchain:Python",
   "language": "python",
   "name": "conda-env-blockchain-py"
  },
  "language_info": {
   "codemirror_mode": {
    "name": "ipython",
    "version": 3
   },
   "file_extension": ".py",
   "mimetype": "text/x-python",
   "name": "python",
   "nbconvert_exporter": "python",
   "pygments_lexer": "ipython3",
   "version": "3.10.4"
  }
 },
 "nbformat": 4,
 "nbformat_minor": 5
}
