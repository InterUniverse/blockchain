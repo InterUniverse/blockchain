{
 "cells": [
  {
   "cell_type": "markdown",
   "id": "eb786557-6670-4e36-98c4-fb8c458c847e",
   "metadata": {},
   "source": [
    "# Ethereum transactions analysis"
   ]
  },
  {
   "cell_type": "markdown",
   "id": "52df1e03-3552-43b9-913b-d817a2f0458c",
   "metadata": {},
   "source": [
    "## Read the pandas dataframe parquet files"
   ]
  },
  {
   "cell_type": "code",
   "execution_count": 1,
   "id": "c677d6be-40c6-4c13-99f9-8ab8ff1f76ab",
   "metadata": {
    "tags": []
   },
   "outputs": [],
   "source": [
    "import os\n",
    "import json\n",
    "\n",
    "import pandas as pd\n",
    "import numpy as np\n",
    "import matplotlib.pyplot as plt\n",
    "import seaborn as sns\n",
    "import altair as alt"
   ]
  },
  {
   "cell_type": "code",
   "execution_count": 2,
   "id": "38bb3c2f-81c3-48ae-8e6a-06e495c651c9",
   "metadata": {},
   "outputs": [],
   "source": [
    "PATH = '../data/'"
   ]
  },
  {
   "cell_type": "code",
   "execution_count": 3,
   "id": "ddeb2349-48ef-4cd1-8b50-6aa72d235ce4",
   "metadata": {},
   "outputs": [],
   "source": [
    "pd.set_option('display.max_columns', 100, 'display.max_rows', 100, 'display.max_colwidth', 100)\n",
    "#Remove scientific notation\n",
    "# pd.set_option('display.float_format', lambda x: '%.f' % x)\n",
    "#Show number of decimals\n",
    "pd.set_option('display.float_format', '{:.4f}'.format)"
   ]
  },
  {
   "cell_type": "code",
   "execution_count": 4,
   "id": "913ecc8f-b27e-481d-b692-eb11d23b166b",
   "metadata": {},
   "outputs": [],
   "source": [
    "file_dir = os.listdir(PATH)\n",
    "file_list = [os.path.join(PATH, file) for file in file_dir if file.startswith('df_')]"
   ]
  },
  {
   "cell_type": "code",
   "execution_count": 5,
   "id": "6fdec642-5f61-43be-a8bf-42ddc9e4524c",
   "metadata": {},
   "outputs": [],
   "source": [
    "df_raw = pd.concat([pd.read_parquet(file) for file in file_list])"
   ]
  },
  {
   "cell_type": "code",
   "execution_count": 6,
   "id": "01723729-6e20-4090-87a6-e83c03d17d42",
   "metadata": {},
   "outputs": [],
   "source": [
    "df = df_raw.copy()"
   ]
  },
  {
   "cell_type": "markdown",
   "id": "cb73d077-971f-438e-80fc-843b72c81202",
   "metadata": {},
   "source": [
    "### Convert `type` to categorical data type\n",
    "Seems to have reverted to 'int64' after reading from parquet into dataframe."
   ]
  },
  {
   "cell_type": "code",
   "execution_count": 7,
   "id": "0e0ce977-eb36-407e-8c40-ae11c231603c",
   "metadata": {},
   "outputs": [],
   "source": [
    "df['type'] = df['type'].astype('category')"
   ]
  },
  {
   "cell_type": "markdown",
   "id": "d1089c99-b499-47eb-bf27-4a7db67958d0",
   "metadata": {},
   "source": [
    "### Add `eth_value` column\n",
    "Convert `value` which is in Wei (the smallest unit of Ether) to Ether.  \n",
    "1 ETH = 10^18 Wei  \n",
    "1 ETH = 10^9 Gwei"
   ]
  },
  {
   "cell_type": "code",
   "execution_count": 8,
   "id": "d30152d7-f587-439d-ba72-b7dfdf05dec2",
   "metadata": {},
   "outputs": [],
   "source": [
    "df['eth_value'] = df['value'].div(10**18)"
   ]
  },
  {
   "cell_type": "markdown",
   "id": "b61a8adc-abb6-442d-ab15-6851d6553ed8",
   "metadata": {},
   "source": [
    "## Read the address labels json file"
   ]
  },
  {
   "cell_type": "code",
   "execution_count": 10,
   "id": "5d9265e9-b8ba-4492-9598-697ef1091431",
   "metadata": {},
   "outputs": [],
   "source": [
    "# df_labels = pd.concat([df_labels, tmp_labels])\n",
    "# df_labels.to_parquet(f'{PATH}address_labels.parquet')"
   ]
  },
  {
   "cell_type": "code",
   "execution_count": 11,
   "id": "214f0736-2ba1-41f8-8bf0-363c43304e31",
   "metadata": {},
   "outputs": [],
   "source": [
    "df_labels = pd.read_parquet(f'{PATH}address_labels.parquet')"
   ]
  },
  {
   "cell_type": "markdown",
   "id": "766b1d55-744f-4d8c-bfad-3ff5f9b6b8db",
   "metadata": {},
   "source": [
    "## Keep the dataset to 1 to 7 July 2022"
   ]
  },
  {
   "cell_type": "code",
   "execution_count": 11,
   "id": "ca03eecd-15e1-4d5c-a61a-abeead9f033e",
   "metadata": {},
   "outputs": [],
   "source": [
    "df = df.query('block_timestamp.between(\"2022-07-01\", \"2022-07-08\", inclusive=\"both\")')"
   ]
  },
  {
   "cell_type": "markdown",
   "id": "041beddc-428c-4475-8b03-c62f48f34a49",
   "metadata": {},
   "source": [
    "## Read the block transaction counts json file"
   ]
  },
  {
   "cell_type": "code",
   "execution_count": 11,
   "id": "d0c86a54-6928-49e5-adcf-2b5368f81433",
   "metadata": {},
   "outputs": [],
   "source": [
    "block_txn = json.load(open('../data/raw/block_txn_counts.json'))"
   ]
  },
  {
   "cell_type": "code",
   "execution_count": 12,
   "id": "04f7c3f0-42a5-4275-ae50-476091a7062e",
   "metadata": {},
   "outputs": [],
   "source": [
    "df_txn_raw = pd.DataFrame(block_txn)"
   ]
  },
  {
   "cell_type": "code",
   "execution_count": 13,
   "id": "839c8692-e3d2-4415-bcb5-ce8c699f889f",
   "metadata": {},
   "outputs": [],
   "source": [
    "df_txn = df_txn_raw.copy()"
   ]
  },
  {
   "cell_type": "code",
   "execution_count": 14,
   "id": "176bc697-7b6c-4899-a1e4-a1f2ee979d3a",
   "metadata": {},
   "outputs": [],
   "source": [
    "df_txn['block_timestamp'] = df_txn['block_timestamp'].astype('datetime64[s]')\n",
    "df_txn['block_date'] = df_txn['block_timestamp'].astype('datetime64[D]')"
   ]
  },
  {
   "cell_type": "markdown",
   "id": "b8799d9d-6007-4fe6-b79a-1cd80b1e8d09",
   "metadata": {},
   "source": [
    "### Get block numbers for 6 June 2021"
   ]
  },
  {
   "cell_type": "code",
   "execution_count": 16,
   "id": "d6b2b45c-0926-4af3-8c2b-3f509e82fafe",
   "metadata": {},
   "outputs": [],
   "source": [
    "# tmp_df = df_txn.query('block_date == \"2021-07-06\"').sort_values(by='block_number')"
   ]
  },
  {
   "cell_type": "code",
   "execution_count": 16,
   "id": "704afde0-4ec1-41dc-a309-201d540249fe",
   "metadata": {},
   "outputs": [
    {
     "data": {
      "text/plain": [
       "(12770590, 12777014)"
      ]
     },
     "execution_count": 16,
     "metadata": {},
     "output_type": "execute_result"
    }
   ],
   "source": [
    "# tmp_df['block_number'].min(), tmp_df['block_number'].max()"
   ]
  },
  {
   "cell_type": "code",
   "execution_count": 31,
   "id": "0b3e7db8-09d8-4aae-949f-73c83accd5e9",
   "metadata": {},
   "outputs": [],
   "source": [
    "# tmp_missing_blocks = tmp_df['block_number'].tolist()"
   ]
  },
  {
   "cell_type": "code",
   "execution_count": 10,
   "id": "4bdcf121-4e40-4579-8971-8f0f8f4998a1",
   "metadata": {},
   "outputs": [],
   "source": [
    "# Save the list of missing blocks for re-extraction\n",
    "# tmp_str = json.dumps(tmp_missing_blocks)\n",
    "# with open('../data/raw/tmp_missing_blocks.json', 'w') as f:\n",
    "#     f.write(tmp_str)"
   ]
  },
  {
   "cell_type": "markdown",
   "id": "3b7d5c76-8b44-4a1e-95be-fb44b0ca5ab9",
   "metadata": {},
   "source": [
    "### Identify missing transactions in the main dataset"
   ]
  },
  {
   "cell_type": "code",
   "execution_count": 44,
   "id": "94d83ec9-813e-44d8-9453-93a21ff7ed23",
   "metadata": {},
   "outputs": [],
   "source": [
    "# isin_main_array = df.query('block_date.between(\"2022-07-04\",\"2022-07-05\", inclusive=\"both\")')['blockNumber'].unique().tolist()"
   ]
  },
  {
   "cell_type": "code",
   "execution_count": 46,
   "id": "83963eec-86b8-4f73-9394-5fe70655cedd",
   "metadata": {},
   "outputs": [],
   "source": [
    "# isin_txn_array = df_txn.query('block_date.between(\"2022-07-04\",\"2022-07-05\", inclusive=\"both\")')['block_number'].unique().tolist()"
   ]
  },
  {
   "cell_type": "code",
   "execution_count": 48,
   "id": "4858f7bc-86ec-417c-9506-09da4cd0541b",
   "metadata": {},
   "outputs": [
    {
     "data": {
      "text/plain": [
       "470"
      ]
     },
     "execution_count": 48,
     "metadata": {},
     "output_type": "execute_result"
    }
   ],
   "source": [
    "# missing 470 blocks from the main dataset\n",
    "# len(isin_txn_array) - len(isin_main_array)"
   ]
  },
  {
   "cell_type": "code",
   "execution_count": 49,
   "id": "85b7ec01-9e10-4ba6-a086-2278e3fb4e9d",
   "metadata": {},
   "outputs": [],
   "source": [
    "# missing_list = [i for i in isin_txn_array if (i not in isin_main_array) or (i not in isin_txn_array)]"
   ]
  },
  {
   "cell_type": "code",
   "execution_count": 12,
   "id": "fd2f53de-14f1-402e-b70b-66676333f4e0",
   "metadata": {},
   "outputs": [],
   "source": [
    "#Save the list of missing blocks for re-extraction\n",
    "# tmp_str = json.dumps(tmp_missing_blocks)\n",
    "# with open('../data/raw/tmp_missing_blocks.json', 'w') as f:\n",
    "#     f.write(tmp_str)"
   ]
  },
  {
   "cell_type": "markdown",
   "id": "1430edbf-b025-4d2b-ae63-1e7f95c0be80",
   "metadata": {},
   "source": [
    "#### Data fields\n",
    "- `hash` - Hash of the transaction\n",
    "- `blockHash` - Hash of the block\n",
    "- `blockNumber` - Block number\n",
    "- `from` - Address of the sender\n",
    "- `gas` - Gas provided by the sender\n",
    "- `gasPrice` - Gas price provided by the sender in Wei\n",
    "- `input` - The data sent along with the transaction. Commonly used as part of contract interaction or as a message sent to the recipient.\n",
    "- `nonce` - The number of transactions made by the sender prior to this one\n",
    "- `r` - The Elliptic Curve Digital Signature Algorithm (ECDSA) signature r. The standardised R field of the signature. See: https://openethereum.github.io/JSONRPC\n",
    "- `s` - The Elliptic Curve Digital Signature Algorithm (ECDSA) signature s\n",
    "- `to` - Address of the receiver\n",
    "- `transactionIndex` - Integer of the transactions index position in the block\n",
    "- `type` - Overtime, Ethereum Improvement Proposals (EIPs) have changed what a valid transaction looks like, whilst maintaining a high level of backwards compatibility with other transaction types. Today, the main types of transactions are legacy transactions and typed transactions (i.e. Type 1, Type 2).  \n",
    "See https://mycelium.xyz/research/the-journey-of-an-ethereum-transaction/.  \n",
    "Also see https://docs.dune.com/data-tables/data-tables/raw-data/ethereum-data#ethereum.transactions. \n",
    "   - 0: 'legacy' \n",
    "   - 1: 'accessList/Type 1' \n",
    "   - 2: 'DynamicFee/Type 2'    \n",
    "- `v` - The Elliptic Curve Digital Signature Algorithm (ECDSA) recovery id. The standardised V field of the signature. See: https://openethereum.github.io/JSONRPC\n",
    "- `value` - The amount of ether transferred in Wei. 1 ETH = 10^18 Wei. 1 ETH = 10^9 Gwei.\n",
    "- `accessList` - Contains addresses and storage keys that will be accessed. These are fields from legacy transactions, EIP-2930. See: https://openethereum.github.io/JSONRPC\n",
    "- `chainId` - Value used in replay-protected transaction signing as introduced by EIP-155\n",
    "- `maxFeePerGas` - The maximum fee per gas the transaction sender is willing to pay total (introduced by EIP1559). For detailed explanation, refer to https://docs.alchemy.com/alchemy/guides/eip-1559/maxpriorityfeepergas-vs-maxfeepergas\n",
    "- `maxPriorityFeePerGas` - The maximum fee per gas the transaction sender is willing to pay total (introduced by EIP1559) Refer to https://docs.alchemy.com/alchemy/guides/eip-1559/maxpriorityfeepergas-vs-maxfeepergas\n",
    "- `block_timestamp` - Timestamp of the block\n",
    "\n",
    "References:  \n",
    "https://docs.dune.com/data-tables/data-tables/raw-data/ethereum-data#ethereum.transactions  \n",
    "The \"bigquery-public-data.crypto_ethereum.transactions\" column description  \n",
    "https://ethereum.org/en/developers/docs/apis/json-rpc/  \n",
    "https://docs.alchemy.com/alchemy/apis/ethereum/eth-gettransactionbyhash  "
   ]
  },
  {
   "cell_type": "markdown",
   "id": "02c9f4c8-b9e7-478b-bfe6-36c6d89766ea",
   "metadata": {
    "tags": []
   },
   "source": [
    "### We have the following entities in our domain:\n",
    "- Blocks\n",
    "- Transaction\n",
    "- Value and Fees\n",
    "- Account\n",
    "\n",
    "The process/relationship:\n",
    "- A block contains multiple transactions\n",
    "- A transaction is a request for computation on the Ethereum Virtual Machine (EVM) and it is a fulfilled transaction request and the associated change in the EVM.  \n",
    "When a request is broadcast, other participants on the network verify, validate and carry out the computation.  \n",
    "A transaction refers to an action initiated by an externally owned account, in other words, managed by a human not a contract (smart contract, ie. controlled by code).\n",
    "A transaction requires a fee and must be mined to be valid.\n",
    "- An account can be externally-owned or a contract (smart contract). An account is not a wallet. An account is the keypair for a user-owned Ethereum account. A wallet is an interface or application that lets you interact with your Ethereum account\n",
    "\n",
    "References:\n",
    "https://ethereum.org/en/developers/docs/intro-to-ethereum/  \n",
    "https://ethereum.org/en/developers/docs/accounts/#a-note-on-wallets"
   ]
  },
  {
   "cell_type": "markdown",
   "id": "7cdf29c3-a8c7-4411-87a2-b7d21538bdfe",
   "metadata": {},
   "source": [
    "### Externally-owned account vs contract (smart contract)\n",
    "References:   \n",
    "https://ethereum.org/en/developers/docs/accounts/#types-of-account  \n",
    "https://info.etherscan.com/understanding-ethereum-accounts\n",
    "- Externally-owned (controlled by anyone with private keys):\n",
    "  - Creating an account costs nothing\n",
    "  - Can initiate transactions\n",
    "  - Transactions between externally-owned accounts can only be ETH/token transfers\n",
    "- Contract (smart contract):\n",
    "  - Creating a contract has a cost because you are using network storage\n",
    "  - Can only send transactions in response to receiving a transaction\n",
    "  - Transactions from an external account to a contract account can trigger code which can execute many different actions, such as transferring tokens or even creating a new contract"
   ]
  },
  {
   "cell_type": "markdown",
   "id": "96ae263f-8955-4b83-a66b-a25feabf81a4",
   "metadata": {},
   "source": [
    "### Types of transactions\n",
    "References:  \n",
    "https://ethereum.org/en/developers/docs/transactions/#types-of-transactions  \n",
    "https://medium.com/coinmonks/discovering-the-secrets-of-an-ethereum-transaction-64febb00935c  \n",
    "- Regular transactions: a transaction from one account to another.\n",
    "  - The `input` field is empty if it is a transaction from one account to another.\n",
    "- Contract deployment transactions: a transaction without a `to` address, and the data field is used for the contract code.\n",
    "  - The `to` address is empty, if it is a smart contract deployment and `input` field must be filled.\n",
    "  - If it is a contract creation, the `input` will contain information about which function to call and the arguments. This will require decoding to identify the details.\n",
    "- Execution of a contract: a transaction that interacts with a deployed smart contract. In this case, 'to' address is the smart contract address\n",
    "  - This means that when the `to` address is not empty, it could be a transaction to a smart contract address executed by a smart contract."
   ]
  },
  {
   "cell_type": "markdown",
   "id": "9ccc44a7-6f0c-4408-bbb0-d18aa2277e34",
   "metadata": {},
   "source": [
    "### We have the following information about our entities:\n",
    "- Blocks: `blockHash`, `blockNumber`, `block_timestamp`\n",
    "- Transaction: `hash`, `from`, `to`, `transactionIndex`, `type`, `input`, `chainId`\n",
    "- Value and Fees: `value`, `gas`, `gasPrice`, `maxFeePerGas`, `maxPriorityFeePerGas`\n",
    "- Account: `nonce`"
   ]
  },
  {
   "cell_type": "markdown",
   "id": "ec2963ef-2da1-477c-93c3-37ca4cf355be",
   "metadata": {},
   "source": [
    "## Univariate analysis"
   ]
  },
  {
   "cell_type": "code",
   "execution_count": 11,
   "id": "079282dd-7619-47cc-9d4c-732f2ec8ea5b",
   "metadata": {},
   "outputs": [
    {
     "name": "stdout",
     "output_type": "stream",
     "text": [
      "<class 'pandas.core.frame.DataFrame'>\n",
      "Int64Index: 8212460 entries, 0 to 3011962\n",
      "Data columns (total 16 columns):\n",
      " #   Column                Dtype         \n",
      "---  ------                -----         \n",
      " 0   hash                  object        \n",
      " 1   blockHash             object        \n",
      " 2   blockNumber           int64         \n",
      " 3   chainId               float64       \n",
      " 4   from                  object        \n",
      " 5   gas                   int64         \n",
      " 6   gasPrice              int64         \n",
      " 7   input                 object        \n",
      " 8   maxFeePerGas          float64       \n",
      " 9   maxPriorityFeePerGas  float64       \n",
      " 10  nonce                 int64         \n",
      " 11  to                    object        \n",
      " 12  transactionIndex      int64         \n",
      " 13  type                  category      \n",
      " 14  value                 float64       \n",
      " 15  block_timestamp       datetime64[ns]\n",
      "dtypes: category(1), datetime64[ns](1), float64(4), int64(5), object(5)\n",
      "memory usage: 1010.3+ MB\n"
     ]
    }
   ],
   "source": [
    "df.info()"
   ]
  },
  {
   "cell_type": "code",
   "execution_count": 17,
   "id": "bdc85166-0d3d-454b-8a6d-10c7ae8c0057",
   "metadata": {},
   "outputs": [
    {
     "data": {
      "text/html": [
       "<div>\n",
       "<style scoped>\n",
       "    .dataframe tbody tr th:only-of-type {\n",
       "        vertical-align: middle;\n",
       "    }\n",
       "\n",
       "    .dataframe tbody tr th {\n",
       "        vertical-align: top;\n",
       "    }\n",
       "\n",
       "    .dataframe thead th {\n",
       "        text-align: right;\n",
       "    }\n",
       "</style>\n",
       "<table border=\"1\" class=\"dataframe\">\n",
       "  <thead>\n",
       "    <tr style=\"text-align: right;\">\n",
       "      <th></th>\n",
       "      <th>hash</th>\n",
       "      <th>blockHash</th>\n",
       "      <th>blockNumber</th>\n",
       "      <th>chainId</th>\n",
       "      <th>from</th>\n",
       "      <th>gas</th>\n",
       "      <th>gasPrice</th>\n",
       "      <th>input</th>\n",
       "      <th>maxFeePerGas</th>\n",
       "      <th>maxPriorityFeePerGas</th>\n",
       "      <th>nonce</th>\n",
       "      <th>to</th>\n",
       "      <th>transactionIndex</th>\n",
       "      <th>type</th>\n",
       "      <th>value</th>\n",
       "      <th>block_timestamp</th>\n",
       "    </tr>\n",
       "  </thead>\n",
       "  <tbody>\n",
       "    <tr>\n",
       "      <th>0</th>\n",
       "      <td>0x4ba4952586cd471bf7be6f5bce210a52fb1139e279994bbfe05353884b77f325</td>\n",
       "      <td>0xc21f383b86f543e0038ada2a3554bf2b7ced841fad4363871f1fd8400721aff9</td>\n",
       "      <td>15053949</td>\n",
       "      <td>1.0</td>\n",
       "      <td>0xea674fdde714fd979de3edf0f56aa9716b898ec8</td>\n",
       "      <td>250000</td>\n",
       "      <td>17082324542</td>\n",
       "      <td>0x</td>\n",
       "      <td>3.805209e+10</td>\n",
       "      <td>1.000000e+09</td>\n",
       "      <td>43640737</td>\n",
       "      <td>0x40329687913cf9d84e3132cb4d8d61130704599d</td>\n",
       "      <td>0</td>\n",
       "      <td>2</td>\n",
       "      <td>9.971602e+16</td>\n",
       "      <td>2022-07-01 02:36:35</td>\n",
       "    </tr>\n",
       "    <tr>\n",
       "      <th>1</th>\n",
       "      <td>0xd04e6bed821f4c616a400d5bb43a525dbad01fff53b2fb42c9a40d448df371c4</td>\n",
       "      <td>0xc21f383b86f543e0038ada2a3554bf2b7ced841fad4363871f1fd8400721aff9</td>\n",
       "      <td>15053949</td>\n",
       "      <td>1.0</td>\n",
       "      <td>0xea674fdde714fd979de3edf0f56aa9716b898ec8</td>\n",
       "      <td>250000</td>\n",
       "      <td>17082324542</td>\n",
       "      <td>0x</td>\n",
       "      <td>3.805209e+10</td>\n",
       "      <td>1.000000e+09</td>\n",
       "      <td>43640738</td>\n",
       "      <td>0xb55ec04cbda8d2d602f3108ddb66496a3cb1ee9b</td>\n",
       "      <td>1</td>\n",
       "      <td>2</td>\n",
       "      <td>9.962975e+16</td>\n",
       "      <td>2022-07-01 02:36:35</td>\n",
       "    </tr>\n",
       "    <tr>\n",
       "      <th>2</th>\n",
       "      <td>0xc1f95ac0a6f41e9a53713193e83af95694052181a2ec9b788ab00ab389412cb6</td>\n",
       "      <td>0xc21f383b86f543e0038ada2a3554bf2b7ced841fad4363871f1fd8400721aff9</td>\n",
       "      <td>15053949</td>\n",
       "      <td>1.0</td>\n",
       "      <td>0xea674fdde714fd979de3edf0f56aa9716b898ec8</td>\n",
       "      <td>250000</td>\n",
       "      <td>17082324542</td>\n",
       "      <td>0x</td>\n",
       "      <td>3.805209e+10</td>\n",
       "      <td>1.000000e+09</td>\n",
       "      <td>43640739</td>\n",
       "      <td>0xdd27415aa937d75f13bf5877f7cbf092e42612b3</td>\n",
       "      <td>2</td>\n",
       "      <td>2</td>\n",
       "      <td>1.734777e+16</td>\n",
       "      <td>2022-07-01 02:36:35</td>\n",
       "    </tr>\n",
       "  </tbody>\n",
       "</table>\n",
       "</div>"
      ],
      "text/plain": [
       "                                                                 hash  \\\n",
       "0  0x4ba4952586cd471bf7be6f5bce210a52fb1139e279994bbfe05353884b77f325   \n",
       "1  0xd04e6bed821f4c616a400d5bb43a525dbad01fff53b2fb42c9a40d448df371c4   \n",
       "2  0xc1f95ac0a6f41e9a53713193e83af95694052181a2ec9b788ab00ab389412cb6   \n",
       "\n",
       "                                                            blockHash  \\\n",
       "0  0xc21f383b86f543e0038ada2a3554bf2b7ced841fad4363871f1fd8400721aff9   \n",
       "1  0xc21f383b86f543e0038ada2a3554bf2b7ced841fad4363871f1fd8400721aff9   \n",
       "2  0xc21f383b86f543e0038ada2a3554bf2b7ced841fad4363871f1fd8400721aff9   \n",
       "\n",
       "   blockNumber  chainId                                        from     gas  \\\n",
       "0     15053949      1.0  0xea674fdde714fd979de3edf0f56aa9716b898ec8  250000   \n",
       "1     15053949      1.0  0xea674fdde714fd979de3edf0f56aa9716b898ec8  250000   \n",
       "2     15053949      1.0  0xea674fdde714fd979de3edf0f56aa9716b898ec8  250000   \n",
       "\n",
       "      gasPrice input  maxFeePerGas  maxPriorityFeePerGas     nonce  \\\n",
       "0  17082324542    0x  3.805209e+10          1.000000e+09  43640737   \n",
       "1  17082324542    0x  3.805209e+10          1.000000e+09  43640738   \n",
       "2  17082324542    0x  3.805209e+10          1.000000e+09  43640739   \n",
       "\n",
       "                                           to  transactionIndex type  \\\n",
       "0  0x40329687913cf9d84e3132cb4d8d61130704599d                 0    2   \n",
       "1  0xb55ec04cbda8d2d602f3108ddb66496a3cb1ee9b                 1    2   \n",
       "2  0xdd27415aa937d75f13bf5877f7cbf092e42612b3                 2    2   \n",
       "\n",
       "          value     block_timestamp  \n",
       "0  9.971602e+16 2022-07-01 02:36:35  \n",
       "1  9.962975e+16 2022-07-01 02:36:35  \n",
       "2  1.734777e+16 2022-07-01 02:36:35  "
      ]
     },
     "execution_count": 17,
     "metadata": {},
     "output_type": "execute_result"
    }
   ],
   "source": [
    "df.head(3)"
   ]
  },
  {
   "cell_type": "markdown",
   "id": "b32ee5b7-1215-4d72-a612-8cc074c0c5d2",
   "metadata": {},
   "source": [
    "How many blocks are there in our dataset?"
   ]
  },
  {
   "cell_type": "code",
   "execution_count": 23,
   "id": "20e197c6-d8eb-42c8-b8fa-0b89abf462f9",
   "metadata": {},
   "outputs": [
    {
     "data": {
      "text/plain": [
       "43706"
      ]
     },
     "execution_count": 23,
     "metadata": {},
     "output_type": "execute_result"
    }
   ],
   "source": [
    "df['blockNumber'].nunique()"
   ]
  },
  {
   "cell_type": "markdown",
   "id": "bce5ee0d-e63e-4f70-9d8a-31dc9b8a7b2d",
   "metadata": {},
   "source": [
    "How many transactions?"
   ]
  },
  {
   "cell_type": "code",
   "execution_count": 21,
   "id": "c43017a6-1665-481a-af9e-40397689cb10",
   "metadata": {},
   "outputs": [
    {
     "data": {
      "text/plain": [
       "8212460"
      ]
     },
     "execution_count": 21,
     "metadata": {},
     "output_type": "execute_result"
    }
   ],
   "source": [
    "df.shape[0]"
   ]
  },
  {
   "cell_type": "markdown",
   "id": "3a706f35-a2e8-45c7-933a-031b425722c3",
   "metadata": {},
   "source": [
    "How many senders?"
   ]
  },
  {
   "cell_type": "code",
   "execution_count": 22,
   "id": "22b4887e-fdab-4758-8c45-88aed60e120a",
   "metadata": {},
   "outputs": [
    {
     "data": {
      "text/plain": [
       "1782142"
      ]
     },
     "execution_count": 22,
     "metadata": {},
     "output_type": "execute_result"
    }
   ],
   "source": [
    "df['from'].nunique()"
   ]
  },
  {
   "cell_type": "markdown",
   "id": "b48416ba-0b1b-4a84-a849-9c2233086a70",
   "metadata": {},
   "source": [
    "How many recipients?"
   ]
  },
  {
   "cell_type": "code",
   "execution_count": 24,
   "id": "3c05555f-00f5-4f21-bdab-05670233c6a7",
   "metadata": {},
   "outputs": [
    {
     "data": {
      "text/plain": [
       "1311994"
      ]
     },
     "execution_count": 24,
     "metadata": {},
     "output_type": "execute_result"
    }
   ],
   "source": [
    "df['to'].nunique()"
   ]
  },
  {
   "cell_type": "code",
   "execution_count": 37,
   "id": "078161c4-95d9-4971-bbbd-6cf0a9374109",
   "metadata": {},
   "outputs": [],
   "source": [
    "pd.set_option('display.float_format', lambda x: '%.f' % x)"
   ]
  },
  {
   "cell_type": "markdown",
   "id": "7422d135-b980-461a-890d-1f2c5add46d9",
   "metadata": {},
   "source": [
    "What is the minimum and maximum `gas`?"
   ]
  },
  {
   "cell_type": "code",
   "execution_count": 38,
   "id": "a388ffc4-ecb6-4502-b39a-2b455a5827a0",
   "metadata": {},
   "outputs": [
    {
     "data": {
      "text/plain": [
       "count    8212460\n",
       "mean      163931\n",
       "std       385066\n",
       "min        21000\n",
       "25%        31500\n",
       "50%        90000\n",
       "75%       207128\n",
       "max     30029295\n",
       "Name: gas, dtype: float64"
      ]
     },
     "execution_count": 38,
     "metadata": {},
     "output_type": "execute_result"
    }
   ],
   "source": [
    "df['gas'].describe()"
   ]
  },
  {
   "cell_type": "code",
   "execution_count": null,
   "id": "56a6c195-66a3-4843-bcef-860b0577cd39",
   "metadata": {},
   "outputs": [
    {
     "data": {
      "text/html": [
       "<div>\n",
       "<style scoped>\n",
       "    .dataframe tbody tr th:only-of-type {\n",
       "        vertical-align: middle;\n",
       "    }\n",
       "\n",
       "    .dataframe tbody tr th {\n",
       "        vertical-align: top;\n",
       "    }\n",
       "\n",
       "    .dataframe thead th {\n",
       "        text-align: right;\n",
       "    }\n",
       "</style>\n",
       "<table border=\"1\" class=\"dataframe\">\n",
       "  <thead>\n",
       "    <tr style=\"text-align: right;\">\n",
       "      <th></th>\n",
       "      <th>hash</th>\n",
       "      <th>blockHash</th>\n",
       "      <th>blockNumber</th>\n",
       "      <th>chainId</th>\n",
       "      <th>from</th>\n",
       "      <th>gas</th>\n",
       "      <th>gasPrice</th>\n",
       "      <th>input</th>\n",
       "      <th>maxFeePerGas</th>\n",
       "      <th>maxPriorityFeePerGas</th>\n",
       "      <th>nonce</th>\n",
       "      <th>to</th>\n",
       "      <th>transactionIndex</th>\n",
       "      <th>type</th>\n",
       "      <th>value</th>\n",
       "      <th>block_timestamp</th>\n",
       "    </tr>\n",
       "  </thead>\n",
       "  <tbody>\n",
       "    <tr>\n",
       "      <th>642917</th>\n",
       "      <td>0xdd6d61a22ede7b658487fd45bb645f1dfecab607d48e2e1e50cf0915e3d18abf</td>\n",
       "      <td>0x35ffb57b42bb69b018f95c39b7b0e84bac7e91d8c854149d7192eb20912b854d</td>\n",
       "      <td>15078507</td>\n",
       "      <td>1</td>\n",
       "      <td>0x6d72dc1b254fb818a1382a05212466b83424e469</td>\n",
       "      <td>30029295</td>\n",
       "      <td>25375730731</td>\n",
       "      <td>0x8fe5d2e90000000000000000000000000000000000000000000000000000000000e611910000000000000000000000...</td>\n",
       "      <td>37015077777</td>\n",
       "      <td>7000000000</td>\n",
       "      <td>37</td>\n",
       "      <td>0x30f7bf69d92828441f5a6bfcf818df25deb2c4b4</td>\n",
       "      <td>0</td>\n",
       "      <td>2</td>\n",
       "      <td>0</td>\n",
       "      <td>2022-07-04 21:33:21</td>\n",
       "    </tr>\n",
       "  </tbody>\n",
       "</table>\n",
       "</div>"
      ],
      "text/plain": [
       "                                                                      hash  \\\n",
       "642917  0xdd6d61a22ede7b658487fd45bb645f1dfecab607d48e2e1e50cf0915e3d18abf   \n",
       "\n",
       "                                                                 blockHash  \\\n",
       "642917  0x35ffb57b42bb69b018f95c39b7b0e84bac7e91d8c854149d7192eb20912b854d   \n",
       "\n",
       "        blockNumber  chainId                                        from  \\\n",
       "642917     15078507        1  0x6d72dc1b254fb818a1382a05212466b83424e469   \n",
       "\n",
       "             gas     gasPrice  \\\n",
       "642917  30029295  25375730731   \n",
       "\n",
       "                                                                                                      input  \\\n",
       "642917  0x8fe5d2e90000000000000000000000000000000000000000000000000000000000e611910000000000000000000000...   \n",
       "\n",
       "        maxFeePerGas  maxPriorityFeePerGas  nonce  \\\n",
       "642917   37015077777            7000000000     37   \n",
       "\n",
       "                                                to  transactionIndex type  \\\n",
       "642917  0x30f7bf69d92828441f5a6bfcf818df25deb2c4b4                 0    2   \n",
       "\n",
       "        value     block_timestamp  \n",
       "642917      0 2022-07-04 21:33:21  "
      ]
     },
     "execution_count": 46,
     "metadata": {},
     "output_type": "execute_result"
    }
   ],
   "source": [
    "df.query('gas == 30029295')"
   ]
  },
  {
   "cell_type": "markdown",
   "id": "a30dbe86-5c50-4137-ba4a-130a90b4d3f4",
   "metadata": {},
   "source": [
    "What is the minimum and maximum `gasPrice`?"
   ]
  },
  {
   "cell_type": "code",
   "execution_count": 27,
   "id": "aad9509e-cae1-4411-9bed-603fed049daa",
   "metadata": {},
   "outputs": [
    {
     "data": {
      "text/plain": [
       "count    8.212460e+06\n",
       "mean     3.015800e+10\n",
       "std      1.227708e+11\n",
       "min      3.717514e+09\n",
       "25%      1.455000e+10\n",
       "50%      2.138334e+10\n",
       "75%      3.489424e+10\n",
       "max      2.294510e+14\n",
       "Name: gasPrice, dtype: float64"
      ]
     },
     "execution_count": 27,
     "metadata": {},
     "output_type": "execute_result"
    }
   ],
   "source": [
    "df['gasPrice'].describe()"
   ]
  },
  {
   "cell_type": "code",
   "execution_count": 28,
   "id": "c3992d70-a45b-4fae-9a72-aad8014deac8",
   "metadata": {},
   "outputs": [
    {
     "data": {
      "text/plain": [
       "count    8.212460e+06\n",
       "mean     1.317989e+06\n",
       "std      5.830671e+06\n",
       "min      0.000000e+00\n",
       "25%      1.500000e+01\n",
       "50%      1.830000e+02\n",
       "75%      1.693500e+04\n",
       "max      4.377498e+07\n",
       "Name: nonce, dtype: float64"
      ]
     },
     "execution_count": 28,
     "metadata": {},
     "output_type": "execute_result"
    }
   ],
   "source": [
    "df['nonce'].describe()"
   ]
  },
  {
   "cell_type": "code",
   "execution_count": 29,
   "id": "ad0e86c6-fcbf-4d51-a973-335100b17996",
   "metadata": {},
   "outputs": [
    {
     "data": {
      "text/plain": [
       "count    8.212460e+06\n",
       "mean     1.383877e+02\n",
       "std      1.141302e+02\n",
       "min      0.000000e+00\n",
       "25%      5.000000e+01\n",
       "50%      1.120000e+02\n",
       "75%      2.020000e+02\n",
       "max      1.307000e+03\n",
       "Name: transactionIndex, dtype: float64"
      ]
     },
     "execution_count": 29,
     "metadata": {},
     "output_type": "execute_result"
    }
   ],
   "source": [
    "df['transactionIndex'].describe()"
   ]
  },
  {
   "cell_type": "code",
   "execution_count": 30,
   "id": "b663fba2-cf56-49f8-81cb-fa1ad660453e",
   "metadata": {},
   "outputs": [
    {
     "data": {
      "text/plain": [
       "2    6881664\n",
       "0    1315335\n",
       "1      15461\n",
       "Name: type, dtype: int64"
      ]
     },
     "execution_count": 30,
     "metadata": {},
     "output_type": "execute_result"
    }
   ],
   "source": [
    "df['type'].value_counts(dropna=False)"
   ]
  },
  {
   "cell_type": "code",
   "execution_count": 31,
   "id": "6a8d1f3b-f1ba-41f3-83ca-cc2499048410",
   "metadata": {},
   "outputs": [
    {
     "data": {
      "text/plain": [
       "2    0.837954\n",
       "0    0.160163\n",
       "1    0.001883\n",
       "Name: type, dtype: float64"
      ]
     },
     "execution_count": 31,
     "metadata": {},
     "output_type": "execute_result"
    }
   ],
   "source": [
    "df['type'].value_counts(dropna=False, normalize=True)"
   ]
  },
  {
   "cell_type": "code",
   "execution_count": 32,
   "id": "efa421ec-44e7-49f7-9579-b40d55b452bf",
   "metadata": {},
   "outputs": [],
   "source": [
    "# pd.set_option('display.float_format', lambda x: '%.f' % x)"
   ]
  },
  {
   "cell_type": "code",
   "execution_count": 33,
   "id": "4abe0bb1-5f51-4345-8ab6-c8de54990308",
   "metadata": {},
   "outputs": [
    {
     "data": {
      "text/plain": [
       "count    8.212460e+06\n",
       "mean     1.697553e+18\n",
       "std      1.871322e+20\n",
       "min      0.000000e+00\n",
       "25%      0.000000e+00\n",
       "50%      0.000000e+00\n",
       "75%      4.800000e+16\n",
       "max      1.500000e+23\n",
       "Name: value, dtype: float64"
      ]
     },
     "execution_count": 33,
     "metadata": {},
     "output_type": "execute_result"
    }
   ],
   "source": [
    "df['value'].describe()"
   ]
  },
  {
   "cell_type": "code",
   "execution_count": 34,
   "id": "42aad4e2-5e51-4e2e-a1c0-075e308345ae",
   "metadata": {},
   "outputs": [
    {
     "data": {
      "text/plain": [
       "1.0    0.839837\n",
       "NaN    0.160163\n",
       "Name: chainId, dtype: float64"
      ]
     },
     "execution_count": 34,
     "metadata": {},
     "output_type": "execute_result"
    }
   ],
   "source": [
    "df['chainId'].value_counts(dropna=False, normalize=True)"
   ]
  },
  {
   "cell_type": "code",
   "execution_count": 44,
   "id": "04d33dfa-7091-4d66-83e8-f5de4236177e",
   "metadata": {},
   "outputs": [],
   "source": [
    "# pd.set_option('display.float_format', lambda x: '%.f' % x)"
   ]
  },
  {
   "cell_type": "code",
   "execution_count": 35,
   "id": "0fecad50-bf04-41d8-b97f-3177124bf284",
   "metadata": {},
   "outputs": [
    {
     "data": {
      "text/plain": [
       "count    6.881664e+06\n",
       "mean     6.971994e+10\n",
       "std      1.914036e+11\n",
       "min      3.717514e+09\n",
       "25%      2.200000e+10\n",
       "50%      3.469551e+10\n",
       "75%      6.196162e+10\n",
       "max      2.294510e+14\n",
       "Name: maxFeePerGas, dtype: float64"
      ]
     },
     "execution_count": 35,
     "metadata": {},
     "output_type": "execute_result"
    }
   ],
   "source": [
    "df['maxFeePerGas'].describe()"
   ]
  },
  {
   "cell_type": "code",
   "execution_count": 36,
   "id": "5bc3c75e-508e-4f1f-a3eb-998e8ef3b363",
   "metadata": {},
   "outputs": [
    {
     "data": {
      "text/plain": [
       "count    6.881664e+06\n",
       "mean     5.248661e+09\n",
       "std      1.149491e+11\n",
       "min      0.000000e+00\n",
       "25%      1.500000e+09\n",
       "50%      2.000000e+09\n",
       "75%      2.500000e+09\n",
       "max      2.294510e+14\n",
       "Name: maxPriorityFeePerGas, dtype: float64"
      ]
     },
     "execution_count": 36,
     "metadata": {},
     "output_type": "execute_result"
    }
   ],
   "source": [
    "df['maxPriorityFeePerGas'].describe()"
   ]
  },
  {
   "cell_type": "markdown",
   "id": "b459396b-6f0f-46cf-9e18-6f10d1657b2a",
   "metadata": {},
   "source": [
    "## Overall figures\n",
    "In this analysis, we will not look into:  \n",
    "The `r`, `s` and `v` which are the ECDSA signatures.  \n",
    "`accessList` which contains addresses and storage keys from legacy transactions. The field also needs to be flattened.  \n",
    "All transactions are included regardless of status, ie. success or failed (no field to determine this in the dataset).\n",
    "- How many blocks are there in our dataset?  \n",
    "43,706\n",
    "- How many transactions?  \n",
    "8,212,460\n",
    "- How many senders:  \n",
    "1,782,142\n",
    "- How many recipients:  \n",
    "1,311,992\n",
    "- What are the categories in `type`?  \n",
    "84% of transactions are 2, 16% are 0 and 0.002% are 1\n",
    "- What are the categories in `chainId`\n",
    "84% are 1 and 16% are missing the `chainId`\n",
    "- Which dates were these transactions executed?\n",
    "2022-07-01 to 2022-07-07"
   ]
  },
  {
   "cell_type": "markdown",
   "id": "d7120603-18d0-4aa4-8cc2-f06ac7c98f58",
   "metadata": {},
   "source": [
    "## Key Findings on Overall Figures\n",
    "- There are more senders than recipients. Why?\n",
    "- The 84% of transactions has a `type` of 2 and 16% are 0. The 84% vs 16% split is the same as `chainId` split. What is the relationship? \n",
    "- An example of an outlier with `gas` = 30,029,295 was a failed transaction, see `hash` = '0xdd6d61a22ede7b658487fd45bb645f1dfecab607d48e2e1e50cf0915e3d18abf'. Note that the `value` is 0. Also confirmed in https://etherscan.io/tx/0xdd6d61a22ede7b658487fd45bb645f1dfecab607d48e2e1e50cf0915e3d18abf. Comments in etherscan says \"WRONG_BLOCK_NUMBER\" but another checking the Alchemy API with eth_getTransactionByHash confirmed it is correct block number."
   ]
  },
  {
   "cell_type": "markdown",
   "id": "f01360fe-3811-4d90-841e-ada2d5cf0c8b",
   "metadata": {},
   "source": [
    "How many blocks per day?"
   ]
  },
  {
   "cell_type": "code",
   "execution_count": 12,
   "id": "4a3d04bd-28d4-4036-8f12-ed1eb87d8e11",
   "metadata": {},
   "outputs": [
    {
     "data": {
      "text/html": [
       "<div>\n",
       "<style scoped>\n",
       "    .dataframe tbody tr th:only-of-type {\n",
       "        vertical-align: middle;\n",
       "    }\n",
       "\n",
       "    .dataframe tbody tr th {\n",
       "        vertical-align: top;\n",
       "    }\n",
       "\n",
       "    .dataframe thead th {\n",
       "        text-align: right;\n",
       "    }\n",
       "</style>\n",
       "<table border=\"1\" class=\"dataframe\">\n",
       "  <thead>\n",
       "    <tr style=\"text-align: right;\">\n",
       "      <th></th>\n",
       "      <th>blocks</th>\n",
       "    </tr>\n",
       "    <tr>\n",
       "      <th>block_timestamp</th>\n",
       "      <th></th>\n",
       "    </tr>\n",
       "  </thead>\n",
       "  <tbody>\n",
       "    <tr>\n",
       "      <th>2022-07-01</th>\n",
       "      <td>6253</td>\n",
       "    </tr>\n",
       "    <tr>\n",
       "      <th>2022-07-02</th>\n",
       "      <td>6227</td>\n",
       "    </tr>\n",
       "    <tr>\n",
       "      <th>2022-07-03</th>\n",
       "      <td>6315</td>\n",
       "    </tr>\n",
       "    <tr>\n",
       "      <th>2022-07-04</th>\n",
       "      <td>6200</td>\n",
       "    </tr>\n",
       "    <tr>\n",
       "      <th>2022-07-05</th>\n",
       "      <td>6242</td>\n",
       "    </tr>\n",
       "    <tr>\n",
       "      <th>2022-07-06</th>\n",
       "      <td>6280</td>\n",
       "    </tr>\n",
       "    <tr>\n",
       "      <th>2022-07-07</th>\n",
       "      <td>6189</td>\n",
       "    </tr>\n",
       "  </tbody>\n",
       "</table>\n",
       "</div>"
      ],
      "text/plain": [
       "                 blocks\n",
       "block_timestamp        \n",
       "2022-07-01         6253\n",
       "2022-07-02         6227\n",
       "2022-07-03         6315\n",
       "2022-07-04         6200\n",
       "2022-07-05         6242\n",
       "2022-07-06         6280\n",
       "2022-07-07         6189"
      ]
     },
     "execution_count": 12,
     "metadata": {},
     "output_type": "execute_result"
    }
   ],
   "source": [
    "df.resample('D', on='block_timestamp').agg(blocks=('blockNumber','nunique'))"
   ]
  },
  {
   "cell_type": "markdown",
   "id": "db460cbd-1eeb-4555-b29a-dbcc5e8a6bd0",
   "metadata": {},
   "source": [
    "How many transactions per day?"
   ]
  },
  {
   "cell_type": "code",
   "execution_count": 14,
   "id": "26073cbc-d10f-4bb0-89d8-e3a3a7b97511",
   "metadata": {},
   "outputs": [
    {
     "data": {
      "text/plain": [
       "block_date\n",
       "2022-07-01    1178620\n",
       "2022-07-02    1189382\n",
       "2022-07-03    1157052\n",
       "2022-07-04    1150609\n",
       "2022-07-05    1181035\n",
       "2022-07-06    1161432\n",
       "2022-07-07    1194330\n",
       "Freq: D, dtype: int64"
      ]
     },
     "execution_count": 14,
     "metadata": {},
     "output_type": "execute_result"
    }
   ],
   "source": [
    "df.resample('D', on='block_date').size()"
   ]
  },
  {
   "cell_type": "markdown",
   "id": "dca71a69-7a0e-4674-8699-e729f2985ac6",
   "metadata": {},
   "source": [
    "Total value per day?"
   ]
  },
  {
   "cell_type": "code",
   "execution_count": 49,
   "id": "6ce997b5-95f8-4800-8db9-1d8dcfd64b1a",
   "metadata": {},
   "outputs": [
    {
     "data": {
      "text/html": [
       "<div>\n",
       "<style scoped>\n",
       "    .dataframe tbody tr th:only-of-type {\n",
       "        vertical-align: middle;\n",
       "    }\n",
       "\n",
       "    .dataframe tbody tr th {\n",
       "        vertical-align: top;\n",
       "    }\n",
       "\n",
       "    .dataframe thead th {\n",
       "        text-align: right;\n",
       "    }\n",
       "</style>\n",
       "<table border=\"1\" class=\"dataframe\">\n",
       "  <thead>\n",
       "    <tr style=\"text-align: right;\">\n",
       "      <th></th>\n",
       "      <th>total_value</th>\n",
       "    </tr>\n",
       "    <tr>\n",
       "      <th>block_timestamp</th>\n",
       "      <th></th>\n",
       "    </tr>\n",
       "  </thead>\n",
       "  <tbody>\n",
       "    <tr>\n",
       "      <th>2022-07-01</th>\n",
       "      <td>2529957095970754663546880</td>\n",
       "    </tr>\n",
       "    <tr>\n",
       "      <th>2022-07-02</th>\n",
       "      <td>1242727481254419196018688</td>\n",
       "    </tr>\n",
       "    <tr>\n",
       "      <th>2022-07-03</th>\n",
       "      <td>802698618545780836794368</td>\n",
       "    </tr>\n",
       "    <tr>\n",
       "      <th>2022-07-04</th>\n",
       "      <td>1979039773764470716760064</td>\n",
       "    </tr>\n",
       "    <tr>\n",
       "      <th>2022-07-05</th>\n",
       "      <td>1838238726207302323404800</td>\n",
       "    </tr>\n",
       "    <tr>\n",
       "      <th>2022-07-06</th>\n",
       "      <td>1882904639433685247983616</td>\n",
       "    </tr>\n",
       "    <tr>\n",
       "      <th>2022-07-07</th>\n",
       "      <td>3665519196793809473110016</td>\n",
       "    </tr>\n",
       "  </tbody>\n",
       "</table>\n",
       "</div>"
      ],
      "text/plain": [
       "                              total_value\n",
       "block_timestamp                          \n",
       "2022-07-01      2529957095970754663546880\n",
       "2022-07-02      1242727481254419196018688\n",
       "2022-07-03       802698618545780836794368\n",
       "2022-07-04      1979039773764470716760064\n",
       "2022-07-05      1838238726207302323404800\n",
       "2022-07-06      1882904639433685247983616\n",
       "2022-07-07      3665519196793809473110016"
      ]
     },
     "execution_count": 49,
     "metadata": {},
     "output_type": "execute_result"
    }
   ],
   "source": [
    "df.resample('D', on='block_timestamp').agg(total_value=('value','sum'))"
   ]
  },
  {
   "cell_type": "markdown",
   "id": "634348c4-6fbf-4c41-8ceb-9d4898f0393c",
   "metadata": {},
   "source": [
    "### Year over year transactions difference July 2021 vs July 2022"
   ]
  },
  {
   "cell_type": "code",
   "execution_count": 34,
   "id": "f7ec17d8-84c0-4599-98cc-60220ab79d58",
   "metadata": {},
   "outputs": [],
   "source": [
    "txn_daily = df_txn.query('block_date.between(\"2021-07-01\",\"2021-07-07\", inclusive=\"both\") or block_date.between(\"2022-07-01\",\"2022-07-07\", inclusive=\"both\")')\n",
    "txn_daily = txn_daily.groupby(['block_date']).agg(transactions=('block_transactions','sum'))"
   ]
  },
  {
   "cell_type": "code",
   "execution_count": 35,
   "id": "d8738963-f507-44d9-8332-b6285bc1a8ca",
   "metadata": {},
   "outputs": [],
   "source": [
    "txn_daily_pct = txn_daily.pct_change(periods=7).dropna()"
   ]
  },
  {
   "cell_type": "code",
   "execution_count": 36,
   "id": "2583897c-de78-48fc-80b6-e39810cefb7d",
   "metadata": {},
   "outputs": [
    {
     "data": {
      "text/html": [
       "\n",
       "<div id=\"altair-viz-a72e27eba80140968a7375c5498f3d81\"></div>\n",
       "<script type=\"text/javascript\">\n",
       "  var VEGA_DEBUG = (typeof VEGA_DEBUG == \"undefined\") ? {} : VEGA_DEBUG;\n",
       "  (function(spec, embedOpt){\n",
       "    let outputDiv = document.currentScript.previousElementSibling;\n",
       "    if (outputDiv.id !== \"altair-viz-a72e27eba80140968a7375c5498f3d81\") {\n",
       "      outputDiv = document.getElementById(\"altair-viz-a72e27eba80140968a7375c5498f3d81\");\n",
       "    }\n",
       "    const paths = {\n",
       "      \"vega\": \"https://cdn.jsdelivr.net/npm//vega@5?noext\",\n",
       "      \"vega-lib\": \"https://cdn.jsdelivr.net/npm//vega-lib?noext\",\n",
       "      \"vega-lite\": \"https://cdn.jsdelivr.net/npm//vega-lite@4.17.0?noext\",\n",
       "      \"vega-embed\": \"https://cdn.jsdelivr.net/npm//vega-embed@6?noext\",\n",
       "    };\n",
       "\n",
       "    function maybeLoadScript(lib, version) {\n",
       "      var key = `${lib.replace(\"-\", \"\")}_version`;\n",
       "      return (VEGA_DEBUG[key] == version) ?\n",
       "        Promise.resolve(paths[lib]) :\n",
       "        new Promise(function(resolve, reject) {\n",
       "          var s = document.createElement('script');\n",
       "          document.getElementsByTagName(\"head\")[0].appendChild(s);\n",
       "          s.async = true;\n",
       "          s.onload = () => {\n",
       "            VEGA_DEBUG[key] = version;\n",
       "            return resolve(paths[lib]);\n",
       "          };\n",
       "          s.onerror = () => reject(`Error loading script: ${paths[lib]}`);\n",
       "          s.src = paths[lib];\n",
       "        });\n",
       "    }\n",
       "\n",
       "    function showError(err) {\n",
       "      outputDiv.innerHTML = `<div class=\"error\" style=\"color:red;\">${err}</div>`;\n",
       "      throw err;\n",
       "    }\n",
       "\n",
       "    function displayChart(vegaEmbed) {\n",
       "      vegaEmbed(outputDiv, spec, embedOpt)\n",
       "        .catch(err => showError(`Javascript Error: ${err.message}<br>This usually means there's a typo in your chart specification. See the javascript console for the full traceback.`));\n",
       "    }\n",
       "\n",
       "    if(typeof define === \"function\" && define.amd) {\n",
       "      requirejs.config({paths});\n",
       "      require([\"vega-embed\"], displayChart, err => showError(`Error loading script: ${err.message}`));\n",
       "    } else {\n",
       "      maybeLoadScript(\"vega\", \"5\")\n",
       "        .then(() => maybeLoadScript(\"vega-lite\", \"4.17.0\"))\n",
       "        .then(() => maybeLoadScript(\"vega-embed\", \"6\"))\n",
       "        .catch(showError)\n",
       "        .then(() => displayChart(vegaEmbed));\n",
       "    }\n",
       "  })({\"config\": {\"view\": {\"continuousWidth\": 400, \"continuousHeight\": 300}}, \"data\": {\"name\": \"data-623fc548253846a3ee1bfb9b4d3f6201\"}, \"mark\": \"bar\", \"encoding\": {\"tooltip\": [{\"field\": \"block_date\", \"type\": \"temporal\"}, {\"field\": \"transactions\", \"type\": \"quantitative\"}], \"x\": {\"axis\": {\"title\": \"Date\"}, \"field\": \"block_date\", \"timeUnit\": \"yearmonthdate\", \"type\": \"ordinal\"}, \"y\": {\"axis\": {\"format\": \"%\", \"title\": \"2022 vs 2021 Percentage Difference\"}, \"field\": \"transactions\", \"type\": \"quantitative\"}}, \"height\": 500, \"width\": 800, \"$schema\": \"https://vega.github.io/schema/vega-lite/v4.17.0.json\", \"datasets\": {\"data-623fc548253846a3ee1bfb9b4d3f6201\": [{\"block_date\": \"2022-07-01T00:00:00\", \"transactions\": -0.027308514413514784}, {\"block_date\": \"2022-07-02T00:00:00\", \"transactions\": 0.006608134573035551}, {\"block_date\": \"2022-07-03T00:00:00\", \"transactions\": 0.030741806772658142}, {\"block_date\": \"2022-07-04T00:00:00\", \"transactions\": 0.04220952229308006}, {\"block_date\": \"2022-07-05T00:00:00\", \"transactions\": 0.03014997016277632}, {\"block_date\": \"2022-07-06T00:00:00\", \"transactions\": -0.1431208458478952}, {\"block_date\": \"2022-07-07T00:00:00\", \"transactions\": -0.0748648893591608}]}}, {\"mode\": \"vega-lite\"});\n",
       "</script>"
      ],
      "text/plain": [
       "alt.Chart(...)"
      ]
     },
     "execution_count": 36,
     "metadata": {},
     "output_type": "execute_result"
    }
   ],
   "source": [
    "alt.Chart(txn_daily_pct.reset_index()).mark_bar().encode(\n",
    "    x=alt.X('yearmonthdate(block_date):O', axis=alt.Axis(title='Date')),\n",
    "    y=alt.Y('transactions:Q', axis=alt.Axis(format='%', title='2022 vs 2021 Percentage Difference')),\n",
    "    tooltip=['block_date','transactions']                    \n",
    ").properties(\n",
    "    height=500,\n",
    "    width=800\n",
    ")"
   ]
  },
  {
   "cell_type": "code",
   "execution_count": 67,
   "id": "2165d351-ac15-441b-9274-d4d6dcd4b329",
   "metadata": {},
   "outputs": [],
   "source": [
    "df_agg = df.query('block_date == \"2022-07-06\"').groupby(['from','transaction_type']).agg(total_transactions=('hash','count'),\n",
    "                                                                                         total_value_eth=('eth_value','sum'))\n",
    "df_agg['value_per_transaction_eth'] = (df_agg['total_value_eth']/df_agg['total_transactions'])\n",
    "df_agg_label = df_agg.reset_index().merge(df_labels, left_on='from', right_on='address', how='left')\n",
    "df_agg_label.drop(columns='address', inplace=True)"
   ]
  },
  {
   "cell_type": "code",
   "execution_count": 68,
   "id": "138a26e4-20b4-4ad9-a708-d9591c91c235",
   "metadata": {},
   "outputs": [
    {
     "data": {
      "text/html": [
       "<div>\n",
       "<style scoped>\n",
       "    .dataframe tbody tr th:only-of-type {\n",
       "        vertical-align: middle;\n",
       "    }\n",
       "\n",
       "    .dataframe tbody tr th {\n",
       "        vertical-align: top;\n",
       "    }\n",
       "\n",
       "    .dataframe thead th {\n",
       "        text-align: right;\n",
       "    }\n",
       "</style>\n",
       "<table border=\"1\" class=\"dataframe\">\n",
       "  <thead>\n",
       "    <tr style=\"text-align: right;\">\n",
       "      <th></th>\n",
       "      <th>from</th>\n",
       "      <th>transaction_type</th>\n",
       "      <th>total_transactions</th>\n",
       "      <th>total_value_eth</th>\n",
       "      <th>value_per_transaction_eth</th>\n",
       "      <th>address_label</th>\n",
       "    </tr>\n",
       "  </thead>\n",
       "  <tbody>\n",
       "    <tr>\n",
       "      <th>332748</th>\n",
       "      <td>0xea674fdde714fd979de3edf0f56aa9716b898ec8</td>\n",
       "      <td>externally owned</td>\n",
       "      <td>18967</td>\n",
       "      <td>3983.2040</td>\n",
       "      <td>0.2100</td>\n",
       "      <td>Ethermine</td>\n",
       "    </tr>\n",
       "    <tr>\n",
       "      <th>87082</th>\n",
       "      <td>0x3cd751e6b0078be393132286c442345e5dc49699</td>\n",
       "      <td>externally owned</td>\n",
       "      <td>11734</td>\n",
       "      <td>30881.9334</td>\n",
       "      <td>2.6318</td>\n",
       "      <td>Coinbase</td>\n",
       "    </tr>\n",
       "    <tr>\n",
       "      <th>258229</th>\n",
       "      <td>0xb5d85cbf7cb3ee0d56b3bb207d5fc4b82f43f511</td>\n",
       "      <td>externally owned</td>\n",
       "      <td>10516</td>\n",
       "      <td>8623.8305</td>\n",
       "      <td>0.8201</td>\n",
       "      <td>Coinbase</td>\n",
       "    </tr>\n",
       "    <tr>\n",
       "      <th>315370</th>\n",
       "      <td>0xddfabcdc4d8ffc6d5beaf154f18b778f892a0740</td>\n",
       "      <td>externally owned</td>\n",
       "      <td>10074</td>\n",
       "      <td>29116.8499</td>\n",
       "      <td>2.8903</td>\n",
       "      <td>Coinbase</td>\n",
       "    </tr>\n",
       "    <tr>\n",
       "      <th>333789</th>\n",
       "      <td>0xeb2629a2734e272bcc07bda959863f316f4bd4cf</td>\n",
       "      <td>externally owned</td>\n",
       "      <td>8601</td>\n",
       "      <td>24747.8142</td>\n",
       "      <td>2.8773</td>\n",
       "      <td>Coinbase</td>\n",
       "    </tr>\n",
       "    <tr>\n",
       "      <th>100391</th>\n",
       "      <td>0x46340b20830761efd32832a74d7169b29feb9758</td>\n",
       "      <td>externally owned</td>\n",
       "      <td>7354</td>\n",
       "      <td>4609.6422</td>\n",
       "      <td>0.6268</td>\n",
       "      <td>Crypto.com</td>\n",
       "    </tr>\n",
       "    <tr>\n",
       "      <th>273538</th>\n",
       "      <td>0xc098b2a3aa256d2140208c3de6543aaef5cd3a94</td>\n",
       "      <td>externally owned</td>\n",
       "      <td>6896</td>\n",
       "      <td>49230.2986</td>\n",
       "      <td>7.1390</td>\n",
       "      <td>FTX Exchange</td>\n",
       "    </tr>\n",
       "    <tr>\n",
       "      <th>68321</th>\n",
       "      <td>0x2faf487a4414fe77e2327f0bf4ae2a264a776ad2</td>\n",
       "      <td>externally owned</td>\n",
       "      <td>6366</td>\n",
       "      <td>71.8800</td>\n",
       "      <td>0.0113</td>\n",
       "      <td>FTX Exchange</td>\n",
       "    </tr>\n",
       "    <tr>\n",
       "      <th>48592</th>\n",
       "      <td>0x21a31ee1afc51d94c2efccaa2092ad1028285549</td>\n",
       "      <td>externally owned</td>\n",
       "      <td>5904</td>\n",
       "      <td>21444.8212</td>\n",
       "      <td>3.6323</td>\n",
       "      <td>Binance</td>\n",
       "    </tr>\n",
       "    <tr>\n",
       "      <th>58672</th>\n",
       "      <td>0x28c6c06298d514db089934071355e5743bf21d60</td>\n",
       "      <td>externally owned</td>\n",
       "      <td>5752</td>\n",
       "      <td>98599.0455</td>\n",
       "      <td>17.1417</td>\n",
       "      <td>Binance</td>\n",
       "    </tr>\n",
       "    <tr>\n",
       "      <th>317965</th>\n",
       "      <td>0xdfd5293d8e347dfe59e90efd55b2956a1343963d</td>\n",
       "      <td>externally owned</td>\n",
       "      <td>5671</td>\n",
       "      <td>13953.7254</td>\n",
       "      <td>2.4605</td>\n",
       "      <td>Binance</td>\n",
       "    </tr>\n",
       "    <tr>\n",
       "      <th>9075</th>\n",
       "      <td>0x061f7937b7b2bc7596539959804f86538b6368dc</td>\n",
       "      <td>externally owned</td>\n",
       "      <td>5328</td>\n",
       "      <td>13.9126</td>\n",
       "      <td>0.0026</td>\n",
       "      <td>No Label</td>\n",
       "    </tr>\n",
       "    <tr>\n",
       "      <th>342513</th>\n",
       "      <td>0xf16e9b0d03470827a95cdfd0cb8a8a3b46969b91</td>\n",
       "      <td>externally owned</td>\n",
       "      <td>4956</td>\n",
       "      <td>0.0000</td>\n",
       "      <td>0.0000</td>\n",
       "      <td>Coinbase</td>\n",
       "    </tr>\n",
       "    <tr>\n",
       "      <th>124343</th>\n",
       "      <td>0x56eddb7aa87536c09ccc2793473599fd21a8b17f</td>\n",
       "      <td>externally owned</td>\n",
       "      <td>4672</td>\n",
       "      <td>18882.8911</td>\n",
       "      <td>4.0417</td>\n",
       "      <td>Binance</td>\n",
       "    </tr>\n",
       "    <tr>\n",
       "      <th>338</th>\n",
       "      <td>0x00192fb10df37c9fb26829eb2cc623cd1bf599e8</td>\n",
       "      <td>externally owned</td>\n",
       "      <td>4661</td>\n",
       "      <td>961.9955</td>\n",
       "      <td>0.2064</td>\n",
       "      <td>2Miners: PPLNS</td>\n",
       "    </tr>\n",
       "    <tr>\n",
       "      <th>213954</th>\n",
       "      <td>0x9696f59e4d72e237be84ffd425dcad154bf96976</td>\n",
       "      <td>externally owned</td>\n",
       "      <td>4034</td>\n",
       "      <td>12190.3731</td>\n",
       "      <td>3.0219</td>\n",
       "      <td>Binance</td>\n",
       "    </tr>\n",
       "    <tr>\n",
       "      <th>206476</th>\n",
       "      <td>0x912fd21d7a69678227fe6d08c64222db41477ba0</td>\n",
       "      <td>externally owned</td>\n",
       "      <td>3501</td>\n",
       "      <td>2029.0808</td>\n",
       "      <td>0.5796</td>\n",
       "      <td>No Label</td>\n",
       "    </tr>\n",
       "    <tr>\n",
       "      <th>329241</th>\n",
       "      <td>0xe7e6c88ad1bab6508a251b7995f44fb1c5e3dcf7</td>\n",
       "      <td>externally owned</td>\n",
       "      <td>3392</td>\n",
       "      <td>748.1032</td>\n",
       "      <td>0.2205</td>\n",
       "      <td>Hiveon</td>\n",
       "    </tr>\n",
       "    <tr>\n",
       "      <th>180865</th>\n",
       "      <td>0x7f101fe45e6649a6fb8f3f8b43ed03d353f2b90c</td>\n",
       "      <td>externally owned</td>\n",
       "      <td>3299</td>\n",
       "      <td>766.5415</td>\n",
       "      <td>0.2324</td>\n",
       "      <td>Flexpool.io</td>\n",
       "    </tr>\n",
       "    <tr>\n",
       "      <th>185859</th>\n",
       "      <td>0x829bd824b016326a401d083b33d092293333a830</td>\n",
       "      <td>externally owned</td>\n",
       "      <td>3298</td>\n",
       "      <td>1830.9624</td>\n",
       "      <td>0.5552</td>\n",
       "      <td>F2Pool Old</td>\n",
       "    </tr>\n",
       "    <tr>\n",
       "      <th>86005</th>\n",
       "      <td>0x3c16183c1c0e28f1a0cb9f8ee4b21d0db208ca46</td>\n",
       "      <td>externally owned</td>\n",
       "      <td>3241</td>\n",
       "      <td>749.6329</td>\n",
       "      <td>0.2313</td>\n",
       "      <td>Hiveon</td>\n",
       "    </tr>\n",
       "    <tr>\n",
       "      <th>298818</th>\n",
       "      <td>0xd24400ae8bfebb18ca49be86258a3c749cf46853</td>\n",
       "      <td>externally owned</td>\n",
       "      <td>3101</td>\n",
       "      <td>49303.2492</td>\n",
       "      <td>15.8991</td>\n",
       "      <td>Gemini</td>\n",
       "    </tr>\n",
       "    <tr>\n",
       "      <th>251094</th>\n",
       "      <td>0xb0cf943cf94e7b6a2657d15af41c5e06c2bfea3d</td>\n",
       "      <td>externally owned</td>\n",
       "      <td>3098</td>\n",
       "      <td>1786.3688</td>\n",
       "      <td>0.5766</td>\n",
       "      <td>No Label</td>\n",
       "    </tr>\n",
       "    <tr>\n",
       "      <th>105103</th>\n",
       "      <td>0x4976a4a02f38326660d17bf34b431dc6e2eb2327</td>\n",
       "      <td>externally owned</td>\n",
       "      <td>3036</td>\n",
       "      <td>10240.5756</td>\n",
       "      <td>3.3730</td>\n",
       "      <td>Binance</td>\n",
       "    </tr>\n",
       "    <tr>\n",
       "      <th>229182</th>\n",
       "      <td>0xa152f8bb749c55e9943a3a0a3111d18ee2b3f94e</td>\n",
       "      <td>externally owned</td>\n",
       "      <td>2991</td>\n",
       "      <td>0.0000</td>\n",
       "      <td>0.0000</td>\n",
       "      <td>No Label</td>\n",
       "    </tr>\n",
       "    <tr>\n",
       "      <th>342989</th>\n",
       "      <td>0xf1c4d6038adf70e6d5d4272707df85e3880c6487</td>\n",
       "      <td>externally owned</td>\n",
       "      <td>2778</td>\n",
       "      <td>7.5453</td>\n",
       "      <td>0.0027</td>\n",
       "      <td>No Label</td>\n",
       "    </tr>\n",
       "    <tr>\n",
       "      <th>74128</th>\n",
       "      <td>0x33b6f641066b132e3665b5bc766eb2e490370c92</td>\n",
       "      <td>externally owned</td>\n",
       "      <td>2716</td>\n",
       "      <td>1.0000</td>\n",
       "      <td>0.0004</td>\n",
       "      <td>No Label</td>\n",
       "    </tr>\n",
       "    <tr>\n",
       "      <th>114833</th>\n",
       "      <td>0x503828976d22510aad0201ac7ec88293211d23da</td>\n",
       "      <td>externally owned</td>\n",
       "      <td>2611</td>\n",
       "      <td>0.0000</td>\n",
       "      <td>0.0000</td>\n",
       "      <td>Coinbase</td>\n",
       "    </tr>\n",
       "    <tr>\n",
       "      <th>115132</th>\n",
       "      <td>0x506c082ae6caabba8a37bd5a8b671aeac4f68164</td>\n",
       "      <td>externally owned</td>\n",
       "      <td>2529</td>\n",
       "      <td>0.0000</td>\n",
       "      <td>0.0000</td>\n",
       "      <td>No Label</td>\n",
       "    </tr>\n",
       "    <tr>\n",
       "      <th>253409</th>\n",
       "      <td>0xb2723beacce4bc54f23544343927f048cef6bd5a</td>\n",
       "      <td>externally owned</td>\n",
       "      <td>2484</td>\n",
       "      <td>9992.9282</td>\n",
       "      <td>4.0229</td>\n",
       "      <td>No Label</td>\n",
       "    </tr>\n",
       "    <tr>\n",
       "      <th>288101</th>\n",
       "      <td>0xcad621da75a66c7a8f4ff86d30a2bf981bfc8fdd</td>\n",
       "      <td>externally owned</td>\n",
       "      <td>2359</td>\n",
       "      <td>12547.5863</td>\n",
       "      <td>5.3190</td>\n",
       "      <td>KuCoin</td>\n",
       "    </tr>\n",
       "    <tr>\n",
       "      <th>282887</th>\n",
       "      <td>0xc730b028da66ebb14f20e67c68dd809fbc49890d</td>\n",
       "      <td>externally owned</td>\n",
       "      <td>2133</td>\n",
       "      <td>346.5065</td>\n",
       "      <td>0.1625</td>\n",
       "      <td>Ezil.me</td>\n",
       "    </tr>\n",
       "    <tr>\n",
       "      <th>199986</th>\n",
       "      <td>0x8c8d7c46219d9205f056f28fee5950ad564d7465</td>\n",
       "      <td>externally owned</td>\n",
       "      <td>2035</td>\n",
       "      <td>22.2269</td>\n",
       "      <td>0.0109</td>\n",
       "      <td>No Label</td>\n",
       "    </tr>\n",
       "    <tr>\n",
       "      <th>212674</th>\n",
       "      <td>0x95a9bd206ae52c4ba8eecfc93d18eacdd41c88cc</td>\n",
       "      <td>externally owned</td>\n",
       "      <td>2027</td>\n",
       "      <td>0.0000</td>\n",
       "      <td>0.0000</td>\n",
       "      <td>No Label</td>\n",
       "    </tr>\n",
       "    <tr>\n",
       "      <th>156890</th>\n",
       "      <td>0x6dfc34609a05bc22319fa4cce1d1e2929548c0d7</td>\n",
       "      <td>externally owned</td>\n",
       "      <td>1994</td>\n",
       "      <td>1063.0747</td>\n",
       "      <td>0.5331</td>\n",
       "      <td>No Label</td>\n",
       "    </tr>\n",
       "    <tr>\n",
       "      <th>167938</th>\n",
       "      <td>0x75e89d5979e4f6fba9f97c104c2f0afb3f1dcb88</td>\n",
       "      <td>externally owned</td>\n",
       "      <td>1861</td>\n",
       "      <td>876.2631</td>\n",
       "      <td>0.4709</td>\n",
       "      <td>MEXC</td>\n",
       "    </tr>\n",
       "    <tr>\n",
       "      <th>137909</th>\n",
       "      <td>0x60846cc8f6b882e48dd4b5a0b4a414e776539885</td>\n",
       "      <td>externally owned</td>\n",
       "      <td>1844</td>\n",
       "      <td>2.5238</td>\n",
       "      <td>0.0014</td>\n",
       "      <td>No Label</td>\n",
       "    </tr>\n",
       "    <tr>\n",
       "      <th>18910</th>\n",
       "      <td>0x0d0707963952f2fba59dd06f2b425ace40b492fe</td>\n",
       "      <td>externally owned</td>\n",
       "      <td>1770</td>\n",
       "      <td>2785.9336</td>\n",
       "      <td>1.5740</td>\n",
       "      <td>Gate.io</td>\n",
       "    </tr>\n",
       "    <tr>\n",
       "      <th>145087</th>\n",
       "      <td>0x6596da8b65995d5feacff8c2936f0b7a2051b0d0</td>\n",
       "      <td>externally owned</td>\n",
       "      <td>1766</td>\n",
       "      <td>28.5017</td>\n",
       "      <td>0.0161</td>\n",
       "      <td>No Label</td>\n",
       "    </tr>\n",
       "    <tr>\n",
       "      <th>238445</th>\n",
       "      <td>0xa7efae728d2936e78bda97dc267687568dd593f3</td>\n",
       "      <td>externally owned</td>\n",
       "      <td>1761</td>\n",
       "      <td>13637.3057</td>\n",
       "      <td>7.7441</td>\n",
       "      <td>OKEx</td>\n",
       "    </tr>\n",
       "    <tr>\n",
       "      <th>118495</th>\n",
       "      <td>0x52bc44d5378309ee2abf1539bf71de1b7d7be3b5</td>\n",
       "      <td>externally owned</td>\n",
       "      <td>1659</td>\n",
       "      <td>385.6110</td>\n",
       "      <td>0.2324</td>\n",
       "      <td>Nanopool</td>\n",
       "    </tr>\n",
       "    <tr>\n",
       "      <th>161662</th>\n",
       "      <td>0x71660c4005ba85c37ccec55d0c4493e66fe775d3</td>\n",
       "      <td>externally owned</td>\n",
       "      <td>1553</td>\n",
       "      <td>0.0000</td>\n",
       "      <td>0.0000</td>\n",
       "      <td>Coinbase</td>\n",
       "    </tr>\n",
       "    <tr>\n",
       "      <th>182947</th>\n",
       "      <td>0x808b4da0be6c9512e948521452227efc619bea52</td>\n",
       "      <td>externally owned</td>\n",
       "      <td>1515</td>\n",
       "      <td>0.0000</td>\n",
       "      <td>0.0000</td>\n",
       "      <td>BlockFi</td>\n",
       "    </tr>\n",
       "    <tr>\n",
       "      <th>46487</th>\n",
       "      <td>0x203304a42132928fa77e2285cc05111693795328</td>\n",
       "      <td>externally owned</td>\n",
       "      <td>1480</td>\n",
       "      <td>14.8000</td>\n",
       "      <td>0.0100</td>\n",
       "      <td>No Label</td>\n",
       "    </tr>\n",
       "    <tr>\n",
       "      <th>348961</th>\n",
       "      <td>0xf60c2ea62edbfe808163751dd0d8693dcb30019c</td>\n",
       "      <td>externally owned</td>\n",
       "      <td>1377</td>\n",
       "      <td>2327.1553</td>\n",
       "      <td>1.6900</td>\n",
       "      <td>Binance</td>\n",
       "    </tr>\n",
       "    <tr>\n",
       "      <th>249818</th>\n",
       "      <td>0xafe9796b0377651868088f74728bff183aa3640b</td>\n",
       "      <td>externally owned</td>\n",
       "      <td>1357</td>\n",
       "      <td>0.0000</td>\n",
       "      <td>0.0000</td>\n",
       "      <td>No Label</td>\n",
       "    </tr>\n",
       "    <tr>\n",
       "      <th>55355</th>\n",
       "      <td>0x267be1c1d684f78cb4f6a176c4911b741e4ffdc0</td>\n",
       "      <td>externally owned</td>\n",
       "      <td>1331</td>\n",
       "      <td>28273.7625</td>\n",
       "      <td>21.2425</td>\n",
       "      <td>Kraken</td>\n",
       "    </tr>\n",
       "    <tr>\n",
       "      <th>55354</th>\n",
       "      <td>0x267be1c1d684f78cb4f6a176c4911b741e4ffdc0</td>\n",
       "      <td>externally owned</td>\n",
       "      <td>1331</td>\n",
       "      <td>28273.7625</td>\n",
       "      <td>21.2425</td>\n",
       "      <td>Kraken</td>\n",
       "    </tr>\n",
       "    <tr>\n",
       "      <th>40789</th>\n",
       "      <td>0x1c330739ea7bd3228eb97dec20de5474d5f68987</td>\n",
       "      <td>externally owned</td>\n",
       "      <td>1282</td>\n",
       "      <td>0.8985</td>\n",
       "      <td>0.0007</td>\n",
       "      <td>No Label</td>\n",
       "    </tr>\n",
       "    <tr>\n",
       "      <th>111029</th>\n",
       "      <td>0x4d9ff50ef4da947364bb9650892b2554e7be5e2b</td>\n",
       "      <td>externally owned</td>\n",
       "      <td>1271</td>\n",
       "      <td>25.4200</td>\n",
       "      <td>0.0200</td>\n",
       "      <td>Binance</td>\n",
       "    </tr>\n",
       "  </tbody>\n",
       "</table>\n",
       "</div>"
      ],
      "text/plain": [
       "                                              from  transaction_type  \\\n",
       "332748  0xea674fdde714fd979de3edf0f56aa9716b898ec8  externally owned   \n",
       "87082   0x3cd751e6b0078be393132286c442345e5dc49699  externally owned   \n",
       "258229  0xb5d85cbf7cb3ee0d56b3bb207d5fc4b82f43f511  externally owned   \n",
       "315370  0xddfabcdc4d8ffc6d5beaf154f18b778f892a0740  externally owned   \n",
       "333789  0xeb2629a2734e272bcc07bda959863f316f4bd4cf  externally owned   \n",
       "100391  0x46340b20830761efd32832a74d7169b29feb9758  externally owned   \n",
       "273538  0xc098b2a3aa256d2140208c3de6543aaef5cd3a94  externally owned   \n",
       "68321   0x2faf487a4414fe77e2327f0bf4ae2a264a776ad2  externally owned   \n",
       "48592   0x21a31ee1afc51d94c2efccaa2092ad1028285549  externally owned   \n",
       "58672   0x28c6c06298d514db089934071355e5743bf21d60  externally owned   \n",
       "317965  0xdfd5293d8e347dfe59e90efd55b2956a1343963d  externally owned   \n",
       "9075    0x061f7937b7b2bc7596539959804f86538b6368dc  externally owned   \n",
       "342513  0xf16e9b0d03470827a95cdfd0cb8a8a3b46969b91  externally owned   \n",
       "124343  0x56eddb7aa87536c09ccc2793473599fd21a8b17f  externally owned   \n",
       "338     0x00192fb10df37c9fb26829eb2cc623cd1bf599e8  externally owned   \n",
       "213954  0x9696f59e4d72e237be84ffd425dcad154bf96976  externally owned   \n",
       "206476  0x912fd21d7a69678227fe6d08c64222db41477ba0  externally owned   \n",
       "329241  0xe7e6c88ad1bab6508a251b7995f44fb1c5e3dcf7  externally owned   \n",
       "180865  0x7f101fe45e6649a6fb8f3f8b43ed03d353f2b90c  externally owned   \n",
       "185859  0x829bd824b016326a401d083b33d092293333a830  externally owned   \n",
       "86005   0x3c16183c1c0e28f1a0cb9f8ee4b21d0db208ca46  externally owned   \n",
       "298818  0xd24400ae8bfebb18ca49be86258a3c749cf46853  externally owned   \n",
       "251094  0xb0cf943cf94e7b6a2657d15af41c5e06c2bfea3d  externally owned   \n",
       "105103  0x4976a4a02f38326660d17bf34b431dc6e2eb2327  externally owned   \n",
       "229182  0xa152f8bb749c55e9943a3a0a3111d18ee2b3f94e  externally owned   \n",
       "342989  0xf1c4d6038adf70e6d5d4272707df85e3880c6487  externally owned   \n",
       "74128   0x33b6f641066b132e3665b5bc766eb2e490370c92  externally owned   \n",
       "114833  0x503828976d22510aad0201ac7ec88293211d23da  externally owned   \n",
       "115132  0x506c082ae6caabba8a37bd5a8b671aeac4f68164  externally owned   \n",
       "253409  0xb2723beacce4bc54f23544343927f048cef6bd5a  externally owned   \n",
       "288101  0xcad621da75a66c7a8f4ff86d30a2bf981bfc8fdd  externally owned   \n",
       "282887  0xc730b028da66ebb14f20e67c68dd809fbc49890d  externally owned   \n",
       "199986  0x8c8d7c46219d9205f056f28fee5950ad564d7465  externally owned   \n",
       "212674  0x95a9bd206ae52c4ba8eecfc93d18eacdd41c88cc  externally owned   \n",
       "156890  0x6dfc34609a05bc22319fa4cce1d1e2929548c0d7  externally owned   \n",
       "167938  0x75e89d5979e4f6fba9f97c104c2f0afb3f1dcb88  externally owned   \n",
       "137909  0x60846cc8f6b882e48dd4b5a0b4a414e776539885  externally owned   \n",
       "18910   0x0d0707963952f2fba59dd06f2b425ace40b492fe  externally owned   \n",
       "145087  0x6596da8b65995d5feacff8c2936f0b7a2051b0d0  externally owned   \n",
       "238445  0xa7efae728d2936e78bda97dc267687568dd593f3  externally owned   \n",
       "118495  0x52bc44d5378309ee2abf1539bf71de1b7d7be3b5  externally owned   \n",
       "161662  0x71660c4005ba85c37ccec55d0c4493e66fe775d3  externally owned   \n",
       "182947  0x808b4da0be6c9512e948521452227efc619bea52  externally owned   \n",
       "46487   0x203304a42132928fa77e2285cc05111693795328  externally owned   \n",
       "348961  0xf60c2ea62edbfe808163751dd0d8693dcb30019c  externally owned   \n",
       "249818  0xafe9796b0377651868088f74728bff183aa3640b  externally owned   \n",
       "55355   0x267be1c1d684f78cb4f6a176c4911b741e4ffdc0  externally owned   \n",
       "55354   0x267be1c1d684f78cb4f6a176c4911b741e4ffdc0  externally owned   \n",
       "40789   0x1c330739ea7bd3228eb97dec20de5474d5f68987  externally owned   \n",
       "111029  0x4d9ff50ef4da947364bb9650892b2554e7be5e2b  externally owned   \n",
       "\n",
       "        total_transactions  total_value_eth  value_per_transaction_eth  \\\n",
       "332748               18967        3983.2040                     0.2100   \n",
       "87082                11734       30881.9334                     2.6318   \n",
       "258229               10516        8623.8305                     0.8201   \n",
       "315370               10074       29116.8499                     2.8903   \n",
       "333789                8601       24747.8142                     2.8773   \n",
       "100391                7354        4609.6422                     0.6268   \n",
       "273538                6896       49230.2986                     7.1390   \n",
       "68321                 6366          71.8800                     0.0113   \n",
       "48592                 5904       21444.8212                     3.6323   \n",
       "58672                 5752       98599.0455                    17.1417   \n",
       "317965                5671       13953.7254                     2.4605   \n",
       "9075                  5328          13.9126                     0.0026   \n",
       "342513                4956           0.0000                     0.0000   \n",
       "124343                4672       18882.8911                     4.0417   \n",
       "338                   4661         961.9955                     0.2064   \n",
       "213954                4034       12190.3731                     3.0219   \n",
       "206476                3501        2029.0808                     0.5796   \n",
       "329241                3392         748.1032                     0.2205   \n",
       "180865                3299         766.5415                     0.2324   \n",
       "185859                3298        1830.9624                     0.5552   \n",
       "86005                 3241         749.6329                     0.2313   \n",
       "298818                3101       49303.2492                    15.8991   \n",
       "251094                3098        1786.3688                     0.5766   \n",
       "105103                3036       10240.5756                     3.3730   \n",
       "229182                2991           0.0000                     0.0000   \n",
       "342989                2778           7.5453                     0.0027   \n",
       "74128                 2716           1.0000                     0.0004   \n",
       "114833                2611           0.0000                     0.0000   \n",
       "115132                2529           0.0000                     0.0000   \n",
       "253409                2484        9992.9282                     4.0229   \n",
       "288101                2359       12547.5863                     5.3190   \n",
       "282887                2133         346.5065                     0.1625   \n",
       "199986                2035          22.2269                     0.0109   \n",
       "212674                2027           0.0000                     0.0000   \n",
       "156890                1994        1063.0747                     0.5331   \n",
       "167938                1861         876.2631                     0.4709   \n",
       "137909                1844           2.5238                     0.0014   \n",
       "18910                 1770        2785.9336                     1.5740   \n",
       "145087                1766          28.5017                     0.0161   \n",
       "238445                1761       13637.3057                     7.7441   \n",
       "118495                1659         385.6110                     0.2324   \n",
       "161662                1553           0.0000                     0.0000   \n",
       "182947                1515           0.0000                     0.0000   \n",
       "46487                 1480          14.8000                     0.0100   \n",
       "348961                1377        2327.1553                     1.6900   \n",
       "249818                1357           0.0000                     0.0000   \n",
       "55355                 1331       28273.7625                    21.2425   \n",
       "55354                 1331       28273.7625                    21.2425   \n",
       "40789                 1282           0.8985                     0.0007   \n",
       "111029                1271          25.4200                     0.0200   \n",
       "\n",
       "         address_label  \n",
       "332748       Ethermine  \n",
       "87082         Coinbase  \n",
       "258229        Coinbase  \n",
       "315370        Coinbase  \n",
       "333789        Coinbase  \n",
       "100391      Crypto.com  \n",
       "273538    FTX Exchange  \n",
       "68321     FTX Exchange  \n",
       "48592          Binance  \n",
       "58672          Binance  \n",
       "317965         Binance  \n",
       "9075          No Label  \n",
       "342513        Coinbase  \n",
       "124343         Binance  \n",
       "338     2Miners: PPLNS  \n",
       "213954         Binance  \n",
       "206476        No Label  \n",
       "329241          Hiveon  \n",
       "180865     Flexpool.io  \n",
       "185859      F2Pool Old  \n",
       "86005           Hiveon  \n",
       "298818          Gemini  \n",
       "251094        No Label  \n",
       "105103         Binance  \n",
       "229182        No Label  \n",
       "342989        No Label  \n",
       "74128         No Label  \n",
       "114833        Coinbase  \n",
       "115132        No Label  \n",
       "253409        No Label  \n",
       "288101          KuCoin  \n",
       "282887         Ezil.me  \n",
       "199986        No Label  \n",
       "212674        No Label  \n",
       "156890        No Label  \n",
       "167938            MEXC  \n",
       "137909        No Label  \n",
       "18910          Gate.io  \n",
       "145087        No Label  \n",
       "238445            OKEx  \n",
       "118495        Nanopool  \n",
       "161662        Coinbase  \n",
       "182947         BlockFi  \n",
       "46487         No Label  \n",
       "348961         Binance  \n",
       "249818        No Label  \n",
       "55355           Kraken  \n",
       "55354           Kraken  \n",
       "40789         No Label  \n",
       "111029         Binance  "
      ]
     },
     "execution_count": 68,
     "metadata": {},
     "output_type": "execute_result"
    }
   ],
   "source": [
    "df_agg_label.sort_values(by='total_transactions', ascending=False).head(50)"
   ]
  },
  {
   "cell_type": "code",
   "execution_count": 43,
   "id": "c7a4f559-d8f0-425a-8558-49fe81a98072",
   "metadata": {},
   "outputs": [],
   "source": [
    "# tmp_labels = pd.DataFrame({'address':['0xeae33deef684802dd05b7026d09fe9831edb7b37'],\n",
    "#                            'labels':['No Label']})"
   ]
  },
  {
   "cell_type": "code",
   "execution_count": 21,
   "id": "f0099190-2d32-4a8e-b230-6e2130d70a0c",
   "metadata": {},
   "outputs": [
    {
     "data": {
      "text/html": [
       "<div>\n",
       "<style scoped>\n",
       "    .dataframe tbody tr th:only-of-type {\n",
       "        vertical-align: middle;\n",
       "    }\n",
       "\n",
       "    .dataframe tbody tr th {\n",
       "        vertical-align: top;\n",
       "    }\n",
       "\n",
       "    .dataframe thead th {\n",
       "        text-align: right;\n",
       "    }\n",
       "</style>\n",
       "<table border=\"1\" class=\"dataframe\">\n",
       "  <thead>\n",
       "    <tr style=\"text-align: right;\">\n",
       "      <th></th>\n",
       "      <th></th>\n",
       "      <th>total_transactions</th>\n",
       "      <th>total_value_eth</th>\n",
       "    </tr>\n",
       "    <tr>\n",
       "      <th>from</th>\n",
       "      <th>transaction_type</th>\n",
       "      <th></th>\n",
       "      <th></th>\n",
       "    </tr>\n",
       "  </thead>\n",
       "  <tbody>\n",
       "    <tr>\n",
       "      <th>0x0000000000006e543164be036824fcf832e67e47</th>\n",
       "      <th>externally owned</th>\n",
       "      <td>1</td>\n",
       "      <td>0.0750</td>\n",
       "    </tr>\n",
       "    <tr>\n",
       "      <th>0x000000000003ebf123909630caed826f160fcb7f</th>\n",
       "      <th>externally owned</th>\n",
       "      <td>1</td>\n",
       "      <td>0.0000</td>\n",
       "    </tr>\n",
       "    <tr>\n",
       "      <th>0x000000000005e4314ea8efd6f9ec0e8d65444384</th>\n",
       "      <th>externally owned</th>\n",
       "      <td>1</td>\n",
       "      <td>0.0100</td>\n",
       "    </tr>\n",
       "    <tr>\n",
       "      <th>0x00000000005dbcb0d0513fcda746382fe8a53468</th>\n",
       "      <th>externally owned</th>\n",
       "      <td>1</td>\n",
       "      <td>0.0000</td>\n",
       "    </tr>\n",
       "    <tr>\n",
       "      <th>0x000000000062c524bd4d32f62f2e569bf171ffdd</th>\n",
       "      <th>externally owned</th>\n",
       "      <td>5</td>\n",
       "      <td>0.1000</td>\n",
       "    </tr>\n",
       "    <tr>\n",
       "      <th>...</th>\n",
       "      <th>...</th>\n",
       "      <td>...</td>\n",
       "      <td>...</td>\n",
       "    </tr>\n",
       "    <tr>\n",
       "      <th>0xfffff449f1a35eb0facca8d4659d8e15cf2f77ba</th>\n",
       "      <th>externally owned</th>\n",
       "      <td>1</td>\n",
       "      <td>0.5000</td>\n",
       "    </tr>\n",
       "    <tr>\n",
       "      <th>0xffffff5800b709071d4adc74759ae4b89bef2a9d</th>\n",
       "      <th>externally owned</th>\n",
       "      <td>11</td>\n",
       "      <td>0.0000</td>\n",
       "    </tr>\n",
       "    <tr>\n",
       "      <th>0xffffff5b36f8388d0a6c6586654cd2da65ea59be</th>\n",
       "      <th>externally owned</th>\n",
       "      <td>2</td>\n",
       "      <td>0.4700</td>\n",
       "    </tr>\n",
       "    <tr>\n",
       "      <th>0xfffffff42beda895371adfd3f3b05fb35b9b5239</th>\n",
       "      <th>externally owned</th>\n",
       "      <td>1</td>\n",
       "      <td>0.0000</td>\n",
       "    </tr>\n",
       "    <tr>\n",
       "      <th>0xffffffff2d0d2f666b25cbc1556426cf56e4fef5</th>\n",
       "      <th>externally owned</th>\n",
       "      <td>1</td>\n",
       "      <td>0.0000</td>\n",
       "    </tr>\n",
       "  </tbody>\n",
       "</table>\n",
       "<p>362863 rows × 2 columns</p>\n",
       "</div>"
      ],
      "text/plain": [
       "                                                             total_transactions  \\\n",
       "from                                       transaction_type                       \n",
       "0x0000000000006e543164be036824fcf832e67e47 externally owned                   1   \n",
       "0x000000000003ebf123909630caed826f160fcb7f externally owned                   1   \n",
       "0x000000000005e4314ea8efd6f9ec0e8d65444384 externally owned                   1   \n",
       "0x00000000005dbcb0d0513fcda746382fe8a53468 externally owned                   1   \n",
       "0x000000000062c524bd4d32f62f2e569bf171ffdd externally owned                   5   \n",
       "...                                                                         ...   \n",
       "0xfffff449f1a35eb0facca8d4659d8e15cf2f77ba externally owned                   1   \n",
       "0xffffff5800b709071d4adc74759ae4b89bef2a9d externally owned                  11   \n",
       "0xffffff5b36f8388d0a6c6586654cd2da65ea59be externally owned                   2   \n",
       "0xfffffff42beda895371adfd3f3b05fb35b9b5239 externally owned                   1   \n",
       "0xffffffff2d0d2f666b25cbc1556426cf56e4fef5 externally owned                   1   \n",
       "\n",
       "                                                             total_value_eth  \n",
       "from                                       transaction_type                   \n",
       "0x0000000000006e543164be036824fcf832e67e47 externally owned           0.0750  \n",
       "0x000000000003ebf123909630caed826f160fcb7f externally owned           0.0000  \n",
       "0x000000000005e4314ea8efd6f9ec0e8d65444384 externally owned           0.0100  \n",
       "0x00000000005dbcb0d0513fcda746382fe8a53468 externally owned           0.0000  \n",
       "0x000000000062c524bd4d32f62f2e569bf171ffdd externally owned           0.1000  \n",
       "...                                                                      ...  \n",
       "0xfffff449f1a35eb0facca8d4659d8e15cf2f77ba externally owned           0.5000  \n",
       "0xffffff5800b709071d4adc74759ae4b89bef2a9d externally owned           0.0000  \n",
       "0xffffff5b36f8388d0a6c6586654cd2da65ea59be externally owned           0.4700  \n",
       "0xfffffff42beda895371adfd3f3b05fb35b9b5239 externally owned           0.0000  \n",
       "0xffffffff2d0d2f666b25cbc1556426cf56e4fef5 externally owned           0.0000  \n",
       "\n",
       "[362863 rows x 2 columns]"
      ]
     },
     "execution_count": 21,
     "metadata": {},
     "output_type": "execute_result"
    }
   ],
   "source": [
    "df_agg_label.groupby(['from','transaction_type']).agg({'total_transactions':'sum',\n",
    "                                                         'total_value_eth':'sum'})"
   ]
  },
  {
   "cell_type": "code",
   "execution_count": 40,
   "id": "b16e2940-2df6-4df9-97d8-8d7e08154d59",
   "metadata": {},
   "outputs": [
    {
     "data": {
      "text/html": [
       "<div>\n",
       "<style scoped>\n",
       "    .dataframe tbody tr th:only-of-type {\n",
       "        vertical-align: middle;\n",
       "    }\n",
       "\n",
       "    .dataframe tbody tr th {\n",
       "        vertical-align: top;\n",
       "    }\n",
       "\n",
       "    .dataframe thead th {\n",
       "        text-align: right;\n",
       "    }\n",
       "</style>\n",
       "<table border=\"1\" class=\"dataframe\">\n",
       "  <thead>\n",
       "    <tr style=\"text-align: right;\">\n",
       "      <th></th>\n",
       "      <th>from</th>\n",
       "      <th>total_transactions</th>\n",
       "      <th>total_value_eth</th>\n",
       "      <th>value_per_transaction</th>\n",
       "      <th>labels</th>\n",
       "    </tr>\n",
       "  </thead>\n",
       "  <tbody>\n",
       "    <tr>\n",
       "      <th>332296</th>\n",
       "      <td>0xea674fdde714fd979de3edf0f56aa9716b898ec8</td>\n",
       "      <td>18967</td>\n",
       "      <td>3983.20</td>\n",
       "      <td>0.21</td>\n",
       "      <td>Ethermine</td>\n",
       "    </tr>\n",
       "    <tr>\n",
       "      <th>86959</th>\n",
       "      <td>0x3cd751e6b0078be393132286c442345e5dc49699</td>\n",
       "      <td>11734</td>\n",
       "      <td>30881.93</td>\n",
       "      <td>2.63</td>\n",
       "      <td>Coinbase</td>\n",
       "    </tr>\n",
       "    <tr>\n",
       "      <th>257875</th>\n",
       "      <td>0xb5d85cbf7cb3ee0d56b3bb207d5fc4b82f43f511</td>\n",
       "      <td>10516</td>\n",
       "      <td>8623.83</td>\n",
       "      <td>0.82</td>\n",
       "      <td>Coinbase</td>\n",
       "    </tr>\n",
       "    <tr>\n",
       "      <th>314943</th>\n",
       "      <td>0xddfabcdc4d8ffc6d5beaf154f18b778f892a0740</td>\n",
       "      <td>10074</td>\n",
       "      <td>29116.85</td>\n",
       "      <td>2.89</td>\n",
       "      <td>Coinbase</td>\n",
       "    </tr>\n",
       "    <tr>\n",
       "      <th>333336</th>\n",
       "      <td>0xeb2629a2734e272bcc07bda959863f316f4bd4cf</td>\n",
       "      <td>8601</td>\n",
       "      <td>24747.81</td>\n",
       "      <td>2.88</td>\n",
       "      <td>Coinbase</td>\n",
       "    </tr>\n",
       "    <tr>\n",
       "      <th>100250</th>\n",
       "      <td>0x46340b20830761efd32832a74d7169b29feb9758</td>\n",
       "      <td>7354</td>\n",
       "      <td>4609.64</td>\n",
       "      <td>0.63</td>\n",
       "      <td>Crypto.com</td>\n",
       "    </tr>\n",
       "    <tr>\n",
       "      <th>273166</th>\n",
       "      <td>0xc098b2a3aa256d2140208c3de6543aaef5cd3a94</td>\n",
       "      <td>6896</td>\n",
       "      <td>49230.30</td>\n",
       "      <td>7.14</td>\n",
       "      <td>FTX Exchange</td>\n",
       "    </tr>\n",
       "    <tr>\n",
       "      <th>68225</th>\n",
       "      <td>0x2faf487a4414fe77e2327f0bf4ae2a264a776ad2</td>\n",
       "      <td>6366</td>\n",
       "      <td>71.88</td>\n",
       "      <td>0.01</td>\n",
       "      <td>FTX Exchange</td>\n",
       "    </tr>\n",
       "    <tr>\n",
       "      <th>48525</th>\n",
       "      <td>0x21a31ee1afc51d94c2efccaa2092ad1028285549</td>\n",
       "      <td>5904</td>\n",
       "      <td>21444.82</td>\n",
       "      <td>3.63</td>\n",
       "      <td>Binance</td>\n",
       "    </tr>\n",
       "    <tr>\n",
       "      <th>58591</th>\n",
       "      <td>0x28c6c06298d514db089934071355e5743bf21d60</td>\n",
       "      <td>5752</td>\n",
       "      <td>98599.05</td>\n",
       "      <td>17.14</td>\n",
       "      <td>Binance</td>\n",
       "    </tr>\n",
       "  </tbody>\n",
       "</table>\n",
       "</div>"
      ],
      "text/plain": [
       "                                              from  total_transactions  \\\n",
       "332296  0xea674fdde714fd979de3edf0f56aa9716b898ec8               18967   \n",
       "86959   0x3cd751e6b0078be393132286c442345e5dc49699               11734   \n",
       "257875  0xb5d85cbf7cb3ee0d56b3bb207d5fc4b82f43f511               10516   \n",
       "314943  0xddfabcdc4d8ffc6d5beaf154f18b778f892a0740               10074   \n",
       "333336  0xeb2629a2734e272bcc07bda959863f316f4bd4cf                8601   \n",
       "100250  0x46340b20830761efd32832a74d7169b29feb9758                7354   \n",
       "273166  0xc098b2a3aa256d2140208c3de6543aaef5cd3a94                6896   \n",
       "68225   0x2faf487a4414fe77e2327f0bf4ae2a264a776ad2                6366   \n",
       "48525   0x21a31ee1afc51d94c2efccaa2092ad1028285549                5904   \n",
       "58591   0x28c6c06298d514db089934071355e5743bf21d60                5752   \n",
       "\n",
       "        total_value_eth  value_per_transaction        labels  \n",
       "332296          3983.20                   0.21     Ethermine  \n",
       "86959          30881.93                   2.63      Coinbase  \n",
       "257875          8623.83                   0.82      Coinbase  \n",
       "314943         29116.85                   2.89      Coinbase  \n",
       "333336         24747.81                   2.88      Coinbase  \n",
       "100250          4609.64                   0.63    Crypto.com  \n",
       "273166         49230.30                   7.14  FTX Exchange  \n",
       "68225             71.88                   0.01  FTX Exchange  \n",
       "48525          21444.82                   3.63       Binance  \n",
       "58591          98599.05                  17.14       Binance  "
      ]
     },
     "execution_count": 40,
     "metadata": {},
     "output_type": "execute_result"
    }
   ],
   "source": [
    "df_agg_label.sort_values(by=['total_transactions','total_value_eth'], ascending=[False,False]).head(10)"
   ]
  },
  {
   "cell_type": "code",
   "execution_count": 42,
   "id": "76e663d1-0786-45b2-a7b5-7b6037e5e548",
   "metadata": {},
   "outputs": [
    {
     "data": {
      "text/html": [
       "<div>\n",
       "<style scoped>\n",
       "    .dataframe tbody tr th:only-of-type {\n",
       "        vertical-align: middle;\n",
       "    }\n",
       "\n",
       "    .dataframe tbody tr th {\n",
       "        vertical-align: top;\n",
       "    }\n",
       "\n",
       "    .dataframe thead th {\n",
       "        text-align: right;\n",
       "    }\n",
       "</style>\n",
       "<table border=\"1\" class=\"dataframe\">\n",
       "  <thead>\n",
       "    <tr style=\"text-align: right;\">\n",
       "      <th></th>\n",
       "      <th>from</th>\n",
       "      <th>total_transactions</th>\n",
       "      <th>total_value_eth</th>\n",
       "      <th>value_per_transaction</th>\n",
       "      <th>labels</th>\n",
       "    </tr>\n",
       "  </thead>\n",
       "  <tbody>\n",
       "    <tr>\n",
       "      <th>58591</th>\n",
       "      <td>0x28c6c06298d514db089934071355e5743bf21d60</td>\n",
       "      <td>5752</td>\n",
       "      <td>98599.05</td>\n",
       "      <td>17.14</td>\n",
       "      <td>Binance</td>\n",
       "    </tr>\n",
       "    <tr>\n",
       "      <th>71808</th>\n",
       "      <td>0x3229149012a035ef51d724e0343eb31ce3e4bb7d</td>\n",
       "      <td>36</td>\n",
       "      <td>93499.11</td>\n",
       "      <td>2597.20</td>\n",
       "      <td>No Label</td>\n",
       "    </tr>\n",
       "    <tr>\n",
       "      <th>298416</th>\n",
       "      <td>0xd24400ae8bfebb18ca49be86258a3c749cf46853</td>\n",
       "      <td>3101</td>\n",
       "      <td>49303.25</td>\n",
       "      <td>15.90</td>\n",
       "      <td>Gemini</td>\n",
       "    </tr>\n",
       "    <tr>\n",
       "      <th>273166</th>\n",
       "      <td>0xc098b2a3aa256d2140208c3de6543aaef5cd3a94</td>\n",
       "      <td>6896</td>\n",
       "      <td>49230.30</td>\n",
       "      <td>7.14</td>\n",
       "      <td>FTX Exchange</td>\n",
       "    </tr>\n",
       "    <tr>\n",
       "      <th>152887</th>\n",
       "      <td>0x6b3e9111635944e494da15714c60e06c58c367cc</td>\n",
       "      <td>1</td>\n",
       "      <td>48274.23</td>\n",
       "      <td>48274.23</td>\n",
       "      <td>NaN</td>\n",
       "    </tr>\n",
       "    <tr>\n",
       "      <th>46822</th>\n",
       "      <td>0x2077817661a2a0a12f8885dd39ed394f44cdc28a</td>\n",
       "      <td>1</td>\n",
       "      <td>48274.22</td>\n",
       "      <td>48274.22</td>\n",
       "      <td>No Label</td>\n",
       "    </tr>\n",
       "    <tr>\n",
       "      <th>8907</th>\n",
       "      <td>0x0600d21f9877caf9a823f4ef49049a417ad569f9</td>\n",
       "      <td>2</td>\n",
       "      <td>45495.26</td>\n",
       "      <td>22747.63</td>\n",
       "      <td>No Label</td>\n",
       "    </tr>\n",
       "    <tr>\n",
       "      <th>86959</th>\n",
       "      <td>0x3cd751e6b0078be393132286c442345e5dc49699</td>\n",
       "      <td>11734</td>\n",
       "      <td>30881.93</td>\n",
       "      <td>2.63</td>\n",
       "      <td>Coinbase</td>\n",
       "    </tr>\n",
       "    <tr>\n",
       "      <th>314943</th>\n",
       "      <td>0xddfabcdc4d8ffc6d5beaf154f18b778f892a0740</td>\n",
       "      <td>10074</td>\n",
       "      <td>29116.85</td>\n",
       "      <td>2.89</td>\n",
       "      <td>Coinbase</td>\n",
       "    </tr>\n",
       "    <tr>\n",
       "      <th>55279</th>\n",
       "      <td>0x267be1c1d684f78cb4f6a176c4911b741e4ffdc0</td>\n",
       "      <td>1331</td>\n",
       "      <td>28273.76</td>\n",
       "      <td>21.24</td>\n",
       "      <td>NaN</td>\n",
       "    </tr>\n",
       "  </tbody>\n",
       "</table>\n",
       "</div>"
      ],
      "text/plain": [
       "                                              from  total_transactions  \\\n",
       "58591   0x28c6c06298d514db089934071355e5743bf21d60                5752   \n",
       "71808   0x3229149012a035ef51d724e0343eb31ce3e4bb7d                  36   \n",
       "298416  0xd24400ae8bfebb18ca49be86258a3c749cf46853                3101   \n",
       "273166  0xc098b2a3aa256d2140208c3de6543aaef5cd3a94                6896   \n",
       "152887  0x6b3e9111635944e494da15714c60e06c58c367cc                   1   \n",
       "46822   0x2077817661a2a0a12f8885dd39ed394f44cdc28a                   1   \n",
       "8907    0x0600d21f9877caf9a823f4ef49049a417ad569f9                   2   \n",
       "86959   0x3cd751e6b0078be393132286c442345e5dc49699               11734   \n",
       "314943  0xddfabcdc4d8ffc6d5beaf154f18b778f892a0740               10074   \n",
       "55279   0x267be1c1d684f78cb4f6a176c4911b741e4ffdc0                1331   \n",
       "\n",
       "        total_value_eth  value_per_transaction        labels  \n",
       "58591          98599.05                  17.14       Binance  \n",
       "71808          93499.11                2597.20      No Label  \n",
       "298416         49303.25                  15.90        Gemini  \n",
       "273166         49230.30                   7.14  FTX Exchange  \n",
       "152887         48274.23               48274.23           NaN  \n",
       "46822          48274.22               48274.22      No Label  \n",
       "8907           45495.26               22747.63      No Label  \n",
       "86959          30881.93                   2.63      Coinbase  \n",
       "314943         29116.85                   2.89      Coinbase  \n",
       "55279          28273.76                  21.24           NaN  "
      ]
     },
     "execution_count": 42,
     "metadata": {},
     "output_type": "execute_result"
    }
   ],
   "source": [
    "df_agg_label.sort_values(by=['total_value_eth'], ascending=False).head(10)"
   ]
  },
  {
   "cell_type": "code",
   "execution_count": 32,
   "id": "586da20c-d298-474c-bf51-dfa02867d624",
   "metadata": {},
   "outputs": [],
   "source": [
    "df_agg_2021 = df.query('block_date == \"2021-07-06\"').groupby(['from']).agg(total_transactions=('hash','count'),\n",
    "                                                                           total_value_eth=('eth_value','sum'))\n",
    "df_agg_2021['value_per_transaction'] = df_agg_2021['total_value_eth']/df_agg_2021['total_transactions']\n",
    "df_agg_2021_label = df_agg_2021.reset_index().merge(df_labels, left_on='from', right_on='address', how='left')\n",
    "df_agg_2021_label.drop(columns='address', inplace=True)"
   ]
  },
  {
   "cell_type": "code",
   "execution_count": 41,
   "id": "b8c0ebbe-2fbe-4c2a-b71b-56f036b5e8d8",
   "metadata": {},
   "outputs": [
    {
     "data": {
      "text/html": [
       "<div>\n",
       "<style scoped>\n",
       "    .dataframe tbody tr th:only-of-type {\n",
       "        vertical-align: middle;\n",
       "    }\n",
       "\n",
       "    .dataframe tbody tr th {\n",
       "        vertical-align: top;\n",
       "    }\n",
       "\n",
       "    .dataframe thead th {\n",
       "        text-align: right;\n",
       "    }\n",
       "</style>\n",
       "<table border=\"1\" class=\"dataframe\">\n",
       "  <thead>\n",
       "    <tr style=\"text-align: right;\">\n",
       "      <th></th>\n",
       "      <th>from</th>\n",
       "      <th>total_transactions</th>\n",
       "      <th>total_value_eth</th>\n",
       "      <th>value_per_transaction</th>\n",
       "      <th>labels</th>\n",
       "    </tr>\n",
       "  </thead>\n",
       "  <tbody>\n",
       "    <tr>\n",
       "      <th>58801</th>\n",
       "      <td>0x28c6c06298d514db089934071355e5743bf21d60</td>\n",
       "      <td>26214</td>\n",
       "      <td>199100.24</td>\n",
       "      <td>7.60</td>\n",
       "      <td>Binance</td>\n",
       "    </tr>\n",
       "    <tr>\n",
       "      <th>333333</th>\n",
       "      <td>0xea674fdde714fd979de3edf0f56aa9716b898ec8</td>\n",
       "      <td>20714</td>\n",
       "      <td>5344.93</td>\n",
       "      <td>0.26</td>\n",
       "      <td>Ethermine</td>\n",
       "    </tr>\n",
       "    <tr>\n",
       "      <th>48836</th>\n",
       "      <td>0x21a31ee1afc51d94c2efccaa2092ad1028285549</td>\n",
       "      <td>17730</td>\n",
       "      <td>15577.60</td>\n",
       "      <td>0.88</td>\n",
       "      <td>Binance</td>\n",
       "    </tr>\n",
       "    <tr>\n",
       "      <th>100911</th>\n",
       "      <td>0x46340b20830761efd32832a74d7169b29feb9758</td>\n",
       "      <td>17182</td>\n",
       "      <td>4324.64</td>\n",
       "      <td>0.25</td>\n",
       "      <td>Crypto.com</td>\n",
       "    </tr>\n",
       "    <tr>\n",
       "      <th>87484</th>\n",
       "      <td>0x3cd751e6b0078be393132286c442345e5dc49699</td>\n",
       "      <td>16787</td>\n",
       "      <td>31528.93</td>\n",
       "      <td>1.88</td>\n",
       "      <td>Coinbase</td>\n",
       "    </tr>\n",
       "    <tr>\n",
       "      <th>259277</th>\n",
       "      <td>0xb5d85cbf7cb3ee0d56b3bb207d5fc4b82f43f511</td>\n",
       "      <td>16046</td>\n",
       "      <td>24213.11</td>\n",
       "      <td>1.51</td>\n",
       "      <td>Coinbase</td>\n",
       "    </tr>\n",
       "    <tr>\n",
       "      <th>315797</th>\n",
       "      <td>0xddfabcdc4d8ffc6d5beaf154f18b778f892a0740</td>\n",
       "      <td>15380</td>\n",
       "      <td>17467.00</td>\n",
       "      <td>1.14</td>\n",
       "      <td>Coinbase</td>\n",
       "    </tr>\n",
       "    <tr>\n",
       "      <th>318455</th>\n",
       "      <td>0xdfd5293d8e347dfe59e90efd55b2956a1343963d</td>\n",
       "      <td>15225</td>\n",
       "      <td>26675.91</td>\n",
       "      <td>1.75</td>\n",
       "      <td>Binance</td>\n",
       "    </tr>\n",
       "    <tr>\n",
       "      <th>124381</th>\n",
       "      <td>0x56eddb7aa87536c09ccc2793473599fd21a8b17f</td>\n",
       "      <td>13690</td>\n",
       "      <td>40479.40</td>\n",
       "      <td>2.96</td>\n",
       "      <td>Binance</td>\n",
       "    </tr>\n",
       "    <tr>\n",
       "      <th>214634</th>\n",
       "      <td>0x9696f59e4d72e237be84ffd425dcad154bf96976</td>\n",
       "      <td>13268</td>\n",
       "      <td>43348.34</td>\n",
       "      <td>3.27</td>\n",
       "      <td>Binance</td>\n",
       "    </tr>\n",
       "  </tbody>\n",
       "</table>\n",
       "</div>"
      ],
      "text/plain": [
       "                                              from  total_transactions  \\\n",
       "58801   0x28c6c06298d514db089934071355e5743bf21d60               26214   \n",
       "333333  0xea674fdde714fd979de3edf0f56aa9716b898ec8               20714   \n",
       "48836   0x21a31ee1afc51d94c2efccaa2092ad1028285549               17730   \n",
       "100911  0x46340b20830761efd32832a74d7169b29feb9758               17182   \n",
       "87484   0x3cd751e6b0078be393132286c442345e5dc49699               16787   \n",
       "259277  0xb5d85cbf7cb3ee0d56b3bb207d5fc4b82f43f511               16046   \n",
       "315797  0xddfabcdc4d8ffc6d5beaf154f18b778f892a0740               15380   \n",
       "318455  0xdfd5293d8e347dfe59e90efd55b2956a1343963d               15225   \n",
       "124381  0x56eddb7aa87536c09ccc2793473599fd21a8b17f               13690   \n",
       "214634  0x9696f59e4d72e237be84ffd425dcad154bf96976               13268   \n",
       "\n",
       "        total_value_eth  value_per_transaction      labels  \n",
       "58801         199100.24                   7.60     Binance  \n",
       "333333          5344.93                   0.26   Ethermine  \n",
       "48836          15577.60                   0.88     Binance  \n",
       "100911          4324.64                   0.25  Crypto.com  \n",
       "87484          31528.93                   1.88    Coinbase  \n",
       "259277         24213.11                   1.51    Coinbase  \n",
       "315797         17467.00                   1.14    Coinbase  \n",
       "318455         26675.91                   1.75     Binance  \n",
       "124381         40479.40                   2.96     Binance  \n",
       "214634         43348.34                   3.27     Binance  "
      ]
     },
     "execution_count": 41,
     "metadata": {},
     "output_type": "execute_result"
    }
   ],
   "source": [
    "df_agg_2021_label.sort_values(by=['total_transactions','total_value_eth'], ascending=[False,False]).head(10)"
   ]
  },
  {
   "cell_type": "markdown",
   "id": "d0419b07-c339-4746-a3ea-9c5c093ebdff",
   "metadata": {},
   "source": [
    "## Create a list of addresses with labels\n",
    "Source: https://dune.com/labels and https://etherscan.io/"
   ]
  },
  {
   "cell_type": "code",
   "execution_count": 82,
   "id": "2f51c12b-6852-4ddb-8435-32076e8689d0",
   "metadata": {},
   "outputs": [],
   "source": [
    "# address_labels = {}\n",
    "# address_labels['address'] = df_agg.sort_values(by='total_transactions', ascending=False).reset_index().loc[:29,'from'].tolist()"
   ]
  },
  {
   "cell_type": "code",
   "execution_count": 83,
   "id": "0a1a2aac-4b3b-449c-a3b0-7afaf32f9ae9",
   "metadata": {},
   "outputs": [],
   "source": [
    "# address_labels['labels'] = ['Ethermine','Coinbase','Coinbase','Coinbase','Coinbase','Crypto.com','FTX Exchange','FTX Exchange','Binance','Binance',\n",
    "#                             'Binance','No Label','KuCoin','Binance','2Miners: PPLNS','Binance','No Label','Hiveon: Spreader','Flexpool.io','F2Pool Old',\n",
    "#                             'Hiveon: Spreader','Gemini','No Label','Binance','No Label','No Label','No Label','Coinbase','No Label','No Label']"
   ]
  },
  {
   "cell_type": "code",
   "execution_count": 84,
   "id": "2eb77bee-8671-4de7-85ff-d4dabb0d2b4e",
   "metadata": {},
   "outputs": [],
   "source": [
    "# address_labels_str = json.dumps(address_labels)\n",
    "# with open(f'{PATH}address_labels.json', 'w') as f:\n",
    "#     f.write(address_labels_str)"
   ]
  },
  {
   "cell_type": "markdown",
   "id": "3529641c-a252-451a-8bc5-d530ddc7a594",
   "metadata": {},
   "source": [
    "## Key Findings\n",
    "- Compared to 6 July 2021, on 6 July 2022, there was 14% less in transactions."
   ]
  }
 ],
 "metadata": {
  "kernelspec": {
   "display_name": "blockchain:Python",
   "language": "python",
   "name": "conda-env-blockchain-py"
  },
  "language_info": {
   "codemirror_mode": {
    "name": "ipython",
    "version": 3
   },
   "file_extension": ".py",
   "mimetype": "text/x-python",
   "name": "python",
   "nbconvert_exporter": "python",
   "pygments_lexer": "ipython3",
   "version": "3.10.4"
  }
 },
 "nbformat": 4,
 "nbformat_minor": 5
}
