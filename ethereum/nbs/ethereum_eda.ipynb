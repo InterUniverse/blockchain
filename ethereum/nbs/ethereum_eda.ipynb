{
 "cells": [
  {
   "cell_type": "markdown",
   "id": "0a17a051-b2d1-49b4-bc54-14e1c92ebecc",
   "metadata": {},
   "source": [
    "# Ethereum transactions exploratory data analysis"
   ]
  },
  {
   "cell_type": "markdown",
   "id": "1414b4a8-273b-4fff-b923-509a3dcad44d",
   "metadata": {},
   "source": [
    "### Read the pandas dataframe parquet files"
   ]
  },
  {
   "cell_type": "code",
   "execution_count": 1,
   "id": "42be4792-70d7-40a4-a8fe-102e9576f29d",
   "metadata": {
    "tags": []
   },
   "outputs": [],
   "source": [
    "import os\n",
    "import json\n",
    "\n",
    "import pandas as pd\n",
    "import numpy as np\n",
    "import altair as alt"
   ]
  },
  {
   "cell_type": "code",
   "execution_count": 2,
   "id": "ebdba266-9207-48c3-8045-99523820d73e",
   "metadata": {},
   "outputs": [],
   "source": [
    "PATH = '../data/'"
   ]
  },
  {
   "cell_type": "code",
   "execution_count": 3,
   "id": "6a45031b-ed85-4053-872d-28846e176165",
   "metadata": {},
   "outputs": [],
   "source": [
    "# Set dataframe display behaviours \n",
    "pd.set_option('display.max_columns', 100, 'display.max_rows', 100, 'display.max_colwidth', 100, 'display.float_format', '{:.4f}'.format)"
   ]
  },
  {
   "cell_type": "code",
   "execution_count": 4,
   "id": "71a62e26-9d04-4519-b52e-c6197e0d2de7",
   "metadata": {},
   "outputs": [],
   "source": [
    "file_dir = os.listdir(PATH)\n",
    "file_list = [os.path.join(PATH, file) for file in file_dir if file.startswith('df_')]"
   ]
  },
  {
   "cell_type": "code",
   "execution_count": 5,
   "id": "8275eba4-e03b-4455-9fad-9713f9cfa26e",
   "metadata": {},
   "outputs": [],
   "source": [
    "df_raw = pd.concat([pd.read_parquet(file) for file in file_list])"
   ]
  },
  {
   "cell_type": "code",
   "execution_count": 6,
   "id": "336d5c52-965d-4e66-be86-d42ba3fdf54b",
   "metadata": {},
   "outputs": [],
   "source": [
    "df = df_raw.copy()"
   ]
  },
  {
   "cell_type": "markdown",
   "id": "8f733007-2f04-46ee-a200-429f3a666aba",
   "metadata": {},
   "source": [
    "### Convert `type` to categorical data type"
   ]
  },
  {
   "cell_type": "code",
   "execution_count": 7,
   "id": "0cb507f5-1790-4b23-995d-930497107f6d",
   "metadata": {},
   "outputs": [],
   "source": [
    "df['type'] = df['type'].astype('category')"
   ]
  },
  {
   "cell_type": "markdown",
   "id": "22cbad29-0fb5-40e7-99f3-72e3f280770e",
   "metadata": {},
   "source": [
    "### Add `eth_value` column\n",
    "Convert `value` which by default is in Wei (the smallest unit of Ether) to Ether.  \n",
    "1 ETH = 10^18 Wei  \n",
    "1 ETH = 10^9 Gwei"
   ]
  },
  {
   "cell_type": "code",
   "execution_count": 8,
   "id": "dae296d8-d28a-48b0-9565-8c15841eff61",
   "metadata": {},
   "outputs": [],
   "source": [
    "df['eth_value'] = df['value'].div(10**18)"
   ]
  },
  {
   "cell_type": "markdown",
   "id": "fcb633de-cd9e-4f7f-86d1-c4b3e3e82e9c",
   "metadata": {},
   "source": [
    "### Read the block aggregated transaction counts json file\n",
    "This dataset is a total count of transactions per day rather than raw transactions."
   ]
  },
  {
   "cell_type": "code",
   "execution_count": 9,
   "id": "dfc114df-9210-4867-804f-accc5e83da48",
   "metadata": {},
   "outputs": [],
   "source": [
    "block_txn = json.load(open('../data/raw/block_txn_counts.json'))\n",
    "df_txn_raw = pd.DataFrame(block_txn)\n",
    "df_txn = df_txn_raw.copy()"
   ]
  },
  {
   "cell_type": "markdown",
   "id": "695d381e-4cd1-4bb9-afd5-37f9bc838758",
   "metadata": {},
   "source": [
    "### Convert `block_timestamp` to datetime and create `block_date` field"
   ]
  },
  {
   "cell_type": "code",
   "execution_count": 10,
   "id": "5a5bc439-ba73-4620-adc9-d8dfd094972e",
   "metadata": {},
   "outputs": [],
   "source": [
    "df_txn['block_timestamp'] = df_txn['block_timestamp'].astype('datetime64[s]')\n",
    "df_txn['block_date'] = df_txn['block_timestamp'].astype('datetime64[D]')"
   ]
  },
  {
   "cell_type": "markdown",
   "id": "7212c386-3768-494e-914c-4b0d4c551f27",
   "metadata": {},
   "source": [
    "### Read the address labels json file"
   ]
  },
  {
   "cell_type": "code",
   "execution_count": 11,
   "id": "8b163ecc-bfac-4e64-a5d0-949b433c7524",
   "metadata": {},
   "outputs": [],
   "source": [
    "df_labels = pd.read_parquet(f'{PATH}address_labels.parquet')"
   ]
  },
  {
   "cell_type": "markdown",
   "id": "a36d8203-fbd1-4f75-a65b-5104409a79d9",
   "metadata": {},
   "source": [
    "### The Ethereum raw transactions dataset\n",
    "- Due to memory and storage limitation of the Jupyter free instance on the cloud, only raw transactions from 1 July 2022 to 7 July 2022 and 6 July 2021 were extracted from the API of a remote node provider (Alchemy).\n",
    "- Raw transactions for 30 June and 8 July 2022 are incomplete.\n",
    "- The total number of transactions for below dates (except 30 June and 8 July 2022) matches those in [Dune](add link)"
   ]
  },
  {
   "cell_type": "markdown",
   "id": "9e1b3738-33d7-45e0-9c79-939e285220cd",
   "metadata": {},
   "source": [
    "#### The number of transactions in the dataset by date"
   ]
  },
  {
   "cell_type": "code",
   "execution_count": 28,
   "id": "7288cc7f-87fa-44cc-a1b1-a96649b4e6dc",
   "metadata": {},
   "outputs": [
    {
     "data": {
      "text/plain": [
       "block_date\n",
       "2021-07-06    1355421\n",
       "2022-06-30        511\n",
       "2022-07-01    1178620\n",
       "2022-07-02    1189382\n",
       "2022-07-03    1157052\n",
       "2022-07-04    1151999\n",
       "2022-07-05    1182504\n",
       "2022-07-06    1161432\n",
       "2022-07-07    1194330\n",
       "2022-07-08      76276\n",
       "dtype: int64"
      ]
     },
     "execution_count": 28,
     "metadata": {},
     "output_type": "execute_result"
    }
   ],
   "source": [
    "df.groupby(['block_date']).size()"
   ]
  },
  {
   "cell_type": "code",
   "execution_count": 29,
   "id": "f8853c7e-c3ad-47b4-a622-d59c13be98ee",
   "metadata": {},
   "outputs": [
    {
     "data": {
      "text/html": [
       "<div>\n",
       "<style scoped>\n",
       "    .dataframe tbody tr th:only-of-type {\n",
       "        vertical-align: middle;\n",
       "    }\n",
       "\n",
       "    .dataframe tbody tr th {\n",
       "        vertical-align: top;\n",
       "    }\n",
       "\n",
       "    .dataframe thead th {\n",
       "        text-align: right;\n",
       "    }\n",
       "</style>\n",
       "<table border=\"1\" class=\"dataframe\">\n",
       "  <thead>\n",
       "    <tr style=\"text-align: right;\">\n",
       "      <th></th>\n",
       "      <th>hash</th>\n",
       "      <th>blockHash</th>\n",
       "      <th>blockNumber</th>\n",
       "      <th>chainId</th>\n",
       "      <th>from</th>\n",
       "      <th>gas</th>\n",
       "      <th>gasPrice</th>\n",
       "      <th>input</th>\n",
       "      <th>maxFeePerGas</th>\n",
       "      <th>maxPriorityFeePerGas</th>\n",
       "      <th>nonce</th>\n",
       "      <th>to</th>\n",
       "      <th>transactionIndex</th>\n",
       "      <th>type</th>\n",
       "      <th>value</th>\n",
       "      <th>block_timestamp</th>\n",
       "      <th>block_date</th>\n",
       "      <th>eth_value</th>\n",
       "    </tr>\n",
       "  </thead>\n",
       "  <tbody>\n",
       "    <tr>\n",
       "      <th>1125015</th>\n",
       "      <td>0x78d88e4c50b9c1a97093d7f303dd43441da5d4b7636d95fe70b8dd132c44e4f9</td>\n",
       "      <td>0x64fe66e59f0b5395f0640790d9ea3b3279354220a1d121972b88ca3024782f2f</td>\n",
       "      <td>15059755</td>\n",
       "      <td>1.0000</td>\n",
       "      <td>0x3cd751e6b0078be393132286c442345e5dc49699</td>\n",
       "      <td>21000</td>\n",
       "      <td>33525372544</td>\n",
       "      <td>0x</td>\n",
       "      <td>57000000000.0000</td>\n",
       "      <td>2000000000.0000</td>\n",
       "      <td>8243372</td>\n",
       "      <td>0x6794767befe0ff5fb1f308980668cbed1f494d6e</td>\n",
       "      <td>36</td>\n",
       "      <td>2</td>\n",
       "      <td>29096000000000000.0000</td>\n",
       "      <td>2022-07-02 00:18:01</td>\n",
       "      <td>2022-07-02</td>\n",
       "      <td>0.0291</td>\n",
       "    </tr>\n",
       "    <tr>\n",
       "      <th>622755</th>\n",
       "      <td>0x0f86345519a94e715c63120e6ad9f8d01e7bf38fd779107cfd060c7da02f755c</td>\n",
       "      <td>0xb661f9e5210ee76caef30cdc048e172cc74fb82bab8c3c1210e26c4aef7baac8</td>\n",
       "      <td>15085408</td>\n",
       "      <td>NaN</td>\n",
       "      <td>0xdf6c4ff43d5f0578b27f0bd7ebf49ab34b52ddd9</td>\n",
       "      <td>500000</td>\n",
       "      <td>130000000000</td>\n",
       "      <td>0x095ea7b30000000000000000000000007a250d5630b4cf539739df2c5dacb4c659f2488dffffffffffffffffffffff...</td>\n",
       "      <td>NaN</td>\n",
       "      <td>NaN</td>\n",
       "      <td>379</td>\n",
       "      <td>0x4da8126300cb00c4fd956d218d732f90067c849e</td>\n",
       "      <td>8</td>\n",
       "      <td>0</td>\n",
       "      <td>0.0000</td>\n",
       "      <td>2022-07-05 23:11:20</td>\n",
       "      <td>2022-07-05</td>\n",
       "      <td>0.0000</td>\n",
       "    </tr>\n",
       "    <tr>\n",
       "      <th>1326773</th>\n",
       "      <td>0xf78adf1b11415d9a8a20440c9ccd8dfb9ef58136e74d8ca2abb47e65e60fb0bf</td>\n",
       "      <td>0xce738e86b5f4a00ee4813974c15642c6ee8f11064057c47e2650bdde886935ff</td>\n",
       "      <td>12776884</td>\n",
       "      <td>NaN</td>\n",
       "      <td>0x46340b20830761efd32832a74d7169b29feb9758</td>\n",
       "      <td>350000</td>\n",
       "      <td>37000000000</td>\n",
       "      <td>0xa9059cbb0000000000000000000000006a9f839381ae927f17f842d33b3b29a679cef1f50000000000000000000000...</td>\n",
       "      <td>NaN</td>\n",
       "      <td>NaN</td>\n",
       "      <td>2648177</td>\n",
       "      <td>0x95ad61b0a150d79219dcf64e1e6cc01f0b64c4ce</td>\n",
       "      <td>127</td>\n",
       "      <td>0</td>\n",
       "      <td>0.0000</td>\n",
       "      <td>2021-07-06 23:31:50</td>\n",
       "      <td>2021-07-06</td>\n",
       "      <td>0.0000</td>\n",
       "    </tr>\n",
       "    <tr>\n",
       "      <th>2819143</th>\n",
       "      <td>0x319c8ad1cb3c28bc70aa50c0e838e4f054d7e394cc5c20c4b54d2601c2f1a031</td>\n",
       "      <td>0x7ed1c84977b5564a8ea216a25c56ea89adf5689ae09ac3112ef89deafe4f27f0</td>\n",
       "      <td>15097465</td>\n",
       "      <td>1.0000</td>\n",
       "      <td>0x4d355e966ea4fe3eae6ccf8db60f5df70d653f78</td>\n",
       "      <td>47029</td>\n",
       "      <td>59195268370</td>\n",
       "      <td>0x5b34b966</td>\n",
       "      <td>118064488712.0000</td>\n",
       "      <td>2500000000.0000</td>\n",
       "      <td>90</td>\n",
       "      <td>0x00000000006c3852cbef3e08e8df289169ede581</td>\n",
       "      <td>88</td>\n",
       "      <td>2</td>\n",
       "      <td>0.0000</td>\n",
       "      <td>2022-07-07 20:06:42</td>\n",
       "      <td>2022-07-07</td>\n",
       "      <td>0.0000</td>\n",
       "    </tr>\n",
       "    <tr>\n",
       "      <th>610280</th>\n",
       "      <td>0xb3bf549c807938d92db38c9290345684bb862a84fa0565c26192eb8d7a633990</td>\n",
       "      <td>0x4b7e09589e42430117ff2f0d1d011f609c9d041b08ffcfe49dcbc12155d21885</td>\n",
       "      <td>15067603</td>\n",
       "      <td>1.0000</td>\n",
       "      <td>0x46014290d380eda76a3e823023e5e88026248191</td>\n",
       "      <td>320000</td>\n",
       "      <td>16012104051</td>\n",
       "      <td>0xfb0f3ee100000000000000000000000000000000000000000000000000000000000000200000000000000000000000...</td>\n",
       "      <td>100000000000.0000</td>\n",
       "      <td>2500000000.0000</td>\n",
       "      <td>384</td>\n",
       "      <td>0x00000000006c3852cbef3e08e8df289169ede581</td>\n",
       "      <td>155</td>\n",
       "      <td>2</td>\n",
       "      <td>11000000000000000.0000</td>\n",
       "      <td>2022-07-03 05:12:49</td>\n",
       "      <td>2022-07-03</td>\n",
       "      <td>0.0110</td>\n",
       "    </tr>\n",
       "  </tbody>\n",
       "</table>\n",
       "</div>"
      ],
      "text/plain": [
       "                                                                       hash  \\\n",
       "1125015  0x78d88e4c50b9c1a97093d7f303dd43441da5d4b7636d95fe70b8dd132c44e4f9   \n",
       "622755   0x0f86345519a94e715c63120e6ad9f8d01e7bf38fd779107cfd060c7da02f755c   \n",
       "1326773  0xf78adf1b11415d9a8a20440c9ccd8dfb9ef58136e74d8ca2abb47e65e60fb0bf   \n",
       "2819143  0x319c8ad1cb3c28bc70aa50c0e838e4f054d7e394cc5c20c4b54d2601c2f1a031   \n",
       "610280   0xb3bf549c807938d92db38c9290345684bb862a84fa0565c26192eb8d7a633990   \n",
       "\n",
       "                                                                  blockHash  \\\n",
       "1125015  0x64fe66e59f0b5395f0640790d9ea3b3279354220a1d121972b88ca3024782f2f   \n",
       "622755   0xb661f9e5210ee76caef30cdc048e172cc74fb82bab8c3c1210e26c4aef7baac8   \n",
       "1326773  0xce738e86b5f4a00ee4813974c15642c6ee8f11064057c47e2650bdde886935ff   \n",
       "2819143  0x7ed1c84977b5564a8ea216a25c56ea89adf5689ae09ac3112ef89deafe4f27f0   \n",
       "610280   0x4b7e09589e42430117ff2f0d1d011f609c9d041b08ffcfe49dcbc12155d21885   \n",
       "\n",
       "         blockNumber  chainId                                        from  \\\n",
       "1125015     15059755   1.0000  0x3cd751e6b0078be393132286c442345e5dc49699   \n",
       "622755      15085408      NaN  0xdf6c4ff43d5f0578b27f0bd7ebf49ab34b52ddd9   \n",
       "1326773     12776884      NaN  0x46340b20830761efd32832a74d7169b29feb9758   \n",
       "2819143     15097465   1.0000  0x4d355e966ea4fe3eae6ccf8db60f5df70d653f78   \n",
       "610280      15067603   1.0000  0x46014290d380eda76a3e823023e5e88026248191   \n",
       "\n",
       "            gas      gasPrice  \\\n",
       "1125015   21000   33525372544   \n",
       "622755   500000  130000000000   \n",
       "1326773  350000   37000000000   \n",
       "2819143   47029   59195268370   \n",
       "610280   320000   16012104051   \n",
       "\n",
       "                                                                                                       input  \\\n",
       "1125015                                                                                                   0x   \n",
       "622755   0x095ea7b30000000000000000000000007a250d5630b4cf539739df2c5dacb4c659f2488dffffffffffffffffffffff...   \n",
       "1326773  0xa9059cbb0000000000000000000000006a9f839381ae927f17f842d33b3b29a679cef1f50000000000000000000000...   \n",
       "2819143                                                                                           0x5b34b966   \n",
       "610280   0xfb0f3ee100000000000000000000000000000000000000000000000000000000000000200000000000000000000000...   \n",
       "\n",
       "             maxFeePerGas  maxPriorityFeePerGas    nonce  \\\n",
       "1125015  57000000000.0000       2000000000.0000  8243372   \n",
       "622755                NaN                   NaN      379   \n",
       "1326773               NaN                   NaN  2648177   \n",
       "2819143 118064488712.0000       2500000000.0000       90   \n",
       "610280  100000000000.0000       2500000000.0000      384   \n",
       "\n",
       "                                                 to  transactionIndex type  \\\n",
       "1125015  0x6794767befe0ff5fb1f308980668cbed1f494d6e                36    2   \n",
       "622755   0x4da8126300cb00c4fd956d218d732f90067c849e                 8    0   \n",
       "1326773  0x95ad61b0a150d79219dcf64e1e6cc01f0b64c4ce               127    0   \n",
       "2819143  0x00000000006c3852cbef3e08e8df289169ede581                88    2   \n",
       "610280   0x00000000006c3852cbef3e08e8df289169ede581               155    2   \n",
       "\n",
       "                         value     block_timestamp block_date  eth_value  \n",
       "1125015 29096000000000000.0000 2022-07-02 00:18:01 2022-07-02     0.0291  \n",
       "622755                  0.0000 2022-07-05 23:11:20 2022-07-05     0.0000  \n",
       "1326773                 0.0000 2021-07-06 23:31:50 2021-07-06     0.0000  \n",
       "2819143                 0.0000 2022-07-07 20:06:42 2022-07-07     0.0000  \n",
       "610280  11000000000000000.0000 2022-07-03 05:12:49 2022-07-03     0.0110  "
      ]
     },
     "execution_count": 29,
     "metadata": {},
     "output_type": "execute_result"
    }
   ],
   "source": [
    "df.sample(5)"
   ]
  },
  {
   "cell_type": "markdown",
   "id": "54a25d84-6ded-4506-9f9e-6d85da63de7a",
   "metadata": {},
   "source": [
    "### Year over year transactions difference July 2021 vs July 2022"
   ]
  },
  {
   "cell_type": "code",
   "execution_count": 21,
   "id": "28c2a7fe-7226-4466-ad97-2cbff06af1ef",
   "metadata": {},
   "outputs": [],
   "source": [
    "txn_daily = df_txn.query('block_date.between(\"2021-07-01\",\"2021-07-07\", inclusive=\"both\") or block_date.between(\"2022-07-01\",\"2022-07-07\", inclusive=\"both\")')\n",
    "txn_daily = txn_daily.groupby(['block_date']).agg(transactions=('block_transactions','sum'))"
   ]
  },
  {
   "cell_type": "code",
   "execution_count": 22,
   "id": "db8a2d16-21b4-4c20-9be3-460f85e118d1",
   "metadata": {},
   "outputs": [],
   "source": [
    "txn_daily = txn_daily.reset_index()\n",
    "txn_daily['block_year'] = txn_daily['block_date'].dt.year"
   ]
  },
  {
   "cell_type": "code",
   "execution_count": 28,
   "id": "75505163-bee8-4836-b7ef-fde58833e6b8",
   "metadata": {},
   "outputs": [
    {
     "data": {
      "text/html": [
       "\n",
       "<div id=\"altair-viz-fbdc4a4345ee4691b212dde52da7497a\"></div>\n",
       "<script type=\"text/javascript\">\n",
       "  var VEGA_DEBUG = (typeof VEGA_DEBUG == \"undefined\") ? {} : VEGA_DEBUG;\n",
       "  (function(spec, embedOpt){\n",
       "    let outputDiv = document.currentScript.previousElementSibling;\n",
       "    if (outputDiv.id !== \"altair-viz-fbdc4a4345ee4691b212dde52da7497a\") {\n",
       "      outputDiv = document.getElementById(\"altair-viz-fbdc4a4345ee4691b212dde52da7497a\");\n",
       "    }\n",
       "    const paths = {\n",
       "      \"vega\": \"https://cdn.jsdelivr.net/npm//vega@5?noext\",\n",
       "      \"vega-lib\": \"https://cdn.jsdelivr.net/npm//vega-lib?noext\",\n",
       "      \"vega-lite\": \"https://cdn.jsdelivr.net/npm//vega-lite@4.17.0?noext\",\n",
       "      \"vega-embed\": \"https://cdn.jsdelivr.net/npm//vega-embed@6?noext\",\n",
       "    };\n",
       "\n",
       "    function maybeLoadScript(lib, version) {\n",
       "      var key = `${lib.replace(\"-\", \"\")}_version`;\n",
       "      return (VEGA_DEBUG[key] == version) ?\n",
       "        Promise.resolve(paths[lib]) :\n",
       "        new Promise(function(resolve, reject) {\n",
       "          var s = document.createElement('script');\n",
       "          document.getElementsByTagName(\"head\")[0].appendChild(s);\n",
       "          s.async = true;\n",
       "          s.onload = () => {\n",
       "            VEGA_DEBUG[key] = version;\n",
       "            return resolve(paths[lib]);\n",
       "          };\n",
       "          s.onerror = () => reject(`Error loading script: ${paths[lib]}`);\n",
       "          s.src = paths[lib];\n",
       "        });\n",
       "    }\n",
       "\n",
       "    function showError(err) {\n",
       "      outputDiv.innerHTML = `<div class=\"error\" style=\"color:red;\">${err}</div>`;\n",
       "      throw err;\n",
       "    }\n",
       "\n",
       "    function displayChart(vegaEmbed) {\n",
       "      vegaEmbed(outputDiv, spec, embedOpt)\n",
       "        .catch(err => showError(`Javascript Error: ${err.message}<br>This usually means there's a typo in your chart specification. See the javascript console for the full traceback.`));\n",
       "    }\n",
       "\n",
       "    if(typeof define === \"function\" && define.amd) {\n",
       "      requirejs.config({paths});\n",
       "      require([\"vega-embed\"], displayChart, err => showError(`Error loading script: ${err.message}`));\n",
       "    } else {\n",
       "      maybeLoadScript(\"vega\", \"5\")\n",
       "        .then(() => maybeLoadScript(\"vega-lite\", \"4.17.0\"))\n",
       "        .then(() => maybeLoadScript(\"vega-embed\", \"6\"))\n",
       "        .catch(showError)\n",
       "        .then(() => displayChart(vegaEmbed));\n",
       "    }\n",
       "  })({\"config\": {\"view\": {\"continuousWidth\": 400, \"continuousHeight\": 300}}, \"data\": {\"name\": \"data-026db85f04635e99c03945e9fb5e3c19\"}, \"mark\": \"line\", \"encoding\": {\"color\": {\"field\": \"block_year\", \"legend\": {\"title\": \"year\"}, \"scale\": {\"range\": [\"saddlebrown\", \"steelblue\"]}, \"type\": \"nominal\"}, \"tooltip\": [{\"field\": \"transactions\", \"format\": \",\", \"type\": \"quantitative\"}, {\"field\": \"block_year\", \"title\": \"year\", \"type\": \"quantitative\"}], \"x\": {\"field\": \"block_date\", \"timeUnit\": \"monthdate\", \"title\": \"Month-Day\", \"type\": \"ordinal\"}, \"y\": {\"field\": \"transactions\", \"type\": \"quantitative\"}}, \"height\": 500, \"width\": 800, \"$schema\": \"https://vega.github.io/schema/vega-lite/v4.17.0.json\", \"datasets\": {\"data-026db85f04635e99c03945e9fb5e3c19\": [{\"block_date\": \"2021-07-01T00:00:00\", \"transactions\": 1211710, \"block_year\": 2021}, {\"block_date\": \"2021-07-02T00:00:00\", \"transactions\": 1181574, \"block_year\": 2021}, {\"block_date\": \"2021-07-03T00:00:00\", \"transactions\": 1122543, \"block_year\": 2021}, {\"block_date\": \"2021-07-04T00:00:00\", \"transactions\": 1105343, \"block_year\": 2021}, {\"block_date\": \"2021-07-05T00:00:00\", \"transactions\": 1147895, \"block_year\": 2021}, {\"block_date\": \"2021-07-06T00:00:00\", \"transactions\": 1355421, \"block_year\": 2021}, {\"block_date\": \"2021-07-07T00:00:00\", \"transactions\": 1290979, \"block_year\": 2021}, {\"block_date\": \"2022-07-01T00:00:00\", \"transactions\": 1178620, \"block_year\": 2022}, {\"block_date\": \"2022-07-02T00:00:00\", \"transactions\": 1189382, \"block_year\": 2022}, {\"block_date\": \"2022-07-03T00:00:00\", \"transactions\": 1157052, \"block_year\": 2022}, {\"block_date\": \"2022-07-04T00:00:00\", \"transactions\": 1151999, \"block_year\": 2022}, {\"block_date\": \"2022-07-05T00:00:00\", \"transactions\": 1182504, \"block_year\": 2022}, {\"block_date\": \"2022-07-06T00:00:00\", \"transactions\": 1161432, \"block_year\": 2022}, {\"block_date\": \"2022-07-07T00:00:00\", \"transactions\": 1194330, \"block_year\": 2022}]}}, {\"mode\": \"vega-lite\"});\n",
       "</script>"
      ],
      "text/plain": [
       "alt.Chart(...)"
      ]
     },
     "execution_count": 28,
     "metadata": {},
     "output_type": "execute_result"
    }
   ],
   "source": [
    "alt.Chart(txn_daily).mark_line().encode(\n",
    "    x=alt.X('monthdate(block_date):O', title='Month-Day'),\n",
    "    y='transactions:Q',\n",
    "    color=alt.Color('block_year:N', scale=alt.Scale(range=['saddlebrown','steelblue']), legend=alt.Legend(title='year')),\n",
    "    tooltip=[alt.Tooltip('transactions', format=','), alt.Tooltip('block_year', title='year')],\n",
    ").properties(\n",
    "    height=500,\n",
    "    width=800\n",
    ")"
   ]
  },
  {
   "cell_type": "code",
   "execution_count": 34,
   "id": "1ba3cb0f-2e44-4458-9a80-ba2c1ba0f9ce",
   "metadata": {},
   "outputs": [],
   "source": [
    "txn_daily_pct = txn_daily.set_index('block_date').drop(columns='block_year').pct_change(periods=7).dropna()"
   ]
  },
  {
   "cell_type": "code",
   "execution_count": 41,
   "id": "ee69b7f1-7934-40df-bf9a-40756b39fbd2",
   "metadata": {},
   "outputs": [
    {
     "data": {
      "text/html": [
       "\n",
       "<div id=\"altair-viz-a8a6192d99824e3fb038e6c383de409d\"></div>\n",
       "<script type=\"text/javascript\">\n",
       "  var VEGA_DEBUG = (typeof VEGA_DEBUG == \"undefined\") ? {} : VEGA_DEBUG;\n",
       "  (function(spec, embedOpt){\n",
       "    let outputDiv = document.currentScript.previousElementSibling;\n",
       "    if (outputDiv.id !== \"altair-viz-a8a6192d99824e3fb038e6c383de409d\") {\n",
       "      outputDiv = document.getElementById(\"altair-viz-a8a6192d99824e3fb038e6c383de409d\");\n",
       "    }\n",
       "    const paths = {\n",
       "      \"vega\": \"https://cdn.jsdelivr.net/npm//vega@5?noext\",\n",
       "      \"vega-lib\": \"https://cdn.jsdelivr.net/npm//vega-lib?noext\",\n",
       "      \"vega-lite\": \"https://cdn.jsdelivr.net/npm//vega-lite@4.17.0?noext\",\n",
       "      \"vega-embed\": \"https://cdn.jsdelivr.net/npm//vega-embed@6?noext\",\n",
       "    };\n",
       "\n",
       "    function maybeLoadScript(lib, version) {\n",
       "      var key = `${lib.replace(\"-\", \"\")}_version`;\n",
       "      return (VEGA_DEBUG[key] == version) ?\n",
       "        Promise.resolve(paths[lib]) :\n",
       "        new Promise(function(resolve, reject) {\n",
       "          var s = document.createElement('script');\n",
       "          document.getElementsByTagName(\"head\")[0].appendChild(s);\n",
       "          s.async = true;\n",
       "          s.onload = () => {\n",
       "            VEGA_DEBUG[key] = version;\n",
       "            return resolve(paths[lib]);\n",
       "          };\n",
       "          s.onerror = () => reject(`Error loading script: ${paths[lib]}`);\n",
       "          s.src = paths[lib];\n",
       "        });\n",
       "    }\n",
       "\n",
       "    function showError(err) {\n",
       "      outputDiv.innerHTML = `<div class=\"error\" style=\"color:red;\">${err}</div>`;\n",
       "      throw err;\n",
       "    }\n",
       "\n",
       "    function displayChart(vegaEmbed) {\n",
       "      vegaEmbed(outputDiv, spec, embedOpt)\n",
       "        .catch(err => showError(`Javascript Error: ${err.message}<br>This usually means there's a typo in your chart specification. See the javascript console for the full traceback.`));\n",
       "    }\n",
       "\n",
       "    if(typeof define === \"function\" && define.amd) {\n",
       "      requirejs.config({paths});\n",
       "      require([\"vega-embed\"], displayChart, err => showError(`Error loading script: ${err.message}`));\n",
       "    } else {\n",
       "      maybeLoadScript(\"vega\", \"5\")\n",
       "        .then(() => maybeLoadScript(\"vega-lite\", \"4.17.0\"))\n",
       "        .then(() => maybeLoadScript(\"vega-embed\", \"6\"))\n",
       "        .catch(showError)\n",
       "        .then(() => displayChart(vegaEmbed));\n",
       "    }\n",
       "  })({\"config\": {\"view\": {\"continuousWidth\": 400, \"continuousHeight\": 300}}, \"data\": {\"name\": \"data-623fc548253846a3ee1bfb9b4d3f6201\"}, \"mark\": \"bar\", \"encoding\": {\"color\": {\"condition\": {\"value\": \"steelblue\", \"test\": \"(datum.transactions > 0)\"}, \"value\": \"orange\"}, \"tooltip\": [{\"field\": \"block_date\", \"timeUnit\": \"monthdate\", \"title\": \"Month-Day\", \"type\": \"temporal\"}, {\"field\": \"transactions\", \"format\": \".2%\", \"title\": \"2022 vs 2021 % Difference\", \"type\": \"quantitative\"}], \"x\": {\"field\": \"block_date\", \"timeUnit\": \"monthdate\", \"title\": \"Month-Day\", \"type\": \"ordinal\"}, \"y\": {\"axis\": {\"format\": \"%\", \"title\": \"Year-Over-Year 2022 vs 2021 % Difference\"}, \"field\": \"transactions\", \"type\": \"quantitative\"}}, \"height\": 500, \"width\": 800, \"$schema\": \"https://vega.github.io/schema/vega-lite/v4.17.0.json\", \"datasets\": {\"data-623fc548253846a3ee1bfb9b4d3f6201\": [{\"block_date\": \"2022-07-01T00:00:00\", \"transactions\": -0.027308514413514784}, {\"block_date\": \"2022-07-02T00:00:00\", \"transactions\": 0.006608134573035551}, {\"block_date\": \"2022-07-03T00:00:00\", \"transactions\": 0.030741806772658142}, {\"block_date\": \"2022-07-04T00:00:00\", \"transactions\": 0.04220952229308006}, {\"block_date\": \"2022-07-05T00:00:00\", \"transactions\": 0.03014997016277632}, {\"block_date\": \"2022-07-06T00:00:00\", \"transactions\": -0.1431208458478952}, {\"block_date\": \"2022-07-07T00:00:00\", \"transactions\": -0.0748648893591608}]}}, {\"mode\": \"vega-lite\"});\n",
       "</script>"
      ],
      "text/plain": [
       "alt.Chart(...)"
      ]
     },
     "execution_count": 41,
     "metadata": {},
     "output_type": "execute_result"
    }
   ],
   "source": [
    "alt.Chart(txn_daily_pct.reset_index()).mark_bar().encode(\n",
    "    x=alt.X('monthdate(block_date):O', title='Month-Day'),\n",
    "    y=alt.Y('transactions:Q', axis=alt.Axis(format='%', title='Year-Over-Year 2022 vs 2021 % Difference')),\n",
    "    color=alt.condition(\n",
    "        alt.datum.transactions > 0,\n",
    "        alt.value(\"steelblue\"),\n",
    "        alt.value(\"orange\")),\n",
    "    tooltip=[alt.Tooltip('monthdate(block_date)', title='Month-Day'), alt.Tooltip('transactions', title='2022 vs 2021 % Difference', format='.2%')]\n",
    ").properties(\n",
    "    height=500,\n",
    "    width=800\n",
    ")"
   ]
  },
  {
   "cell_type": "code",
   "execution_count": 65,
   "id": "09ad78c7-a6ac-43a7-9c53-aeb4e749c5b5",
   "metadata": {},
   "outputs": [],
   "source": [
    "df_agg_2022 = df.query('block_date == \"2022-07-06\"').groupby(['from']).agg(total_transactions=('hash','count'),\n",
    "                                                                                         total_value_eth=('eth_value','sum'))\n",
    "df_agg_2022['value_per_transaction_eth'] = (df_agg_2022['total_value_eth']/df_agg_2022['total_transactions'])\n",
    "df_agg_2022 = df_agg_2022.reset_index().merge(df_labels, left_on='from', right_on='address', how='left')\n",
    "df_agg_2022.drop(columns='address', inplace=True)"
   ]
  },
  {
   "cell_type": "code",
   "execution_count": 70,
   "id": "b3f421c8-7dc5-4ccf-a759-c848cbefdb00",
   "metadata": {},
   "outputs": [],
   "source": [
    "df_agg_2022_label = df_agg_2022.sort_values(by='total_transactions', ascending=False).iloc[:30,:].groupby(['address_label']).agg({'total_transactions':'sum',\n",
    "                                                                                                                        'total_value_eth':'sum'})"
   ]
  },
  {
   "cell_type": "code",
   "execution_count": 80,
   "id": "b80b33a0-9e08-4e23-b9b0-218cf68171b7",
   "metadata": {},
   "outputs": [],
   "source": [
    "df_agg_2022_label['year'] = 2022"
   ]
  },
  {
   "cell_type": "code",
   "execution_count": 81,
   "id": "28c88c7e-2f02-4bde-955a-afd08f7d13a6",
   "metadata": {},
   "outputs": [
    {
     "data": {
      "text/html": [
       "<div>\n",
       "<style scoped>\n",
       "    .dataframe tbody tr th:only-of-type {\n",
       "        vertical-align: middle;\n",
       "    }\n",
       "\n",
       "    .dataframe tbody tr th {\n",
       "        vertical-align: top;\n",
       "    }\n",
       "\n",
       "    .dataframe thead th {\n",
       "        text-align: right;\n",
       "    }\n",
       "</style>\n",
       "<table border=\"1\" class=\"dataframe\">\n",
       "  <thead>\n",
       "    <tr style=\"text-align: right;\">\n",
       "      <th></th>\n",
       "      <th>total_transactions</th>\n",
       "      <th>total_value_eth</th>\n",
       "      <th>year</th>\n",
       "    </tr>\n",
       "    <tr>\n",
       "      <th>address_label</th>\n",
       "      <th></th>\n",
       "      <th></th>\n",
       "      <th></th>\n",
       "    </tr>\n",
       "  </thead>\n",
       "  <tbody>\n",
       "    <tr>\n",
       "      <th>Coinbase</th>\n",
       "      <td>48492</td>\n",
       "      <td>93370.4280</td>\n",
       "      <td>2022</td>\n",
       "    </tr>\n",
       "    <tr>\n",
       "      <th>Binance</th>\n",
       "      <td>29069</td>\n",
       "      <td>175311.4319</td>\n",
       "      <td>2022</td>\n",
       "    </tr>\n",
       "    <tr>\n",
       "      <th>No Label</th>\n",
       "      <td>25425</td>\n",
       "      <td>13830.8358</td>\n",
       "      <td>2022</td>\n",
       "    </tr>\n",
       "    <tr>\n",
       "      <th>Ethermine</th>\n",
       "      <td>18967</td>\n",
       "      <td>3983.2040</td>\n",
       "      <td>2022</td>\n",
       "    </tr>\n",
       "    <tr>\n",
       "      <th>FTX Exchange</th>\n",
       "      <td>13262</td>\n",
       "      <td>49302.1786</td>\n",
       "      <td>2022</td>\n",
       "    </tr>\n",
       "    <tr>\n",
       "      <th>Crypto.com</th>\n",
       "      <td>7354</td>\n",
       "      <td>4609.6422</td>\n",
       "      <td>2022</td>\n",
       "    </tr>\n",
       "    <tr>\n",
       "      <th>Hiveon</th>\n",
       "      <td>6633</td>\n",
       "      <td>1497.7360</td>\n",
       "      <td>2022</td>\n",
       "    </tr>\n",
       "    <tr>\n",
       "      <th>2Miners: PPLNS</th>\n",
       "      <td>4661</td>\n",
       "      <td>961.9955</td>\n",
       "      <td>2022</td>\n",
       "    </tr>\n",
       "    <tr>\n",
       "      <th>Flexpool.io</th>\n",
       "      <td>3299</td>\n",
       "      <td>766.5415</td>\n",
       "      <td>2022</td>\n",
       "    </tr>\n",
       "    <tr>\n",
       "      <th>F2Pool Old</th>\n",
       "      <td>3298</td>\n",
       "      <td>1830.9624</td>\n",
       "      <td>2022</td>\n",
       "    </tr>\n",
       "    <tr>\n",
       "      <th>Gemini</th>\n",
       "      <td>3101</td>\n",
       "      <td>49303.2492</td>\n",
       "      <td>2022</td>\n",
       "    </tr>\n",
       "  </tbody>\n",
       "</table>\n",
       "</div>"
      ],
      "text/plain": [
       "                total_transactions  total_value_eth  year\n",
       "address_label                                            \n",
       "Coinbase                     48492       93370.4280  2022\n",
       "Binance                      29069      175311.4319  2022\n",
       "No Label                     25425       13830.8358  2022\n",
       "Ethermine                    18967        3983.2040  2022\n",
       "FTX Exchange                 13262       49302.1786  2022\n",
       "Crypto.com                    7354        4609.6422  2022\n",
       "Hiveon                        6633        1497.7360  2022\n",
       "2Miners: PPLNS                4661         961.9955  2022\n",
       "Flexpool.io                   3299         766.5415  2022\n",
       "F2Pool Old                    3298        1830.9624  2022\n",
       "Gemini                        3101       49303.2492  2022"
      ]
     },
     "execution_count": 81,
     "metadata": {},
     "output_type": "execute_result"
    }
   ],
   "source": [
    "df_agg_2022_label.sort_values(by='total_transactions', ascending=False)"
   ]
  },
  {
   "cell_type": "code",
   "execution_count": 82,
   "id": "0acb3bdd-1e76-4cbc-99f5-4ef32417c93b",
   "metadata": {},
   "outputs": [],
   "source": [
    "df_agg_2021 = df.query('block_date == \"2021-07-06\"').groupby(['from']).agg(total_transactions=('hash','count'),\n",
    "                                                                                         total_value_eth=('eth_value','sum'))\n",
    "df_agg_2021['value_per_transaction_eth'] = (df_agg_2021['total_value_eth']/df_agg_2021['total_transactions'])\n",
    "df_agg_2021 = df_agg_2021.reset_index().merge(df_labels, left_on='from', right_on='address', how='left')\n",
    "df_agg_2021.drop(columns='address', inplace=True)"
   ]
  },
  {
   "cell_type": "code",
   "execution_count": 83,
   "id": "98428720-377d-4608-afa3-8cf722c850bf",
   "metadata": {},
   "outputs": [],
   "source": [
    "df_agg_2021_label = df_agg_2021.sort_values(by='total_transactions', ascending=False).iloc[:30,:].groupby(['address_label']).agg({'total_transactions':'sum',\n",
    "                                                                                                                        'total_value_eth':'sum'})"
   ]
  },
  {
   "cell_type": "code",
   "execution_count": 84,
   "id": "42229aea-3e80-45cf-95d8-7f1b1c85a17f",
   "metadata": {},
   "outputs": [],
   "source": [
    "df_agg_2021_label['year'] = 2021"
   ]
  },
  {
   "cell_type": "code",
   "execution_count": 85,
   "id": "17bab030-ebff-4a1b-a4d0-550dd3d92a66",
   "metadata": {},
   "outputs": [
    {
     "data": {
      "text/html": [
       "<div>\n",
       "<style scoped>\n",
       "    .dataframe tbody tr th:only-of-type {\n",
       "        vertical-align: middle;\n",
       "    }\n",
       "\n",
       "    .dataframe tbody tr th {\n",
       "        vertical-align: top;\n",
       "    }\n",
       "\n",
       "    .dataframe thead th {\n",
       "        text-align: right;\n",
       "    }\n",
       "</style>\n",
       "<table border=\"1\" class=\"dataframe\">\n",
       "  <thead>\n",
       "    <tr style=\"text-align: right;\">\n",
       "      <th></th>\n",
       "      <th>total_transactions</th>\n",
       "      <th>total_value_eth</th>\n",
       "      <th>year</th>\n",
       "    </tr>\n",
       "    <tr>\n",
       "      <th>address_label</th>\n",
       "      <th></th>\n",
       "      <th></th>\n",
       "      <th></th>\n",
       "    </tr>\n",
       "  </thead>\n",
       "  <tbody>\n",
       "    <tr>\n",
       "      <th>Binance</th>\n",
       "      <td>93092</td>\n",
       "      <td>326876.0901</td>\n",
       "      <td>2021</td>\n",
       "    </tr>\n",
       "    <tr>\n",
       "      <th>Coinbase</th>\n",
       "      <td>65251</td>\n",
       "      <td>97064.3755</td>\n",
       "      <td>2021</td>\n",
       "    </tr>\n",
       "    <tr>\n",
       "      <th>Ethermine</th>\n",
       "      <td>20714</td>\n",
       "      <td>5344.9277</td>\n",
       "      <td>2021</td>\n",
       "    </tr>\n",
       "    <tr>\n",
       "      <th>Crypto.com</th>\n",
       "      <td>17182</td>\n",
       "      <td>4324.6382</td>\n",
       "      <td>2021</td>\n",
       "    </tr>\n",
       "    <tr>\n",
       "      <th>2Miners: PPLNS</th>\n",
       "      <td>9007</td>\n",
       "      <td>805.2077</td>\n",
       "      <td>2021</td>\n",
       "    </tr>\n",
       "    <tr>\n",
       "      <th>BlockFi</th>\n",
       "      <td>6986</td>\n",
       "      <td>0.0000</td>\n",
       "      <td>2021</td>\n",
       "    </tr>\n",
       "    <tr>\n",
       "      <th>F2Pool Old</th>\n",
       "      <td>5685</td>\n",
       "      <td>1252.0328</td>\n",
       "      <td>2021</td>\n",
       "    </tr>\n",
       "    <tr>\n",
       "      <th>Gate.io</th>\n",
       "      <td>5300</td>\n",
       "      <td>3874.3286</td>\n",
       "      <td>2021</td>\n",
       "    </tr>\n",
       "    <tr>\n",
       "      <th>Nanopool</th>\n",
       "      <td>5049</td>\n",
       "      <td>860.9278</td>\n",
       "      <td>2021</td>\n",
       "    </tr>\n",
       "    <tr>\n",
       "      <th>FTX Exchange</th>\n",
       "      <td>4796</td>\n",
       "      <td>53.0400</td>\n",
       "      <td>2021</td>\n",
       "    </tr>\n",
       "    <tr>\n",
       "      <th>Gemini</th>\n",
       "      <td>3640</td>\n",
       "      <td>42380.0769</td>\n",
       "      <td>2021</td>\n",
       "    </tr>\n",
       "  </tbody>\n",
       "</table>\n",
       "</div>"
      ],
      "text/plain": [
       "                total_transactions  total_value_eth  year\n",
       "address_label                                            \n",
       "Binance                      93092      326876.0901  2021\n",
       "Coinbase                     65251       97064.3755  2021\n",
       "Ethermine                    20714        5344.9277  2021\n",
       "Crypto.com                   17182        4324.6382  2021\n",
       "2Miners: PPLNS                9007         805.2077  2021\n",
       "BlockFi                       6986           0.0000  2021\n",
       "F2Pool Old                    5685        1252.0328  2021\n",
       "Gate.io                       5300        3874.3286  2021\n",
       "Nanopool                      5049         860.9278  2021\n",
       "FTX Exchange                  4796          53.0400  2021\n",
       "Gemini                        3640       42380.0769  2021"
      ]
     },
     "execution_count": 85,
     "metadata": {},
     "output_type": "execute_result"
    }
   ],
   "source": [
    "df_agg_2021_label.sort_values(by='total_transactions', ascending=False)"
   ]
  }
 ],
 "metadata": {
  "kernelspec": {
   "display_name": "blockchain:Python",
   "language": "python",
   "name": "conda-env-blockchain-py"
  },
  "language_info": {
   "codemirror_mode": {
    "name": "ipython",
    "version": 3
   },
   "file_extension": ".py",
   "mimetype": "text/x-python",
   "name": "python",
   "nbconvert_exporter": "python",
   "pygments_lexer": "ipython3",
   "version": "3.10.4"
  }
 },
 "nbformat": 4,
 "nbformat_minor": 5
}
