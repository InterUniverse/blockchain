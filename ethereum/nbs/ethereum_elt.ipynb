{
 "cells": [
  {
   "cell_type": "markdown",
   "id": "4bb412ff-7bc0-4339-a7f8-b7c3b7b741c5",
   "metadata": {},
   "source": [
    "# Ethereum ELT"
   ]
  },
  {
   "cell_type": "code",
   "execution_count": 1,
   "id": "b73b44e4-9a62-4c25-871b-5d15ce36d8c7",
   "metadata": {
    "tags": []
   },
   "outputs": [],
   "source": [
    "import os\n",
    "import json\n",
    "import requests\n",
    "import datetime as dt\n",
    "\n",
    "from web3 import Web3\n",
    "import pandas as pd\n",
    "import numpy as np"
   ]
  },
  {
   "cell_type": "code",
   "execution_count": 2,
   "id": "bc27a832-a992-445f-aa5c-fe7bed3ab352",
   "metadata": {},
   "outputs": [],
   "source": [
    "PATH = '../data/'"
   ]
  },
  {
   "cell_type": "markdown",
   "id": "9ce1ac17-0fa0-41e7-be0b-de73c3691709",
   "metadata": {},
   "source": [
    "#### Alchemy as the remote node provider"
   ]
  },
  {
   "cell_type": "code",
   "execution_count": 21,
   "id": "601f1bc2-d1d6-4301-a265-cc5e80d5e666",
   "metadata": {},
   "outputs": [],
   "source": [
    "ALCHEMY_KEY = os.environ.get('KEY')\n",
    "w3 = Web3(Web3.HTTPProvider('https://eth-mainnet.alchemyapi.io/v2/'+ALCHEMY_KEY))"
   ]
  },
  {
   "cell_type": "code",
   "execution_count": 22,
   "id": "803f9e41-db8c-4ad1-be5f-2166ecfee49e",
   "metadata": {},
   "outputs": [],
   "source": [
    "url = 'https://eth-mainnet.alchemyapi.io/v2/'+ALCHEMY_KEY"
   ]
  },
  {
   "cell_type": "code",
   "execution_count": 5,
   "id": "b337c9bf-2d5e-41dc-b370-ab5ea7d3a14c",
   "metadata": {},
   "outputs": [],
   "source": [
    "latest_block_int = w3.eth.blockNumber\n",
    "up_to_block_int = latest_block_int - 5"
   ]
  },
  {
   "cell_type": "code",
   "execution_count": 79,
   "id": "c94e0249-e9aa-4593-9508-83b7667bd6c0",
   "metadata": {},
   "outputs": [],
   "source": [
    "def extract_first_hist_txns(no_of_blocks, up_to_block_int):\n",
    "    block_num_request_data = {\"jsonrpc\": \"2.0\",\"id\": 0,\"method\": \"eth_getBlockByNumber\",\"params\":[hex(up_to_block_int - 1),True]}\n",
    "    block_json = requests.post(url, json=block_num_request_data).json()\n",
    "    block_details_list = block_json['result']['transactions']\n",
    "\n",
    "    # Create lists with the values from the first block\n",
    "    block_numbers_list = [int(block_json['result']['number'],16)]\n",
    "    block_transactions_list = [len(block_json['result']['transactions'])]\n",
    "    block_datetime = dt.datetime.fromtimestamp(int(block_json['result']['timestamp'],16))\n",
    "    block_datetime_list = [block_datetime.strftime('%Y-%m-%d %H:%M:%S')]\n",
    "\n",
    "        # While loop\n",
    "    block_int = up_to_block_int - 1\n",
    "    while block_int > up_to_block_int - no_of_blocks:\n",
    "        block_int -= 1\n",
    "        block_num_request_data = {\"jsonrpc\": \"2.0\",\"id\": 0,\"method\": \"eth_getBlockByNumber\",\"params\":[hex(block_int),True]}\n",
    "        block_json = requests.post(url, json=block_num_request_data).json()\n",
    "\n",
    "        # Get the block number from the first transaction in the block and add to a list\n",
    "        block_numbers_list.append(int(block_json['result']['number'],16))\n",
    "\n",
    "        # Get the number of transactions each block and add to a list\n",
    "        block_transactions_list.append(len(block_json['result']['transactions']))\n",
    "\n",
    "        # Get the timestamp of each block and add to a list\n",
    "        block_timestamp = dt.datetime.fromtimestamp(int(block_json['result']['timestamp'],16))\n",
    "        block_datetime = block_timestamp.strftime('%Y-%m-%d %H:%M:%S')\n",
    "        block_datetime_list.append(block_datetime)\n",
    "\n",
    "        # Get transaction details of each block and add to a list\n",
    "        block_details_list.extend(block_json['result']['transactions'])\n",
    "\n",
    "\n",
    "    # Create a dictionary with block info\n",
    "    block_info = {}\n",
    "    block_info['block_number'] = block_numbers_list\n",
    "    block_info['block_transactions'] = block_transactions_list\n",
    "    block_info['block_timestamp'] = block_datetime_list\n",
    "    \n",
    "    return block_info, block_details_list"
   ]
  },
  {
   "cell_type": "code",
   "execution_count": 79,
   "id": "5f5d8c06-cdd1-4199-845f-b6dec33a28b6",
   "metadata": {},
   "outputs": [],
   "source": [
    "def extract_next_hist_txns(no_of_blocks, up_to_block_int):\n",
    "    block_num_request_data = {\"jsonrpc\": \"2.0\",\"id\": 0,\"method\": \"eth_getBlockByNumber\",\"params\":[hex(up_to_block_int - 1),True]}\n",
    "    block_json = requests.post(url, json=block_num_request_data).json()\n",
    "    block_details_list = block_json['result']['transactions']\n",
    "\n",
    "    \n",
    "    # Create lists with the values from the first block\n",
    "    block_numbers_list = [int(block_json['result']['number'],16)]\n",
    "    block_transactions_list = [len(block_json['result']['transactions'])]\n",
    "    block_datetime = dt.datetime.fromtimestamp(int(block_json['result']['timestamp'],16))\n",
    "    block_datetime_list = [block_datetime.strftime('%Y-%m-%d %H:%M:%S')]\n",
    "\n",
    "    \n",
    "    # While loop\n",
    "    block_int = up_to_block_int - 1\n",
    "    while block_int > up_to_block_int - no_of_blocks:\n",
    "        block_int -= 1\n",
    "        block_num_request_data = {\"jsonrpc\": \"2.0\",\"id\": 0,\"method\": \"eth_getBlockByNumber\",\"params\":[hex(block_int),True]}\n",
    "        block_json = requests.post(url, json=block_num_request_data).json()\n",
    "\n",
    "        # Get the block number from the first transaction in the block and add to a list\n",
    "        block_numbers_list.append(int(block_json['result']['number'],16))\n",
    "\n",
    "        # Get the number of transactions each block and add to a list\n",
    "        block_transactions_list.append(len(block_json['result']['transactions']))\n",
    "\n",
    "        # Get the timestamp of each block and add to a list\n",
    "        block_timestamp = dt.datetime.fromtimestamp(int(block_json['result']['timestamp'],16))\n",
    "        block_datetime = block_timestamp.strftime('%Y-%m-%d %H:%M:%S')\n",
    "        block_datetime_list.append(block_datetime)\n",
    "\n",
    "        # Get transaction details of each block and add to a list\n",
    "        block_details_list.extend(block_json['result']['transactions'])\n",
    "        \n",
    "    \n",
    "    # Save the block transactions\n",
    "    start_block = block_numbers_list[0]\n",
    "    end_block = block_numbers_list[-1]\n",
    "\n",
    "    block_details_str = json.dumps(block_details_list)\n",
    "    with open(f'{PATH}{start_block}_{end_block}_eth_transactions.json', 'w') as f:\n",
    "        f.write(block_details_str)\n",
    "        \n",
    "\n",
    "    # Update block info \n",
    "    block_info_test['block_number'].extend(block_numbers_list)\n",
    "    block_info_test['block_transactions'].extend(block_transactions_list)\n",
    "    block_info_test['block_timestamp'].extend(block_datetime_list)\n",
    "    \n",
    "    \n",
    "    # Save the block info as json file\n",
    "    block_info_str = json.dumps(block_info)\n",
    "    with open(f'{PATH}block_info_log_test.json', 'w') as f:\n",
    "        f.write(block_info_str)"
   ]
  },
  {
   "cell_type": "code",
   "execution_count": 6,
   "id": "9ca250a3-1a59-45fc-a3b9-633a4d56de2e",
   "metadata": {},
   "outputs": [
    {
     "name": "stdout",
     "output_type": "stream",
     "text": [
      "CPU times: user 7.94 s, sys: 491 ms, total: 8.43 s\n",
      "Wall time: 1min 32s\n"
     ]
    }
   ],
   "source": [
    "%%time\n",
    "block_num_request_data = {\"jsonrpc\": \"2.0\",\"id\": 0,\"method\": \"eth_getBlockByNumber\",\"params\":[hex(up_to_block_int - 1),True]}\n",
    "block_json = requests.post(url, json=block_num_request_data).json()\n",
    "block_details_list = block_json['result']['transactions']\n",
    "\n",
    "    # Create lists with the values from the first block\n",
    "\n",
    "block_numbers_list = [int(block_json['result']['number'],16)]\n",
    "\n",
    "block_transactions_list = [len(block_json['result']['transactions'])]\n",
    "block_datetime = dt.datetime.fromtimestamp(int(block_json['result']['timestamp'],16))\n",
    "block_datetime_list = [block_datetime.strftime('%Y-%m-%d %H:%M:%S')]\n",
    "\n",
    "    # While loop\n",
    "block_int = up_to_block_int - 1\n",
    "while block_int > up_to_block_int - 500:\n",
    "    block_int -= 1\n",
    "    block_num_request_data = {\"jsonrpc\": \"2.0\",\"id\": 0,\"method\": \"eth_getBlockByNumber\",\"params\":[hex(block_int),True]}\n",
    "    block_json = requests.post(url, json=block_num_request_data).json()\n",
    "    \n",
    "\n",
    "    # Get the block number from the first transaction in the block and add to a list\n",
    "    block_numbers_list.append(int(block_json['result']['number'],16))\n",
    "\n",
    "    # Get the number of transactions each block and add to a list\n",
    "    block_transactions_list.append(len(block_json['result']['transactions']))\n",
    "\n",
    "    # Get the timestamp of each block and add to a list\n",
    "    block_timestamp = dt.datetime.fromtimestamp(int(block_json['result']['timestamp'],16))\n",
    "    block_datetime = block_timestamp.strftime('%Y-%m-%d %H:%M:%S')\n",
    "    block_datetime_list.append(block_datetime)\n",
    "\n",
    "    # Get transaction details of each block and add to a list\n",
    "    block_details_list.extend(block_json['result']['transactions'])\n",
    "\n",
    "\n",
    "# Create a dictionary with block info\n",
    "block_info = {}\n",
    "block_info['block_number'] = block_numbers_list\n",
    "block_info['block_transactions'] = block_transactions_list\n",
    "block_info['block_timestamp'] = block_datetime_list"
   ]
  },
  {
   "cell_type": "code",
   "execution_count": 7,
   "id": "ad49db77-240d-4f1e-bdb4-8f64177da9cb",
   "metadata": {},
   "outputs": [
    {
     "name": "stdout",
     "output_type": "stream",
     "text": [
      "CPU times: user 16.6 s, sys: 896 ms, total: 17.5 s\n",
      "Wall time: 3min 17s\n"
     ]
    }
   ],
   "source": [
    "%%time\n",
    "block_info, block_details_list = extract_hist_transactions(1000, up_to_block_int)"
   ]
  },
  {
   "cell_type": "markdown",
   "id": "bc7dcb81-d0e1-4f79-8ae3-47650284d044",
   "metadata": {},
   "source": [
    "### Export and save as json file"
   ]
  },
  {
   "cell_type": "code",
   "execution_count": 8,
   "id": "eb05f288-9f2b-4564-a5d8-95e29b958d38",
   "metadata": {},
   "outputs": [
    {
     "name": "stdout",
     "output_type": "stream",
     "text": [
      "Now writing data to file...\n",
      "Done\n",
      "CPU times: user 1.5 s, sys: 547 ms, total: 2.05 s\n",
      "Wall time: 2.11 s\n"
     ]
    }
   ],
   "source": [
    "%%time\n",
    "start_block = block_info['block_number'][0]\n",
    "end_block = block_info['block_number'][-1]\n",
    "\n",
    "block_details_str = json.dumps(block_details_list)\n",
    "\n",
    "with open(f'{PATH}{start_block}_{end_block}_eth_transactions.json', 'w') as f:\n",
    "    # print('Now writing data to file...')\n",
    "    f.write(block_details_str)"
   ]
  },
  {
   "cell_type": "code",
   "execution_count": 14,
   "id": "99c8614d-15c7-4065-8209-22ce864662af",
   "metadata": {},
   "outputs": [],
   "source": [
    "block_info_str = json.dumps(block_info)\n",
    "\n",
    "with open(f'{PATH}block_info_log.json', 'w') as f:\n",
    "    f.write(block_info_str)"
   ]
  },
  {
   "cell_type": "markdown",
   "id": "54de84b1-1398-4576-9b63-0b5ceb3ca392",
   "metadata": {},
   "source": [
    "### Read the block_extracted_log"
   ]
  },
  {
   "cell_type": "code",
   "execution_count": 80,
   "id": "4bef8c57-ffd9-464c-9013-af519b2a214e",
   "metadata": {},
   "outputs": [],
   "source": [
    "block_info_test = json.load(open(f'{PATH}block_info_log_test.json'))"
   ]
  },
  {
   "cell_type": "code",
   "execution_count": 69,
   "id": "21992e38-e82f-4b7a-9e03-b619553fd88e",
   "metadata": {},
   "outputs": [],
   "source": [
    "block_info = json.load(open(f'{PATH}block_info_log.json'))"
   ]
  },
  {
   "cell_type": "markdown",
   "id": "2ec44306-d999-4ec7-be33-9dbce2d12754",
   "metadata": {},
   "source": [
    "### Test loop"
   ]
  },
  {
   "cell_type": "code",
   "execution_count": 23,
   "id": "46c7017a-3cb0-4c5f-8724-85a2072052de",
   "metadata": {},
   "outputs": [],
   "source": [
    "extract_next_hist_txns(5, up_to_block_int)"
   ]
  },
  {
   "cell_type": "code",
   "execution_count": 72,
   "id": "d7c82eeb-2f12-425a-9a2b-f1f58d59578e",
   "metadata": {},
   "outputs": [
    {
     "data": {
      "text/plain": [
       "[15072954,\n",
       " 15072953,\n",
       " 15072952,\n",
       " 15072951,\n",
       " 15072950,\n",
       " 15072949,\n",
       " 15072948,\n",
       " 15072947,\n",
       " 15072946,\n",
       " 15072945]"
      ]
     },
     "execution_count": 72,
     "metadata": {},
     "output_type": "execute_result"
    }
   ],
   "source": [
    "block_info_test['block_number'][-10:]"
   ]
  },
  {
   "cell_type": "code",
   "execution_count": 81,
   "id": "15048f4a-c755-4070-b6de-1eff0885118c",
   "metadata": {},
   "outputs": [
    {
     "data": {
      "text/plain": [
       "[15072944,\n",
       " 15072943,\n",
       " 15072942,\n",
       " 15072941,\n",
       " 15072940,\n",
       " 15072944,\n",
       " 15072943,\n",
       " 15072942,\n",
       " 15072941,\n",
       " 15072940]"
      ]
     },
     "execution_count": 81,
     "metadata": {},
     "output_type": "execute_result"
    }
   ],
   "source": [
    "block_info_test['block_number'][-10:]"
   ]
  },
  {
   "cell_type": "code",
   "execution_count": 88,
   "id": "80f1b5a7-6ae5-41a3-a747-a9e2a4a4c9ee",
   "metadata": {},
   "outputs": [
    {
     "data": {
      "text/plain": [
       "[15072944,\n",
       " 15072943,\n",
       " 15072942,\n",
       " 15072941,\n",
       " 15072940,\n",
       " 15072939,\n",
       " 15072938,\n",
       " 15072937,\n",
       " 15072936,\n",
       " 15072935]"
      ]
     },
     "execution_count": 88,
     "metadata": {},
     "output_type": "execute_result"
    }
   ],
   "source": [
    "block_info_test['block_number'][-10:]"
   ]
  },
  {
   "cell_type": "code",
   "execution_count": 70,
   "id": "1dc21093-b92d-461c-9c40-ba41f090a147",
   "metadata": {},
   "outputs": [],
   "source": [
    "up_to_block_int = block_info_test['block_number'][-1]"
   ]
  },
  {
   "cell_type": "code",
   "execution_count": 87,
   "id": "074b7c2c-e68b-49dc-b9bc-f0f6180f7194",
   "metadata": {},
   "outputs": [
    {
     "name": "stdout",
     "output_type": "stream",
     "text": [
      "Hi\n",
      "Hi\n",
      "Hi\n",
      "Hi\n",
      "Hi\n"
     ]
    }
   ],
   "source": [
    "n = 5\n",
    "while n > 0:\n",
    "    print('Hi')\n",
    "    n -= 1"
   ]
  },
  {
   "cell_type": "code",
   "execution_count": 89,
   "id": "d98e2bab-5663-4f5c-b44e-fc55127531f3",
   "metadata": {},
   "outputs": [],
   "source": [
    "n = 0\n",
    "while n < 5:\n",
    "    block_info_test = json.load(open(f'{PATH}block_info_log_test.json'))\n",
    "    up_to_block_int = block_info_test['block_number'][-1]\n",
    "    extract_next_hist_txns(5, up_to_block_int)\n",
    "    n += 1"
   ]
  },
  {
   "cell_type": "code",
   "execution_count": 97,
   "id": "27dcf653-74b4-4a7a-b8a8-d4b4bc8c0a64",
   "metadata": {},
   "outputs": [],
   "source": [
    "temp_list = [1,2,3,4,5]"
   ]
  },
  {
   "cell_type": "code",
   "execution_count": 98,
   "id": "9b4a45bc-17e3-4cf1-937e-f4ef82afb5d0",
   "metadata": {},
   "outputs": [],
   "source": [
    "n = 0\n",
    "while n < 5:\n",
    "    temp_list.append(1)\n",
    "    n += 1"
   ]
  },
  {
   "cell_type": "markdown",
   "id": "387e1724-7563-4688-9034-824d2ff1dfba",
   "metadata": {},
   "source": [
    "### Read the eth_transactions.json files"
   ]
  },
  {
   "cell_type": "code",
   "execution_count": 27,
   "id": "b64de250-84b5-4cd1-ad9c-d5d55736d646",
   "metadata": {},
   "outputs": [],
   "source": [
    "file_dir = os.listdir(PATH)\n",
    "file_list = [file for file in file_dir if file.endswith('transactions.json')]"
   ]
  },
  {
   "cell_type": "code",
   "execution_count": 28,
   "id": "2dcd831f-509d-49cc-8c64-3d6ea9dc88be",
   "metadata": {},
   "outputs": [
    {
     "data": {
      "text/plain": [
       "['15073949_15072950_eth_transactions.json',\n",
       " '15072949_15072945_eth_transactions.json']"
      ]
     },
     "execution_count": 28,
     "metadata": {},
     "output_type": "execute_result"
    }
   ],
   "source": [
    "file_list"
   ]
  },
  {
   "cell_type": "code",
   "execution_count": 41,
   "id": "019219c7-b51d-4de0-a483-b5e99f60eada",
   "metadata": {},
   "outputs": [],
   "source": [
    "file1 = json.load(open(f'{PATH}{file_list[1]}'))"
   ]
  },
  {
   "cell_type": "code",
   "execution_count": 42,
   "id": "a3c82a4b-8a8e-4576-bf59-f75a0208c1fd",
   "metadata": {},
   "outputs": [],
   "source": [
    "temp_df = pd.DataFrame(file1)"
   ]
  },
  {
   "cell_type": "code",
   "execution_count": 43,
   "id": "20bf7a69-f9bf-4f90-933a-9516bdb33148",
   "metadata": {},
   "outputs": [
    {
     "data": {
      "text/html": [
       "<div>\n",
       "<style scoped>\n",
       "    .dataframe tbody tr th:only-of-type {\n",
       "        vertical-align: middle;\n",
       "    }\n",
       "\n",
       "    .dataframe tbody tr th {\n",
       "        vertical-align: top;\n",
       "    }\n",
       "\n",
       "    .dataframe thead th {\n",
       "        text-align: right;\n",
       "    }\n",
       "</style>\n",
       "<table border=\"1\" class=\"dataframe\">\n",
       "  <thead>\n",
       "    <tr style=\"text-align: right;\">\n",
       "      <th></th>\n",
       "      <th>hash</th>\n",
       "      <th>accessList</th>\n",
       "      <th>blockHash</th>\n",
       "      <th>blockNumber</th>\n",
       "      <th>chainId</th>\n",
       "      <th>from</th>\n",
       "      <th>gas</th>\n",
       "      <th>gasPrice</th>\n",
       "      <th>input</th>\n",
       "      <th>maxFeePerGas</th>\n",
       "      <th>maxPriorityFeePerGas</th>\n",
       "      <th>nonce</th>\n",
       "      <th>r</th>\n",
       "      <th>s</th>\n",
       "      <th>to</th>\n",
       "      <th>transactionIndex</th>\n",
       "      <th>type</th>\n",
       "      <th>v</th>\n",
       "      <th>value</th>\n",
       "    </tr>\n",
       "  </thead>\n",
       "  <tbody>\n",
       "    <tr>\n",
       "      <th>0</th>\n",
       "      <td>0x25b8dd5e5c8fda9727adc427eb82c540ef3617a4cb32...</td>\n",
       "      <td>[]</td>\n",
       "      <td>0x4f7d21d2491c36147d7be2bbb103ce569a04843662ca...</td>\n",
       "      <td>0xe5feb5</td>\n",
       "      <td>0x1</td>\n",
       "      <td>0x2e3381202988d535e8185e7089f633f7c9998e83</td>\n",
       "      <td>0x28627</td>\n",
       "      <td>0x774e31019</td>\n",
       "      <td>0x07a204da000000000000000000000000000000000000...</td>\n",
       "      <td>0x1eff54225f</td>\n",
       "      <td>0x59e6c205f</td>\n",
       "      <td>0x3c774</td>\n",
       "      <td>0x4a91d743c8038b7133e13e10f7d51dced5e74b7b540d...</td>\n",
       "      <td>0x4321c0d011ea85be37378007b72152d7bdbd216901f6...</td>\n",
       "      <td>0xbdb292dac4939557b011c1cfecba37f077774130</td>\n",
       "      <td>0x0</td>\n",
       "      <td>0x2</td>\n",
       "      <td>0x0</td>\n",
       "      <td>0x0</td>\n",
       "    </tr>\n",
       "    <tr>\n",
       "      <th>1</th>\n",
       "      <td>0x1a870ab2e6b323713376e1c15f2ed614b568053162eb...</td>\n",
       "      <td>[]</td>\n",
       "      <td>0x4f7d21d2491c36147d7be2bbb103ce569a04843662ca...</td>\n",
       "      <td>0xe5feb5</td>\n",
       "      <td>0x1</td>\n",
       "      <td>0x81ffd37ed3ab472f9bc1d3135d583dc594bf4795</td>\n",
       "      <td>0x493ee</td>\n",
       "      <td>0x2c4e217ba</td>\n",
       "      <td>0xce2e62ff000000000000000000000000000000000000...</td>\n",
       "      <td>0x343e89b03</td>\n",
       "      <td>0xee6b2800</td>\n",
       "      <td>0x24cb</td>\n",
       "      <td>0x497e6bc110cb89c49308736cc180e760aa978249b701...</td>\n",
       "      <td>0x6e23f1c56a6049b2221f913ccb82cb446ec95d995f09...</td>\n",
       "      <td>0x98c3d3183c4b8a650614ad179a1a98be0a8d6b8e</td>\n",
       "      <td>0x1</td>\n",
       "      <td>0x2</td>\n",
       "      <td>0x1</td>\n",
       "      <td>0x0</td>\n",
       "    </tr>\n",
       "    <tr>\n",
       "      <th>2</th>\n",
       "      <td>0x3eb9e24c62f334b81bc83520b48b91e966a8ec44901a...</td>\n",
       "      <td>[{'address': '0x0b38210ea11411557c13457d4da7dc...</td>\n",
       "      <td>0x4f7d21d2491c36147d7be2bbb103ce569a04843662ca...</td>\n",
       "      <td>0xe5feb5</td>\n",
       "      <td>0x1</td>\n",
       "      <td>0x3b25d8e0801df1264a3d3a5f0bb79bbc292a09fb</td>\n",
       "      <td>0x249f0</td>\n",
       "      <td>0x1d676efba</td>\n",
       "      <td>0x00000000e5feb5727d0f002fe802a8aec03d5cf2824f...</td>\n",
       "      <td>0x21145cdb1</td>\n",
       "      <td>0x0</td>\n",
       "      <td>0x454d</td>\n",
       "      <td>0x32d42108dfa80f5f6df5770d8bec7e50c18f1a5f4dea...</td>\n",
       "      <td>0x25190689951f0f8be5c25abcf81d5ac953018c8b9b4a...</td>\n",
       "      <td>0x45716d9eddbc332df1d42b9f540fbebed671b20f</td>\n",
       "      <td>0x2</td>\n",
       "      <td>0x2</td>\n",
       "      <td>0x0</td>\n",
       "      <td>0x4ffd968</td>\n",
       "    </tr>\n",
       "    <tr>\n",
       "      <th>3</th>\n",
       "      <td>0xb7340c94bf4713c68fa8376d18ab1530f7b8d70ebb6e...</td>\n",
       "      <td>NaN</td>\n",
       "      <td>0x4f7d21d2491c36147d7be2bbb103ce569a04843662ca...</td>\n",
       "      <td>0xe5feb5</td>\n",
       "      <td>NaN</td>\n",
       "      <td>0xb6c0d3815be00cec694d947283d28cd37696d8a4</td>\n",
       "      <td>0x30d40</td>\n",
       "      <td>0xba43b7400</td>\n",
       "      <td>0xa9059cbb000000000000000000000000a0b86991c621...</td>\n",
       "      <td>NaN</td>\n",
       "      <td>NaN</td>\n",
       "      <td>0x1a</td>\n",
       "      <td>0x3f21675935101974f45f105bf5ac81d29444623a64f2...</td>\n",
       "      <td>0x3a505ce61f8a0a6555af0cec6898d4cf69b63c9569c1...</td>\n",
       "      <td>0xa0b86991c6218b36c1d19d4a2e9eb0ce3606eb48</td>\n",
       "      <td>0x3</td>\n",
       "      <td>0x0</td>\n",
       "      <td>0x25</td>\n",
       "      <td>0x0</td>\n",
       "    </tr>\n",
       "    <tr>\n",
       "      <th>4</th>\n",
       "      <td>0x36fb078633f36bf2957e749604c86e86cda87bb1e088...</td>\n",
       "      <td>NaN</td>\n",
       "      <td>0x4f7d21d2491c36147d7be2bbb103ce569a04843662ca...</td>\n",
       "      <td>0xe5feb5</td>\n",
       "      <td>NaN</td>\n",
       "      <td>0x0000bf7f4e4b7fb2315fc6d5d0f8854c91dff1d8</td>\n",
       "      <td>0x34c53</td>\n",
       "      <td>0x9502f9000</td>\n",
       "      <td>0x</td>\n",
       "      <td>NaN</td>\n",
       "      <td>NaN</td>\n",
       "      <td>0x183a6</td>\n",
       "      <td>0x640293c63fa38bf73ebc42995c7b16dabe337043f53e...</td>\n",
       "      <td>0x3fa31824b3c5263562c2007cfe466a837abe4f685ebe...</td>\n",
       "      <td>0x007f12484e70f755eca6ba4cdbbfc7944adbc627</td>\n",
       "      <td>0x4</td>\n",
       "      <td>0x0</td>\n",
       "      <td>0x25</td>\n",
       "      <td>0x1c6bf526340000</td>\n",
       "    </tr>\n",
       "  </tbody>\n",
       "</table>\n",
       "</div>"
      ],
      "text/plain": [
       "                                                hash  \\\n",
       "0  0x25b8dd5e5c8fda9727adc427eb82c540ef3617a4cb32...   \n",
       "1  0x1a870ab2e6b323713376e1c15f2ed614b568053162eb...   \n",
       "2  0x3eb9e24c62f334b81bc83520b48b91e966a8ec44901a...   \n",
       "3  0xb7340c94bf4713c68fa8376d18ab1530f7b8d70ebb6e...   \n",
       "4  0x36fb078633f36bf2957e749604c86e86cda87bb1e088...   \n",
       "\n",
       "                                          accessList  \\\n",
       "0                                                 []   \n",
       "1                                                 []   \n",
       "2  [{'address': '0x0b38210ea11411557c13457d4da7dc...   \n",
       "3                                                NaN   \n",
       "4                                                NaN   \n",
       "\n",
       "                                           blockHash blockNumber chainId  \\\n",
       "0  0x4f7d21d2491c36147d7be2bbb103ce569a04843662ca...    0xe5feb5     0x1   \n",
       "1  0x4f7d21d2491c36147d7be2bbb103ce569a04843662ca...    0xe5feb5     0x1   \n",
       "2  0x4f7d21d2491c36147d7be2bbb103ce569a04843662ca...    0xe5feb5     0x1   \n",
       "3  0x4f7d21d2491c36147d7be2bbb103ce569a04843662ca...    0xe5feb5     NaN   \n",
       "4  0x4f7d21d2491c36147d7be2bbb103ce569a04843662ca...    0xe5feb5     NaN   \n",
       "\n",
       "                                         from      gas     gasPrice  \\\n",
       "0  0x2e3381202988d535e8185e7089f633f7c9998e83  0x28627  0x774e31019   \n",
       "1  0x81ffd37ed3ab472f9bc1d3135d583dc594bf4795  0x493ee  0x2c4e217ba   \n",
       "2  0x3b25d8e0801df1264a3d3a5f0bb79bbc292a09fb  0x249f0  0x1d676efba   \n",
       "3  0xb6c0d3815be00cec694d947283d28cd37696d8a4  0x30d40  0xba43b7400   \n",
       "4  0x0000bf7f4e4b7fb2315fc6d5d0f8854c91dff1d8  0x34c53  0x9502f9000   \n",
       "\n",
       "                                               input  maxFeePerGas  \\\n",
       "0  0x07a204da000000000000000000000000000000000000...  0x1eff54225f   \n",
       "1  0xce2e62ff000000000000000000000000000000000000...   0x343e89b03   \n",
       "2  0x00000000e5feb5727d0f002fe802a8aec03d5cf2824f...   0x21145cdb1   \n",
       "3  0xa9059cbb000000000000000000000000a0b86991c621...           NaN   \n",
       "4                                                 0x           NaN   \n",
       "\n",
       "  maxPriorityFeePerGas    nonce  \\\n",
       "0          0x59e6c205f  0x3c774   \n",
       "1           0xee6b2800   0x24cb   \n",
       "2                  0x0   0x454d   \n",
       "3                  NaN     0x1a   \n",
       "4                  NaN  0x183a6   \n",
       "\n",
       "                                                   r  \\\n",
       "0  0x4a91d743c8038b7133e13e10f7d51dced5e74b7b540d...   \n",
       "1  0x497e6bc110cb89c49308736cc180e760aa978249b701...   \n",
       "2  0x32d42108dfa80f5f6df5770d8bec7e50c18f1a5f4dea...   \n",
       "3  0x3f21675935101974f45f105bf5ac81d29444623a64f2...   \n",
       "4  0x640293c63fa38bf73ebc42995c7b16dabe337043f53e...   \n",
       "\n",
       "                                                   s  \\\n",
       "0  0x4321c0d011ea85be37378007b72152d7bdbd216901f6...   \n",
       "1  0x6e23f1c56a6049b2221f913ccb82cb446ec95d995f09...   \n",
       "2  0x25190689951f0f8be5c25abcf81d5ac953018c8b9b4a...   \n",
       "3  0x3a505ce61f8a0a6555af0cec6898d4cf69b63c9569c1...   \n",
       "4  0x3fa31824b3c5263562c2007cfe466a837abe4f685ebe...   \n",
       "\n",
       "                                           to transactionIndex type     v  \\\n",
       "0  0xbdb292dac4939557b011c1cfecba37f077774130              0x0  0x2   0x0   \n",
       "1  0x98c3d3183c4b8a650614ad179a1a98be0a8d6b8e              0x1  0x2   0x1   \n",
       "2  0x45716d9eddbc332df1d42b9f540fbebed671b20f              0x2  0x2   0x0   \n",
       "3  0xa0b86991c6218b36c1d19d4a2e9eb0ce3606eb48              0x3  0x0  0x25   \n",
       "4  0x007f12484e70f755eca6ba4cdbbfc7944adbc627              0x4  0x0  0x25   \n",
       "\n",
       "              value  \n",
       "0               0x0  \n",
       "1               0x0  \n",
       "2         0x4ffd968  \n",
       "3               0x0  \n",
       "4  0x1c6bf526340000  "
      ]
     },
     "execution_count": 43,
     "metadata": {},
     "output_type": "execute_result"
    }
   ],
   "source": [
    "temp_df.head()"
   ]
  },
  {
   "cell_type": "code",
   "execution_count": 59,
   "id": "6ac23f5d-959b-464f-836c-6bb66353bbf2",
   "metadata": {},
   "outputs": [],
   "source": [
    "temp_df['blockNumber_decimal'] = temp_df['blockNumber'].apply(int, base=16)"
   ]
  },
  {
   "cell_type": "code",
   "execution_count": 62,
   "id": "0e6a6454-51fe-48a1-a750-5c9bff7eab86",
   "metadata": {},
   "outputs": [
    {
     "data": {
      "text/plain": [
       "array([15072949, 15072948, 15072947, 15072946, 15072945])"
      ]
     },
     "execution_count": 62,
     "metadata": {},
     "output_type": "execute_result"
    }
   ],
   "source": [
    "temp_df['blockNumber_decimal'].unique()"
   ]
  }
 ],
 "metadata": {
  "kernelspec": {
   "display_name": "blockchain:Python",
   "language": "python",
   "name": "conda-env-blockchain-py"
  },
  "language_info": {
   "codemirror_mode": {
    "name": "ipython",
    "version": 3
   },
   "file_extension": ".py",
   "mimetype": "text/x-python",
   "name": "python",
   "nbconvert_exporter": "python",
   "pygments_lexer": "ipython3",
   "version": "3.10.4"
  }
 },
 "nbformat": 4,
 "nbformat_minor": 5
}
