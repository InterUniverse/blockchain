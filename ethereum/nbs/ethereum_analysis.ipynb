{
 "cells": [
  {
   "cell_type": "markdown",
   "id": "eb786557-6670-4e36-98c4-fb8c458c847e",
   "metadata": {},
   "source": [
    "# Ethereum transactions analysis"
   ]
  },
  {
   "cell_type": "markdown",
   "id": "52df1e03-3552-43b9-913b-d817a2f0458c",
   "metadata": {},
   "source": [
    "## Read the eth_transactions.json files"
   ]
  },
  {
   "cell_type": "code",
   "execution_count": 1,
   "id": "c677d6be-40c6-4c13-99f9-8ab8ff1f76ab",
   "metadata": {
    "tags": []
   },
   "outputs": [],
   "source": [
    "import os\n",
    "import json\n",
    "\n",
    "import pandas as pd\n",
    "import numpy as np\n",
    "import matplotlib.pyplot as plt\n",
    "import seaborn as sns"
   ]
  },
  {
   "cell_type": "code",
   "execution_count": 2,
   "id": "38bb3c2f-81c3-48ae-8e6a-06e495c651c9",
   "metadata": {},
   "outputs": [],
   "source": [
    "PATH = '../data/'"
   ]
  },
  {
   "cell_type": "code",
   "execution_count": 3,
   "id": "ddeb2349-48ef-4cd1-8b50-6aa72d235ce4",
   "metadata": {},
   "outputs": [],
   "source": [
    "pd.set_option('display.max_columns', 100, 'display.max_rows', 100, 'display.max_colwidth', 100)\n",
    "# pd.set_option('display.float_format', lambda x: '%.f' % x)"
   ]
  },
  {
   "cell_type": "code",
   "execution_count": 4,
   "id": "913ecc8f-b27e-481d-b692-eb11d23b166b",
   "metadata": {},
   "outputs": [],
   "source": [
    "file_dir = os.listdir(PATH)\n",
    "file_list = [os.path.join(PATH, file) for file in file_dir if file.endswith('parquet')]"
   ]
  },
  {
   "cell_type": "code",
   "execution_count": 5,
   "id": "6fdec642-5f61-43be-a8bf-42ddc9e4524c",
   "metadata": {},
   "outputs": [],
   "source": [
    "df_raw = pd.concat([pd.read_parquet(file) for file in file_list])"
   ]
  },
  {
   "cell_type": "code",
   "execution_count": 6,
   "id": "72a733ae-ded2-4588-a053-660a12ef0147",
   "metadata": {},
   "outputs": [
    {
     "data": {
      "text/plain": [
       "(5493838, 20)"
      ]
     },
     "execution_count": 6,
     "metadata": {},
     "output_type": "execute_result"
    }
   ],
   "source": [
    "df_raw.shape"
   ]
  },
  {
   "cell_type": "markdown",
   "id": "cb73d077-971f-438e-80fc-843b72c81202",
   "metadata": {},
   "source": [
    "### Convert `type` to categorical data type"
   ]
  },
  {
   "cell_type": "code",
   "execution_count": 7,
   "id": "0e0ce977-eb36-407e-8c40-ae11c231603c",
   "metadata": {},
   "outputs": [],
   "source": [
    "df_raw['type'] = df_raw['type'].astype('category')"
   ]
  },
  {
   "cell_type": "code",
   "execution_count": 8,
   "id": "02bc1cd5-b0fc-42b5-b34c-fd20ee3642fc",
   "metadata": {},
   "outputs": [
    {
     "name": "stdout",
     "output_type": "stream",
     "text": [
      "<class 'pandas.core.frame.DataFrame'>\n",
      "Int64Index: 5493838 entries, 0 to 2791715\n",
      "Data columns (total 20 columns):\n",
      " #   Column                Dtype         \n",
      "---  ------                -----         \n",
      " 0   hash                  object        \n",
      " 1   blockHash             object        \n",
      " 2   blockNumber           int64         \n",
      " 3   from                  object        \n",
      " 4   gas                   int64         \n",
      " 5   gasPrice              int64         \n",
      " 6   input                 object        \n",
      " 7   nonce                 int64         \n",
      " 8   r                     object        \n",
      " 9   s                     object        \n",
      " 10  to                    object        \n",
      " 11  transactionIndex      int64         \n",
      " 12  type                  category      \n",
      " 13  v                     int64         \n",
      " 14  value                 float64       \n",
      " 15  accessList            object        \n",
      " 16  chainId               float64       \n",
      " 17  maxFeePerGas          float64       \n",
      " 18  maxPriorityFeePerGas  float64       \n",
      " 19  block_timestamp       datetime64[ns]\n",
      "dtypes: category(1), datetime64[ns](1), float64(4), int64(6), object(8)\n",
      "memory usage: 843.5+ MB\n"
     ]
    }
   ],
   "source": [
    "df_raw.info()"
   ]
  },
  {
   "cell_type": "markdown",
   "id": "1430edbf-b025-4d2b-ae63-1e7f95c0be80",
   "metadata": {},
   "source": [
    "## Data fields\n",
    "- `hash` - Hash of the transaction\n",
    "- `blockHash` - Hash of the block\n",
    "- `blockNumber` - Block number\n",
    "- `from` - Address of the sender\n",
    "- `gas` - Gas provided by the sender\n",
    "- `gasPrice` - Gas price provided by the sender in Wei\n",
    "- `input` - The data sent along with the transaction. Commonly used as part of contract interaction or as a message sent to the recipient. See \n",
    "- `nonce` - The number of transactions made by the sender prior to this one\n",
    "- `r` - The Elliptic Curve Digital Signature Algorithm (ECDSA) signature r. The standardised R field of the signature. See: https://openethereum.github.io/JSONRPC\n",
    "- `s` - The Elliptic Curve Digital Signature Algorithm (ECDSA) signature s\n",
    "- `to` - Address of the receiver\n",
    "- `transactionIndex` - Integer of the transactions index position in the block\n",
    "- `type` - Might be transaction type (unable to find this in Alchemy doc but the value looks the same as `transaction_type` in bigquery public dataset)\n",
    "- `v` - The Elliptic Curve Digital Signature Algorithm (ECDSA) recovery id. The standardised V field of the signature. See: https://openethereum.github.io/JSONRPC\n",
    "- `value` - The amount of ether transferred in Wei.\n",
    "- `accessList` - Contains addresses and storage keys that will be accessed. These are fields from legacy transactions, EIP-2930. See: https://openethereum.github.io/JSONRPC\n",
    "- `chainId` - Value used in replay-protected transaction signing as introduced by EIP-155\n",
    "- `maxFeePerGas` - The maximum fee per gas the transaction sender is willing to pay total (introduced by EIP1559). For detailed explanation, refer to https://docs.alchemy.com/alchemy/guides/eip-1559/maxpriorityfeepergas-vs-maxfeepergas\n",
    "- `maxPriorityFeePerGas` - The maximum fee per gas the transaction sender is willing to pay total (introduced by EIP1559) Refer to https://docs.alchemy.com/alchemy/guides/eip-1559/maxpriorityfeepergas-vs-maxfeepergas\n",
    "- `block_timestamp` - Timestamp of the block\n",
    "\n",
    "References:  \n",
    "https://docs.dune.com/data-tables/data-tables/raw-data/ethereum-data#ethereum.transactions  \n",
    "The \"bigquery-public-data.crypto_ethereum.transactions\" column description  \n",
    "https://ethereum.org/en/developers/docs/apis/json-rpc/  \n",
    "https://docs.alchemy.com/alchemy/apis/ethereum/eth-gettransactionbyhash  "
   ]
  },
  {
   "cell_type": "markdown",
   "id": "02c9f4c8-b9e7-478b-bfe6-36c6d89766ea",
   "metadata": {
    "tags": []
   },
   "source": [
    "## We have the following entities in our domain:\n",
    "- Blocks\n",
    "- Transaction\n",
    "- Value and Fees\n",
    "- Account\n",
    "\n",
    "The process/relationship:\n",
    "- A block contains multiple transactions\n",
    "- A transaction is a request for computation on the Ethereum Virtual Machine (EVM) and it is a fulfilled transaction request and the associated change in the EVM.  \n",
    "When a request is broadcast, other participants on the network verify, validate and carry out the computation.  \n",
    "A transaction refers to an action initiated by an externally owned account, in other words, managed by a human not a contract (smart contract, ie. controlled by code)\n",
    "A transaction requires a fee and must be mined to be valid.\n",
    "- An account can be externally-owned or a contract (smart contract)\n",
    "\n",
    "References:\n",
    "https://ethereum.org/en/developers/docs/intro-to-ethereum/"
   ]
  },
  {
   "cell_type": "markdown",
   "id": "9ccc44a7-6f0c-4408-bbb0-d18aa2277e34",
   "metadata": {},
   "source": [
    "## We have the following information about our entities:\n",
    "- Blocks: `blockHash`, `blockNumber`, `block_timestamp`\n",
    "- Transaction: `hash`, `from`, `to`, `transactionIndex`, `type`, `input`, `chainId`\n",
    "- Value and Fees: `value`, `gas`, `gasPrice`, `maxFeePerGas`, `maxPriorityFeePerGas`\n",
    "- Account: `nonce`"
   ]
  },
  {
   "cell_type": "code",
   "execution_count": 49,
   "id": "bdc85166-0d3d-454b-8a6d-10c7ae8c0057",
   "metadata": {},
   "outputs": [
    {
     "data": {
      "text/html": [
       "<div>\n",
       "<style scoped>\n",
       "    .dataframe tbody tr th:only-of-type {\n",
       "        vertical-align: middle;\n",
       "    }\n",
       "\n",
       "    .dataframe tbody tr th {\n",
       "        vertical-align: top;\n",
       "    }\n",
       "\n",
       "    .dataframe thead th {\n",
       "        text-align: right;\n",
       "    }\n",
       "</style>\n",
       "<table border=\"1\" class=\"dataframe\">\n",
       "  <thead>\n",
       "    <tr style=\"text-align: right;\">\n",
       "      <th></th>\n",
       "      <th>hash</th>\n",
       "      <th>blockHash</th>\n",
       "      <th>blockNumber</th>\n",
       "      <th>from</th>\n",
       "      <th>gas</th>\n",
       "      <th>gasPrice</th>\n",
       "      <th>input</th>\n",
       "      <th>nonce</th>\n",
       "      <th>r</th>\n",
       "      <th>s</th>\n",
       "      <th>to</th>\n",
       "      <th>transactionIndex</th>\n",
       "      <th>type</th>\n",
       "      <th>v</th>\n",
       "      <th>value</th>\n",
       "      <th>accessList</th>\n",
       "      <th>chainId</th>\n",
       "      <th>maxFeePerGas</th>\n",
       "      <th>maxPriorityFeePerGas</th>\n",
       "      <th>block_timestamp</th>\n",
       "    </tr>\n",
       "  </thead>\n",
       "  <tbody>\n",
       "    <tr>\n",
       "      <th>0</th>\n",
       "      <td>0xfedacdb532ec5525686557a9bca04daa357ba754ccd70bea7cf0459572c189cf</td>\n",
       "      <td>0x5502093582eef8f1c9088f8db764ab59f403787954dee81eeaf681bf8ba681a7</td>\n",
       "      <td>15064948</td>\n",
       "      <td>0xf71e4a144cda4498277f9ad89b6501ec6c83c27c</td>\n",
       "      <td>21000</td>\n",
       "      <td>33084805662</td>\n",
       "      <td>0x</td>\n",
       "      <td>535</td>\n",
       "      <td>0xdc2fccbf51c8dde791b9ec027d4d53aab9bf6d5c10f963135a1bff925203dba7</td>\n",
       "      <td>0x1c0b133e837b36281fd6bdb9abb907c2060db9f6ab1824205037f3069458cafe</td>\n",
       "      <td>0xf0fb796c4ea2f2b24939ddb20d4b66144b3ed4bc</td>\n",
       "      <td>0</td>\n",
       "      <td>0</td>\n",
       "      <td>27</td>\n",
       "      <td>1614273837860304</td>\n",
       "      <td>None</td>\n",
       "      <td>NaN</td>\n",
       "      <td>NaN</td>\n",
       "      <td>NaN</td>\n",
       "      <td>2022-07-02 19:17:48</td>\n",
       "    </tr>\n",
       "    <tr>\n",
       "      <th>1</th>\n",
       "      <td>0xf40f05907bfce0363bc128055d6a1270ea2469f072166c69e3358da754a0c1ba</td>\n",
       "      <td>0x5502093582eef8f1c9088f8db764ab59f403787954dee81eeaf681bf8ba681a7</td>\n",
       "      <td>15064948</td>\n",
       "      <td>0xf0fb796c4ea2f2b24939ddb20d4b66144b3ed4bc</td>\n",
       "      <td>48792</td>\n",
       "      <td>33084805662</td>\n",
       "      <td>0xa9059cbb00000000000000000000000013e68bdecfe11ae8c314307516e8b027057ddac00000000000000000000000...</td>\n",
       "      <td>181</td>\n",
       "      <td>0x3f6a162d208194c1189ef6fbc0120a5a01cba85a0a1ff06f227b6fb645832435</td>\n",
       "      <td>0x7dcd65f3728f916430683013eabea52dbae65666e134e776a4c789cd1ff53161</td>\n",
       "      <td>0xa0b86991c6218b36c1d19d4a2e9eb0ce3606eb48</td>\n",
       "      <td>1</td>\n",
       "      <td>0</td>\n",
       "      <td>27</td>\n",
       "      <td>0</td>\n",
       "      <td>None</td>\n",
       "      <td>NaN</td>\n",
       "      <td>NaN</td>\n",
       "      <td>NaN</td>\n",
       "      <td>2022-07-02 19:17:48</td>\n",
       "    </tr>\n",
       "    <tr>\n",
       "      <th>2</th>\n",
       "      <td>0x9f7e7d4bed78c97f3018113e620141073b6121e6cb224f4183997648e180d341</td>\n",
       "      <td>0x5502093582eef8f1c9088f8db764ab59f403787954dee81eeaf681bf8ba681a7</td>\n",
       "      <td>15064948</td>\n",
       "      <td>0x65a8f07bd9a8598e1b5b6c0a88f4779dbc077675</td>\n",
       "      <td>601375</td>\n",
       "      <td>23648988340</td>\n",
       "      <td>0x7c0252000000000000000000000000002057cfb9fd11837d61b294d514c5bd03e5e7189a0000000000000000000000...</td>\n",
       "      <td>25331</td>\n",
       "      <td>0x344ce402827c5d35864b9dd52e6211def0eacba544dd7b47d25c8f1867559b73</td>\n",
       "      <td>0x97749f02882a8740bd3b7e6f5e0abdb9e8844542fd32b3ea2d2a05ee2890063</td>\n",
       "      <td>0x1111111254fb6c44bac0bed2854e76f90643097d</td>\n",
       "      <td>2</td>\n",
       "      <td>2</td>\n",
       "      <td>0</td>\n",
       "      <td>0</td>\n",
       "      <td>[]</td>\n",
       "      <td>1</td>\n",
       "      <td>250000000000</td>\n",
       "      <td>13000000000</td>\n",
       "      <td>2022-07-02 19:17:48</td>\n",
       "    </tr>\n",
       "  </tbody>\n",
       "</table>\n",
       "</div>"
      ],
      "text/plain": [
       "                                                                 hash  \\\n",
       "0  0xfedacdb532ec5525686557a9bca04daa357ba754ccd70bea7cf0459572c189cf   \n",
       "1  0xf40f05907bfce0363bc128055d6a1270ea2469f072166c69e3358da754a0c1ba   \n",
       "2  0x9f7e7d4bed78c97f3018113e620141073b6121e6cb224f4183997648e180d341   \n",
       "\n",
       "                                                            blockHash  \\\n",
       "0  0x5502093582eef8f1c9088f8db764ab59f403787954dee81eeaf681bf8ba681a7   \n",
       "1  0x5502093582eef8f1c9088f8db764ab59f403787954dee81eeaf681bf8ba681a7   \n",
       "2  0x5502093582eef8f1c9088f8db764ab59f403787954dee81eeaf681bf8ba681a7   \n",
       "\n",
       "   blockNumber                                        from     gas  \\\n",
       "0     15064948  0xf71e4a144cda4498277f9ad89b6501ec6c83c27c   21000   \n",
       "1     15064948  0xf0fb796c4ea2f2b24939ddb20d4b66144b3ed4bc   48792   \n",
       "2     15064948  0x65a8f07bd9a8598e1b5b6c0a88f4779dbc077675  601375   \n",
       "\n",
       "      gasPrice  \\\n",
       "0  33084805662   \n",
       "1  33084805662   \n",
       "2  23648988340   \n",
       "\n",
       "                                                                                                 input  \\\n",
       "0                                                                                                   0x   \n",
       "1  0xa9059cbb00000000000000000000000013e68bdecfe11ae8c314307516e8b027057ddac00000000000000000000000...   \n",
       "2  0x7c0252000000000000000000000000002057cfb9fd11837d61b294d514c5bd03e5e7189a0000000000000000000000...   \n",
       "\n",
       "   nonce                                                                   r  \\\n",
       "0    535  0xdc2fccbf51c8dde791b9ec027d4d53aab9bf6d5c10f963135a1bff925203dba7   \n",
       "1    181  0x3f6a162d208194c1189ef6fbc0120a5a01cba85a0a1ff06f227b6fb645832435   \n",
       "2  25331  0x344ce402827c5d35864b9dd52e6211def0eacba544dd7b47d25c8f1867559b73   \n",
       "\n",
       "                                                                    s  \\\n",
       "0  0x1c0b133e837b36281fd6bdb9abb907c2060db9f6ab1824205037f3069458cafe   \n",
       "1  0x7dcd65f3728f916430683013eabea52dbae65666e134e776a4c789cd1ff53161   \n",
       "2   0x97749f02882a8740bd3b7e6f5e0abdb9e8844542fd32b3ea2d2a05ee2890063   \n",
       "\n",
       "                                           to  transactionIndex  type   v  \\\n",
       "0  0xf0fb796c4ea2f2b24939ddb20d4b66144b3ed4bc                 0     0  27   \n",
       "1  0xa0b86991c6218b36c1d19d4a2e9eb0ce3606eb48                 1     0  27   \n",
       "2  0x1111111254fb6c44bac0bed2854e76f90643097d                 2     2   0   \n",
       "\n",
       "             value accessList  chainId  maxFeePerGas  maxPriorityFeePerGas  \\\n",
       "0 1614273837860304       None      NaN           NaN                   NaN   \n",
       "1                0       None      NaN           NaN                   NaN   \n",
       "2                0         []        1  250000000000           13000000000   \n",
       "\n",
       "      block_timestamp  \n",
       "0 2022-07-02 19:17:48  \n",
       "1 2022-07-02 19:17:48  \n",
       "2 2022-07-02 19:17:48  "
      ]
     },
     "execution_count": 49,
     "metadata": {},
     "output_type": "execute_result"
    }
   ],
   "source": [
    "df_raw.head(3)"
   ]
  },
  {
   "cell_type": "markdown",
   "id": "b32ee5b7-1215-4d72-a612-8cc074c0c5d2",
   "metadata": {},
   "source": [
    "How many blocks are there in our dataset?"
   ]
  },
  {
   "cell_type": "code",
   "execution_count": 46,
   "id": "20e197c6-d8eb-42c8-b8fa-0b89abf462f9",
   "metadata": {},
   "outputs": [
    {
     "data": {
      "text/plain": [
       "29029"
      ]
     },
     "execution_count": 46,
     "metadata": {},
     "output_type": "execute_result"
    }
   ],
   "source": [
    "df_raw['blockNumber'].nunique()"
   ]
  },
  {
   "cell_type": "markdown",
   "id": "38548045-4f22-499e-adb6-bb4f12115098",
   "metadata": {},
   "source": [
    "How many blocks are there each day in our dataset?"
   ]
  },
  {
   "cell_type": "code",
   "execution_count": 8,
   "id": "e92b5ee1-a071-4214-bdd1-20db0a461253",
   "metadata": {},
   "outputs": [
    {
     "data": {
      "text/html": [
       "<div>\n",
       "<style scoped>\n",
       "    .dataframe tbody tr th:only-of-type {\n",
       "        vertical-align: middle;\n",
       "    }\n",
       "\n",
       "    .dataframe tbody tr th {\n",
       "        vertical-align: top;\n",
       "    }\n",
       "\n",
       "    .dataframe thead th {\n",
       "        text-align: right;\n",
       "    }\n",
       "</style>\n",
       "<table border=\"1\" class=\"dataframe\">\n",
       "  <thead>\n",
       "    <tr style=\"text-align: right;\">\n",
       "      <th></th>\n",
       "      <th>blockNumber</th>\n",
       "    </tr>\n",
       "    <tr>\n",
       "      <th>block_timestamp</th>\n",
       "      <th></th>\n",
       "    </tr>\n",
       "  </thead>\n",
       "  <tbody>\n",
       "    <tr>\n",
       "      <th>2022-06-29</th>\n",
       "      <td>3552</td>\n",
       "    </tr>\n",
       "    <tr>\n",
       "      <th>2022-06-30</th>\n",
       "      <td>5475</td>\n",
       "    </tr>\n",
       "    <tr>\n",
       "      <th>2022-07-01</th>\n",
       "      <td>6253</td>\n",
       "    </tr>\n",
       "    <tr>\n",
       "      <th>2022-07-02</th>\n",
       "      <td>6227</td>\n",
       "    </tr>\n",
       "    <tr>\n",
       "      <th>2022-07-03</th>\n",
       "      <td>6315</td>\n",
       "    </tr>\n",
       "    <tr>\n",
       "      <th>2022-07-04</th>\n",
       "      <td>1207</td>\n",
       "    </tr>\n",
       "  </tbody>\n",
       "</table>\n",
       "</div>"
      ],
      "text/plain": [
       "                 blockNumber\n",
       "block_timestamp             \n",
       "2022-06-29              3552\n",
       "2022-06-30              5475\n",
       "2022-07-01              6253\n",
       "2022-07-02              6227\n",
       "2022-07-03              6315\n",
       "2022-07-04              1207"
      ]
     },
     "execution_count": 8,
     "metadata": {},
     "output_type": "execute_result"
    }
   ],
   "source": [
    "df_raw.resample('D', on='block_timestamp').agg({'blockNumber':'nunique'})"
   ]
  },
  {
   "cell_type": "markdown",
   "id": "bce5ee0d-e63e-4f70-9d8a-31dc9b8a7b2d",
   "metadata": {},
   "source": [
    "How many transactions?"
   ]
  },
  {
   "cell_type": "code",
   "execution_count": 51,
   "id": "c43017a6-1665-481a-af9e-40397689cb10",
   "metadata": {},
   "outputs": [
    {
     "data": {
      "text/plain": [
       "5493838"
      ]
     },
     "execution_count": 51,
     "metadata": {},
     "output_type": "execute_result"
    }
   ],
   "source": [
    "df_raw.shape[0]"
   ]
  },
  {
   "cell_type": "markdown",
   "id": "3a706f35-a2e8-45c7-933a-031b425722c3",
   "metadata": {},
   "source": [
    "How many senders?"
   ]
  },
  {
   "cell_type": "code",
   "execution_count": 50,
   "id": "22b4887e-fdab-4758-8c45-88aed60e120a",
   "metadata": {},
   "outputs": [
    {
     "data": {
      "text/plain": [
       "1261792"
      ]
     },
     "execution_count": 50,
     "metadata": {},
     "output_type": "execute_result"
    }
   ],
   "source": [
    "df_raw['from'].nunique()"
   ]
  },
  {
   "cell_type": "markdown",
   "id": "b48416ba-0b1b-4a84-a849-9c2233086a70",
   "metadata": {},
   "source": [
    "How many recipients?"
   ]
  },
  {
   "cell_type": "code",
   "execution_count": 9,
   "id": "3c05555f-00f5-4f21-bdab-05670233c6a7",
   "metadata": {},
   "outputs": [
    {
     "data": {
      "text/plain": [
       "966315"
      ]
     },
     "execution_count": 9,
     "metadata": {},
     "output_type": "execute_result"
    }
   ],
   "source": [
    "df_raw['to'].nunique()"
   ]
  },
  {
   "cell_type": "markdown",
   "id": "792d01c9-afb0-466a-9fdc-4a584dc0a516",
   "metadata": {},
   "source": [
    "How many days of data?"
   ]
  },
  {
   "cell_type": "code",
   "execution_count": 53,
   "id": "bd9836a8-d821-465d-8916-5c6630944181",
   "metadata": {},
   "outputs": [
    {
     "data": {
      "text/plain": [
       "block_timestamp\n",
       "2022-06-29     698486\n",
       "2022-06-30    1054433\n",
       "2022-07-01    1178620\n",
       "2022-07-02    1189382\n",
       "2022-07-03    1157052\n",
       "2022-07-04     215865\n",
       "Freq: D, dtype: int64"
      ]
     },
     "execution_count": 53,
     "metadata": {},
     "output_type": "execute_result"
    }
   ],
   "source": [
    "df_raw.resample('D', on='block_timestamp').size()"
   ]
  },
  {
   "cell_type": "markdown",
   "id": "7422d135-b980-461a-890d-1f2c5add46d9",
   "metadata": {},
   "source": [
    "What is the minimum and maximum `gas`?"
   ]
  },
  {
   "cell_type": "code",
   "execution_count": 54,
   "id": "a388ffc4-ecb6-4502-b39a-2b455a5827a0",
   "metadata": {},
   "outputs": [
    {
     "data": {
      "text/plain": [
       "count    5493838\n",
       "mean      165523\n",
       "std       381351\n",
       "min        21000\n",
       "25%        27938\n",
       "50%        90000\n",
       "75%       207128\n",
       "max     30029179\n",
       "Name: gas, dtype: float64"
      ]
     },
     "execution_count": 54,
     "metadata": {},
     "output_type": "execute_result"
    }
   ],
   "source": [
    "df_raw['gas'].describe()"
   ]
  },
  {
   "cell_type": "markdown",
   "id": "a30dbe86-5c50-4137-ba4a-130a90b4d3f4",
   "metadata": {},
   "source": [
    "What is the minimum and maximum `gasPrice`?"
   ]
  },
  {
   "cell_type": "code",
   "execution_count": 59,
   "id": "aad9509e-cae1-4411-9bed-603fed049daa",
   "metadata": {},
   "outputs": [
    {
     "data": {
      "text/plain": [
       "count           5493838\n",
       "mean        37222051738\n",
       "std        114347052967\n",
       "min          3717513949\n",
       "25%         14562386787\n",
       "50%         24496026516\n",
       "75%         43000000000\n",
       "max     150000000000000\n",
       "Name: gasPrice, dtype: float64"
      ]
     },
     "execution_count": 59,
     "metadata": {},
     "output_type": "execute_result"
    }
   ],
   "source": [
    "df_raw['gasPrice'].describe()"
   ]
  },
  {
   "cell_type": "code",
   "execution_count": 8,
   "id": "c3992d70-a45b-4fae-9a72-aad8014deac8",
   "metadata": {},
   "outputs": [
    {
     "data": {
      "text/plain": [
       "count    5493838\n",
       "mean     1369095\n",
       "std      5874673\n",
       "min            0\n",
       "25%           16\n",
       "50%          200\n",
       "75%        35888\n",
       "max     43702751\n",
       "Name: nonce, dtype: float64"
      ]
     },
     "execution_count": 8,
     "metadata": {},
     "output_type": "execute_result"
    }
   ],
   "source": [
    "df_raw['nonce'].describe()"
   ]
  },
  {
   "cell_type": "code",
   "execution_count": 12,
   "id": "ad0e86c6-fcbf-4d51-a973-335100b17996",
   "metadata": {},
   "outputs": [
    {
     "data": {
      "text/plain": [
       "count   5493838\n",
       "mean        139\n",
       "std         115\n",
       "min           0\n",
       "25%          50\n",
       "50%         113\n",
       "75%         204\n",
       "max        1307\n",
       "Name: transactionIndex, dtype: float64"
      ]
     },
     "execution_count": 12,
     "metadata": {},
     "output_type": "execute_result"
    }
   ],
   "source": [
    "df_raw['transactionIndex'].describe()"
   ]
  },
  {
   "cell_type": "code",
   "execution_count": 13,
   "id": "b663fba2-cf56-49f8-81cb-fa1ad660453e",
   "metadata": {},
   "outputs": [
    {
     "data": {
      "text/plain": [
       "2    4623591\n",
       "0     858767\n",
       "1      11480\n",
       "Name: type, dtype: int64"
      ]
     },
     "execution_count": 13,
     "metadata": {},
     "output_type": "execute_result"
    }
   ],
   "source": [
    "df_raw['type'].value_counts(dropna=False)"
   ]
  },
  {
   "cell_type": "code",
   "execution_count": 24,
   "id": "6a8d1f3b-f1ba-41f3-83ca-cc2499048410",
   "metadata": {},
   "outputs": [
    {
     "data": {
      "text/plain": [
       "2    0.841596\n",
       "0    0.156315\n",
       "1    0.002090\n",
       "Name: type, dtype: float64"
      ]
     },
     "execution_count": 24,
     "metadata": {},
     "output_type": "execute_result"
    }
   ],
   "source": [
    "df_raw['type'].value_counts(dropna=False, normalize=True)"
   ]
  },
  {
   "cell_type": "code",
   "execution_count": 18,
   "id": "70aead83-5772-4d76-8d6f-b88515697d65",
   "metadata": {},
   "outputs": [
    {
     "data": {
      "text/plain": [
       "5493838"
      ]
     },
     "execution_count": 18,
     "metadata": {},
     "output_type": "execute_result"
    }
   ],
   "source": [
    "df_raw['type'].value_counts().sum()"
   ]
  },
  {
   "cell_type": "code",
   "execution_count": 32,
   "id": "efa421ec-44e7-49f7-9579-b40d55b452bf",
   "metadata": {},
   "outputs": [],
   "source": [
    "# pd.set_option('display.float_format', lambda x: '%.f' % x)"
   ]
  },
  {
   "cell_type": "code",
   "execution_count": 29,
   "id": "4abe0bb1-5f51-4345-8ab6-c8de54990308",
   "metadata": {},
   "outputs": [
    {
     "data": {
      "text/plain": [
       "count                    5493838\n",
       "mean         1935085034425374720\n",
       "std        244890694547030605824\n",
       "min                            0\n",
       "25%                            0\n",
       "50%                            0\n",
       "75%            50000000000000000\n",
       "max     249999999999999995805696\n",
       "Name: value, dtype: float64"
      ]
     },
     "execution_count": 29,
     "metadata": {},
     "output_type": "execute_result"
    }
   ],
   "source": [
    "df_raw['value'].describe()"
   ]
  },
  {
   "cell_type": "code",
   "execution_count": 38,
   "id": "42aad4e2-5e51-4e2e-a1c0-075e308345ae",
   "metadata": {},
   "outputs": [
    {
     "data": {
      "text/plain": [
       "1.0    0.843685\n",
       "NaN    0.156315\n",
       "Name: chainId, dtype: float64"
      ]
     },
     "execution_count": 38,
     "metadata": {},
     "output_type": "execute_result"
    }
   ],
   "source": [
    "df_raw['chainId'].value_counts(dropna=False, normalize=True)"
   ]
  },
  {
   "cell_type": "code",
   "execution_count": 44,
   "id": "04d33dfa-7091-4d66-83e8-f5de4236177e",
   "metadata": {},
   "outputs": [],
   "source": [
    "# pd.set_option('display.float_format', lambda x: '%.f' % x)"
   ]
  },
  {
   "cell_type": "code",
   "execution_count": 43,
   "id": "0fecad50-bf04-41d8-b97f-3177124bf284",
   "metadata": {},
   "outputs": [
    {
     "data": {
      "text/plain": [
       "count          4623591\n",
       "mean       79362970949\n",
       "std       195638185747\n",
       "min         3717513949\n",
       "25%        22474826048\n",
       "50%        39639152684\n",
       "75%        76912194134\n",
       "max     50456218000000\n",
       "Name: maxFeePerGas, dtype: float64"
      ]
     },
     "execution_count": 43,
     "metadata": {},
     "output_type": "execute_result"
    }
   ],
   "source": [
    "df_raw['maxFeePerGas'].describe()"
   ]
  },
  {
   "cell_type": "code",
   "execution_count": 45,
   "id": "5bc3c75e-508e-4f1f-a3eb-998e8ef3b363",
   "metadata": {},
   "outputs": [
    {
     "data": {
      "text/plain": [
       "count          4623591\n",
       "mean        7180894508\n",
       "std        91090595491\n",
       "min                  0\n",
       "25%         1500000000\n",
       "50%         2000000000\n",
       "75%         2500000000\n",
       "max     49398545703515\n",
       "Name: maxPriorityFeePerGas, dtype: float64"
      ]
     },
     "execution_count": 45,
     "metadata": {},
     "output_type": "execute_result"
    }
   ],
   "source": [
    "df_raw['maxPriorityFeePerGas'].describe()"
   ]
  },
  {
   "cell_type": "markdown",
   "id": "56786ac7-8adb-4f4e-ac4e-d7c3d338b537",
   "metadata": {},
   "source": [
    "## Overall figures\n",
    "In this analysis, we will not look into:  \n",
    "The `r`, `s` and `v` which are the ECDSA signatures.  \n",
    "`accessList` which contains addresses and storage keys from legacy transactions. The field also needs to be flattened.  \n",
    "\n",
    "\n",
    "- How many blocks are there in our dataset?  \n",
    "29,029\n",
    "- How many transactions?  \n",
    "5,493,838\n",
    "- How many senders:  \n",
    "1,261,792\n",
    "- How many recipients:  \n",
    "966,315\n",
    "- What is the min, max, median and average `gas`?  \n",
    "min:21,000; max:30,029,179; median:90,000; mean:165,523\n",
    "- What is the min, max, median and average `gasPrice`?    \n",
    "min:3,717,513,949; max:150,000,000,000,000; median:24,496,026,516; mean:37,222,051,738\n",
    "- What is the min, max, median and average `nonce`?  \n",
    "min:0; max:43,702,751; median:200; mean:1,369,095\n",
    "- What is the min, max, median and average `transactionIndex`?  \n",
    "min:0; max:1,307; median:113; mean:139\n",
    "- What are the categories in `type`?  \n",
    "84% of transactions are 2, 16% are 0 and 0.002% are 1\n",
    "- What are the categories in `chainId`\n",
    "84% are 1 and 16% are missing the `chainId`\n",
    "- What is the min, max, median and average `value`?  \n",
    "min:0; max:249,999,999,999,999,995,805,696; median:0; mean:1,935,085,034,425,374,720\n",
    "- Which dates were these transactions executed?\n",
    "2022-06-29 to 2022-07-04"
   ]
  },
  {
   "cell_type": "markdown",
   "id": "d7120603-18d0-4aa4-8cc2-f06ac7c98f58",
   "metadata": {},
   "source": [
    "## Key Findings\n",
    "- There are more senders than recipients. Why?\n",
    "- The 84% of transactions has a `type` of 2 and 16% are 0. The 84% vs 16% split is the same as `chainId` split. What is the relationship? "
   ]
  }
 ],
 "metadata": {
  "kernelspec": {
   "display_name": "blockchain:Python",
   "language": "python",
   "name": "conda-env-blockchain-py"
  },
  "language_info": {
   "codemirror_mode": {
    "name": "ipython",
    "version": 3
   },
   "file_extension": ".py",
   "mimetype": "text/x-python",
   "name": "python",
   "nbconvert_exporter": "python",
   "pygments_lexer": "ipython3",
   "version": "3.10.4"
  }
 },
 "nbformat": 4,
 "nbformat_minor": 5
}
