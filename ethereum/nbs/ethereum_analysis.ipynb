{
 "cells": [
  {
   "cell_type": "markdown",
   "id": "eb786557-6670-4e36-98c4-fb8c458c847e",
   "metadata": {},
   "source": [
    "# Ethereum transactions analysis"
   ]
  },
  {
   "cell_type": "markdown",
   "id": "52df1e03-3552-43b9-913b-d817a2f0458c",
   "metadata": {},
   "source": [
    "## Read the pandas dataframe parquet files"
   ]
  },
  {
   "cell_type": "code",
   "execution_count": 1,
   "id": "c677d6be-40c6-4c13-99f9-8ab8ff1f76ab",
   "metadata": {
    "tags": []
   },
   "outputs": [],
   "source": [
    "import os\n",
    "import json\n",
    "\n",
    "import pandas as pd\n",
    "import numpy as np\n",
    "import matplotlib.pyplot as plt\n",
    "import seaborn as sns\n",
    "import altair as alt"
   ]
  },
  {
   "cell_type": "code",
   "execution_count": 2,
   "id": "38bb3c2f-81c3-48ae-8e6a-06e495c651c9",
   "metadata": {},
   "outputs": [],
   "source": [
    "PATH = '../data/'"
   ]
  },
  {
   "cell_type": "code",
   "execution_count": 157,
   "id": "ddeb2349-48ef-4cd1-8b50-6aa72d235ce4",
   "metadata": {},
   "outputs": [],
   "source": [
    "pd.set_option('display.max_columns', 100, 'display.max_rows', 100, 'display.max_colwidth', 100)\n",
    "#Remove scientific notation\n",
    "# pd.set_option('display.float_format', lambda x: '%.f' % x)\n",
    "#Show number of decimals\n",
    "pd.set_option('display.float_format', '{:.2f}'.format)"
   ]
  },
  {
   "cell_type": "code",
   "execution_count": 4,
   "id": "913ecc8f-b27e-481d-b692-eb11d23b166b",
   "metadata": {},
   "outputs": [],
   "source": [
    "file_dir = os.listdir(PATH)\n",
    "file_list = [os.path.join(PATH, file) for file in file_dir if file.startswith('df_')]"
   ]
  },
  {
   "cell_type": "code",
   "execution_count": 5,
   "id": "6fdec642-5f61-43be-a8bf-42ddc9e4524c",
   "metadata": {},
   "outputs": [],
   "source": [
    "df_raw = pd.concat([pd.read_parquet(file) for file in file_list])"
   ]
  },
  {
   "cell_type": "markdown",
   "id": "cb73d077-971f-438e-80fc-843b72c81202",
   "metadata": {},
   "source": [
    "### Convert `type` to categorical data type\n",
    "Seems to have reverted to 'int64' after reading from parquet into dataframe."
   ]
  },
  {
   "cell_type": "code",
   "execution_count": 6,
   "id": "0e0ce977-eb36-407e-8c40-ae11c231603c",
   "metadata": {},
   "outputs": [],
   "source": [
    "df_raw['type'] = df_raw['type'].astype('category')"
   ]
  },
  {
   "cell_type": "markdown",
   "id": "d1089c99-b499-47eb-bf27-4a7db67958d0",
   "metadata": {},
   "source": [
    "### Add `eth_value` column\n",
    "Convert `value` which is in Wei (the smallest unit of Ether) to Ether.  \n",
    "1 ETH = 10^18 Wei  \n",
    "1 ETH = 10^9 Gwei"
   ]
  },
  {
   "cell_type": "code",
   "execution_count": 127,
   "id": "d30152d7-f587-439d-ba72-b7dfdf05dec2",
   "metadata": {},
   "outputs": [],
   "source": [
    "df_raw['eth_value'] = df_raw['value'].div(10**18)"
   ]
  },
  {
   "cell_type": "markdown",
   "id": "766b1d55-744f-4d8c-bfad-3ff5f9b6b8db",
   "metadata": {},
   "source": [
    "### Keeping the dataset to 1 to 7 July 2022"
   ]
  },
  {
   "cell_type": "code",
   "execution_count": 154,
   "id": "ca03eecd-15e1-4d5c-a61a-abeead9f033e",
   "metadata": {},
   "outputs": [],
   "source": [
    "df = df_raw.query('block_timestamp.between(\"2022-07-01\", \"2022-07-08\", inclusive=\"both\")')"
   ]
  },
  {
   "cell_type": "markdown",
   "id": "041beddc-428c-4475-8b03-c62f48f34a49",
   "metadata": {},
   "source": [
    "## Read the block transaction counts json file"
   ]
  },
  {
   "cell_type": "code",
   "execution_count": 8,
   "id": "d0c86a54-6928-49e5-adcf-2b5368f81433",
   "metadata": {},
   "outputs": [],
   "source": [
    "block_txn = json.load(open('../data/raw/block_txn_counts.json'))"
   ]
  },
  {
   "cell_type": "code",
   "execution_count": 9,
   "id": "04f7c3f0-42a5-4275-ae50-476091a7062e",
   "metadata": {},
   "outputs": [],
   "source": [
    "df_txn_raw = pd.DataFrame(block_txn)"
   ]
  },
  {
   "cell_type": "code",
   "execution_count": 10,
   "id": "839c8692-e3d2-4415-bcb5-ce8c699f889f",
   "metadata": {},
   "outputs": [],
   "source": [
    "df_txn = df_txn_raw.copy()"
   ]
  },
  {
   "cell_type": "code",
   "execution_count": 11,
   "id": "176bc697-7b6c-4899-a1e4-a1f2ee979d3a",
   "metadata": {},
   "outputs": [],
   "source": [
    "df_txn['block_timestamp'] = df_txn['block_timestamp'].astype('datetime64[s]')\n",
    "df_txn['block_date'] = df_txn['block_timestamp'].astype('datetime64[D]')"
   ]
  },
  {
   "cell_type": "markdown",
   "id": "3b7d5c76-8b44-4a1e-95be-fb44b0ca5ab9",
   "metadata": {},
   "source": [
    "### Identify missing transactions in the main dataset"
   ]
  },
  {
   "cell_type": "code",
   "execution_count": 44,
   "id": "94d83ec9-813e-44d8-9453-93a21ff7ed23",
   "metadata": {},
   "outputs": [],
   "source": [
    "isin_main_array = df.query('block_date.between(\"2022-07-04\",\"2022-07-05\", inclusive=\"both\")')['blockNumber'].unique().tolist()"
   ]
  },
  {
   "cell_type": "code",
   "execution_count": 46,
   "id": "83963eec-86b8-4f73-9394-5fe70655cedd",
   "metadata": {},
   "outputs": [],
   "source": [
    "isin_txn_array = df_txn.query('block_date.between(\"2022-07-04\",\"2022-07-05\", inclusive=\"both\")')['block_number'].unique().tolist()"
   ]
  },
  {
   "cell_type": "code",
   "execution_count": 48,
   "id": "4858f7bc-86ec-417c-9506-09da4cd0541b",
   "metadata": {},
   "outputs": [
    {
     "data": {
      "text/plain": [
       "470"
      ]
     },
     "execution_count": 48,
     "metadata": {},
     "output_type": "execute_result"
    }
   ],
   "source": [
    "# missing 470 blocks from the main dataset\n",
    "len(isin_txn_array) - len(isin_main_array)"
   ]
  },
  {
   "cell_type": "code",
   "execution_count": 49,
   "id": "85b7ec01-9e10-4ba6-a086-2278e3fb4e9d",
   "metadata": {},
   "outputs": [],
   "source": [
    "missing_list = [i for i in isin_txn_array if (i not in isin_main_array) or (i not in isin_txn_array)]"
   ]
  },
  {
   "cell_type": "code",
   "execution_count": 12,
   "id": "fd2f53de-14f1-402e-b70b-66676333f4e0",
   "metadata": {},
   "outputs": [],
   "source": [
    "#Save the list of missing blocks for re-extraction\n",
    "# tmp_str = json.dumps(tmp_missing_blocks)\n",
    "# with open('../data/raw/tmp_missing_blocks.json', 'w') as f:\n",
    "#     f.write(tmp_str)"
   ]
  },
  {
   "cell_type": "markdown",
   "id": "1430edbf-b025-4d2b-ae63-1e7f95c0be80",
   "metadata": {},
   "source": [
    "#### Data fields\n",
    "- `hash` - Hash of the transaction\n",
    "- `blockHash` - Hash of the block\n",
    "- `blockNumber` - Block number\n",
    "- `from` - Address of the sender\n",
    "- `gas` - Gas provided by the sender\n",
    "- `gasPrice` - Gas price provided by the sender in Wei\n",
    "- `input` - The data sent along with the transaction. Commonly used as part of contract interaction or as a message sent to the recipient. See \n",
    "- `nonce` - The number of transactions made by the sender prior to this one\n",
    "- `r` - The Elliptic Curve Digital Signature Algorithm (ECDSA) signature r. The standardised R field of the signature. See: https://openethereum.github.io/JSONRPC\n",
    "- `s` - The Elliptic Curve Digital Signature Algorithm (ECDSA) signature s\n",
    "- `to` - Address of the receiver\n",
    "- `transactionIndex` - Integer of the transactions index position in the block\n",
    "- `type` - Overtime, Ethereum Improvement Proposals (EIPs) have changed what a valid transaction looks like, whilst maintaining a high level of backwards compatibility with other transaction types. Today, the main types of transactions are legacy transactions and typed transactions (i.e. Type 1, Type 2).  \n",
    "See https://mycelium.xyz/research/the-journey-of-an-ethereum-transaction/.  \n",
    "Also see https://docs.dune.com/data-tables/data-tables/raw-data/ethereum-data#ethereum.transactions. \n",
    "   - 0: 'legacy' \n",
    "   - 1: 'accessList/Type 1' \n",
    "   - 2: 'DynamicFee/Type 2'    \n",
    "- `v` - The Elliptic Curve Digital Signature Algorithm (ECDSA) recovery id. The standardised V field of the signature. See: https://openethereum.github.io/JSONRPC\n",
    "- `value` - The amount of ether transferred in Wei. 1 ETH = 10^18 Wei. 1 ETH = 10^9 Gwei.\n",
    "- `accessList` - Contains addresses and storage keys that will be accessed. These are fields from legacy transactions, EIP-2930. See: https://openethereum.github.io/JSONRPC\n",
    "- `chainId` - Value used in replay-protected transaction signing as introduced by EIP-155\n",
    "- `maxFeePerGas` - The maximum fee per gas the transaction sender is willing to pay total (introduced by EIP1559). For detailed explanation, refer to https://docs.alchemy.com/alchemy/guides/eip-1559/maxpriorityfeepergas-vs-maxfeepergas\n",
    "- `maxPriorityFeePerGas` - The maximum fee per gas the transaction sender is willing to pay total (introduced by EIP1559) Refer to https://docs.alchemy.com/alchemy/guides/eip-1559/maxpriorityfeepergas-vs-maxfeepergas\n",
    "- `block_timestamp` - Timestamp of the block\n",
    "\n",
    "References:  \n",
    "https://docs.dune.com/data-tables/data-tables/raw-data/ethereum-data#ethereum.transactions  \n",
    "The \"bigquery-public-data.crypto_ethereum.transactions\" column description  \n",
    "https://ethereum.org/en/developers/docs/apis/json-rpc/  \n",
    "https://docs.alchemy.com/alchemy/apis/ethereum/eth-gettransactionbyhash  "
   ]
  },
  {
   "cell_type": "markdown",
   "id": "02c9f4c8-b9e7-478b-bfe6-36c6d89766ea",
   "metadata": {
    "tags": []
   },
   "source": [
    "### We have the following entities in our domain:\n",
    "- Blocks\n",
    "- Transaction\n",
    "- Value and Fees\n",
    "- Account\n",
    "\n",
    "The process/relationship:\n",
    "- A block contains multiple transactions\n",
    "- A transaction is a request for computation on the Ethereum Virtual Machine (EVM) and it is a fulfilled transaction request and the associated change in the EVM.  \n",
    "When a request is broadcast, other participants on the network verify, validate and carry out the computation.  \n",
    "A transaction refers to an action initiated by an externally owned account, in other words, managed by a human not a contract (smart contract, ie. controlled by code).\n",
    "A transaction requires a fee and must be mined to be valid.\n",
    "- An account can be externally-owned or a contract (smart contract)\n",
    "\n",
    "References:\n",
    "https://ethereum.org/en/developers/docs/intro-to-ethereum/"
   ]
  },
  {
   "cell_type": "markdown",
   "id": "9ccc44a7-6f0c-4408-bbb0-d18aa2277e34",
   "metadata": {},
   "source": [
    "### We have the following information about our entities:\n",
    "- Blocks: `blockHash`, `blockNumber`, `block_timestamp`\n",
    "- Transaction: `hash`, `from`, `to`, `transactionIndex`, `type`, `input`, `chainId`\n",
    "- Value and Fees: `value`, `gas`, `gasPrice`, `maxFeePerGas`, `maxPriorityFeePerGas`\n",
    "- Account: `nonce`"
   ]
  },
  {
   "cell_type": "markdown",
   "id": "ec2963ef-2da1-477c-93c3-37ca4cf355be",
   "metadata": {},
   "source": [
    "## Univariate analysis"
   ]
  },
  {
   "cell_type": "code",
   "execution_count": 11,
   "id": "079282dd-7619-47cc-9d4c-732f2ec8ea5b",
   "metadata": {},
   "outputs": [
    {
     "name": "stdout",
     "output_type": "stream",
     "text": [
      "<class 'pandas.core.frame.DataFrame'>\n",
      "Int64Index: 8212460 entries, 0 to 3011962\n",
      "Data columns (total 16 columns):\n",
      " #   Column                Dtype         \n",
      "---  ------                -----         \n",
      " 0   hash                  object        \n",
      " 1   blockHash             object        \n",
      " 2   blockNumber           int64         \n",
      " 3   chainId               float64       \n",
      " 4   from                  object        \n",
      " 5   gas                   int64         \n",
      " 6   gasPrice              int64         \n",
      " 7   input                 object        \n",
      " 8   maxFeePerGas          float64       \n",
      " 9   maxPriorityFeePerGas  float64       \n",
      " 10  nonce                 int64         \n",
      " 11  to                    object        \n",
      " 12  transactionIndex      int64         \n",
      " 13  type                  category      \n",
      " 14  value                 float64       \n",
      " 15  block_timestamp       datetime64[ns]\n",
      "dtypes: category(1), datetime64[ns](1), float64(4), int64(5), object(5)\n",
      "memory usage: 1010.3+ MB\n"
     ]
    }
   ],
   "source": [
    "df.info()"
   ]
  },
  {
   "cell_type": "code",
   "execution_count": 17,
   "id": "bdc85166-0d3d-454b-8a6d-10c7ae8c0057",
   "metadata": {},
   "outputs": [
    {
     "data": {
      "text/html": [
       "<div>\n",
       "<style scoped>\n",
       "    .dataframe tbody tr th:only-of-type {\n",
       "        vertical-align: middle;\n",
       "    }\n",
       "\n",
       "    .dataframe tbody tr th {\n",
       "        vertical-align: top;\n",
       "    }\n",
       "\n",
       "    .dataframe thead th {\n",
       "        text-align: right;\n",
       "    }\n",
       "</style>\n",
       "<table border=\"1\" class=\"dataframe\">\n",
       "  <thead>\n",
       "    <tr style=\"text-align: right;\">\n",
       "      <th></th>\n",
       "      <th>hash</th>\n",
       "      <th>blockHash</th>\n",
       "      <th>blockNumber</th>\n",
       "      <th>chainId</th>\n",
       "      <th>from</th>\n",
       "      <th>gas</th>\n",
       "      <th>gasPrice</th>\n",
       "      <th>input</th>\n",
       "      <th>maxFeePerGas</th>\n",
       "      <th>maxPriorityFeePerGas</th>\n",
       "      <th>nonce</th>\n",
       "      <th>to</th>\n",
       "      <th>transactionIndex</th>\n",
       "      <th>type</th>\n",
       "      <th>value</th>\n",
       "      <th>block_timestamp</th>\n",
       "    </tr>\n",
       "  </thead>\n",
       "  <tbody>\n",
       "    <tr>\n",
       "      <th>0</th>\n",
       "      <td>0x4ba4952586cd471bf7be6f5bce210a52fb1139e279994bbfe05353884b77f325</td>\n",
       "      <td>0xc21f383b86f543e0038ada2a3554bf2b7ced841fad4363871f1fd8400721aff9</td>\n",
       "      <td>15053949</td>\n",
       "      <td>1.0</td>\n",
       "      <td>0xea674fdde714fd979de3edf0f56aa9716b898ec8</td>\n",
       "      <td>250000</td>\n",
       "      <td>17082324542</td>\n",
       "      <td>0x</td>\n",
       "      <td>3.805209e+10</td>\n",
       "      <td>1.000000e+09</td>\n",
       "      <td>43640737</td>\n",
       "      <td>0x40329687913cf9d84e3132cb4d8d61130704599d</td>\n",
       "      <td>0</td>\n",
       "      <td>2</td>\n",
       "      <td>9.971602e+16</td>\n",
       "      <td>2022-07-01 02:36:35</td>\n",
       "    </tr>\n",
       "    <tr>\n",
       "      <th>1</th>\n",
       "      <td>0xd04e6bed821f4c616a400d5bb43a525dbad01fff53b2fb42c9a40d448df371c4</td>\n",
       "      <td>0xc21f383b86f543e0038ada2a3554bf2b7ced841fad4363871f1fd8400721aff9</td>\n",
       "      <td>15053949</td>\n",
       "      <td>1.0</td>\n",
       "      <td>0xea674fdde714fd979de3edf0f56aa9716b898ec8</td>\n",
       "      <td>250000</td>\n",
       "      <td>17082324542</td>\n",
       "      <td>0x</td>\n",
       "      <td>3.805209e+10</td>\n",
       "      <td>1.000000e+09</td>\n",
       "      <td>43640738</td>\n",
       "      <td>0xb55ec04cbda8d2d602f3108ddb66496a3cb1ee9b</td>\n",
       "      <td>1</td>\n",
       "      <td>2</td>\n",
       "      <td>9.962975e+16</td>\n",
       "      <td>2022-07-01 02:36:35</td>\n",
       "    </tr>\n",
       "    <tr>\n",
       "      <th>2</th>\n",
       "      <td>0xc1f95ac0a6f41e9a53713193e83af95694052181a2ec9b788ab00ab389412cb6</td>\n",
       "      <td>0xc21f383b86f543e0038ada2a3554bf2b7ced841fad4363871f1fd8400721aff9</td>\n",
       "      <td>15053949</td>\n",
       "      <td>1.0</td>\n",
       "      <td>0xea674fdde714fd979de3edf0f56aa9716b898ec8</td>\n",
       "      <td>250000</td>\n",
       "      <td>17082324542</td>\n",
       "      <td>0x</td>\n",
       "      <td>3.805209e+10</td>\n",
       "      <td>1.000000e+09</td>\n",
       "      <td>43640739</td>\n",
       "      <td>0xdd27415aa937d75f13bf5877f7cbf092e42612b3</td>\n",
       "      <td>2</td>\n",
       "      <td>2</td>\n",
       "      <td>1.734777e+16</td>\n",
       "      <td>2022-07-01 02:36:35</td>\n",
       "    </tr>\n",
       "  </tbody>\n",
       "</table>\n",
       "</div>"
      ],
      "text/plain": [
       "                                                                 hash  \\\n",
       "0  0x4ba4952586cd471bf7be6f5bce210a52fb1139e279994bbfe05353884b77f325   \n",
       "1  0xd04e6bed821f4c616a400d5bb43a525dbad01fff53b2fb42c9a40d448df371c4   \n",
       "2  0xc1f95ac0a6f41e9a53713193e83af95694052181a2ec9b788ab00ab389412cb6   \n",
       "\n",
       "                                                            blockHash  \\\n",
       "0  0xc21f383b86f543e0038ada2a3554bf2b7ced841fad4363871f1fd8400721aff9   \n",
       "1  0xc21f383b86f543e0038ada2a3554bf2b7ced841fad4363871f1fd8400721aff9   \n",
       "2  0xc21f383b86f543e0038ada2a3554bf2b7ced841fad4363871f1fd8400721aff9   \n",
       "\n",
       "   blockNumber  chainId                                        from     gas  \\\n",
       "0     15053949      1.0  0xea674fdde714fd979de3edf0f56aa9716b898ec8  250000   \n",
       "1     15053949      1.0  0xea674fdde714fd979de3edf0f56aa9716b898ec8  250000   \n",
       "2     15053949      1.0  0xea674fdde714fd979de3edf0f56aa9716b898ec8  250000   \n",
       "\n",
       "      gasPrice input  maxFeePerGas  maxPriorityFeePerGas     nonce  \\\n",
       "0  17082324542    0x  3.805209e+10          1.000000e+09  43640737   \n",
       "1  17082324542    0x  3.805209e+10          1.000000e+09  43640738   \n",
       "2  17082324542    0x  3.805209e+10          1.000000e+09  43640739   \n",
       "\n",
       "                                           to  transactionIndex type  \\\n",
       "0  0x40329687913cf9d84e3132cb4d8d61130704599d                 0    2   \n",
       "1  0xb55ec04cbda8d2d602f3108ddb66496a3cb1ee9b                 1    2   \n",
       "2  0xdd27415aa937d75f13bf5877f7cbf092e42612b3                 2    2   \n",
       "\n",
       "          value     block_timestamp  \n",
       "0  9.971602e+16 2022-07-01 02:36:35  \n",
       "1  9.962975e+16 2022-07-01 02:36:35  \n",
       "2  1.734777e+16 2022-07-01 02:36:35  "
      ]
     },
     "execution_count": 17,
     "metadata": {},
     "output_type": "execute_result"
    }
   ],
   "source": [
    "df.head(3)"
   ]
  },
  {
   "cell_type": "markdown",
   "id": "b32ee5b7-1215-4d72-a612-8cc074c0c5d2",
   "metadata": {},
   "source": [
    "How many blocks are there in our dataset?"
   ]
  },
  {
   "cell_type": "code",
   "execution_count": 23,
   "id": "20e197c6-d8eb-42c8-b8fa-0b89abf462f9",
   "metadata": {},
   "outputs": [
    {
     "data": {
      "text/plain": [
       "43706"
      ]
     },
     "execution_count": 23,
     "metadata": {},
     "output_type": "execute_result"
    }
   ],
   "source": [
    "df['blockNumber'].nunique()"
   ]
  },
  {
   "cell_type": "markdown",
   "id": "bce5ee0d-e63e-4f70-9d8a-31dc9b8a7b2d",
   "metadata": {},
   "source": [
    "How many transactions?"
   ]
  },
  {
   "cell_type": "code",
   "execution_count": 21,
   "id": "c43017a6-1665-481a-af9e-40397689cb10",
   "metadata": {},
   "outputs": [
    {
     "data": {
      "text/plain": [
       "8212460"
      ]
     },
     "execution_count": 21,
     "metadata": {},
     "output_type": "execute_result"
    }
   ],
   "source": [
    "df.shape[0]"
   ]
  },
  {
   "cell_type": "markdown",
   "id": "3a706f35-a2e8-45c7-933a-031b425722c3",
   "metadata": {},
   "source": [
    "How many senders?"
   ]
  },
  {
   "cell_type": "code",
   "execution_count": 22,
   "id": "22b4887e-fdab-4758-8c45-88aed60e120a",
   "metadata": {},
   "outputs": [
    {
     "data": {
      "text/plain": [
       "1782142"
      ]
     },
     "execution_count": 22,
     "metadata": {},
     "output_type": "execute_result"
    }
   ],
   "source": [
    "df['from'].nunique()"
   ]
  },
  {
   "cell_type": "markdown",
   "id": "b48416ba-0b1b-4a84-a849-9c2233086a70",
   "metadata": {},
   "source": [
    "How many recipients?"
   ]
  },
  {
   "cell_type": "code",
   "execution_count": 24,
   "id": "3c05555f-00f5-4f21-bdab-05670233c6a7",
   "metadata": {},
   "outputs": [
    {
     "data": {
      "text/plain": [
       "1311994"
      ]
     },
     "execution_count": 24,
     "metadata": {},
     "output_type": "execute_result"
    }
   ],
   "source": [
    "df['to'].nunique()"
   ]
  },
  {
   "cell_type": "code",
   "execution_count": 37,
   "id": "078161c4-95d9-4971-bbbd-6cf0a9374109",
   "metadata": {},
   "outputs": [],
   "source": [
    "pd.set_option('display.float_format', lambda x: '%.f' % x)"
   ]
  },
  {
   "cell_type": "markdown",
   "id": "7422d135-b980-461a-890d-1f2c5add46d9",
   "metadata": {},
   "source": [
    "What is the minimum and maximum `gas`?"
   ]
  },
  {
   "cell_type": "code",
   "execution_count": 38,
   "id": "a388ffc4-ecb6-4502-b39a-2b455a5827a0",
   "metadata": {},
   "outputs": [
    {
     "data": {
      "text/plain": [
       "count    8212460\n",
       "mean      163931\n",
       "std       385066\n",
       "min        21000\n",
       "25%        31500\n",
       "50%        90000\n",
       "75%       207128\n",
       "max     30029295\n",
       "Name: gas, dtype: float64"
      ]
     },
     "execution_count": 38,
     "metadata": {},
     "output_type": "execute_result"
    }
   ],
   "source": [
    "df['gas'].describe()"
   ]
  },
  {
   "cell_type": "code",
   "execution_count": null,
   "id": "56a6c195-66a3-4843-bcef-860b0577cd39",
   "metadata": {},
   "outputs": [
    {
     "data": {
      "text/html": [
       "<div>\n",
       "<style scoped>\n",
       "    .dataframe tbody tr th:only-of-type {\n",
       "        vertical-align: middle;\n",
       "    }\n",
       "\n",
       "    .dataframe tbody tr th {\n",
       "        vertical-align: top;\n",
       "    }\n",
       "\n",
       "    .dataframe thead th {\n",
       "        text-align: right;\n",
       "    }\n",
       "</style>\n",
       "<table border=\"1\" class=\"dataframe\">\n",
       "  <thead>\n",
       "    <tr style=\"text-align: right;\">\n",
       "      <th></th>\n",
       "      <th>hash</th>\n",
       "      <th>blockHash</th>\n",
       "      <th>blockNumber</th>\n",
       "      <th>chainId</th>\n",
       "      <th>from</th>\n",
       "      <th>gas</th>\n",
       "      <th>gasPrice</th>\n",
       "      <th>input</th>\n",
       "      <th>maxFeePerGas</th>\n",
       "      <th>maxPriorityFeePerGas</th>\n",
       "      <th>nonce</th>\n",
       "      <th>to</th>\n",
       "      <th>transactionIndex</th>\n",
       "      <th>type</th>\n",
       "      <th>value</th>\n",
       "      <th>block_timestamp</th>\n",
       "    </tr>\n",
       "  </thead>\n",
       "  <tbody>\n",
       "    <tr>\n",
       "      <th>642917</th>\n",
       "      <td>0xdd6d61a22ede7b658487fd45bb645f1dfecab607d48e2e1e50cf0915e3d18abf</td>\n",
       "      <td>0x35ffb57b42bb69b018f95c39b7b0e84bac7e91d8c854149d7192eb20912b854d</td>\n",
       "      <td>15078507</td>\n",
       "      <td>1</td>\n",
       "      <td>0x6d72dc1b254fb818a1382a05212466b83424e469</td>\n",
       "      <td>30029295</td>\n",
       "      <td>25375730731</td>\n",
       "      <td>0x8fe5d2e90000000000000000000000000000000000000000000000000000000000e611910000000000000000000000...</td>\n",
       "      <td>37015077777</td>\n",
       "      <td>7000000000</td>\n",
       "      <td>37</td>\n",
       "      <td>0x30f7bf69d92828441f5a6bfcf818df25deb2c4b4</td>\n",
       "      <td>0</td>\n",
       "      <td>2</td>\n",
       "      <td>0</td>\n",
       "      <td>2022-07-04 21:33:21</td>\n",
       "    </tr>\n",
       "  </tbody>\n",
       "</table>\n",
       "</div>"
      ],
      "text/plain": [
       "                                                                      hash  \\\n",
       "642917  0xdd6d61a22ede7b658487fd45bb645f1dfecab607d48e2e1e50cf0915e3d18abf   \n",
       "\n",
       "                                                                 blockHash  \\\n",
       "642917  0x35ffb57b42bb69b018f95c39b7b0e84bac7e91d8c854149d7192eb20912b854d   \n",
       "\n",
       "        blockNumber  chainId                                        from  \\\n",
       "642917     15078507        1  0x6d72dc1b254fb818a1382a05212466b83424e469   \n",
       "\n",
       "             gas     gasPrice  \\\n",
       "642917  30029295  25375730731   \n",
       "\n",
       "                                                                                                      input  \\\n",
       "642917  0x8fe5d2e90000000000000000000000000000000000000000000000000000000000e611910000000000000000000000...   \n",
       "\n",
       "        maxFeePerGas  maxPriorityFeePerGas  nonce  \\\n",
       "642917   37015077777            7000000000     37   \n",
       "\n",
       "                                                to  transactionIndex type  \\\n",
       "642917  0x30f7bf69d92828441f5a6bfcf818df25deb2c4b4                 0    2   \n",
       "\n",
       "        value     block_timestamp  \n",
       "642917      0 2022-07-04 21:33:21  "
      ]
     },
     "execution_count": 46,
     "metadata": {},
     "output_type": "execute_result"
    }
   ],
   "source": [
    "df.query('gas == 30029295')"
   ]
  },
  {
   "cell_type": "markdown",
   "id": "a30dbe86-5c50-4137-ba4a-130a90b4d3f4",
   "metadata": {},
   "source": [
    "What is the minimum and maximum `gasPrice`?"
   ]
  },
  {
   "cell_type": "code",
   "execution_count": 27,
   "id": "aad9509e-cae1-4411-9bed-603fed049daa",
   "metadata": {},
   "outputs": [
    {
     "data": {
      "text/plain": [
       "count    8.212460e+06\n",
       "mean     3.015800e+10\n",
       "std      1.227708e+11\n",
       "min      3.717514e+09\n",
       "25%      1.455000e+10\n",
       "50%      2.138334e+10\n",
       "75%      3.489424e+10\n",
       "max      2.294510e+14\n",
       "Name: gasPrice, dtype: float64"
      ]
     },
     "execution_count": 27,
     "metadata": {},
     "output_type": "execute_result"
    }
   ],
   "source": [
    "df['gasPrice'].describe()"
   ]
  },
  {
   "cell_type": "code",
   "execution_count": 28,
   "id": "c3992d70-a45b-4fae-9a72-aad8014deac8",
   "metadata": {},
   "outputs": [
    {
     "data": {
      "text/plain": [
       "count    8.212460e+06\n",
       "mean     1.317989e+06\n",
       "std      5.830671e+06\n",
       "min      0.000000e+00\n",
       "25%      1.500000e+01\n",
       "50%      1.830000e+02\n",
       "75%      1.693500e+04\n",
       "max      4.377498e+07\n",
       "Name: nonce, dtype: float64"
      ]
     },
     "execution_count": 28,
     "metadata": {},
     "output_type": "execute_result"
    }
   ],
   "source": [
    "df['nonce'].describe()"
   ]
  },
  {
   "cell_type": "code",
   "execution_count": 29,
   "id": "ad0e86c6-fcbf-4d51-a973-335100b17996",
   "metadata": {},
   "outputs": [
    {
     "data": {
      "text/plain": [
       "count    8.212460e+06\n",
       "mean     1.383877e+02\n",
       "std      1.141302e+02\n",
       "min      0.000000e+00\n",
       "25%      5.000000e+01\n",
       "50%      1.120000e+02\n",
       "75%      2.020000e+02\n",
       "max      1.307000e+03\n",
       "Name: transactionIndex, dtype: float64"
      ]
     },
     "execution_count": 29,
     "metadata": {},
     "output_type": "execute_result"
    }
   ],
   "source": [
    "df['transactionIndex'].describe()"
   ]
  },
  {
   "cell_type": "code",
   "execution_count": 30,
   "id": "b663fba2-cf56-49f8-81cb-fa1ad660453e",
   "metadata": {},
   "outputs": [
    {
     "data": {
      "text/plain": [
       "2    6881664\n",
       "0    1315335\n",
       "1      15461\n",
       "Name: type, dtype: int64"
      ]
     },
     "execution_count": 30,
     "metadata": {},
     "output_type": "execute_result"
    }
   ],
   "source": [
    "df['type'].value_counts(dropna=False)"
   ]
  },
  {
   "cell_type": "code",
   "execution_count": 31,
   "id": "6a8d1f3b-f1ba-41f3-83ca-cc2499048410",
   "metadata": {},
   "outputs": [
    {
     "data": {
      "text/plain": [
       "2    0.837954\n",
       "0    0.160163\n",
       "1    0.001883\n",
       "Name: type, dtype: float64"
      ]
     },
     "execution_count": 31,
     "metadata": {},
     "output_type": "execute_result"
    }
   ],
   "source": [
    "df['type'].value_counts(dropna=False, normalize=True)"
   ]
  },
  {
   "cell_type": "code",
   "execution_count": 32,
   "id": "efa421ec-44e7-49f7-9579-b40d55b452bf",
   "metadata": {},
   "outputs": [],
   "source": [
    "# pd.set_option('display.float_format', lambda x: '%.f' % x)"
   ]
  },
  {
   "cell_type": "code",
   "execution_count": 33,
   "id": "4abe0bb1-5f51-4345-8ab6-c8de54990308",
   "metadata": {},
   "outputs": [
    {
     "data": {
      "text/plain": [
       "count    8.212460e+06\n",
       "mean     1.697553e+18\n",
       "std      1.871322e+20\n",
       "min      0.000000e+00\n",
       "25%      0.000000e+00\n",
       "50%      0.000000e+00\n",
       "75%      4.800000e+16\n",
       "max      1.500000e+23\n",
       "Name: value, dtype: float64"
      ]
     },
     "execution_count": 33,
     "metadata": {},
     "output_type": "execute_result"
    }
   ],
   "source": [
    "df['value'].describe()"
   ]
  },
  {
   "cell_type": "code",
   "execution_count": 34,
   "id": "42aad4e2-5e51-4e2e-a1c0-075e308345ae",
   "metadata": {},
   "outputs": [
    {
     "data": {
      "text/plain": [
       "1.0    0.839837\n",
       "NaN    0.160163\n",
       "Name: chainId, dtype: float64"
      ]
     },
     "execution_count": 34,
     "metadata": {},
     "output_type": "execute_result"
    }
   ],
   "source": [
    "df['chainId'].value_counts(dropna=False, normalize=True)"
   ]
  },
  {
   "cell_type": "code",
   "execution_count": 44,
   "id": "04d33dfa-7091-4d66-83e8-f5de4236177e",
   "metadata": {},
   "outputs": [],
   "source": [
    "# pd.set_option('display.float_format', lambda x: '%.f' % x)"
   ]
  },
  {
   "cell_type": "code",
   "execution_count": 35,
   "id": "0fecad50-bf04-41d8-b97f-3177124bf284",
   "metadata": {},
   "outputs": [
    {
     "data": {
      "text/plain": [
       "count    6.881664e+06\n",
       "mean     6.971994e+10\n",
       "std      1.914036e+11\n",
       "min      3.717514e+09\n",
       "25%      2.200000e+10\n",
       "50%      3.469551e+10\n",
       "75%      6.196162e+10\n",
       "max      2.294510e+14\n",
       "Name: maxFeePerGas, dtype: float64"
      ]
     },
     "execution_count": 35,
     "metadata": {},
     "output_type": "execute_result"
    }
   ],
   "source": [
    "df['maxFeePerGas'].describe()"
   ]
  },
  {
   "cell_type": "code",
   "execution_count": 36,
   "id": "5bc3c75e-508e-4f1f-a3eb-998e8ef3b363",
   "metadata": {},
   "outputs": [
    {
     "data": {
      "text/plain": [
       "count    6.881664e+06\n",
       "mean     5.248661e+09\n",
       "std      1.149491e+11\n",
       "min      0.000000e+00\n",
       "25%      1.500000e+09\n",
       "50%      2.000000e+09\n",
       "75%      2.500000e+09\n",
       "max      2.294510e+14\n",
       "Name: maxPriorityFeePerGas, dtype: float64"
      ]
     },
     "execution_count": 36,
     "metadata": {},
     "output_type": "execute_result"
    }
   ],
   "source": [
    "df['maxPriorityFeePerGas'].describe()"
   ]
  },
  {
   "cell_type": "markdown",
   "id": "b459396b-6f0f-46cf-9e18-6f10d1657b2a",
   "metadata": {},
   "source": [
    "## Overall figures\n",
    "In this analysis, we will not look into:  \n",
    "The `r`, `s` and `v` which are the ECDSA signatures.  \n",
    "`accessList` which contains addresses and storage keys from legacy transactions. The field also needs to be flattened.  \n",
    "All transactions are included regardless of status, ie. success or failed (no field to determine this in the dataset).\n",
    "- How many blocks are there in our dataset?  \n",
    "43,706\n",
    "- How many transactions?  \n",
    "8,212,460\n",
    "- How many senders:  \n",
    "1,782,142\n",
    "- How many recipients:  \n",
    "1,311,992\n",
    "- What are the categories in `type`?  \n",
    "84% of transactions are 2, 16% are 0 and 0.002% are 1\n",
    "- What are the categories in `chainId`\n",
    "84% are 1 and 16% are missing the `chainId`\n",
    "- Which dates were these transactions executed?\n",
    "2022-07-01 to 2022-07-07"
   ]
  },
  {
   "cell_type": "markdown",
   "id": "d7120603-18d0-4aa4-8cc2-f06ac7c98f58",
   "metadata": {},
   "source": [
    "## Key Findings on Overall Figures\n",
    "- There are more senders than recipients. Why?\n",
    "- The 84% of transactions has a `type` of 2 and 16% are 0. The 84% vs 16% split is the same as `chainId` split. What is the relationship? \n",
    "- An example of an outlier with `gas` = 30,029,295 was a failed transaction, see `hash` = '0xdd6d61a22ede7b658487fd45bb645f1dfecab607d48e2e1e50cf0915e3d18abf'. Note that the `value` is 0. Also confirmed in https://etherscan.io/tx/0xdd6d61a22ede7b658487fd45bb645f1dfecab607d48e2e1e50cf0915e3d18abf. Comments in etherscan says \"WRONG_BLOCK_NUMBER\" but another checking the Alchemy API with eth_getTransactionByHash confirmed it is correct block number."
   ]
  },
  {
   "cell_type": "markdown",
   "id": "f01360fe-3811-4d90-841e-ada2d5cf0c8b",
   "metadata": {},
   "source": [
    "How many blocks per day?"
   ]
  },
  {
   "cell_type": "code",
   "execution_count": 12,
   "id": "4a3d04bd-28d4-4036-8f12-ed1eb87d8e11",
   "metadata": {},
   "outputs": [
    {
     "data": {
      "text/html": [
       "<div>\n",
       "<style scoped>\n",
       "    .dataframe tbody tr th:only-of-type {\n",
       "        vertical-align: middle;\n",
       "    }\n",
       "\n",
       "    .dataframe tbody tr th {\n",
       "        vertical-align: top;\n",
       "    }\n",
       "\n",
       "    .dataframe thead th {\n",
       "        text-align: right;\n",
       "    }\n",
       "</style>\n",
       "<table border=\"1\" class=\"dataframe\">\n",
       "  <thead>\n",
       "    <tr style=\"text-align: right;\">\n",
       "      <th></th>\n",
       "      <th>blocks</th>\n",
       "    </tr>\n",
       "    <tr>\n",
       "      <th>block_timestamp</th>\n",
       "      <th></th>\n",
       "    </tr>\n",
       "  </thead>\n",
       "  <tbody>\n",
       "    <tr>\n",
       "      <th>2022-07-01</th>\n",
       "      <td>6253</td>\n",
       "    </tr>\n",
       "    <tr>\n",
       "      <th>2022-07-02</th>\n",
       "      <td>6227</td>\n",
       "    </tr>\n",
       "    <tr>\n",
       "      <th>2022-07-03</th>\n",
       "      <td>6315</td>\n",
       "    </tr>\n",
       "    <tr>\n",
       "      <th>2022-07-04</th>\n",
       "      <td>6200</td>\n",
       "    </tr>\n",
       "    <tr>\n",
       "      <th>2022-07-05</th>\n",
       "      <td>6242</td>\n",
       "    </tr>\n",
       "    <tr>\n",
       "      <th>2022-07-06</th>\n",
       "      <td>6280</td>\n",
       "    </tr>\n",
       "    <tr>\n",
       "      <th>2022-07-07</th>\n",
       "      <td>6189</td>\n",
       "    </tr>\n",
       "  </tbody>\n",
       "</table>\n",
       "</div>"
      ],
      "text/plain": [
       "                 blocks\n",
       "block_timestamp        \n",
       "2022-07-01         6253\n",
       "2022-07-02         6227\n",
       "2022-07-03         6315\n",
       "2022-07-04         6200\n",
       "2022-07-05         6242\n",
       "2022-07-06         6280\n",
       "2022-07-07         6189"
      ]
     },
     "execution_count": 12,
     "metadata": {},
     "output_type": "execute_result"
    }
   ],
   "source": [
    "df.resample('D', on='block_timestamp').agg(blocks=('blockNumber','nunique'))"
   ]
  },
  {
   "cell_type": "markdown",
   "id": "db460cbd-1eeb-4555-b29a-dbcc5e8a6bd0",
   "metadata": {},
   "source": [
    "How many transactions per day?"
   ]
  },
  {
   "cell_type": "code",
   "execution_count": 14,
   "id": "26073cbc-d10f-4bb0-89d8-e3a3a7b97511",
   "metadata": {},
   "outputs": [
    {
     "data": {
      "text/plain": [
       "block_date\n",
       "2022-07-01    1178620\n",
       "2022-07-02    1189382\n",
       "2022-07-03    1157052\n",
       "2022-07-04    1150609\n",
       "2022-07-05    1181035\n",
       "2022-07-06    1161432\n",
       "2022-07-07    1194330\n",
       "Freq: D, dtype: int64"
      ]
     },
     "execution_count": 14,
     "metadata": {},
     "output_type": "execute_result"
    }
   ],
   "source": [
    "df.resample('D', on='block_date').size()"
   ]
  },
  {
   "cell_type": "markdown",
   "id": "dca71a69-7a0e-4674-8699-e729f2985ac6",
   "metadata": {},
   "source": [
    "Total value per day?"
   ]
  },
  {
   "cell_type": "code",
   "execution_count": 49,
   "id": "6ce997b5-95f8-4800-8db9-1d8dcfd64b1a",
   "metadata": {},
   "outputs": [
    {
     "data": {
      "text/html": [
       "<div>\n",
       "<style scoped>\n",
       "    .dataframe tbody tr th:only-of-type {\n",
       "        vertical-align: middle;\n",
       "    }\n",
       "\n",
       "    .dataframe tbody tr th {\n",
       "        vertical-align: top;\n",
       "    }\n",
       "\n",
       "    .dataframe thead th {\n",
       "        text-align: right;\n",
       "    }\n",
       "</style>\n",
       "<table border=\"1\" class=\"dataframe\">\n",
       "  <thead>\n",
       "    <tr style=\"text-align: right;\">\n",
       "      <th></th>\n",
       "      <th>total_value</th>\n",
       "    </tr>\n",
       "    <tr>\n",
       "      <th>block_timestamp</th>\n",
       "      <th></th>\n",
       "    </tr>\n",
       "  </thead>\n",
       "  <tbody>\n",
       "    <tr>\n",
       "      <th>2022-07-01</th>\n",
       "      <td>2529957095970754663546880</td>\n",
       "    </tr>\n",
       "    <tr>\n",
       "      <th>2022-07-02</th>\n",
       "      <td>1242727481254419196018688</td>\n",
       "    </tr>\n",
       "    <tr>\n",
       "      <th>2022-07-03</th>\n",
       "      <td>802698618545780836794368</td>\n",
       "    </tr>\n",
       "    <tr>\n",
       "      <th>2022-07-04</th>\n",
       "      <td>1979039773764470716760064</td>\n",
       "    </tr>\n",
       "    <tr>\n",
       "      <th>2022-07-05</th>\n",
       "      <td>1838238726207302323404800</td>\n",
       "    </tr>\n",
       "    <tr>\n",
       "      <th>2022-07-06</th>\n",
       "      <td>1882904639433685247983616</td>\n",
       "    </tr>\n",
       "    <tr>\n",
       "      <th>2022-07-07</th>\n",
       "      <td>3665519196793809473110016</td>\n",
       "    </tr>\n",
       "  </tbody>\n",
       "</table>\n",
       "</div>"
      ],
      "text/plain": [
       "                              total_value\n",
       "block_timestamp                          \n",
       "2022-07-01      2529957095970754663546880\n",
       "2022-07-02      1242727481254419196018688\n",
       "2022-07-03       802698618545780836794368\n",
       "2022-07-04      1979039773764470716760064\n",
       "2022-07-05      1838238726207302323404800\n",
       "2022-07-06      1882904639433685247983616\n",
       "2022-07-07      3665519196793809473110016"
      ]
     },
     "execution_count": 49,
     "metadata": {},
     "output_type": "execute_result"
    }
   ],
   "source": [
    "df.resample('D', on='block_timestamp').agg(total_value=('value','sum'))"
   ]
  },
  {
   "cell_type": "markdown",
   "id": "634348c4-6fbf-4c41-8ceb-9d4898f0393c",
   "metadata": {},
   "source": [
    "### Year over year transactions difference July 2021 vs July 2022"
   ]
  },
  {
   "cell_type": "code",
   "execution_count": 13,
   "id": "f7ec17d8-84c0-4599-98cc-60220ab79d58",
   "metadata": {},
   "outputs": [],
   "source": [
    "txn_daily = df_txn.query('block_date.between(\"2021-07-01\",\"2021-07-07\", inclusive=\"both\") or block_date.between(\"2022-07-01\",\"2022-07-07\", inclusive=\"both\")')\n",
    "txn_daily = txn_daily.groupby(['block_date']).agg(transactions=('block_transactions','sum'))"
   ]
  },
  {
   "cell_type": "code",
   "execution_count": 14,
   "id": "d8738963-f507-44d9-8332-b6285bc1a8ca",
   "metadata": {},
   "outputs": [],
   "source": [
    "txn_daily_pct = txn_daily.pct_change(periods=7).dropna()"
   ]
  },
  {
   "cell_type": "code",
   "execution_count": 15,
   "id": "2583897c-de78-48fc-80b6-e39810cefb7d",
   "metadata": {},
   "outputs": [
    {
     "data": {
      "text/html": [
       "\n",
       "<div id=\"altair-viz-ce2fcbdd61a048cdaa70f4fed391a64b\"></div>\n",
       "<script type=\"text/javascript\">\n",
       "  var VEGA_DEBUG = (typeof VEGA_DEBUG == \"undefined\") ? {} : VEGA_DEBUG;\n",
       "  (function(spec, embedOpt){\n",
       "    let outputDiv = document.currentScript.previousElementSibling;\n",
       "    if (outputDiv.id !== \"altair-viz-ce2fcbdd61a048cdaa70f4fed391a64b\") {\n",
       "      outputDiv = document.getElementById(\"altair-viz-ce2fcbdd61a048cdaa70f4fed391a64b\");\n",
       "    }\n",
       "    const paths = {\n",
       "      \"vega\": \"https://cdn.jsdelivr.net/npm//vega@5?noext\",\n",
       "      \"vega-lib\": \"https://cdn.jsdelivr.net/npm//vega-lib?noext\",\n",
       "      \"vega-lite\": \"https://cdn.jsdelivr.net/npm//vega-lite@4.17.0?noext\",\n",
       "      \"vega-embed\": \"https://cdn.jsdelivr.net/npm//vega-embed@6?noext\",\n",
       "    };\n",
       "\n",
       "    function maybeLoadScript(lib, version) {\n",
       "      var key = `${lib.replace(\"-\", \"\")}_version`;\n",
       "      return (VEGA_DEBUG[key] == version) ?\n",
       "        Promise.resolve(paths[lib]) :\n",
       "        new Promise(function(resolve, reject) {\n",
       "          var s = document.createElement('script');\n",
       "          document.getElementsByTagName(\"head\")[0].appendChild(s);\n",
       "          s.async = true;\n",
       "          s.onload = () => {\n",
       "            VEGA_DEBUG[key] = version;\n",
       "            return resolve(paths[lib]);\n",
       "          };\n",
       "          s.onerror = () => reject(`Error loading script: ${paths[lib]}`);\n",
       "          s.src = paths[lib];\n",
       "        });\n",
       "    }\n",
       "\n",
       "    function showError(err) {\n",
       "      outputDiv.innerHTML = `<div class=\"error\" style=\"color:red;\">${err}</div>`;\n",
       "      throw err;\n",
       "    }\n",
       "\n",
       "    function displayChart(vegaEmbed) {\n",
       "      vegaEmbed(outputDiv, spec, embedOpt)\n",
       "        .catch(err => showError(`Javascript Error: ${err.message}<br>This usually means there's a typo in your chart specification. See the javascript console for the full traceback.`));\n",
       "    }\n",
       "\n",
       "    if(typeof define === \"function\" && define.amd) {\n",
       "      requirejs.config({paths});\n",
       "      require([\"vega-embed\"], displayChart, err => showError(`Error loading script: ${err.message}`));\n",
       "    } else {\n",
       "      maybeLoadScript(\"vega\", \"5\")\n",
       "        .then(() => maybeLoadScript(\"vega-lite\", \"4.17.0\"))\n",
       "        .then(() => maybeLoadScript(\"vega-embed\", \"6\"))\n",
       "        .catch(showError)\n",
       "        .then(() => displayChart(vegaEmbed));\n",
       "    }\n",
       "  })({\"config\": {\"view\": {\"continuousWidth\": 400, \"continuousHeight\": 300}}, \"data\": {\"name\": \"data-623fc548253846a3ee1bfb9b4d3f6201\"}, \"mark\": \"bar\", \"encoding\": {\"tooltip\": [{\"field\": \"block_date\", \"type\": \"temporal\"}, {\"field\": \"transactions\", \"type\": \"quantitative\"}], \"x\": {\"axis\": {\"title\": \"Date\"}, \"field\": \"block_date\", \"timeUnit\": \"yearmonthdate\", \"type\": \"ordinal\"}, \"y\": {\"axis\": {\"format\": \"%\", \"title\": \"2022 vs 2021 Percentage Difference\"}, \"field\": \"transactions\", \"type\": \"quantitative\"}}, \"height\": 500, \"width\": 800, \"$schema\": \"https://vega.github.io/schema/vega-lite/v4.17.0.json\", \"datasets\": {\"data-623fc548253846a3ee1bfb9b4d3f6201\": [{\"block_date\": \"2022-07-01T00:00:00\", \"transactions\": -0.027308514413514784}, {\"block_date\": \"2022-07-02T00:00:00\", \"transactions\": 0.006608134573035551}, {\"block_date\": \"2022-07-03T00:00:00\", \"transactions\": 0.030741806772658142}, {\"block_date\": \"2022-07-04T00:00:00\", \"transactions\": 0.04220952229308006}, {\"block_date\": \"2022-07-05T00:00:00\", \"transactions\": 0.03014997016277632}, {\"block_date\": \"2022-07-06T00:00:00\", \"transactions\": -0.1431208458478952}, {\"block_date\": \"2022-07-07T00:00:00\", \"transactions\": -0.0748648893591608}]}}, {\"mode\": \"vega-lite\"});\n",
       "</script>"
      ],
      "text/plain": [
       "alt.Chart(...)"
      ]
     },
     "execution_count": 15,
     "metadata": {},
     "output_type": "execute_result"
    }
   ],
   "source": [
    "alt.Chart(txn_daily_pct.reset_index()).mark_bar().encode(\n",
    "    x=alt.X('yearmonthdate(block_date):O', axis=alt.Axis(title='Date')),\n",
    "    y=alt.Y('transactions:Q', axis=alt.Axis(format='%', title='2022 vs 2021 Percentage Difference')),\n",
    "    tooltip=['block_date','transactions']                    \n",
    ").properties(\n",
    "    height=500,\n",
    "    width=800\n",
    ")"
   ]
  },
  {
   "cell_type": "code",
   "execution_count": 160,
   "id": "1f268179-fa33-442d-9016-e6e4047268fc",
   "metadata": {},
   "outputs": [
    {
     "data": {
      "text/html": [
       "<div>\n",
       "<style scoped>\n",
       "    .dataframe tbody tr th:only-of-type {\n",
       "        vertical-align: middle;\n",
       "    }\n",
       "\n",
       "    .dataframe tbody tr th {\n",
       "        vertical-align: top;\n",
       "    }\n",
       "\n",
       "    .dataframe thead th {\n",
       "        text-align: right;\n",
       "    }\n",
       "</style>\n",
       "<table border=\"1\" class=\"dataframe\">\n",
       "  <thead>\n",
       "    <tr style=\"text-align: right;\">\n",
       "      <th></th>\n",
       "      <th>total_transactions</th>\n",
       "      <th>total_value</th>\n",
       "    </tr>\n",
       "    <tr>\n",
       "      <th>from</th>\n",
       "      <th></th>\n",
       "      <th></th>\n",
       "    </tr>\n",
       "  </thead>\n",
       "  <tbody>\n",
       "    <tr>\n",
       "      <th>0xea674fdde714fd979de3edf0f56aa9716b898ec8</th>\n",
       "      <td>18967</td>\n",
       "      <td>3983.20</td>\n",
       "    </tr>\n",
       "    <tr>\n",
       "      <th>0x3cd751e6b0078be393132286c442345e5dc49699</th>\n",
       "      <td>11734</td>\n",
       "      <td>30881.93</td>\n",
       "    </tr>\n",
       "    <tr>\n",
       "      <th>0xb5d85cbf7cb3ee0d56b3bb207d5fc4b82f43f511</th>\n",
       "      <td>10516</td>\n",
       "      <td>8623.83</td>\n",
       "    </tr>\n",
       "    <tr>\n",
       "      <th>0xddfabcdc4d8ffc6d5beaf154f18b778f892a0740</th>\n",
       "      <td>10074</td>\n",
       "      <td>29116.85</td>\n",
       "    </tr>\n",
       "    <tr>\n",
       "      <th>0xeb2629a2734e272bcc07bda959863f316f4bd4cf</th>\n",
       "      <td>8601</td>\n",
       "      <td>24747.81</td>\n",
       "    </tr>\n",
       "    <tr>\n",
       "      <th>0x46340b20830761efd32832a74d7169b29feb9758</th>\n",
       "      <td>7354</td>\n",
       "      <td>4609.64</td>\n",
       "    </tr>\n",
       "    <tr>\n",
       "      <th>0xc098b2a3aa256d2140208c3de6543aaef5cd3a94</th>\n",
       "      <td>6896</td>\n",
       "      <td>49230.30</td>\n",
       "    </tr>\n",
       "    <tr>\n",
       "      <th>0x2faf487a4414fe77e2327f0bf4ae2a264a776ad2</th>\n",
       "      <td>6366</td>\n",
       "      <td>71.88</td>\n",
       "    </tr>\n",
       "    <tr>\n",
       "      <th>0x21a31ee1afc51d94c2efccaa2092ad1028285549</th>\n",
       "      <td>5904</td>\n",
       "      <td>21444.82</td>\n",
       "    </tr>\n",
       "    <tr>\n",
       "      <th>0x28c6c06298d514db089934071355e5743bf21d60</th>\n",
       "      <td>5752</td>\n",
       "      <td>98599.05</td>\n",
       "    </tr>\n",
       "  </tbody>\n",
       "</table>\n",
       "</div>"
      ],
      "text/plain": [
       "                                            total_transactions  total_value\n",
       "from                                                                       \n",
       "0xea674fdde714fd979de3edf0f56aa9716b898ec8               18967      3983.20\n",
       "0x3cd751e6b0078be393132286c442345e5dc49699               11734     30881.93\n",
       "0xb5d85cbf7cb3ee0d56b3bb207d5fc4b82f43f511               10516      8623.83\n",
       "0xddfabcdc4d8ffc6d5beaf154f18b778f892a0740               10074     29116.85\n",
       "0xeb2629a2734e272bcc07bda959863f316f4bd4cf                8601     24747.81\n",
       "0x46340b20830761efd32832a74d7169b29feb9758                7354      4609.64\n",
       "0xc098b2a3aa256d2140208c3de6543aaef5cd3a94                6896     49230.30\n",
       "0x2faf487a4414fe77e2327f0bf4ae2a264a776ad2                6366        71.88\n",
       "0x21a31ee1afc51d94c2efccaa2092ad1028285549                5904     21444.82\n",
       "0x28c6c06298d514db089934071355e5743bf21d60                5752     98599.05"
      ]
     },
     "execution_count": 160,
     "metadata": {},
     "output_type": "execute_result"
    }
   ],
   "source": [
    "(df\n",
    " .query('block_date == \"2022-07-06\"')\n",
    " .groupby(['from'])\n",
    " .agg(total_transactions=('hash','count'),\n",
    "      total_value=('eth_value','sum'))\n",
    " .sort_values(by='total_transactions', ascending=False)\n",
    " .head(10)\n",
    ")"
   ]
  },
  {
   "cell_type": "code",
   "execution_count": 158,
   "id": "2165d351-ac15-441b-9274-d4d6dcd4b329",
   "metadata": {},
   "outputs": [],
   "source": [
    "df_agg = df.query('block_date == \"2022-07-06\"').groupby(['from']).agg(total_transactions=('hash','count'),\n",
    "                                                                      total_value=('eth_value','sum'))\n",
    "df_agg['value_per_transaction'] = (df_agg['total_value']/df_agg['total_transactions'])"
   ]
  },
  {
   "cell_type": "code",
   "execution_count": 161,
   "id": "b16e2940-2df6-4df9-97d8-8d7e08154d59",
   "metadata": {},
   "outputs": [
    {
     "data": {
      "text/html": [
       "<div>\n",
       "<style scoped>\n",
       "    .dataframe tbody tr th:only-of-type {\n",
       "        vertical-align: middle;\n",
       "    }\n",
       "\n",
       "    .dataframe tbody tr th {\n",
       "        vertical-align: top;\n",
       "    }\n",
       "\n",
       "    .dataframe thead th {\n",
       "        text-align: right;\n",
       "    }\n",
       "</style>\n",
       "<table border=\"1\" class=\"dataframe\">\n",
       "  <thead>\n",
       "    <tr style=\"text-align: right;\">\n",
       "      <th></th>\n",
       "      <th>total_transactions</th>\n",
       "      <th>total_value</th>\n",
       "      <th>value_per_transaction</th>\n",
       "    </tr>\n",
       "    <tr>\n",
       "      <th>from</th>\n",
       "      <th></th>\n",
       "      <th></th>\n",
       "      <th></th>\n",
       "    </tr>\n",
       "  </thead>\n",
       "  <tbody>\n",
       "    <tr>\n",
       "      <th>0xea674fdde714fd979de3edf0f56aa9716b898ec8</th>\n",
       "      <td>18967</td>\n",
       "      <td>3983.20</td>\n",
       "      <td>0.21</td>\n",
       "    </tr>\n",
       "    <tr>\n",
       "      <th>0x3cd751e6b0078be393132286c442345e5dc49699</th>\n",
       "      <td>11734</td>\n",
       "      <td>30881.93</td>\n",
       "      <td>2.63</td>\n",
       "    </tr>\n",
       "    <tr>\n",
       "      <th>0xb5d85cbf7cb3ee0d56b3bb207d5fc4b82f43f511</th>\n",
       "      <td>10516</td>\n",
       "      <td>8623.83</td>\n",
       "      <td>0.82</td>\n",
       "    </tr>\n",
       "    <tr>\n",
       "      <th>0xddfabcdc4d8ffc6d5beaf154f18b778f892a0740</th>\n",
       "      <td>10074</td>\n",
       "      <td>29116.85</td>\n",
       "      <td>2.89</td>\n",
       "    </tr>\n",
       "    <tr>\n",
       "      <th>0xeb2629a2734e272bcc07bda959863f316f4bd4cf</th>\n",
       "      <td>8601</td>\n",
       "      <td>24747.81</td>\n",
       "      <td>2.88</td>\n",
       "    </tr>\n",
       "    <tr>\n",
       "      <th>0x46340b20830761efd32832a74d7169b29feb9758</th>\n",
       "      <td>7354</td>\n",
       "      <td>4609.64</td>\n",
       "      <td>0.63</td>\n",
       "    </tr>\n",
       "    <tr>\n",
       "      <th>0xc098b2a3aa256d2140208c3de6543aaef5cd3a94</th>\n",
       "      <td>6896</td>\n",
       "      <td>49230.30</td>\n",
       "      <td>7.14</td>\n",
       "    </tr>\n",
       "    <tr>\n",
       "      <th>0x2faf487a4414fe77e2327f0bf4ae2a264a776ad2</th>\n",
       "      <td>6366</td>\n",
       "      <td>71.88</td>\n",
       "      <td>0.01</td>\n",
       "    </tr>\n",
       "    <tr>\n",
       "      <th>0x21a31ee1afc51d94c2efccaa2092ad1028285549</th>\n",
       "      <td>5904</td>\n",
       "      <td>21444.82</td>\n",
       "      <td>3.63</td>\n",
       "    </tr>\n",
       "    <tr>\n",
       "      <th>0x28c6c06298d514db089934071355e5743bf21d60</th>\n",
       "      <td>5752</td>\n",
       "      <td>98599.05</td>\n",
       "      <td>17.14</td>\n",
       "    </tr>\n",
       "  </tbody>\n",
       "</table>\n",
       "</div>"
      ],
      "text/plain": [
       "                                            total_transactions  total_value  \\\n",
       "from                                                                          \n",
       "0xea674fdde714fd979de3edf0f56aa9716b898ec8               18967      3983.20   \n",
       "0x3cd751e6b0078be393132286c442345e5dc49699               11734     30881.93   \n",
       "0xb5d85cbf7cb3ee0d56b3bb207d5fc4b82f43f511               10516      8623.83   \n",
       "0xddfabcdc4d8ffc6d5beaf154f18b778f892a0740               10074     29116.85   \n",
       "0xeb2629a2734e272bcc07bda959863f316f4bd4cf                8601     24747.81   \n",
       "0x46340b20830761efd32832a74d7169b29feb9758                7354      4609.64   \n",
       "0xc098b2a3aa256d2140208c3de6543aaef5cd3a94                6896     49230.30   \n",
       "0x2faf487a4414fe77e2327f0bf4ae2a264a776ad2                6366        71.88   \n",
       "0x21a31ee1afc51d94c2efccaa2092ad1028285549                5904     21444.82   \n",
       "0x28c6c06298d514db089934071355e5743bf21d60                5752     98599.05   \n",
       "\n",
       "                                            value_per_transaction  \n",
       "from                                                               \n",
       "0xea674fdde714fd979de3edf0f56aa9716b898ec8                   0.21  \n",
       "0x3cd751e6b0078be393132286c442345e5dc49699                   2.63  \n",
       "0xb5d85cbf7cb3ee0d56b3bb207d5fc4b82f43f511                   0.82  \n",
       "0xddfabcdc4d8ffc6d5beaf154f18b778f892a0740                   2.89  \n",
       "0xeb2629a2734e272bcc07bda959863f316f4bd4cf                   2.88  \n",
       "0x46340b20830761efd32832a74d7169b29feb9758                   0.63  \n",
       "0xc098b2a3aa256d2140208c3de6543aaef5cd3a94                   7.14  \n",
       "0x2faf487a4414fe77e2327f0bf4ae2a264a776ad2                   0.01  \n",
       "0x21a31ee1afc51d94c2efccaa2092ad1028285549                   3.63  \n",
       "0x28c6c06298d514db089934071355e5743bf21d60                  17.14  "
      ]
     },
     "execution_count": 161,
     "metadata": {},
     "output_type": "execute_result"
    }
   ],
   "source": [
    "df_agg.sort_values(by='total_transactions', ascending=False).head(10)"
   ]
  },
  {
   "cell_type": "markdown",
   "id": "d0419b07-c339-4746-a3ea-9c5c093ebdff",
   "metadata": {},
   "source": [
    "## Create a list of addresses with labels\n",
    "Source: https://dune.com/labels and https://etherscan.io/"
   ]
  },
  {
   "cell_type": "code",
   "execution_count": 186,
   "id": "2f51c12b-6852-4ddb-8435-32076e8689d0",
   "metadata": {},
   "outputs": [],
   "source": [
    "# address_labels = {}\n",
    "# address_labels['address'] = df_agg.sort_values(by='total_transactions', ascending=False).reset_index().loc[:9,'from'].tolist()"
   ]
  },
  {
   "cell_type": "code",
   "execution_count": 188,
   "id": "0a1a2aac-4b3b-449c-a3b0-7afaf32f9ae9",
   "metadata": {},
   "outputs": [],
   "source": [
    "# address_labels['labels'] = ['Ethermine','Coinbase 4','Coinbase 5','Coinbase 3','Coinbase 6','KuCoin 9','Crypto.com 2','FTX Exchange 2','FTX Exchange','Binance 15']j"
   ]
  },
  {
   "cell_type": "code",
   "execution_count": 189,
   "id": "2eb77bee-8671-4de7-85ff-d4dabb0d2b4e",
   "metadata": {},
   "outputs": [],
   "source": [
    "# address_labels_str = json.dumps(address_labels)\n",
    "# with open(f'{PATH}address_labels.json', 'w') as f:\n",
    "#     f.write(address_labels_str)"
   ]
  },
  {
   "cell_type": "markdown",
   "id": "3529641c-a252-451a-8bc5-d530ddc7a594",
   "metadata": {},
   "source": [
    "## Key Findings\n",
    "- Compared to 6 July 2021, on 6 July 2022, there was 14% less in transactions."
   ]
  }
 ],
 "metadata": {
  "kernelspec": {
   "display_name": "blockchain:Python",
   "language": "python",
   "name": "conda-env-blockchain-py"
  },
  "language_info": {
   "codemirror_mode": {
    "name": "ipython",
    "version": 3
   },
   "file_extension": ".py",
   "mimetype": "text/x-python",
   "name": "python",
   "nbconvert_exporter": "python",
   "pygments_lexer": "ipython3",
   "version": "3.10.4"
  }
 },
 "nbformat": 4,
 "nbformat_minor": 5
}
